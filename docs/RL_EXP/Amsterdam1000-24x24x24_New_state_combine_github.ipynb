{
  "cells": [
    {
      "cell_type": "code",
      "execution_count": null,
      "id": "88c34bdb-4d4b-483d-9ad8-e1c49ab84e95",
      "metadata": {
        "pycharm": {
          "name": "#%%\n"
        },
        "id": "88c34bdb-4d4b-483d-9ad8-e1c49ab84e95"
      },
      "outputs": [],
      "source": [
        "import os, sys\n",
        "module_path = os.path.abspath(os.path.join('../..'))\n",
        "if module_path not in sys.path:\n",
        "    sys.path.append(module_path)\n",
        "import MaaSSim"
      ]
    },
    {
      "cell_type": "code",
      "execution_count": null,
      "id": "de438d80-eee9-45d4-9966-cfe116376610",
      "metadata": {
        "pycharm": {
          "name": "#%%\n"
        },
        "id": "de438d80-eee9-45d4-9966-cfe116376610"
      },
      "outputs": [],
      "source": [
        "%load_ext autoreload\n",
        "%autoreload 2"
      ]
    },
    {
      "cell_type": "code",
      "execution_count": null,
      "id": "0be8ec43-dffc-46de-8f22-f15509388cd9",
      "metadata": {
        "pycharm": {
          "name": "#%%\n"
        },
        "tags": [],
        "id": "0be8ec43-dffc-46de-8f22-f15509388cd9",
        "outputId": "8b8f2dd9-aa0f-4f3a-e192-572a1cf421b8"
      },
      "outputs": [
        {
          "name": "stderr",
          "output_type": "stream",
          "text": [
            "Using TensorFlow backend.\n"
          ]
        }
      ],
      "source": [
        "#!pip install MaaSSim\n",
        "import MaaSSim.utils\n",
        "import logging\n",
        "from dotmap import DotMap\n",
        "import MaaSSim.simulators\n",
        "from MaaSSim.data_structures import structures as inData\n",
        "# from MaaSSim.day_to_day import driver_opt_out, S_driver_opt_out, traveller_opt_out, S_traveller_opt_out\n",
        "from  MaaSSim.day_to_day import S_driver_opt_out, S_traveller_opt_out\n",
        "# from MaaSSim.day_to_day import traveller_opt_out\n",
        "from MaaSSim.day_to_day import d2d_kpi_veh\n",
        "from MaaSSim.day_to_day import d2d_kpi_pax"
      ]
    },
    {
      "cell_type": "code",
      "execution_count": null,
      "id": "fed767fb-0ccb-468e-a274-a78a6809b403",
      "metadata": {
        "pycharm": {
          "name": "#%%\n"
        },
        "tags": [],
        "id": "fed767fb-0ccb-468e-a274-a78a6809b403"
      },
      "outputs": [],
      "source": [
        "import osmnx as ox\n",
        "import networkx as nx\n",
        "import random\n",
        "import math\n",
        "import pandas as pd\n",
        "import matplotlib.pyplot as plt          \n",
        "import numpy as np\n",
        "import seaborn as sns\n",
        "from statsmodels.tsa.stattools import adfuller"
      ]
    },
    {
      "cell_type": "code",
      "execution_count": null,
      "id": "94da5da1-dba9-49f7-b64a-d206bef922bf",
      "metadata": {
        "pycharm": {
          "name": "#%%\n"
        },
        "tags": [],
        "id": "94da5da1-dba9-49f7-b64a-d206bef922bf"
      },
      "outputs": [],
      "source": [
        "# the setting for TRB results do not delete\n",
        "params = MaaSSim.utils.get_config('glance.json')\n",
        "params.city = \"Amsterdam, Netherlands\"\n",
        "params.paths.G = \"../../data/graphs/Amsterdam.graphml\"\n",
        "params.paths.skim = \"../../data/graphs/Amsterdam.csv\"\n",
        "params.vehicle_fixed_positions = True\n",
        "params.times.patience = 600 #second\n",
        "params.dist_threshold = 20000 #meter\n",
        "params.dist_threshold_min = 2000 #meter\n",
        "\n",
        "params.d2d.probabilistic = True\n",
        "params.d2d.heterogeneous = False\n",
        "params.d2d.ini_att = 0.01 #0.5\n",
        "params.d2d.B_income = 1\n",
        "params.d2d.fuel_cost = 0.25 #euro/km\n",
        "\n",
        "params.d2d.B_inveh_time = 1\n",
        "params.d2d.B_exp_time = 2 #1.5 in oded's paper\n",
        "params.PT_fare = 1 ## euro\n",
        "params.PT_avg_speed = 6\n",
        "\n",
        "params.nPM = 1 # number of platforms. platform id starts from 1\n",
        "params.platforms.base_fare = 1.4 #euro\n",
        "params.platforms.fare = float(1.20) #euro/km\n",
        "params.platforms.min_fare = float(2) # euro\n",
        "params.platforms.comm_rate = float(0.10)\n",
        "params.platforms.discount = float(0.0) # float(0.0)\n",
        "params.platforms.daily_marketing = False\n",
        "\n",
        "params.d2d.learning_d = 1 #for TRB \n",
        "params.d2d.B_Experience = 0.80\n",
        "params.d2d.B_WOM = 0.2\n",
        "params.d2d.B_Marketing = 0.0\n",
        "params.d2d.diffusion_speed = 10/100 # speed for M is twice greater than WOM.\n",
        "params.d2d.m = 5 #for TRB\n",
        "params.d2d.Eini_att = 0.01\n",
        "params.d2d.adj_s = 2\n",
        "params.VoT = 10.63 # value of time per hour\n",
        "params.seed = 1\n",
        "params.assert_me = False\n",
        "params.paths.requests = 'Amsterdam_requests.csv'\n",
        "\n",
        "params.nP = 2000\n",
        "params.nV = 200\n",
        "params.nD = 1000\n",
        "params.simTime = 4\n",
        "params.d2d.res_wage = params.simTime*10.63 #euro"
      ]
    },
    {
      "cell_type": "code",
      "execution_count": null,
      "id": "eb5db28b",
      "metadata": {
        "jupyter": {
          "outputs_hidden": true
        },
        "pycharm": {
          "is_executing": true,
          "name": "#%%\n"
        },
        "scrolled": true,
        "tags": [],
        "id": "eb5db28b",
        "outputId": "a16f9711-936d-42fd-9bea-f89c49c6226c"
      },
      "outputs": [
        {
          "name": "stdout",
          "output_type": "stream",
          "text": [
            "This simulation uses albatros data\n"
          ]
        },
        {
          "name": "stderr",
          "output_type": "stream",
          "text": [
            "[2023-04-27 17:01:18,625] Setting up 4h simulation at 2023-04-27 15:00:56 for 200 vehicles and 2000 passengers in Amsterdam, Netherlands\n"
          ]
        },
        {
          "name": "stdout",
          "output_type": "stream",
          "text": [
            "initialization-----------------------\n",
            "state_size =  2   action_size =  3   Lever = Commission   step =  0.05\n",
            "fare =  1.2   comm_rate =  0.1   disc =  0.0   marketing = 0-100\n",
            "-------------------------------------\n",
            "Day =  0\n",
            "comm_rate =  0.15\n"
          ]
        },
        {
          "name": "stderr",
          "output_type": "stream",
          "text": [
            "[2023-04-27 17:01:27,020] simulation time 3.6 s\n"
          ]
        },
        {
          "name": "stdout",
          "output_type": "stream",
          "text": [
            "nP =  10    nV =  1     reward= 3.333333333333333 revenue 0.0 revenue/max_revenue 0.0    nP/params.nP= 0.005    nV/params.nV= 0.005\n",
            "mean reward so far: nan\n",
            "mean revenue so far: nan\n",
            "Day =  1\n",
            "comm_rate =  0.15\n"
          ]
        },
        {
          "name": "stderr",
          "output_type": "stream",
          "text": [
            "[2023-04-27 17:01:36,009] simulation time 3.9 s\n"
          ]
        },
        {
          "name": "stdout",
          "output_type": "stream",
          "text": [
            "nP =  39    nV =  3     reward= 13.036833333333334 revenue 12.171719999999999 revenue/max_revenue 0.004610499999999999    nP/params.nP= 0.0195    nV/params.nV= 0.015\n",
            "mean reward so far: 3.333333333333333\n",
            "mean revenue so far: 0.0\n",
            "Day =  2\n",
            "comm_rate =  0.15\n"
          ]
        },
        {
          "name": "stderr",
          "output_type": "stream",
          "text": [
            "[2023-04-27 17:01:45,952] simulation time 4.4 s\n"
          ]
        },
        {
          "name": "stdout",
          "output_type": "stream",
          "text": [
            "nP =  67    nV =  3     reward= 22.023621212121213 revenue 46.38708 revenue/max_revenue 0.017570863636363634    nP/params.nP= 0.0335    nV/params.nV= 0.015\n",
            "mean reward so far: 8.185083333333333\n",
            "mean revenue so far: 6.085859999999999\n",
            "Day =  3\n",
            "comm_rate =  0.2\n"
          ]
        },
        {
          "name": "stderr",
          "output_type": "stream",
          "text": [
            "[2023-04-27 17:01:56,173] simulation time 4.8 s\n"
          ]
        },
        {
          "name": "stdout",
          "output_type": "stream",
          "text": [
            "nP =  73    nV =  6     reward= 34.20235353535354 revenue 95.32264 revenue/max_revenue 0.03610706060606061    nP/params.nP= 0.0365    nV/params.nV= 0.03\n",
            "mean reward so far: 12.797929292929291\n",
            "mean revenue so far: 19.5196\n",
            "Day =  4\n",
            "comm_rate =  0.15\n"
          ]
        },
        {
          "name": "stderr",
          "output_type": "stream",
          "text": [
            "[2023-04-27 17:02:06,877] simulation time 5.4 s\n"
          ]
        },
        {
          "name": "stdout",
          "output_type": "stream",
          "text": [
            "nP =  84    nV =  8     reward= 37.57566666666666 revenue 81.11927999999999 revenue/max_revenue 0.030726999999999997    nP/params.nP= 0.042    nV/params.nV= 0.04\n",
            "mean reward so far: 18.149035353535353\n",
            "mean revenue so far: 38.47036\n",
            "Day =  5\n",
            "comm_rate =  0.15\n"
          ]
        },
        {
          "name": "stderr",
          "output_type": "stream",
          "text": [
            "[2023-04-27 17:02:18,090] simulation time 5.8 s\n"
          ]
        },
        {
          "name": "stdout",
          "output_type": "stream",
          "text": [
            "nP =  119    nV =  19     reward= 62.69954545454545 revenue 88.7004 revenue/max_revenue 0.033598636363636365    nP/params.nP= 0.0595    nV/params.nV= 0.095\n",
            "mean reward so far: 22.034361616161615\n",
            "mean revenue so far: 47.000144\n",
            "Day =  6\n",
            "comm_rate =  0.15\n"
          ]
        },
        {
          "name": "stderr",
          "output_type": "stream",
          "text": [
            "[2023-04-27 17:02:30,354] simulation time 6.7 s\n"
          ]
        },
        {
          "name": "stdout",
          "output_type": "stream",
          "text": [
            "nP =  121    nV =  10     reward= 54.16986363636363 revenue 137.30532 revenue/max_revenue 0.05200959090909091    nP/params.nP= 0.0605    nV/params.nV= 0.05\n",
            "mean reward so far: 28.811892255892257\n",
            "mean revenue so far: 53.95018666666667\n",
            "Day =  7\n",
            "comm_rate =  0.1\n"
          ]
        },
        {
          "name": "stderr",
          "output_type": "stream",
          "text": [
            "[2023-04-27 17:02:42,270] simulation time 6.5 s\n"
          ]
        },
        {
          "name": "stdout",
          "output_type": "stream",
          "text": [
            "nP =  122    nV =  17     reward= 60.20132828282827 revenue 91.35452 revenue/max_revenue 0.03460398484848485    nP/params.nP= 0.061    nV/params.nV= 0.085\n",
            "mean reward so far: 32.434459595959595\n",
            "mean revenue so far: 65.85806285714285\n",
            "Day =  8\n",
            "comm_rate =  0.15\n"
          ]
        },
        {
          "name": "stderr",
          "output_type": "stream",
          "text": [
            "[2023-04-27 17:02:54,668] simulation time 6.9 s\n"
          ]
        },
        {
          "name": "stdout",
          "output_type": "stream",
          "text": [
            "nP =  121    nV =  19     reward= 69.42199999999998 revenue 139.30223999999998 revenue/max_revenue 0.05276599999999999    nP/params.nP= 0.0605    nV/params.nV= 0.095\n",
            "mean reward so far: 35.90531818181818\n",
            "mean revenue so far: 69.04512\n",
            "Day =  9\n",
            "comm_rate =  0.15\n"
          ]
        },
        {
          "name": "stderr",
          "output_type": "stream",
          "text": [
            "[2023-04-27 17:03:06,881] simulation time 6.6 s\n"
          ]
        },
        {
          "name": "stdout",
          "output_type": "stream",
          "text": [
            "nP =  149    nV =  9     reward= 57.22882575757575 revenue 137.77229999999997 revenue/max_revenue 0.05218647727272726    nP/params.nP= 0.0745    nV/params.nV= 0.045\n",
            "mean reward so far: 39.629393939393935\n",
            "mean revenue so far: 76.85146666666667\n",
            "Day =  10\n",
            "comm_rate =  0.2\n"
          ]
        },
        {
          "name": "stderr",
          "output_type": "stream",
          "text": [
            "[2023-04-27 17:03:19,293] simulation time 7.1 s\n"
          ]
        },
        {
          "name": "stdout",
          "output_type": "stream",
          "text": [
            "nP =  158    nV =  12     reward= 74.19449494949495 revenue 220.6604 revenue/max_revenue 0.08358348484848485    nP/params.nP= 0.079    nV/params.nV= 0.06\n",
            "mean reward so far: 41.389337121212115\n",
            "mean revenue so far: 82.94354999999999\n",
            "Day =  11\n",
            "comm_rate =  0.15\n"
          ]
        },
        {
          "name": "stderr",
          "output_type": "stream",
          "text": [
            "[2023-04-27 17:03:32,250] simulation time 7.6 s\n"
          ]
        },
        {
          "name": "stdout",
          "output_type": "stream",
          "text": [
            "nP =  131    nV =  14     reward= 67.61649242424242 revenue 177.80262 revenue/max_revenue 0.06734947727272726    nP/params.nP= 0.0655    nV/params.nV= 0.07\n",
            "mean reward so far: 44.37162419651056\n",
            "mean revenue so far: 95.46326363636364\n",
            "Day =  12\n",
            "comm_rate =  0.15\n"
          ]
        },
        {
          "name": "stderr",
          "output_type": "stream",
          "text": [
            "[2023-04-27 17:03:44,776] simulation time 6.9 s\n"
          ]
        },
        {
          "name": "stdout",
          "output_type": "stream",
          "text": [
            "nP =  151    nV =  17     reward= 71.42955303030301 revenue 142.00205999999997 revenue/max_revenue 0.05378865909090908    nP/params.nP= 0.0755    nV/params.nV= 0.085\n",
            "mean reward so far: 46.30869654882155\n",
            "mean revenue so far: 102.32487666666667\n",
            "Day =  13\n",
            "comm_rate =  0.1\n"
          ]
        },
        {
          "name": "stderr",
          "output_type": "stream",
          "text": [
            "[2023-04-27 17:03:57,634] simulation time 7.4 s\n"
          ]
        },
        {
          "name": "stdout",
          "output_type": "stream",
          "text": [
            "nP =  160    nV =  16     reward= 67.63779797979797 revenue 113.29136 revenue/max_revenue 0.04291339393939394    nP/params.nP= 0.08    nV/params.nV= 0.08\n",
            "mean reward so far: 48.241070124320125\n",
            "mean revenue so far: 105.37696769230769\n",
            "Day =  14\n",
            "comm_rate =  0.05\n"
          ]
        },
        {
          "name": "stderr",
          "output_type": "stream",
          "text": [
            "[2023-04-27 17:04:10,869] simulation time 7.9 s\n"
          ]
        },
        {
          "name": "stdout",
          "output_type": "stream",
          "text": [
            "nP =  136    nV =  12     reward= 50.288148989898986 revenue 60.362140000000004 revenue/max_revenue 0.022864446969696972    nP/params.nP= 0.068    nV/params.nV= 0.06\n",
            "mean reward so far: 49.626550685425684\n",
            "mean revenue so far: 105.94228142857142\n",
            "Day =  15\n",
            "comm_rate =  0.1\n"
          ]
        },
        {
          "name": "stderr",
          "output_type": "stream",
          "text": [
            "[2023-04-27 17:04:23,073] simulation time 6.9 s\n"
          ]
        },
        {
          "name": "stdout",
          "output_type": "stream",
          "text": [
            "nP =  160    nV =  15     reward= 64.86984343434344 revenue 104.56916000000001 revenue/max_revenue 0.039609530303030306    nP/params.nP= 0.08    nV/params.nV= 0.075\n",
            "mean reward so far: 49.67065723905724\n",
            "mean revenue so far: 102.90360533333333\n",
            "Day =  16\n",
            "comm_rate =  0.15\n"
          ]
        },
        {
          "name": "stderr",
          "output_type": "stream",
          "text": [
            "[2023-04-27 17:04:36,328] simulation time 7.7 s\n"
          ]
        },
        {
          "name": "stdout",
          "output_type": "stream",
          "text": [
            "nP =  164    nV =  16     reward= 77.71683333333331 revenue 187.83732 revenue/max_revenue 0.0711505    nP/params.nP= 0.082    nV/params.nV= 0.08\n",
            "mean reward so far: 50.62060637626262\n",
            "mean revenue so far: 103.0077025\n",
            "Day =  17\n",
            "comm_rate =  0.15\n"
          ]
        },
        {
          "name": "stderr",
          "output_type": "stream",
          "text": [
            "[2023-04-27 17:04:49,553] simulation time 7.7 s\n"
          ]
        },
        {
          "name": "stdout",
          "output_type": "stream",
          "text": [
            "nP =  152    nV =  15     reward= 73.37745454545455 revenue 182.50943999999998 revenue/max_revenue 0.06913236363636363    nP/params.nP= 0.076    nV/params.nV= 0.075\n",
            "mean reward so far: 52.21450207961972\n",
            "mean revenue so far: 107.99768\n",
            "Day =  18\n",
            "comm_rate =  0.1\n"
          ]
        },
        {
          "name": "stderr",
          "output_type": "stream",
          "text": [
            "[2023-04-27 17:05:02,415] simulation time 7.5 s\n"
          ]
        },
        {
          "name": "stdout",
          "output_type": "stream",
          "text": [
            "nP =  151    nV =  17     reward= 67.42915656565657 revenue 110.31892 revenue/max_revenue 0.0417874696969697    nP/params.nP= 0.0755    nV/params.nV= 0.085\n",
            "mean reward so far: 53.390221661054994\n",
            "mean revenue so far: 112.13722222222222\n",
            "Day =  19\n",
            "comm_rate =  0.05\n"
          ]
        },
        {
          "name": "stderr",
          "output_type": "stream",
          "text": [
            "[2023-04-27 17:05:15,410] simulation time 7.4 s\n"
          ]
        },
        {
          "name": "stdout",
          "output_type": "stream",
          "text": [
            "nP =  161    nV =  14     reward= 57.191732323232316 revenue 55.63852 revenue/max_revenue 0.02107519696969697    nP/params.nP= 0.0805    nV/params.nV= 0.07\n",
            "mean reward so far: 54.129112971823496\n",
            "mean revenue so far: 112.04152210526316\n",
            "Day =  20\n",
            "comm_rate =  0\n"
          ]
        },
        {
          "name": "stderr",
          "output_type": "stream",
          "text": [
            "[2023-04-27 17:05:28,632] simulation time 7.7 s\n"
          ]
        },
        {
          "name": "stdout",
          "output_type": "stream",
          "text": [
            "nP =  152    nV =  14     reward= 48.666666666666664 revenue 0.0 revenue/max_revenue 0.0    nP/params.nP= 0.076    nV/params.nV= 0.07\n",
            "mean reward so far: 54.282243939393936\n",
            "mean revenue so far: 109.221372\n",
            "Day =  21\n",
            "comm_rate =  0.05\n"
          ]
        },
        {
          "name": "stderr",
          "output_type": "stream",
          "text": [
            "[2023-04-27 17:05:41,376] simulation time 7.4 s\n"
          ]
        },
        {
          "name": "stdout",
          "output_type": "stream",
          "text": [
            "nP =  175    nV =  16     reward= 63.04448737373737 revenue 57.11234 revenue/max_revenue 0.021633462121212123    nP/params.nP= 0.0875    nV/params.nV= 0.08\n",
            "mean reward so far: 54.0148354978355\n",
            "mean revenue so far: 104.02035428571428\n",
            "Day =  22\n",
            "comm_rate =  0.1\n"
          ]
        },
        {
          "name": "stderr",
          "output_type": "stream",
          "text": [
            "[2023-04-27 17:05:54,964] simulation time 8.0 s\n"
          ]
        },
        {
          "name": "stdout",
          "output_type": "stream",
          "text": [
            "nP =  156    nV =  15     reward= 66.7347222222222 revenue 124.619 revenue/max_revenue 0.047204166666666665    nP/params.nP= 0.078    nV/params.nV= 0.075\n",
            "mean reward so far: 54.425274219467404\n",
            "mean revenue so far: 101.88817181818182\n",
            "Day =  23\n",
            "comm_rate =  0.05\n"
          ]
        },
        {
          "name": "stderr",
          "output_type": "stream",
          "text": [
            "[2023-04-27 17:06:07,886] simulation time 7.4 s\n"
          ]
        },
        {
          "name": "stdout",
          "output_type": "stream",
          "text": [
            "nP =  170    nV =  22     reward= 72.30696212121212 revenue 57.87114 revenue/max_revenue 0.02192088636363636    nP/params.nP= 0.085    nV/params.nV= 0.11\n",
            "mean reward so far: 54.96046761089153\n",
            "mean revenue so far: 102.87646869565218\n",
            "Day =  24\n",
            "comm_rate =  0\n"
          ]
        },
        {
          "name": "stderr",
          "output_type": "stream",
          "text": [
            "[2023-04-27 17:06:21,070] simulation time 7.8 s\n"
          ]
        },
        {
          "name": "stdout",
          "output_type": "stream",
          "text": [
            "nP =  138    nV =  22     reward= 59.666666666666664 revenue 0.0 revenue/max_revenue 0.0    nP/params.nP= 0.069    nV/params.nV= 0.11\n",
            "mean reward so far: 55.68323821548821\n",
            "mean revenue so far: 101.00124666666666\n",
            "Day =  25\n",
            "comm_rate =  0.0\n"
          ]
        },
        {
          "name": "stderr",
          "output_type": "stream",
          "text": [
            "[2023-04-27 17:06:33,829] simulation time 7.1 s\n"
          ]
        },
        {
          "name": "stdout",
          "output_type": "stream",
          "text": [
            "nP =  189    nV =  12     reward= 51.50000000000001 revenue 0.0 revenue/max_revenue 0.0    nP/params.nP= 0.0945    nV/params.nV= 0.06\n",
            "mean reward so far: 55.84257535353535\n",
            "mean revenue so far: 96.9611968\n",
            "Day =  26\n",
            "comm_rate =  0.05\n"
          ]
        },
        {
          "name": "stderr",
          "output_type": "stream",
          "text": [
            "[2023-04-27 17:06:47,257] simulation time 7.9 s\n"
          ]
        },
        {
          "name": "stdout",
          "output_type": "stream",
          "text": [
            "nP =  166    nV =  17     reward= 64.85098484848486 revenue 70.0998 revenue/max_revenue 0.026552954545454546    nP/params.nP= 0.083    nV/params.nV= 0.085\n",
            "mean reward so far: 55.67555322455322\n",
            "mean revenue so far: 93.23192\n",
            "Day =  27\n",
            "comm_rate =  0.1\n"
          ]
        },
        {
          "name": "stderr",
          "output_type": "stream",
          "text": [
            "[2023-04-27 17:07:00,509] simulation time 7.8 s\n"
          ]
        },
        {
          "name": "stdout",
          "output_type": "stream",
          "text": [
            "nP =  158    nV =  16     reward= 67.53869191919193 revenue 115.14644000000001 revenue/max_revenue 0.04361607575757576    nP/params.nP= 0.079    nV/params.nV= 0.08\n",
            "mean reward so far: 56.01538402543957\n",
            "mean revenue so far: 92.37517481481481\n",
            "Day =  28\n",
            "comm_rate =  0.1\n"
          ]
        },
        {
          "name": "stderr",
          "output_type": "stream",
          "text": [
            "[2023-04-27 17:07:13,577] simulation time 7.5 s\n"
          ]
        },
        {
          "name": "stdout",
          "output_type": "stream",
          "text": [
            "nP =  133    nV =  13     reward= 58.05926262626262 revenue 112.66936 revenue/max_revenue 0.04267778787878788    nP/params.nP= 0.0665    nV/params.nV= 0.065\n",
            "mean reward so far: 56.42693073593073\n",
            "mean revenue so far: 93.18843428571428\n",
            "Day =  29\n",
            "comm_rate =  0.05\n"
          ]
        },
        {
          "name": "stderr",
          "output_type": "stream",
          "text": [
            "[2023-04-27 17:07:25,865] simulation time 6.9 s\n"
          ]
        },
        {
          "name": "stdout",
          "output_type": "stream",
          "text": [
            "nP =  161    nV =  14     reward= 56.151989898989896 revenue 47.403760000000005 revenue/max_revenue 0.0179559696969697    nP/params.nP= 0.0805    nV/params.nV= 0.07\n",
            "mean reward so far: 56.483218042493895\n",
            "mean revenue so far: 93.86019034482757\n",
            "Day =  30\n",
            "comm_rate =  0.05\n"
          ]
        },
        {
          "name": "stderr",
          "output_type": "stream",
          "text": [
            "[2023-04-27 17:07:38,958] simulation time 7.5 s\n"
          ]
        },
        {
          "name": "stdout",
          "output_type": "stream",
          "text": [
            "nP =  160    nV =  13     reward= 55.6030101010101 revenue 57.57584000000001 revenue/max_revenue 0.021809030303030306    nP/params.nP= 0.08    nV/params.nV= 0.065\n",
            "mean reward so far: 56.4721771043771\n",
            "mean revenue so far: 92.31164266666666\n",
            "Day =  31\n",
            "comm_rate =  0\n"
          ]
        },
        {
          "name": "stderr",
          "output_type": "stream",
          "text": [
            "[2023-04-27 17:07:52,054] simulation time 7.8 s\n"
          ]
        },
        {
          "name": "stdout",
          "output_type": "stream",
          "text": [
            "nP =  161    nV =  21     reward= 61.833333333333336 revenue 0.0 revenue/max_revenue 0.0    nP/params.nP= 0.0805    nV/params.nV= 0.105\n",
            "mean reward so far: 56.4441394591072\n",
            "mean revenue so far: 91.1911329032258\n",
            "Day =  32\n",
            "comm_rate =  0.0\n"
          ]
        },
        {
          "name": "stderr",
          "output_type": "stream",
          "text": [
            "[2023-04-27 17:08:05,182] simulation time 7.8 s\n"
          ]
        },
        {
          "name": "stdout",
          "output_type": "stream",
          "text": [
            "nP =  157    nV =  18     reward= 56.166666666666664 revenue 0.0 revenue/max_revenue 0.0    nP/params.nP= 0.0785    nV/params.nV= 0.09\n",
            "mean reward so far: 56.61255176767676\n",
            "mean revenue so far: 88.34141\n",
            "Day =  33\n",
            "comm_rate =  0\n"
          ]
        },
        {
          "name": "stderr",
          "output_type": "stream",
          "text": [
            "[2023-04-27 17:08:18,810] simulation time 8.0 s\n"
          ]
        },
        {
          "name": "stdout",
          "output_type": "stream",
          "text": [
            "nP =  170    nV =  13     reward= 49.99999999999999 revenue 0.0 revenue/max_revenue 0.0    nP/params.nP= 0.085    nV/params.nV= 0.065\n",
            "mean reward so far: 56.599040097949185\n",
            "mean revenue so far: 85.66439757575758\n",
            "Day =  34\n",
            "comm_rate =  0\n"
          ]
        },
        {
          "name": "stderr",
          "output_type": "stream",
          "text": [
            "[2023-04-27 17:08:31,824] simulation time 7.8 s\n"
          ]
        },
        {
          "name": "stdout",
          "output_type": "stream",
          "text": [
            "nP =  184    nV =  13     reward= 52.33333333333333 revenue 0.0 revenue/max_revenue 0.0    nP/params.nP= 0.092    nV/params.nV= 0.065\n",
            "mean reward so far: 56.404950683303625\n",
            "mean revenue so far: 83.14485647058824\n",
            "Day =  35\n",
            "comm_rate =  0.0\n"
          ]
        },
        {
          "name": "stderr",
          "output_type": "stream",
          "text": [
            "[2023-04-27 17:08:45,470] simulation time 8.0 s\n"
          ]
        },
        {
          "name": "stdout",
          "output_type": "stream",
          "text": [
            "nP =  192    nV =  22     reward= 68.66666666666667 revenue 0.0 revenue/max_revenue 0.0    nP/params.nP= 0.096    nV/params.nV= 0.11\n",
            "mean reward so far: 56.28861875901875\n",
            "mean revenue so far: 80.76928914285713\n",
            "Day =  36\n",
            "comm_rate =  0.05\n"
          ]
        },
        {
          "name": "stderr",
          "output_type": "stream",
          "text": [
            "[2023-04-27 17:08:59,144] simulation time 8.3 s\n"
          ]
        },
        {
          "name": "stdout",
          "output_type": "stream",
          "text": [
            "nP =  168    nV =  16     reward= 63.52962878787879 revenue 70.19466 revenue/max_revenue 0.026588886363636363    nP/params.nP= 0.084    nV/params.nV= 0.08\n",
            "mean reward so far: 56.63245342312009\n",
            "mean revenue so far: 78.52569777777778\n",
            "Day =  37\n",
            "comm_rate =  0\n"
          ]
        },
        {
          "name": "stderr",
          "output_type": "stream",
          "text": [
            "[2023-04-27 17:09:12,581] simulation time 7.8 s\n"
          ]
        },
        {
          "name": "stdout",
          "output_type": "stream",
          "text": [
            "nP =  160    nV =  20     reward= 60.0 revenue 0.0 revenue/max_revenue 0.0    nP/params.nP= 0.08    nV/params.nV= 0.1\n",
            "mean reward so far: 56.81886356811357\n",
            "mean revenue so far: 78.3005345945946\n",
            "Day =  38\n",
            "comm_rate =  0.05\n"
          ]
        },
        {
          "name": "stderr",
          "output_type": "stream",
          "text": [
            "[2023-04-27 17:09:25,609] simulation time 7.7 s\n"
          ]
        },
        {
          "name": "stdout",
          "output_type": "stream",
          "text": [
            "nP =  175    nV =  19     reward= 68.27773232323231 revenue 58.95964000000001 revenue/max_revenue 0.02233319696969697    nP/params.nP= 0.0875    nV/params.nV= 0.095\n",
            "mean reward so far: 56.90257768474216\n",
            "mean revenue so far: 76.23999421052632\n",
            "Day =  39\n",
            "comm_rate =  0.1\n"
          ]
        },
        {
          "name": "stderr",
          "output_type": "stream",
          "text": [
            "[2023-04-27 17:09:39,048] simulation time 8.1 s\n"
          ]
        },
        {
          "name": "stdout",
          "output_type": "stream",
          "text": [
            "nP =  155    nV =  21     reward= 77.80635858585859 revenue 134.42636 revenue/max_revenue 0.05091907575757575    nP/params.nP= 0.0775    nV/params.nV= 0.105\n",
            "mean reward so far: 57.19424831649831\n",
            "mean revenue so far: 75.7969082051282\n",
            "Day =  40\n",
            "comm_rate =  0.05\n"
          ]
        },
        {
          "name": "stderr",
          "output_type": "stream",
          "text": [
            "[2023-04-27 17:09:52,153] simulation time 7.5 s\n"
          ]
        },
        {
          "name": "stdout",
          "output_type": "stream",
          "text": [
            "nP =  175    nV =  21     reward= 71.19025252525252 revenue 55.6268 revenue/max_revenue 0.021070757575757576    nP/params.nP= 0.0875    nV/params.nV= 0.105\n",
            "mean reward so far: 57.70955107323232\n",
            "mean revenue so far: 77.2626445\n",
            "Day =  41\n",
            "comm_rate =  0.1\n"
          ]
        },
        {
          "name": "stderr",
          "output_type": "stream",
          "text": [
            "[2023-04-27 17:10:05,541] simulation time 8.0 s\n"
          ]
        },
        {
          "name": "stdout",
          "output_type": "stream",
          "text": [
            "nP =  187    nV =  14     reward= 70.07299494949496 revenue 123.33812 revenue/max_revenue 0.04671898484848485    nP/params.nP= 0.0935    nV/params.nV= 0.07\n",
            "mean reward so far: 58.038348669623055\n",
            "mean revenue so far: 76.73494097560976\n",
            "Day =  42\n",
            "comm_rate =  0.15\n"
          ]
        },
        {
          "name": "stderr",
          "output_type": "stream",
          "text": [
            "[2023-04-27 17:10:19,293] simulation time 8.2 s\n"
          ]
        },
        {
          "name": "stdout",
          "output_type": "stream",
          "text": [
            "nP =  171    nV =  17     reward= 82.35173484848485 revenue 202.10574 revenue/max_revenue 0.07655520454545454    nP/params.nP= 0.0855    nV/params.nV= 0.085\n",
            "mean reward so far: 58.324887866762865\n",
            "mean revenue so far: 77.84454047619047\n",
            "Day =  43\n",
            "comm_rate =  0.15\n"
          ]
        },
        {
          "name": "stderr",
          "output_type": "stream",
          "text": [
            "[2023-04-27 17:10:32,570] simulation time 7.9 s\n"
          ]
        },
        {
          "name": "stdout",
          "output_type": "stream",
          "text": [
            "nP =  174    nV =  17     reward= 81.3643106060606 revenue 190.32533999999998 revenue/max_revenue 0.07209293181818181    nP/params.nP= 0.087    nV/params.nV= 0.085\n",
            "mean reward so far: 58.88365175005872\n",
            "mean revenue so far: 80.73433581395348\n",
            "Day =  44\n",
            "comm_rate =  0.2\n"
          ]
        },
        {
          "name": "stderr",
          "output_type": "stream",
          "text": [
            "[2023-04-27 17:10:46,086] simulation time 7.9 s\n"
          ]
        },
        {
          "name": "stdout",
          "output_type": "stream",
          "text": [
            "nP =  158    nV =  16     reward= 85.9920909090909 revenue 261.29736 revenue/max_revenue 0.09897627272727273    nP/params.nP= 0.079    nV/params.nV= 0.08\n",
            "mean reward so far: 59.39457581496785\n",
            "mean revenue so far: 83.22504045454545\n",
            "Day =  45\n",
            "comm_rate =  0.15\n"
          ]
        },
        {
          "name": "stderr",
          "output_type": "stream",
          "text": [
            "[2023-04-27 17:10:59,157] simulation time 7.6 s\n"
          ]
        },
        {
          "name": "stdout",
          "output_type": "stream",
          "text": [
            "nP =  174    nV =  12     reward= 70.64118939393938 revenue 171.39821999999998 revenue/max_revenue 0.06492356818181817    nP/params.nP= 0.087    nV/params.nV= 0.06\n",
            "mean reward so far: 59.985631705948364\n",
            "mean revenue so far: 87.18220311111111\n",
            "Day =  46\n",
            "comm_rate =  0.15\n"
          ]
        },
        {
          "name": "stderr",
          "output_type": "stream",
          "text": [
            "[2023-04-27 17:11:12,161] simulation time 7.7 s\n"
          ]
        },
        {
          "name": "stdout",
          "output_type": "stream",
          "text": [
            "nP =  175    nV =  17     reward= 81.23736363636364 revenue 187.99991999999997 revenue/max_revenue 0.0712120909090909    nP/params.nP= 0.0875    nV/params.nV= 0.085\n",
            "mean reward so far: 60.21727426438295\n",
            "mean revenue so far: 89.01298608695652\n",
            "Day =  47\n",
            "comm_rate =  0.15\n"
          ]
        },
        {
          "name": "stderr",
          "output_type": "stream",
          "text": [
            "[2023-04-27 17:11:25,717] simulation time 8.2 s\n"
          ]
        },
        {
          "name": "stdout",
          "output_type": "stream",
          "text": [
            "nP =  156    nV =  14     reward= 72.56689393939394 revenue 184.00979999999998 revenue/max_revenue 0.06970068181818181    nP/params.nP= 0.078    nV/params.nV= 0.07\n",
            "mean reward so far: 60.66451020846765\n",
            "mean revenue so far: 91.11909106382979\n",
            "Day =  48\n",
            "comm_rate =  0.2\n"
          ]
        },
        {
          "name": "stderr",
          "output_type": "stream",
          "text": [
            "[2023-04-27 17:11:38,572] simulation time 7.5 s\n"
          ]
        },
        {
          "name": "stdout",
          "output_type": "stream",
          "text": [
            "nP =  172    nV =  17     reward= 86.31157575757575 revenue 232.14768000000004 revenue/max_revenue 0.08793472727272729    nP/params.nP= 0.086    nV/params.nV= 0.085\n",
            "mean reward so far: 60.91247653619528\n",
            "mean revenue so far: 93.05431416666666\n",
            "Day =  49\n",
            "comm_rate =  0.25\n"
          ]
        },
        {
          "name": "stderr",
          "output_type": "stream",
          "text": [
            "[2023-04-27 17:11:51,770] simulation time 7.9 s\n"
          ]
        },
        {
          "name": "stdout",
          "output_type": "stream",
          "text": [
            "nP =  167    nV =  14     reward= 92.68839646464647 revenue 328.8521 revenue/max_revenue 0.1245651893939394    nP/params.nP= 0.0835    nV/params.nV= 0.07\n",
            "mean reward so far: 61.43082549989692\n",
            "mean revenue so far: 95.89295428571428\n",
            "Day =  50\n",
            "comm_rate =  0.2\n"
          ]
        },
        {
          "name": "stderr",
          "output_type": "stream",
          "text": [
            "[2023-04-27 17:12:05,136] simulation time 7.8 s\n"
          ]
        },
        {
          "name": "stdout",
          "output_type": "stream",
          "text": [
            "nP =  185    nV =  18     reward= 90.40025252525253 revenue 234.17 revenue/max_revenue 0.08870075757575757    nP/params.nP= 0.0925    nV/params.nV= 0.09\n",
            "mean reward so far: 62.055976919191906\n",
            "mean revenue so far: 100.5521372\n",
            "Day =  51\n",
            "comm_rate =  0.15\n"
          ]
        },
        {
          "name": "stderr",
          "output_type": "stream",
          "text": [
            "[2023-04-27 17:12:18,713] simulation time 8.2 s\n"
          ]
        },
        {
          "name": "stdout",
          "output_type": "stream",
          "text": [
            "nP =  174    nV =  18     reward= 84.2682803030303 revenue 200.12478000000002 revenue/max_revenue 0.07580484090909091    nP/params.nP= 0.087    nV/params.nV= 0.09\n",
            "mean reward so far: 62.61174702911467\n",
            "mean revenue so far: 103.17209529411764\n",
            "Day =  52\n",
            "comm_rate =  0.1\n"
          ]
        },
        {
          "name": "stderr",
          "output_type": "stream",
          "text": [
            "[2023-04-27 17:12:32,307] simulation time 8.0 s\n"
          ]
        },
        {
          "name": "stdout",
          "output_type": "stream",
          "text": [
            "nP =  178    nV =  20     reward= 78.55586363636363 revenue 123.20244 revenue/max_revenue 0.04666759090909091    nP/params.nP= 0.089    nV/params.nV= 0.1\n",
            "mean reward so far: 63.02821882284381\n",
            "mean revenue so far: 105.03657\n",
            "Day =  53\n",
            "comm_rate =  0.1\n"
          ]
        },
        {
          "name": "stderr",
          "output_type": "stream",
          "text": [
            "[2023-04-27 17:12:45,725] simulation time 8.1 s\n"
          ]
        },
        {
          "name": "stdout",
          "output_type": "stream",
          "text": [
            "nP =  165    nV =  17     reward= 72.44731313131312 revenue 131.58272 revenue/max_revenue 0.04984193939393939    nP/params.nP= 0.0825    nV/params.nV= 0.085\n",
            "mean reward so far: 63.32119325328758\n",
            "mean revenue so far: 105.37932226415094\n",
            "Day =  54\n",
            "comm_rate =  0.15\n"
          ]
        },
        {
          "name": "stderr",
          "output_type": "stream",
          "text": [
            "[2023-04-27 17:12:59,051] simulation time 7.7 s\n"
          ]
        },
        {
          "name": "stdout",
          "output_type": "stream",
          "text": [
            "nP =  171    nV =  24     reward= 91.33393181818182 revenue 180.84474 revenue/max_revenue 0.06850179545454546    nP/params.nP= 0.0855    nV/params.nV= 0.12\n",
            "mean reward so far: 63.49019547325101\n",
            "mean revenue so far: 105.86457037037037\n",
            "Day =  55\n",
            "comm_rate =  0.2\n"
          ]
        },
        {
          "name": "stderr",
          "output_type": "stream",
          "text": [
            "[2023-04-27 17:13:12,333] simulation time 7.9 s\n"
          ]
        },
        {
          "name": "stdout",
          "output_type": "stream",
          "text": [
            "nP =  153    nV =  18     reward= 86.14563636363637 revenue 242.71344000000002 revenue/max_revenue 0.0919369090909091    nP/params.nP= 0.0765    nV/params.nV= 0.09\n",
            "mean reward so far: 63.99644522497703\n",
            "mean revenue so far: 107.22784618181818\n",
            "Day =  56\n",
            "comm_rate =  0.2\n"
          ]
        },
        {
          "name": "stderr",
          "output_type": "stream",
          "text": [
            "[2023-04-27 17:13:25,408] simulation time 7.5 s\n"
          ]
        },
        {
          "name": "stdout",
          "output_type": "stream",
          "text": [
            "nP =  153    nV =  18     reward= 83.19806060606061 revenue 219.36864000000003 revenue/max_revenue 0.08309418181818183    nP/params.nP= 0.0765    nV/params.nV= 0.09\n",
            "mean reward so far: 64.39196649531024\n",
            "mean revenue so far: 109.64723178571428\n",
            "Day =  57\n",
            "comm_rate =  0.15\n"
          ]
        },
        {
          "name": "stderr",
          "output_type": "stream",
          "text": [
            "[2023-04-27 17:13:38,214] simulation time 7.5 s\n"
          ]
        },
        {
          "name": "stdout",
          "output_type": "stream",
          "text": [
            "nP =  214    nV =  15     reward= 82.74091666666666 revenue 174.82806 revenue/max_revenue 0.06622275    nP/params.nP= 0.107    nV/params.nV= 0.075\n",
            "mean reward so far: 64.72189797093743\n",
            "mean revenue so far: 111.57216877192981\n",
            "Day =  58\n",
            "comm_rate =  0.2\n"
          ]
        },
        {
          "name": "stderr",
          "output_type": "stream",
          "text": [
            "[2023-04-27 17:13:52,707] simulation time 8.9 s\n"
          ]
        },
        {
          "name": "stdout",
          "output_type": "stream",
          "text": [
            "nP =  188    nV =  22     reward= 104.45477777777778 revenue 288.72184 revenue/max_revenue 0.10936433333333333    nP/params.nP= 0.094    nV/params.nV= 0.11\n",
            "mean reward so far: 65.0325707070707\n",
            "mean revenue so far: 112.66278758620687\n",
            "Day =  59\n",
            "comm_rate =  0.15\n"
          ]
        },
        {
          "name": "stderr",
          "output_type": "stream",
          "text": [
            "[2023-04-27 17:14:06,360] simulation time 8.3 s\n"
          ]
        },
        {
          "name": "stdout",
          "output_type": "stream",
          "text": [
            "nP =  172    nV =  19     reward= 85.64845454545454 revenue 200.49576 revenue/max_revenue 0.07594536363636363    nP/params.nP= 0.086    nV/params.nV= 0.095\n",
            "mean reward so far: 65.70074370826913\n",
            "mean revenue so far: 115.64683932203388\n",
            "Day =  60\n",
            "comm_rate =  0.1\n"
          ]
        },
        {
          "name": "stderr",
          "output_type": "stream",
          "text": [
            "[2023-04-27 17:14:19,838] simulation time 7.9 s\n"
          ]
        },
        {
          "name": "stdout",
          "output_type": "stream",
          "text": [
            "nP =  218    nV =  17     reward= 80.12544949494949 revenue 122.43356 revenue/max_revenue 0.046376348484848486    nP/params.nP= 0.109    nV/params.nV= 0.085\n",
            "mean reward so far: 66.03320555555555\n",
            "mean revenue so far: 117.06098799999998\n",
            "Day =  61\n",
            "comm_rate =  0.1\n"
          ]
        },
        {
          "name": "stderr",
          "output_type": "stream",
          "text": [
            "[2023-04-27 17:14:34,051] simulation time 8.9 s\n"
          ]
        },
        {
          "name": "stdout",
          "output_type": "stream",
          "text": [
            "nP =  152    nV =  20     reward= 78.3675202020202 revenue 156.03076 revenue/max_revenue 0.0591025606060606    nP/params.nP= 0.076    nV/params.nV= 0.1\n",
            "mean reward so far: 66.26422594800464\n",
            "mean revenue so far: 117.14906295081965\n",
            "Day =  62\n",
            "comm_rate =  0.05\n"
          ]
        },
        {
          "name": "stderr",
          "output_type": "stream",
          "text": [
            "[2023-04-27 17:14:47,139] simulation time 7.5 s\n"
          ]
        },
        {
          "name": "stdout",
          "output_type": "stream",
          "text": [
            "nP =  174    nV =  20     reward= 69.14492676767678 revenue 53.94782 revenue/max_revenue 0.020434780303030302    nP/params.nP= 0.087    nV/params.nV= 0.1\n",
            "mean reward so far: 66.4594403714565\n",
            "mean revenue so far: 117.77618709677418\n",
            "Day =  63\n",
            "comm_rate =  0.1\n"
          ]
        },
        {
          "name": "stderr",
          "output_type": "stream",
          "text": [
            "[2023-04-27 17:15:00,387] simulation time 7.9 s\n"
          ]
        },
        {
          "name": "stdout",
          "output_type": "stream",
          "text": [
            "nP =  170    nV =  15     reward= 68.98278787878787 revenue 123.94368 revenue/max_revenue 0.046948363636363635    nP/params.nP= 0.085    nV/params.nV= 0.075\n",
            "mean reward so far: 66.50206713965048\n",
            "mean revenue so far: 116.7630384126984\n",
            "Day =  64\n",
            "comm_rate =  0.15\n"
          ]
        },
        {
          "name": "stderr",
          "output_type": "stream",
          "text": [
            "[2023-04-27 17:15:13,668] simulation time 7.8 s\n"
          ]
        },
        {
          "name": "stdout",
          "output_type": "stream",
          "text": [
            "nP =  194    nV =  12     reward= 74.26679545454546 revenue 173.71301999999997 revenue/max_revenue 0.06580038636363636    nP/params.nP= 0.097    nV/params.nV= 0.06\n",
            "mean reward so far: 66.54082840119949\n",
            "mean revenue so far: 116.87523593750001\n",
            "Day =  65\n",
            "comm_rate =  0.2\n"
          ]
        },
        {
          "name": "stderr",
          "output_type": "stream",
          "text": [
            "[2023-04-27 17:15:27,401] simulation time 8.2 s\n"
          ]
        },
        {
          "name": "stdout",
          "output_type": "stream",
          "text": [
            "nP =  173    nV =  12     reward= 85.10346464646464 revenue 287.25944000000004 revenue/max_revenue 0.10881039393939396    nP/params.nP= 0.0865    nV/params.nV= 0.06\n",
            "mean reward so far: 66.65968943278943\n",
            "mean revenue so far: 117.74966338461539\n",
            "Day =  66\n",
            "comm_rate =  0.2\n"
          ]
        },
        {
          "name": "stderr",
          "output_type": "stream",
          "text": [
            "[2023-04-27 17:15:40,443] simulation time 7.7 s\n"
          ]
        },
        {
          "name": "stdout",
          "output_type": "stream",
          "text": [
            "nP =  205    nV =  16     reward= 92.17246464646465 revenue 248.20592000000002 revenue/max_revenue 0.09401739393939394    nP/params.nP= 0.1025    nV/params.nV= 0.08\n",
            "mean reward so far: 66.93914057239058\n",
            "mean revenue so far: 120.31799333333333\n",
            "Day =  67\n",
            "comm_rate =  0.25\n"
          ]
        },
        {
          "name": "stderr",
          "output_type": "stream",
          "text": [
            "[2023-04-27 17:15:54,740] simulation time 8.7 s\n"
          ]
        },
        {
          "name": "stdout",
          "output_type": "stream",
          "text": [
            "nP =  194    nV =  19     reward= 110.88631313131313 revenue 371.3396 revenue/max_revenue 0.1406589393939394    nP/params.nP= 0.097    nV/params.nV= 0.095\n",
            "mean reward so far: 67.31575734961557\n",
            "mean revenue so far: 122.22676835820897\n",
            "Day =  68\n",
            "comm_rate =  0.2\n"
          ]
        },
        {
          "name": "stderr",
          "output_type": "stream",
          "text": [
            "[2023-04-27 17:16:08,564] simulation time 8.4 s\n"
          ]
        },
        {
          "name": "stdout",
          "output_type": "stream",
          "text": [
            "nP =  196    nV =  15     reward= 91.86640404040402 revenue 270.86192 revenue/max_revenue 0.10259921212121212    nP/params.nP= 0.098    nV/params.nV= 0.075\n",
            "mean reward so far: 67.95650081699347\n",
            "mean revenue so far: 125.8901923529412\n",
            "Day =  69\n",
            "comm_rate =  0.15\n"
          ]
        },
        {
          "name": "stderr",
          "output_type": "stream",
          "text": [
            "[2023-04-27 17:16:22,630] simulation time 8.4 s\n"
          ]
        },
        {
          "name": "stdout",
          "output_type": "stream",
          "text": [
            "nP =  215    nV =  16     reward= 89.13083333333333 revenue 210.9162 revenue/max_revenue 0.0798925    nP/params.nP= 0.1075    nV/params.nV= 0.08\n",
            "mean reward so far: 68.30302115356463\n",
            "mean revenue so far: 127.99123188405798\n",
            "Day =  70\n",
            "comm_rate =  0.2\n"
          ]
        },
        {
          "name": "stderr",
          "output_type": "stream",
          "text": [
            "[2023-04-27 17:16:36,837] simulation time 8.8 s\n"
          ]
        },
        {
          "name": "stdout",
          "output_type": "stream",
          "text": [
            "nP =  179    nV =  22     reward= 103.61970707070707 revenue 293.98808 revenue/max_revenue 0.11135912121212121    nP/params.nP= 0.0895    nV/params.nV= 0.11\n",
            "mean reward so far: 68.60056132756132\n",
            "mean revenue so far: 129.1758742857143\n",
            "Day =  71\n",
            "comm_rate =  0.2\n"
          ]
        },
        {
          "name": "stderr",
          "output_type": "stream",
          "text": [
            "[2023-04-27 17:16:50,258] simulation time 8.0 s\n"
          ]
        },
        {
          "name": "stdout",
          "output_type": "stream",
          "text": [
            "nP =  203    nV =  15     reward= 91.412101010101 revenue 258.02384 revenue/max_revenue 0.09773630303030303    nP/params.nP= 0.1015    nV/params.nV= 0.075\n",
            "mean reward so far: 69.09378873239436\n",
            "mean revenue so far: 131.49717295774647\n",
            "Day =  72\n",
            "comm_rate =  0.15\n"
          ]
        },
        {
          "name": "stderr",
          "output_type": "stream",
          "text": [
            "[2023-04-27 17:17:04,519] simulation time 8.6 s\n"
          ]
        },
        {
          "name": "stdout",
          "output_type": "stream",
          "text": [
            "nP =  192    nV =  18     reward= 87.97959848484848 revenue 205.75842 revenue/max_revenue 0.07793879545454545    nP/params.nP= 0.096    nV/params.nV= 0.09\n",
            "mean reward so far: 69.40376529180695\n",
            "mean revenue so far: 133.2544877777778\n",
            "Day =  73\n",
            "comm_rate =  0.1\n"
          ]
        },
        {
          "name": "stderr",
          "output_type": "stream",
          "text": [
            "[2023-04-27 17:17:18,282] simulation time 8.4 s\n"
          ]
        },
        {
          "name": "stdout",
          "output_type": "stream",
          "text": [
            "nP =  180    nV =  11     reward= 64.80127272727273 revenue 130.42608 revenue/max_revenue 0.04940381818181819    nP/params.nP= 0.09    nV/params.nV= 0.055\n",
            "mean reward so far: 69.65822876020478\n",
            "mean revenue so far: 134.24769232876713\n",
            "Day =  74\n",
            "comm_rate =  0.15\n"
          ]
        },
        {
          "name": "stderr",
          "output_type": "stream",
          "text": [
            "[2023-04-27 17:17:31,539] simulation time 7.9 s\n"
          ]
        },
        {
          "name": "stdout",
          "output_type": "stream",
          "text": [
            "nP =  214    nV =  17     reward= 87.2108409090909 revenue 183.82986 revenue/max_revenue 0.06963252272727273    nP/params.nP= 0.107    nV/params.nV= 0.085\n",
            "mean reward so far: 69.59259421921921\n",
            "mean revenue so far: 134.19604891891893\n",
            "Day =  75\n",
            "comm_rate =  0.2\n"
          ]
        },
        {
          "name": "stderr",
          "output_type": "stream",
          "text": [
            "[2023-04-27 17:17:46,031] simulation time 8.9 s\n"
          ]
        },
        {
          "name": "stdout",
          "output_type": "stream",
          "text": [
            "nP =  184    nV =  16     reward= 94.48629292929292 revenue 294.25144 revenue/max_revenue 0.11145887878787879    nP/params.nP= 0.092    nV/params.nV= 0.08\n",
            "mean reward so far: 69.82750417508417\n",
            "mean revenue so far: 134.85783306666667\n",
            "Day =  76\n",
            "comm_rate =  0.25\n"
          ]
        },
        {
          "name": "stderr",
          "output_type": "stream",
          "text": [
            "[2023-04-27 17:17:59,532] simulation time 8.2 s\n"
          ]
        },
        {
          "name": "stdout",
          "output_type": "stream",
          "text": [
            "nP =  197    nV =  16     reward= 99.28430555555553 revenue 315.09169999999995 revenue/max_revenue 0.11935291666666664    nP/params.nP= 0.0985    nV/params.nV= 0.08\n",
            "mean reward so far: 70.15196192185007\n",
            "mean revenue so far: 136.95511736842104\n",
            "Day =  77\n",
            "comm_rate =  0.3\n"
          ]
        },
        {
          "name": "stderr",
          "output_type": "stream",
          "text": [
            "[2023-04-27 17:18:13,351] simulation time 8.4 s\n"
          ]
        },
        {
          "name": "stdout",
          "output_type": "stream",
          "text": [
            "nP =  203    nV =  22     reward= 122.7340606060606 revenue 413.69376 revenue/max_revenue 0.15670218181818182    nP/params.nP= 0.1015    nV/params.nV= 0.11\n",
            "mean reward so far: 70.53030404696314\n",
            "mean revenue so far: 139.26857948051946\n",
            "Day =  78\n",
            "comm_rate =  0.25\n"
          ]
        },
        {
          "name": "stderr",
          "output_type": "stream",
          "text": [
            "[2023-04-27 17:18:27,724] simulation time 8.7 s\n"
          ]
        },
        {
          "name": "stdout",
          "output_type": "stream",
          "text": [
            "nP =  204    nV =  10     reward= 94.0214898989899 revenue 343.37019999999995 revenue/max_revenue 0.1300644696969697    nP/params.nP= 0.102    nV/params.nV= 0.05\n",
            "mean reward so far: 71.19958297720798\n",
            "mean revenue so far: 142.78685102564103\n",
            "Day =  79\n",
            "comm_rate =  0.25\n"
          ]
        },
        {
          "name": "stderr",
          "output_type": "stream",
          "text": [
            "[2023-04-27 17:18:41,145] simulation time 8.0 s\n"
          ]
        },
        {
          "name": "stdout",
          "output_type": "stream",
          "text": [
            "nP =  196    nV =  15     reward= 103.90011363636361 revenue 366.1689 revenue/max_revenue 0.13870034090909092    nP/params.nP= 0.098    nV/params.nV= 0.075\n",
            "mean reward so far: 71.48846787495205\n",
            "mean revenue so far: 145.32588075949366\n",
            "Day =  80\n",
            "comm_rate =  0.3\n"
          ]
        },
        {
          "name": "stderr",
          "output_type": "stream",
          "text": [
            "[2023-04-27 17:18:55,123] simulation time 8.3 s\n"
          ]
        },
        {
          "name": "stdout",
          "output_type": "stream",
          "text": [
            "nP =  197    nV =  18     reward= 113.21922727272727 revenue 399.05628 revenue/max_revenue 0.15115768181818182    nP/params.nP= 0.0985    nV/params.nV= 0.09\n",
            "mean reward so far: 71.89361344696968\n",
            "mean revenue so far: 148.08641849999998\n",
            "Day =  81\n",
            "comm_rate =  0.35\n"
          ]
        },
        {
          "name": "stderr",
          "output_type": "stream",
          "text": [
            "[2023-04-27 17:19:09,063] simulation time 8.5 s\n"
          ]
        },
        {
          "name": "stdout",
          "output_type": "stream",
          "text": [
            "nP =  185    nV =  16     reward= 117.94496464646464 revenue 478.72411999999997 revenue/max_revenue 0.18133489393939392    nP/params.nP= 0.0925    nV/params.nV= 0.08\n",
            "mean reward so far: 72.40380621025064\n",
            "mean revenue so far: 151.18481185185186\n",
            "Day =  82\n",
            "comm_rate =  0.35\n"
          ]
        },
        {
          "name": "stderr",
          "output_type": "stream",
          "text": [
            "[2023-04-27 17:19:22,619] simulation time 8.2 s\n"
          ]
        },
        {
          "name": "stdout",
          "output_type": "stream",
          "text": [
            "nP =  232    nV =  14     reward= 119.65822222222221 revenue 456.65312 revenue/max_revenue 0.17297466666666667    nP/params.nP= 0.116    nV/params.nV= 0.07\n",
            "mean reward so far: 72.95918619118008\n",
            "mean revenue so far: 155.1791936585366\n",
            "Day =  83\n",
            "comm_rate =  0.3\n"
          ]
        },
        {
          "name": "stderr",
          "output_type": "stream",
          "text": [
            "[2023-04-27 17:19:37,308] simulation time 9.0 s\n"
          ]
        },
        {
          "name": "stdout",
          "output_type": "stream",
          "text": [
            "nP =  217    nV =  16     reward= 123.60709090909091 revenue 481.32816 revenue/max_revenue 0.18232127272727275    nP/params.nP= 0.1085    nV/params.nV= 0.08\n",
            "mean reward so far: 73.5218251795059\n",
            "mean revenue so far: 158.81140963855424\n",
            "Day =  84\n",
            "comm_rate =  0.35\n"
          ]
        },
        {
          "name": "stderr",
          "output_type": "stream",
          "text": [
            "[2023-04-27 17:19:51,590] simulation time 8.9 s\n"
          ]
        },
        {
          "name": "stdout",
          "output_type": "stream",
          "text": [
            "nP =  210    nV =  23     reward= 138.68324747474747 revenue 517.57132 revenue/max_revenue 0.19604974242424242    nP/params.nP= 0.105    nV/params.nV= 0.115\n",
            "mean reward so far: 74.11807834295334\n",
            "mean revenue so far: 162.6508947619048\n",
            "Day =  85\n",
            "comm_rate =  0.3\n"
          ]
        },
        {
          "name": "stderr",
          "output_type": "stream",
          "text": [
            "[2023-04-27 17:20:05,856] simulation time 8.9 s\n"
          ]
        },
        {
          "name": "stdout",
          "output_type": "stream",
          "text": [
            "nP =  213    nV =  19     reward= 123.28043939393939 revenue 444.42107999999996 revenue/max_revenue 0.16834131818181816    nP/params.nP= 0.1065    nV/params.nV= 0.095\n",
            "mean reward so far: 74.87766856803326\n",
            "mean revenue so far: 166.8264291764706\n",
            "Day =  86\n",
            "comm_rate =  0.3\n"
          ]
        },
        {
          "name": "stderr",
          "output_type": "stream",
          "text": [
            "[2023-04-27 17:20:20,323] simulation time 8.8 s\n"
          ]
        },
        {
          "name": "stdout",
          "output_type": "stream",
          "text": [
            "nP =  236    nV =  15     reward= 118.68024242424241 revenue 430.42752 revenue/max_revenue 0.16304072727272728    nP/params.nP= 0.118    nV/params.nV= 0.075\n",
            "mean reward so far: 75.44049148461357\n",
            "mean revenue so far: 170.0542739534884\n",
            "Day =  87\n",
            "comm_rate =  0.25\n"
          ]
        },
        {
          "name": "stderr",
          "output_type": "stream",
          "text": [
            "[2023-04-27 17:20:34,904] simulation time 9.2 s\n"
          ]
        },
        {
          "name": "stdout",
          "output_type": "stream",
          "text": [
            "nP =  224    nV =  17     reward= 117.61489898989898 revenue 411.43 revenue/max_revenue 0.15584469696969697    nP/params.nP= 0.112    nV/params.nV= 0.085\n",
            "mean reward so far: 75.93750011610355\n",
            "mean revenue so far: 173.04706988505748\n",
            "Day =  88\n",
            "comm_rate =  0.3\n"
          ]
        },
        {
          "name": "stderr",
          "output_type": "stream",
          "text": [
            "[2023-04-27 17:20:49,406] simulation time 9.1 s\n"
          ]
        },
        {
          "name": "stdout",
          "output_type": "stream",
          "text": [
            "nP =  216    nV =  18     reward= 124.17201515151513 revenue 460.7223599999999 revenue/max_revenue 0.17451604545454544    nP/params.nP= 0.108    nV/params.nV= 0.09\n",
            "mean reward so far: 76.4111069214876\n",
            "mean revenue so far: 175.7559668181818\n",
            "Day =  89\n",
            "comm_rate =  0.3\n"
          ]
        },
        {
          "name": "stderr",
          "output_type": "stream",
          "text": [
            "[2023-04-27 17:21:03,915] simulation time 8.8 s\n"
          ]
        },
        {
          "name": "stdout",
          "output_type": "stream",
          "text": [
            "nP =  224    nV =  13     reward= 117.70563636363634 revenue 464.94863999999995 revenue/max_revenue 0.17611690909090907    nP/params.nP= 0.112    nV/params.nV= 0.065\n",
            "mean reward so far: 76.94774633980252\n",
            "mean revenue so far: 178.95783640449437\n",
            "Day =  90\n",
            "comm_rate =  0.3\n"
          ]
        },
        {
          "name": "stderr",
          "output_type": "stream",
          "text": [
            "[2023-04-27 17:21:18,262] simulation time 9.0 s\n"
          ]
        },
        {
          "name": "stdout",
          "output_type": "stream",
          "text": [
            "nP =  220    nV =  12     reward= 115.46695454545454 revenue 465.69827999999995 revenue/max_revenue 0.17640086363636362    nP/params.nP= 0.11    nV/params.nV= 0.06\n",
            "mean reward so far: 77.40061178451178\n",
            "mean revenue so far: 182.13551199999998\n",
            "Day =  91\n",
            "comm_rate =  0.25\n"
          ]
        },
        {
          "name": "stderr",
          "output_type": "stream",
          "text": [
            "[2023-04-27 17:21:32,361] simulation time 8.7 s\n"
          ]
        },
        {
          "name": "stdout",
          "output_type": "stream",
          "text": [
            "nP =  227    nV =  13     reward= 107.01256313131313 revenue 376.29949999999997 revenue/max_revenue 0.14253768939393938    nP/params.nP= 0.1135    nV/params.nV= 0.065\n",
            "mean reward so far: 77.81892324342324\n",
            "mean revenue so far: 185.25158637362637\n",
            "Day =  92\n",
            "comm_rate =  0.3\n"
          ]
        },
        {
          "name": "stderr",
          "output_type": "stream",
          "text": [
            "[2023-04-27 17:21:47,009] simulation time 9.2 s\n"
          ]
        },
        {
          "name": "stdout",
          "output_type": "stream",
          "text": [
            "nP =  220    nV =  14     reward= 118.74569696969697 revenue 465.26591999999994 revenue/max_revenue 0.1762370909090909    nP/params.nP= 0.11    nV/params.nV= 0.07\n",
            "mean reward so far: 78.1362454161177\n",
            "mean revenue so far: 187.32819413043478\n",
            "Day =  93\n",
            "comm_rate =  0.35\n"
          ]
        },
        {
          "name": "stderr",
          "output_type": "stream",
          "text": [
            "[2023-04-27 17:22:01,226] simulation time 8.8 s\n"
          ]
        },
        {
          "name": "stdout",
          "output_type": "stream",
          "text": [
            "nP =  198    nV =  26     reward= 146.62052777777777 revenue 556.6745799999999 revenue/max_revenue 0.2108615833333333    nP/params.nP= 0.099    nV/params.nV= 0.13\n",
            "mean reward so far: 78.57290618551102\n",
            "mean revenue so far: 190.316771827957\n",
            "Day =  94\n",
            "comm_rate =  0.3\n"
          ]
        },
        {
          "name": "stderr",
          "output_type": "stream",
          "text": [
            "[2023-04-27 17:22:15,197] simulation time 8.6 s\n"
          ]
        },
        {
          "name": "stdout",
          "output_type": "stream",
          "text": [
            "nP =  226    nV =  19     reward= 122.46519696969696 revenue 420.80436 revenue/max_revenue 0.1593955909090909    nP/params.nP= 0.113    nV/params.nV= 0.095\n",
            "mean reward so far: 79.29681705351386\n",
            "mean revenue so far: 194.21419531914893\n",
            "Day =  95\n",
            "comm_rate =  0.35\n"
          ]
        },
        {
          "name": "stderr",
          "output_type": "stream",
          "text": [
            "[2023-04-27 17:22:30,161] simulation time 9.5 s\n"
          ]
        },
        {
          "name": "stdout",
          "output_type": "stream",
          "text": [
            "nP =  222    nV =  19     reward= 137.5456414141414 revenue 545.5214799999999 revenue/max_revenue 0.2066369242424242    nP/params.nP= 0.111    nV/params.nV= 0.095\n",
            "mean reward so far: 79.75122105263158\n",
            "mean revenue so far: 196.5993549473684\n",
            "Day =  96\n",
            "comm_rate =  0.35\n"
          ]
        },
        {
          "name": "stderr",
          "output_type": "stream",
          "text": [
            "[2023-04-27 17:22:44,741] simulation time 9.2 s\n"
          ]
        },
        {
          "name": "stdout",
          "output_type": "stream",
          "text": [
            "nP =  216    nV =  17     reward= 133.40334090909087 revenue 547.0344599999999 revenue/max_revenue 0.20721002272727268    nP/params.nP= 0.108    nV/params.nV= 0.085\n",
            "mean reward so far: 80.35324626473063\n",
            "mean revenue so far: 200.2339604166667\n",
            "Day =  97\n",
            "comm_rate =  0.4\n"
          ]
        },
        {
          "name": "stderr",
          "output_type": "stream",
          "text": [
            "[2023-04-27 17:22:59,136] simulation time 9.0 s\n"
          ]
        },
        {
          "name": "stdout",
          "output_type": "stream",
          "text": [
            "nP =  227    nV =  16     reward= 137.92399999999998 revenue 581.51808 revenue/max_revenue 0.22027200000000002    nP/params.nP= 0.1135    nV/params.nV= 0.08\n",
            "mean reward so far: 80.90015445694053\n",
            "mean revenue so far: 203.80922329896907\n",
            "Day =  98\n",
            "comm_rate =  0.4\n"
          ]
        },
        {
          "name": "stderr",
          "output_type": "stream",
          "text": [
            "[2023-04-27 17:23:13,766] simulation time 9.2 s\n"
          ]
        },
        {
          "name": "stdout",
          "output_type": "stream",
          "text": [
            "nP =  215    nV =  20     reward= 148.15929292929292 revenue 625.6216000000001 revenue/max_revenue 0.23697787878787882    nP/params.nP= 0.1075    nV/params.nV= 0.1\n",
            "mean reward so far: 81.4820304318697\n",
            "mean revenue so far: 207.66339530612248\n",
            "Day =  99\n",
            "comm_rate =  0.35\n"
          ]
        },
        {
          "name": "stderr",
          "output_type": "stream",
          "text": [
            "[2023-04-27 17:23:28,676] simulation time 9.1 s\n"
          ]
        },
        {
          "name": "stdout",
          "output_type": "stream",
          "text": [
            "nP =  227    nV =  11     reward= 121.31552525252523 revenue 515.9789599999999 revenue/max_revenue 0.19544657575757574    nP/params.nP= 0.1135    nV/params.nV= 0.055\n",
            "mean reward so far: 82.15553813386389\n",
            "mean revenue so far: 211.88519535353535\n",
            "Day =  100\n",
            "comm_rate =  0.3\n"
          ]
        },
        {
          "name": "stderr",
          "output_type": "stream",
          "text": [
            "[2023-04-27 17:23:42,754] simulation time 8.7 s\n"
          ]
        },
        {
          "name": "stdout",
          "output_type": "stream",
          "text": [
            "nP =  218    nV =  13     reward= 114.80419696969696 revenue 449.88924 revenue/max_revenue 0.1704125909090909    nP/params.nP= 0.109    nV/params.nV= 0.065\n",
            "mean reward so far: 82.5471380050505\n",
            "mean revenue so far: 214.92613300000002\n",
            "Day =  101\n",
            "comm_rate =  0.3\n"
          ]
        },
        {
          "name": "stderr",
          "output_type": "stream",
          "text": [
            "[2023-04-27 17:23:56,818] simulation time 8.7 s\n"
          ]
        },
        {
          "name": "stdout",
          "output_type": "stream",
          "text": [
            "nP =  242    nV =  12     reward= 113.78275757575757 revenue 423.31944 revenue/max_revenue 0.16034827272727273    nP/params.nP= 0.121    nV/params.nV= 0.06\n",
            "mean reward so far: 82.86651482648263\n",
            "mean revenue so far: 217.2525003960396\n",
            "Day =  102\n",
            "comm_rate =  0.35\n"
          ]
        },
        {
          "name": "stderr",
          "output_type": "stream",
          "text": [
            "[2023-04-27 17:24:11,489] simulation time 9.2 s\n"
          ]
        },
        {
          "name": "stdout",
          "output_type": "stream",
          "text": [
            "nP =  220    nV =  21     reward= 147.06156313131314 revenue 597.1275799999999 revenue/max_revenue 0.22618468939393935    nP/params.nP= 0.11    nV/params.nV= 0.105\n",
            "mean reward so far: 83.16961524559318\n",
            "mean revenue so far: 219.27276450980392\n",
            "Day =  103\n",
            "comm_rate =  0.35\n"
          ]
        },
        {
          "name": "stderr",
          "output_type": "stream",
          "text": [
            "[2023-04-27 17:24:25,944] simulation time 9.0 s\n"
          ]
        },
        {
          "name": "stdout",
          "output_type": "stream",
          "text": [
            "nP =  247    nV =  18     reward= 137.7482626262626 revenue 527.3262399999999 revenue/max_revenue 0.19974478787878783    nP/params.nP= 0.1235    nV/params.nV= 0.09\n",
            "mean reward so far: 83.78992541924096\n",
            "mean revenue so far: 222.94125786407767\n",
            "Day =  104\n",
            "comm_rate =  0.35\n"
          ]
        },
        {
          "name": "stderr",
          "output_type": "stream",
          "text": [
            "[2023-04-27 17:24:41,028] simulation time 9.7 s\n"
          ]
        },
        {
          "name": "stdout",
          "output_type": "stream",
          "text": [
            "nP =  229    nV =  18     reward= 144.3308914141414 revenue 603.22066 revenue/max_revenue 0.22849267424242423    nP/params.nP= 0.1145    nV/params.nV= 0.09\n",
            "mean reward so far: 84.30875558469307\n",
            "mean revenue so far: 225.86803653846152\n",
            "Day =  105\n",
            "comm_rate =  0.4\n"
          ]
        },
        {
          "name": "stderr",
          "output_type": "stream",
          "text": [
            "[2023-04-27 17:24:55,762] simulation time 9.3 s\n"
          ]
        },
        {
          "name": "stdout",
          "output_type": "stream",
          "text": [
            "nP =  218    nV =  26     reward= 161.144101010101 revenue 645.30128 revenue/max_revenue 0.24443230303030303    nP/params.nP= 0.109    nV/params.nV= 0.13\n",
            "mean reward so far: 84.88039497354497\n",
            "mean revenue so far: 229.46187104761904\n",
            "Day =  106\n",
            "comm_rate =  0.4\n"
          ]
        },
        {
          "name": "stderr",
          "output_type": "stream",
          "text": [
            "[2023-04-27 17:25:10,624] simulation time 9.4 s\n"
          ]
        },
        {
          "name": "stdout",
          "output_type": "stream",
          "text": [
            "nP =  245    nV =  20     reward= 147.81892929292928 revenue 583.32592 revenue/max_revenue 0.22095678787878786    nP/params.nP= 0.1225    nV/params.nV= 0.1\n",
            "mean reward so far: 85.59986389841814\n",
            "mean revenue so far: 233.38488433962263\n",
            "Day =  107\n",
            "comm_rate =  0.35\n"
          ]
        },
        {
          "name": "stderr",
          "output_type": "stream",
          "text": [
            "[2023-04-27 17:25:25,712] simulation time 9.7 s\n"
          ]
        },
        {
          "name": "stdout",
          "output_type": "stream",
          "text": [
            "nP =  233    nV =  18     reward= 140.78603282828283 revenue 569.86538 revenue/max_revenue 0.21585809848484847    nP/params.nP= 0.1165    nV/params.nV= 0.09\n",
            "mean reward so far: 86.1813504908902\n",
            "mean revenue so far: 236.6553613084112\n",
            "Day =  108\n",
            "comm_rate =  0.3\n"
          ]
        },
        {
          "name": "stderr",
          "output_type": "stream",
          "text": [
            "[2023-04-27 17:25:40,469] simulation time 9.3 s\n"
          ]
        },
        {
          "name": "stdout",
          "output_type": "stream",
          "text": [
            "nP =  230    nV =  13     reward= 119.66769696969695 revenue 472.5681599999999 revenue/max_revenue 0.1790030909090909    nP/params.nP= 0.115    nV/params.nV= 0.065\n",
            "mean reward so far: 86.6869494014216\n",
            "mean revenue so far: 239.74063925925924\n",
            "Day =  109\n",
            "comm_rate =  0.3\n"
          ]
        },
        {
          "name": "stderr",
          "output_type": "stream",
          "text": [
            "[2023-04-27 17:25:55,223] simulation time 9.3 s\n"
          ]
        },
        {
          "name": "stdout",
          "output_type": "stream",
          "text": [
            "nP =  230    nV =  12     reward= 118.25634848484847 revenue 474.59028 revenue/max_revenue 0.17976904545454545    nP/params.nP= 0.115    nV/params.nV= 0.06\n",
            "mean reward so far: 86.9895250671856\n",
            "mean revenue so far: 241.876671559633\n",
            "Day =  110\n",
            "comm_rate =  0.35\n"
          ]
        },
        {
          "name": "stderr",
          "output_type": "stream",
          "text": [
            "[2023-04-27 17:26:09,631] simulation time 8.9 s\n"
          ]
        },
        {
          "name": "stdout",
          "output_type": "stream",
          "text": [
            "nP =  248    nV =  14     reward= 133.67029797979797 revenue 546.5087599999999 revenue/max_revenue 0.20701089393939393    nP/params.nP= 0.124    nV/params.nV= 0.07\n",
            "mean reward so far: 87.27376891643708\n",
            "mean revenue so far: 243.9922498181818\n",
            "Day =  111\n",
            "comm_rate =  0.35\n"
          ]
        },
        {
          "name": "stderr",
          "output_type": "stream",
          "text": [
            "[2023-04-27 17:26:24,803] simulation time 9.4 s\n"
          ]
        },
        {
          "name": "stdout",
          "output_type": "stream",
          "text": [
            "nP =  264    nV =  16     reward= 145.1750025252525 revenue 590.10602 revenue/max_revenue 0.22352500757575755    nP/params.nP= 0.132    nV/params.nV= 0.08\n",
            "mean reward so far: 87.69175566475563\n",
            "mean revenue so far: 246.71762378378375\n",
            "Day =  112\n",
            "comm_rate =  0.4\n"
          ]
        },
        {
          "name": "stderr",
          "output_type": "stream",
          "text": [
            "[2023-04-27 17:26:40,269] simulation time 10.0 s\n"
          ]
        },
        {
          "name": "stdout",
          "output_type": "stream",
          "text": [
            "nP =  233    nV =  7     reward= 143.4213939393939 revenue 735.9374399999999 revenue/max_revenue 0.2787641818181818    nP/params.nP= 0.1165    nV/params.nV= 0.035\n",
            "mean reward so far: 88.20499894029581\n",
            "mean revenue so far: 249.78359160714285\n",
            "Day =  113\n",
            "comm_rate =  0.4\n"
          ]
        },
        {
          "name": "stderr",
          "output_type": "stream",
          "text": [
            "[2023-04-27 17:26:53,604] simulation time 7.9 s\n"
          ]
        },
        {
          "name": "stdout",
          "output_type": "stream",
          "text": [
            "nP =  237    nV =  22     reward= 154.44280808080808 revenue 619.94704 revenue/max_revenue 0.23482842424242426    nP/params.nP= 0.1185    nV/params.nV= 0.11\n",
            "mean reward so far: 88.69363960400464\n",
            "mean revenue so far: 254.08583805309735\n",
            "Day =  114\n",
            "comm_rate =  0.4\n"
          ]
        },
        {
          "name": "stderr",
          "output_type": "stream",
          "text": [
            "[2023-04-27 17:27:08,662] simulation time 9.6 s\n"
          ]
        },
        {
          "name": "stdout",
          "output_type": "stream",
          "text": [
            "nP =  240    nV =  21     reward= 155.68454545454546 revenue 639.0216 revenue/max_revenue 0.2420536363636364    nP/params.nP= 0.12    nV/params.nV= 0.105\n",
            "mean reward so far: 89.27038669590642\n",
            "mean revenue so far: 257.2951468421053\n",
            "Day =  115\n",
            "comm_rate =  0.4\n"
          ]
        },
        {
          "name": "stderr",
          "output_type": "stream",
          "text": [
            "[2023-04-27 17:27:23,993] simulation time 9.6 s\n"
          ]
        },
        {
          "name": "stdout",
          "output_type": "stream",
          "text": [
            "nP =  240    nV =  17     reward= 151.23145454545454 revenue 656.55312 revenue/max_revenue 0.24869436363636366    nP/params.nP= 0.12    nV/params.nV= 0.085\n",
            "mean reward so far: 89.8479011198946\n",
            "mean revenue so far: 260.61450730434785\n",
            "Day =  116\n",
            "comm_rate =  0.45\n"
          ]
        },
        {
          "name": "stderr",
          "output_type": "stream",
          "text": [
            "[2023-04-27 17:27:38,924] simulation time 9.5 s\n"
          ]
        },
        {
          "name": "stdout",
          "output_type": "stream",
          "text": [
            "nP =  228    nV =  16     reward= 156.20375757575758 revenue 724.97376 revenue/max_revenue 0.2746112727272727    nP/params.nP= 0.114    nV/params.nV= 0.08\n",
            "mean reward so far: 90.37706968390803\n",
            "mean revenue so far: 264.02777120689655\n",
            "Day =  117\n",
            "comm_rate =  0.5\n"
          ]
        },
        {
          "name": "stderr",
          "output_type": "stream",
          "text": [
            "[2023-04-27 17:27:53,507] simulation time 9.2 s\n"
          ]
        },
        {
          "name": "stdout",
          "output_type": "stream",
          "text": [
            "nP =  227    nV =  17     reward= 156.04530303030302 revenue 711.8388 revenue/max_revenue 0.26963590909090907    nP/params.nP= 0.1135    nV/params.nV= 0.085\n",
            "mean reward so far: 90.93969094794093\n",
            "mean revenue so far: 267.96748051282054\n",
            "Day =  118\n",
            "comm_rate =  0.5\n"
          ]
        },
        {
          "name": "stderr",
          "output_type": "stream",
          "text": [
            "[2023-04-27 17:28:08,148] simulation time 9.2 s\n"
          ]
        },
        {
          "name": "stdout",
          "output_type": "stream",
          "text": [
            "nP =  234    nV =  18     reward= 169.13964646464643 revenue 793.106 revenue/max_revenue 0.3004189393939394    nP/params.nP= 0.117    nV/params.nV= 0.09\n",
            "mean reward so far: 91.49143342321518\n",
            "mean revenue so far: 271.7291018644068\n",
            "Day =  119\n",
            "comm_rate =  0.5\n"
          ]
        },
        {
          "name": "stderr",
          "output_type": "stream",
          "text": [
            "[2023-04-27 17:28:23,222] simulation time 9.3 s\n"
          ]
        },
        {
          "name": "stdout",
          "output_type": "stream",
          "text": [
            "nP =  276    nV =  23     reward= 184.8187121212121 revenue 795.8442 revenue/max_revenue 0.3014561363636364    nP/params.nP= 0.138    nV/params.nV= 0.115\n",
            "mean reward so far: 92.14393941515999\n",
            "mean revenue so far: 276.1104203361345\n",
            "Day =  120\n",
            "comm_rate =  0.55\n"
          ]
        },
        {
          "name": "stderr",
          "output_type": "stream",
          "text": [
            "[2023-04-27 17:28:38,964] simulation time 10.3 s\n"
          ]
        },
        {
          "name": "stdout",
          "output_type": "stream",
          "text": [
            "nP =  245    nV =  18     reward= 202.8225833333333 revenue 1045.35486 revenue/max_revenue 0.39596774999999995    nP/params.nP= 0.1225    nV/params.nV= 0.09\n",
            "mean reward so far: 92.91622918771044\n",
            "mean revenue so far: 280.44153516666665\n",
            "Day =  121\n",
            "comm_rate =  0.55\n"
          ]
        },
        {
          "name": "stderr",
          "output_type": "stream",
          "text": [
            "[2023-04-27 17:28:53,971] simulation time 9.6 s\n"
          ]
        },
        {
          "name": "stdout",
          "output_type": "stream",
          "text": [
            "nP =  250    nV =  12     reward= 178.63461111111113 revenue 926.3861200000001 revenue/max_revenue 0.35090383333333336    nP/params.nP= 0.125    nV/params.nV= 0.06\n",
            "mean reward so far: 93.82454616412053\n",
            "mean revenue so far: 286.76313289256194\n",
            "Day =  122\n",
            "comm_rate =  0.5\n"
          ]
        },
        {
          "name": "stderr",
          "output_type": "stream",
          "text": [
            "[2023-04-27 17:29:08,552] simulation time 9.1 s\n"
          ]
        },
        {
          "name": "stdout",
          "output_type": "stream",
          "text": [
            "nP =  246    nV =  12     reward= 165.2298232323232 revenue 825.5002 revenue/max_revenue 0.3126894696969697    nP/params.nP= 0.123    nV/params.nV= 0.06\n",
            "mean reward so far: 94.51971063089914\n",
            "mean revenue so far: 292.0059442622951\n",
            "Day =  123\n",
            "comm_rate =  0.55\n"
          ]
        },
        {
          "name": "stderr",
          "output_type": "stream",
          "text": [
            "[2023-04-27 17:29:23,303] simulation time 9.3 s\n"
          ]
        },
        {
          "name": "stdout",
          "output_type": "stream",
          "text": [
            "nP =  246    nV =  17     reward= 189.45083333333332 revenue 951.3306 revenue/max_revenue 0.3603525    nP/params.nP= 0.123    nV/params.nV= 0.085\n",
            "mean reward so far: 95.09458959513836\n",
            "mean revenue so far: 296.3432959349594\n",
            "Day =  124\n",
            "comm_rate =  0.6\n"
          ]
        },
        {
          "name": "stderr",
          "output_type": "stream",
          "text": [
            "[2023-04-27 17:29:38,436] simulation time 9.7 s\n"
          ]
        },
        {
          "name": "stdout",
          "output_type": "stream",
          "text": [
            "nP =  266    nV =  14     reward= 191.98757575757574 revenue 984.6216 revenue/max_revenue 0.3729627272727273    nP/params.nP= 0.133    nV/params.nV= 0.07\n",
            "mean reward so far: 95.85552704463994\n",
            "mean revenue so far: 301.62545161290325\n",
            "Day =  125\n",
            "comm_rate =  0.6\n"
          ]
        },
        {
          "name": "stderr",
          "output_type": "stream",
          "text": [
            "[2023-04-27 17:29:53,694] simulation time 9.8 s\n"
          ]
        },
        {
          "name": "stdout",
          "output_type": "stream",
          "text": [
            "nP =  250    nV =  14     reward= 204.03612121212117 revenue 1101.16608 revenue/max_revenue 0.4171083636363636    nP/params.nP= 0.125    nV/params.nV= 0.07\n",
            "mean reward so far: 96.62458343434342\n",
            "mean revenue so far: 307.0894208\n",
            "Day =  126\n",
            "comm_rate =  0.65\n"
          ]
        },
        {
          "name": "stderr",
          "output_type": "stream",
          "text": [
            "[2023-04-27 17:30:08,738] simulation time 9.6 s\n"
          ]
        },
        {
          "name": "stdout",
          "output_type": "stream",
          "text": [
            "nP =  251    nV =  17     reward= 210.4855808080808 revenue 1111.3258 revenue/max_revenue 0.42095674242424247    nP/params.nP= 0.1255    nV/params.nV= 0.085\n",
            "mean reward so far: 97.47705595638928\n",
            "mean revenue so far: 313.39161650793653\n",
            "Day =  127\n",
            "comm_rate =  0.7\n"
          ]
        },
        {
          "name": "stderr",
          "output_type": "stream",
          "text": [
            "[2023-04-27 17:30:24,206] simulation time 10.0 s\n"
          ]
        },
        {
          "name": "stdout",
          "output_type": "stream",
          "text": [
            "nP =  231    nV =  18     reward= 213.64164141414142 revenue 1149.5218 revenue/max_revenue 0.43542492424242424    nP/params.nP= 0.1155    nV/params.nV= 0.09\n",
            "mean reward so far: 98.3668868607333\n",
            "mean revenue so far: 319.6745628346457\n",
            "Day =  128\n",
            "comm_rate =  0.7\n"
          ]
        },
        {
          "name": "stderr",
          "output_type": "stream",
          "text": [
            "[2023-04-27 17:30:38,926] simulation time 9.2 s\n"
          ]
        },
        {
          "name": "stdout",
          "output_type": "stream",
          "text": [
            "nP =  251    nV =  9     reward= 189.96590909090904 revenue 1054.4099999999999 revenue/max_revenue 0.3993977272727272    nP/params.nP= 0.1255    nV/params.nV= 0.045\n",
            "mean reward so far: 99.26747088068181\n",
            "mean revenue so far: 326.157744375\n",
            "Day =  129\n",
            "comm_rate =  0.7\n"
          ]
        },
        {
          "name": "stderr",
          "output_type": "stream",
          "text": [
            "[2023-04-27 17:30:52,755] simulation time 8.4 s\n"
          ]
        },
        {
          "name": "stdout",
          "output_type": "stream",
          "text": [
            "nP =  258    nV =  15     reward= 218.76741414141412 revenue 1194.0779199999997 revenue/max_revenue 0.45230224242424233    nP/params.nP= 0.129    nV/params.nV= 0.075\n",
            "mean reward so far: 99.97055954897816\n",
            "mean revenue so far: 331.8031106976744\n",
            "Day =  130\n",
            "comm_rate =  0.65\n"
          ]
        },
        {
          "name": "stderr",
          "output_type": "stream",
          "text": [
            "[2023-04-27 17:31:07,889] simulation time 9.7 s\n"
          ]
        },
        {
          "name": "stdout",
          "output_type": "stream",
          "text": [
            "nP =  261    nV =  10     reward= 202.31930303030305 revenue 1125.84888 revenue/max_revenue 0.4264579090909091    nP/params.nP= 0.1305    nV/params.nV= 0.05\n",
            "mean reward so far: 100.8843815073815\n",
            "mean revenue so far: 338.43599384615385\n",
            "Day =  131\n",
            "comm_rate =  0.7\n"
          ]
        },
        {
          "name": "stderr",
          "output_type": "stream",
          "text": [
            "[2023-04-27 17:31:22,331] simulation time 8.9 s\n"
          ]
        },
        {
          "name": "stdout",
          "output_type": "stream",
          "text": [
            "nP =  263    nV =  22     reward= 238.33334848484844 revenue 1250.0401199999997 revenue/max_revenue 0.4735000454545453    nP/params.nP= 0.1315    nV/params.nV= 0.11\n",
            "mean reward so far: 101.65869388541907\n",
            "mean revenue so far: 344.44677923664113\n",
            "Day =  132\n",
            "comm_rate =  0.65\n"
          ]
        },
        {
          "name": "stderr",
          "output_type": "stream",
          "text": [
            "[2023-04-27 17:31:38,040] simulation time 10.2 s\n"
          ]
        },
        {
          "name": "stdout",
          "output_type": "stream",
          "text": [
            "nP =  249    nV =  15     reward= 209.98103282828282 revenue 1136.36978 revenue/max_revenue 0.43044309848484846    nP/params.nP= 0.1245    nV/params.nV= 0.075\n",
            "mean reward so far: 102.69410793541475\n",
            "mean revenue so far: 351.3073348484848\n",
            "Day =  133\n",
            "comm_rate =  0.6\n"
          ]
        },
        {
          "name": "stderr",
          "output_type": "stream",
          "text": [
            "[2023-04-27 17:31:53,368] simulation time 9.8 s\n"
          ]
        },
        {
          "name": "stdout",
          "output_type": "stream",
          "text": [
            "nP =  269    nV =  22     reward= 212.0723636363636 revenue 1034.13312 revenue/max_revenue 0.3917170909090909    nP/params.nP= 0.1345    nV/params.nV= 0.11\n",
            "mean reward so far: 103.50077654363179\n",
            "mean revenue so far: 357.2100599999999\n",
            "Day =  134\n",
            "comm_rate =  0.55\n"
          ]
        },
        {
          "name": "stderr",
          "output_type": "stream",
          "text": [
            "[2023-04-27 17:32:09,141] simulation time 10.3 s\n"
          ]
        },
        {
          "name": "stdout",
          "output_type": "stream",
          "text": [
            "nP =  247    nV =  15     reward= 197.74719444444443 revenue 1042.11778 revenue/max_revenue 0.39474158333333337    nP/params.nP= 0.1235    nV/params.nV= 0.075\n",
            "mean reward so far: 104.31101226820442\n",
            "mean revenue so far: 362.26172462686554\n",
            "Day =  135\n",
            "comm_rate =  0.6\n"
          ]
        },
        {
          "name": "stderr",
          "output_type": "stream",
          "text": [
            "[2023-04-27 17:32:23,968] simulation time 9.4 s\n"
          ]
        },
        {
          "name": "stdout",
          "output_type": "stream",
          "text": [
            "nP =  260    nV =  18     reward= 201.8932121212121 revenue 1018.1942399999999 revenue/max_revenue 0.38567963636363634    nP/params.nP= 0.13    nV/params.nV= 0.09\n",
            "mean reward so far: 105.00313213617656\n",
            "mean revenue so far: 367.29769540740733\n",
            "Day =  136\n",
            "comm_rate =  0.65\n"
          ]
        },
        {
          "name": "stderr",
          "output_type": "stream",
          "text": [
            "[2023-04-27 17:32:39,439] simulation time 10.0 s\n"
          ]
        },
        {
          "name": "stdout",
          "output_type": "stream",
          "text": [
            "nP =  263    nV =  21     reward= 221.90575252525252 revenue 1133.13356 revenue/max_revenue 0.42921725757575757    nP/params.nP= 0.1315    nV/params.nV= 0.105\n",
            "mean reward so far: 105.71555919489006\n",
            "mean revenue so far: 372.0836994117647\n",
            "Day =  137\n",
            "comm_rate =  0.6\n"
          ]
        },
        {
          "name": "stderr",
          "output_type": "stream",
          "text": [
            "[2023-04-27 17:32:55,007] simulation time 10.0 s\n"
          ]
        },
        {
          "name": "stdout",
          "output_type": "stream",
          "text": [
            "nP =  262    nV =  14     reward= 205.34257575757576 revenue 1095.6732 revenue/max_revenue 0.41502772727272724    nP/params.nP= 0.131    nV/params.nV= 0.07\n",
            "mean reward so far: 106.56366279584161\n",
            "mean revenue so far: 377.6388078832117\n",
            "Day =  138\n",
            "comm_rate =  0.55\n"
          ]
        },
        {
          "name": "stderr",
          "output_type": "stream",
          "text": [
            "[2023-04-27 17:33:10,299] simulation time 9.7 s\n"
          ]
        },
        {
          "name": "stdout",
          "output_type": "stream",
          "text": [
            "nP =  243    nV =  18     reward= 193.40538888888887 revenue 973.41068 revenue/max_revenue 0.3687161666666666    nP/params.nP= 0.1215    nV/params.nV= 0.09\n",
            "mean reward so far: 107.279452020202\n",
            "mean revenue so far: 382.84195565217385\n",
            "Day =  139\n",
            "comm_rate =  0.5\n"
          ]
        },
        {
          "name": "stderr",
          "output_type": "stream",
          "text": [
            "[2023-04-27 17:33:25,480] simulation time 9.6 s\n"
          ]
        },
        {
          "name": "stdout",
          "output_type": "stream",
          "text": [
            "nP =  272    nV =  15     reward= 171.00053030303027 revenue 797.2841999999999 revenue/max_revenue 0.3020015909090909    nP/params.nP= 0.136    nV/params.nV= 0.075\n",
            "mean reward so far: 107.89906307681126\n",
            "mean revenue so far: 387.0906515107913\n",
            "Day =  140\n",
            "comm_rate =  0.55\n"
          ]
        },
        {
          "name": "stderr",
          "output_type": "stream",
          "text": [
            "[2023-04-27 17:33:41,022] simulation time 10.0 s\n"
          ]
        },
        {
          "name": "stdout",
          "output_type": "stream",
          "text": [
            "nP =  262    nV =  12     reward= 191.8032777777778 revenue 1014.8419600000001 revenue/max_revenue 0.38440983333333334    nP/params.nP= 0.131    nV/params.nV= 0.06\n",
            "mean reward so far: 108.34978784271281\n",
            "mean revenue so far: 390.02060542857146\n",
            "Day =  141\n",
            "comm_rate =  0.55\n"
          ]
        },
        {
          "name": "stderr",
          "output_type": "stream",
          "text": [
            "[2023-04-27 17:33:56,232] simulation time 9.4 s\n"
          ]
        },
        {
          "name": "stdout",
          "output_type": "stream",
          "text": [
            "nP =  255    nV =  20     reward= 197.11105555555557 revenue 960.51956 revenue/max_revenue 0.36383316666666665    nP/params.nP= 0.1275    nV/params.nV= 0.1\n",
            "mean reward so far: 108.94165656565654\n",
            "mean revenue so far: 394.45196255319144\n",
            "Day =  142\n",
            "comm_rate =  0.5\n"
          ]
        },
        {
          "name": "stderr",
          "output_type": "stream",
          "text": [
            "[2023-04-27 17:34:11,644] simulation time 9.9 s\n"
          ]
        },
        {
          "name": "stdout",
          "output_type": "stream",
          "text": [
            "nP =  285    nV =  18     reward= 186.61113636363638 revenue 864.1602 revenue/max_revenue 0.3273334090909091    nP/params.nP= 0.1425    nV/params.nV= 0.09\n",
            "mean reward so far: 109.56256782614878\n",
            "mean revenue so far: 398.438354084507\n",
            "Day =  143\n",
            "comm_rate =  0.5\n"
          ]
        },
        {
          "name": "stderr",
          "output_type": "stream",
          "text": [
            "[2023-04-27 17:34:27,597] simulation time 10.5 s\n"
          ]
        },
        {
          "name": "stdout",
          "output_type": "stream",
          "text": [
            "nP =  291    nV =  13     reward= 191.41204545454542 revenue 960.2633999999999 revenue/max_revenue 0.36373613636363633    nP/params.nP= 0.1455    nV/params.nV= 0.065\n",
            "mean reward so far: 110.1013690047326\n",
            "mean revenue so far: 401.69515020979014\n",
            "Day =  144\n",
            "comm_rate =  0.55\n"
          ]
        },
        {
          "name": "stderr",
          "output_type": "stream",
          "text": [
            "[2023-04-27 17:34:43,155] simulation time 10.1 s\n"
          ]
        },
        {
          "name": "stdout",
          "output_type": "stream",
          "text": [
            "nP =  272    nV =  13     reward= 204.74008333333336 revenue 1090.90146 revenue/max_revenue 0.41322025    nP/params.nP= 0.136    nV/params.nV= 0.065\n",
            "mean reward so far: 110.66602648007856\n",
            "mean revenue so far: 405.5740963888889\n",
            "Day =  145\n",
            "comm_rate =  0.5\n"
          ]
        },
        {
          "name": "stderr",
          "output_type": "stream",
          "text": [
            "[2023-04-27 17:34:58,432] simulation time 9.7 s\n"
          ]
        },
        {
          "name": "stdout",
          "output_type": "stream",
          "text": [
            "nP =  276    nV =  10     reward= 179.57555555555555 revenue 925.9183999999999 revenue/max_revenue 0.35072666666666663    nP/params.nP= 0.138    nV/params.nV= 0.05\n",
            "mean reward so far: 111.31481307906652\n",
            "mean revenue so far: 410.300492\n",
            "Day =  146\n",
            "comm_rate =  0.55\n"
          ]
        },
        {
          "name": "stderr",
          "output_type": "stream",
          "text": [
            "[2023-04-27 17:35:13,065] simulation time 9.1 s\n"
          ]
        },
        {
          "name": "stdout",
          "output_type": "stream",
          "text": [
            "nP =  264    nV =  17     reward= 203.59833333333333 revenue 1039.6188000000002 revenue/max_revenue 0.39379500000000006    nP/params.nP= 0.132    nV/params.nV= 0.085\n",
            "mean reward so far: 111.78235241109728\n",
            "mean revenue so far: 413.8321215068493\n",
            "Day =  147\n",
            "comm_rate =  0.6\n"
          ]
        },
        {
          "name": "stderr",
          "output_type": "stream",
          "text": [
            "[2023-04-27 17:35:28,670] simulation time 10.1 s\n"
          ]
        },
        {
          "name": "stdout",
          "output_type": "stream",
          "text": [
            "nP =  255    nV =  8     reward= 191.8440606060606 revenue 1077.20496 revenue/max_revenue 0.40803218181818185    nP/params.nP= 0.1275    nV/params.nV= 0.04\n",
            "mean reward so far: 112.40695092077235\n",
            "mean revenue so far: 418.0891737414966\n",
            "Day =  148\n",
            "comm_rate =  0.55\n"
          ]
        },
        {
          "name": "stderr",
          "output_type": "stream",
          "text": [
            "[2023-04-27 17:35:42,487] simulation time 8.3 s\n"
          ]
        },
        {
          "name": "stdout",
          "output_type": "stream",
          "text": [
            "nP =  255    nV =  16     reward= 189.02133333333336 revenue 949.24896 revenue/max_revenue 0.359564    nP/params.nP= 0.1275    nV/params.nV= 0.08\n",
            "mean reward so far: 112.94368814837566\n",
            "mean revenue so far: 422.5426587837838\n",
            "Day =  149\n",
            "comm_rate =  0.55\n"
          ]
        },
        {
          "name": "stderr",
          "output_type": "stream",
          "text": [
            "[2023-04-27 17:35:57,774] simulation time 9.8 s\n"
          ]
        },
        {
          "name": "stdout",
          "output_type": "stream",
          "text": [
            "nP =  267    nV =  13     reward= 187.42891666666668 revenue 960.3970200000001 revenue/max_revenue 0.36378675000000005    nP/params.nP= 0.1335    nV/params.nV= 0.065\n",
            "mean reward so far: 113.4542763710935\n",
            "mean revenue so far: 426.0776004026846\n",
            "Day =  150\n",
            "comm_rate =  0.55\n"
          ]
        },
        {
          "name": "stderr",
          "output_type": "stream",
          "text": [
            "[2023-04-27 17:36:13,166] simulation time 9.6 s\n"
          ]
        },
        {
          "name": "stdout",
          "output_type": "stream",
          "text": [
            "nP =  237    nV =  22     reward= 206.17558333333335 revenue 1029.67062 revenue/max_revenue 0.39002675000000003    nP/params.nP= 0.1185    nV/params.nV= 0.11\n",
            "mean reward so far: 113.94744063973063\n",
            "mean revenue so far: 429.63972986666664\n",
            "Day =  151\n",
            "comm_rate =  0.55\n"
          ]
        },
        {
          "name": "stderr",
          "output_type": "stream",
          "text": [
            "[2023-04-27 17:36:28,014] simulation time 9.4 s\n"
          ]
        },
        {
          "name": "stdout",
          "output_type": "stream",
          "text": [
            "nP =  274    nV =  17     reward= 180.04125 revenue 839.8467 revenue/max_revenue 0.31812375000000004    nP/params.nP= 0.137    nV/params.nV= 0.085\n",
            "mean reward so far: 114.55822304167505\n",
            "mean revenue so far: 433.6134443708609\n",
            "Day =  152\n",
            "comm_rate =  0.55\n"
          ]
        },
        {
          "name": "stderr",
          "output_type": "stream",
          "text": [
            "[2023-04-27 17:36:43,643] simulation time 10.2 s\n"
          ]
        },
        {
          "name": "stdout",
          "output_type": "stream",
          "text": [
            "nP =  246    nV =  18     reward= 204.3498888888889 revenue 1056.13112 revenue/max_revenue 0.4000496666666667    nP/params.nP= 0.123    nV/params.nV= 0.09\n",
            "mean reward so far: 114.98903242955873\n",
            "mean revenue so far: 436.2860315789474\n",
            "Day =  153\n",
            "comm_rate =  0.5\n"
          ]
        },
        {
          "name": "stderr",
          "output_type": "stream",
          "text": [
            "[2023-04-27 17:36:58,786] simulation time 9.7 s\n"
          ]
        },
        {
          "name": "stdout",
          "output_type": "stream",
          "text": [
            "nP =  284    nV =  11     reward= 173.48007575757578 revenue 853.8821999999999 revenue/max_revenue 0.32344022727272725    nP/params.nP= 0.142    nV/params.nV= 0.055\n",
            "mean reward so far: 115.57309031491383\n",
            "mean revenue so far: 440.3373066666666\n",
            "Day =  154\n",
            "comm_rate =  0.45\n"
          ]
        },
        {
          "name": "stderr",
          "output_type": "stream",
          "text": [
            "[2023-04-27 17:37:13,577] simulation time 9.3 s\n"
          ]
        },
        {
          "name": "stdout",
          "output_type": "stream",
          "text": [
            "nP =  249    nV =  11     reward= 175.53353787878788 revenue 916.3456199999999 revenue/max_revenue 0.34710061363636363    nP/params.nP= 0.1245    nV/params.nV= 0.055\n",
            "mean reward so far: 115.94910970090514\n",
            "mean revenue so far: 443.0226631168831\n",
            "Day =  155\n",
            "comm_rate =  0.5\n"
          ]
        },
        {
          "name": "stderr",
          "output_type": "stream",
          "text": [
            "[2023-04-27 17:37:28,033] simulation time 9.0 s\n"
          ]
        },
        {
          "name": "stdout",
          "output_type": "stream",
          "text": [
            "nP =  262    nV =  20     reward= 183.67749999999998 revenue 844.8858 revenue/max_revenue 0.3200325    nP/params.nP= 0.131    nV/params.nV= 0.1\n",
            "mean reward so far: 116.33352536656889\n",
            "mean revenue so far: 446.0763596129032\n",
            "Day =  156\n",
            "comm_rate =  0.55\n"
          ]
        },
        {
          "name": "stderr",
          "output_type": "stream",
          "text": [
            "[2023-04-27 17:37:43,703] simulation time 10.1 s\n"
          ]
        },
        {
          "name": "stdout",
          "output_type": "stream",
          "text": [
            "nP =  255    nV =  17     reward= 193.80930555555554 revenue 973.9696999999999 revenue/max_revenue 0.36892791666666663    nP/params.nP= 0.1275    nV/params.nV= 0.085\n",
            "mean reward so far: 116.765217511655\n",
            "mean revenue so far: 448.6328303846154\n",
            "Day =  157\n",
            "comm_rate =  0.6\n"
          ]
        },
        {
          "name": "stderr",
          "output_type": "stream",
          "text": [
            "[2023-04-27 17:37:58,959] simulation time 9.8 s\n"
          ]
        },
        {
          "name": "stdout",
          "output_type": "stream",
          "text": [
            "nP =  248    nV =  21     reward= 206.82587878787876 revenue 1033.5009599999998 revenue/max_revenue 0.3914776363636363    nP/params.nP= 0.124    nV/params.nV= 0.105\n",
            "mean reward so far: 117.25594418709385\n",
            "mean revenue so far: 451.9789250955414\n",
            "Day =  158\n",
            "comm_rate =  0.65\n"
          ]
        },
        {
          "name": "stderr",
          "output_type": "stream",
          "text": [
            "[2023-04-27 17:38:14,275] simulation time 9.8 s\n"
          ]
        },
        {
          "name": "stdout",
          "output_type": "stream",
          "text": [
            "nP =  283    nV =  15     reward= 207.29470707070703 revenue 1070.21408 revenue/max_revenue 0.4053841212121212    nP/params.nP= 0.1415    nV/params.nV= 0.075\n",
            "mean reward so far: 117.822842507352\n",
            "mean revenue so far: 455.6594443037974\n",
            "Day =  159\n",
            "comm_rate =  0.7\n"
          ]
        },
        {
          "name": "stderr",
          "output_type": "stream",
          "text": [
            "[2023-04-27 17:38:30,188] simulation time 10.4 s\n"
          ]
        },
        {
          "name": "stdout",
          "output_type": "stream",
          "text": [
            "nP =  239    nV =  16     reward= 237.9353737373737 revenue 1357.7681599999999 revenue/max_revenue 0.5143061212121212    nP/params.nP= 0.1195    nV/params.nV= 0.08\n",
            "mean reward so far: 118.38555863668128\n",
            "mean revenue so far: 459.5245677987421\n",
            "Day =  160\n",
            "comm_rate =  0.75\n"
          ]
        },
        {
          "name": "stderr",
          "output_type": "stream",
          "text": [
            "[2023-04-27 17:38:45,191] simulation time 9.6 s\n"
          ]
        },
        {
          "name": "stdout",
          "output_type": "stream",
          "text": [
            "nP =  228    nV =  23     reward= 228.6535984848485 revenue 1206.3765 revenue/max_revenue 0.4569607954545455    nP/params.nP= 0.114    nV/params.nV= 0.115\n",
            "mean reward so far: 119.1327449810606\n",
            "mean revenue so far: 465.13859025\n",
            "Day =  161\n",
            "comm_rate =  0.7\n"
          ]
        },
        {
          "name": "stderr",
          "output_type": "stream",
          "text": [
            "[2023-04-27 17:39:00,129] simulation time 9.4 s\n"
          ]
        },
        {
          "name": "stdout",
          "output_type": "stream",
          "text": [
            "nP =  281    nV =  13     reward= 204.64713636363635 revenue 1078.28532 revenue/max_revenue 0.4084414090909091    nP/params.nP= 0.1405    nV/params.nV= 0.065\n",
            "mean reward so far: 119.81299872953133\n",
            "mean revenue so far: 469.74255242236023\n",
            "Day =  162\n",
            "comm_rate =  0.75\n"
          ]
        },
        {
          "name": "stderr",
          "output_type": "stream",
          "text": [
            "[2023-04-27 17:39:15,899] simulation time 10.2 s\n"
          ]
        },
        {
          "name": "stdout",
          "output_type": "stream",
          "text": [
            "nP =  278    nV =  18     reward= 257.0382575757576 revenue 1431.183 revenue/max_revenue 0.5421147727272727    nP/params.nP= 0.139    nV/params.nV= 0.09\n",
            "mean reward so far: 120.33666624579124\n",
            "mean revenue so far: 473.49898925925925\n",
            "Day =  163\n",
            "comm_rate =  0.8\n"
          ]
        },
        {
          "name": "stderr",
          "output_type": "stream",
          "text": [
            "[2023-04-27 17:39:31,723] simulation time 10.3 s\n"
          ]
        },
        {
          "name": "stdout",
          "output_type": "stream",
          "text": [
            "nP =  245    nV =  20     reward= 267.3206464646465 revenue 1529.77952 revenue/max_revenue 0.5794619393939394    nP/params.nP= 0.1225    nV/params.nV= 0.1\n",
            "mean reward so far: 121.17532631530024\n",
            "mean revenue so far: 479.3743512883436\n",
            "Day =  164\n",
            "comm_rate =  0.8\n"
          ]
        },
        {
          "name": "stderr",
          "output_type": "stream",
          "text": [
            "[2023-04-27 17:39:46,876] simulation time 9.6 s\n"
          ]
        },
        {
          "name": "stdout",
          "output_type": "stream",
          "text": [
            "nP =  249    nV =  11     reward= 232.56937373737378 revenue 1368.0694400000002 revenue/max_revenue 0.5182081212121213    nP/params.nP= 0.1245    nV/params.nV= 0.055\n",
            "mean reward so far: 122.06645631621089\n",
            "mean revenue so far: 485.7792608536585\n",
            "Day =  165\n",
            "comm_rate =  0.75\n"
          ]
        },
        {
          "name": "stderr",
          "output_type": "stream",
          "text": [
            "[2023-04-27 17:40:01,254] simulation time 8.9 s\n"
          ]
        },
        {
          "name": "stdout",
          "output_type": "stream",
          "text": [
            "nP =  256    nV =  21     reward= 234.39416666666665 revenue 1241.2818 revenue/max_revenue 0.4701825    nP/params.nP= 0.128    nV/params.nV= 0.105\n",
            "mean reward so far: 122.73617096724823\n",
            "mean revenue so far: 491.1264740606061\n",
            "Day =  166\n",
            "comm_rate =  0.8\n"
          ]
        },
        {
          "name": "stderr",
          "output_type": "stream",
          "text": [
            "[2023-04-27 17:40:16,609] simulation time 9.9 s\n"
          ]
        },
        {
          "name": "stdout",
          "output_type": "stream",
          "text": [
            "nP =  261    nV =  17     reward= 248.63159595959593 revenue 1400.24224 revenue/max_revenue 0.5303947878787879    nP/params.nP= 0.1305    nV/params.nV= 0.085\n",
            "mean reward so far: 123.40880949555797\n",
            "mean revenue so far: 495.6454820481928\n",
            "Day =  167\n",
            "comm_rate =  0.75\n"
          ]
        },
        {
          "name": "stderr",
          "output_type": "stream",
          "text": [
            "[2023-04-27 17:40:32,106] simulation time 10.0 s\n"
          ]
        },
        {
          "name": "stdout",
          "output_type": "stream",
          "text": [
            "nP =  273    nV =  10     reward= 230.82405303030296 revenue 1335.7664999999997 revenue/max_revenue 0.505972159090909    nP/params.nP= 0.1365    nV/params.nV= 0.05\n",
            "mean reward so far: 124.1586465402528\n",
            "mean revenue so far: 501.06222910179645\n",
            "Day =  168\n",
            "comm_rate =  0.8\n"
          ]
        },
        {
          "name": "stderr",
          "output_type": "stream",
          "text": [
            "[2023-04-27 17:40:46,697] simulation time 9.0 s\n"
          ]
        },
        {
          "name": "stdout",
          "output_type": "stream",
          "text": [
            "nP =  282    nV =  12     reward= 255.6441212121212 revenue 1494.0614400000002 revenue/max_revenue 0.5659323636363637    nP/params.nP= 0.141    nV/params.nV= 0.06\n",
            "mean reward so far: 124.79355967412216\n",
            "mean revenue so far: 506.0307069047619\n",
            "Day =  169\n",
            "comm_rate =  0.8\n"
          ]
        },
        {
          "name": "stderr",
          "output_type": "stream",
          "text": [
            "[2023-04-27 17:41:01,910] simulation time 9.7 s\n"
          ]
        },
        {
          "name": "stdout",
          "output_type": "stream",
          "text": [
            "nP =  246    nV =  20     reward= 268.5190303030303 revenue 1537.95072 revenue/max_revenue 0.5825570909090909    nP/params.nP= 0.123    nV/params.nV= 0.1\n",
            "mean reward so far: 125.5678233518618\n",
            "mean revenue so far: 511.87704260355036\n",
            "Day =  170\n",
            "comm_rate =  0.85\n"
          ]
        },
        {
          "name": "stderr",
          "output_type": "stream",
          "text": [
            "[2023-04-27 17:41:17,118] simulation time 9.7 s\n"
          ]
        },
        {
          "name": "stdout",
          "output_type": "stream",
          "text": [
            "nP =  255    nV =  24     reward= 258.7570303030303 revenue 1395.95568 revenue/max_revenue 0.5287710909090909    nP/params.nP= 0.1275    nV/params.nV= 0.12\n",
            "mean reward so far: 126.40871280451574\n",
            "mean revenue so far: 517.912770117647\n",
            "Day =  171\n",
            "comm_rate =  0.9\n"
          ]
        },
        {
          "name": "stderr",
          "output_type": "stream",
          "text": [
            "[2023-04-27 17:41:32,611] simulation time 10.0 s\n"
          ]
        },
        {
          "name": "stdout",
          "output_type": "stream",
          "text": [
            "nP =  273    nV =  13     reward= 264.89830303030305 revenue 1566.03456 revenue/max_revenue 0.5931949090909091    nP/params.nP= 0.1365    nV/params.nV= 0.065\n",
            "mean reward so far: 127.1826795735129\n",
            "mean revenue so far: 523.0475239766082\n",
            "Day =  172\n",
            "comm_rate =  0.9\n"
          ]
        },
        {
          "name": "stderr",
          "output_type": "stream",
          "text": [
            "[2023-04-27 17:41:47,826] simulation time 9.7 s\n"
          ]
        },
        {
          "name": "stdout",
          "output_type": "stream",
          "text": [
            "nP =  264    nV =  19     reward= 290.08880303030304 revenue 1698.22332 revenue/max_revenue 0.6432664090909092    nP/params.nP= 0.132    nV/params.nV= 0.095\n",
            "mean reward so far: 127.98335180291284\n",
            "mean revenue so far: 529.1114020930232\n",
            "Day =  173\n",
            "comm_rate =  0.95\n"
          ]
        },
        {
          "name": "stderr",
          "output_type": "stream",
          "text": [
            "[2023-04-27 17:42:03,439] simulation time 10.1 s\n"
          ]
        },
        {
          "name": "stdout",
          "output_type": "stream",
          "text": [
            "nP =  280    nV =  15     reward= 289.3230378787879 revenue 1723.83846 revenue/max_revenue 0.6529691136363636    nP/params.nP= 0.14    nV/params.nV= 0.075\n",
            "mean reward so far: 128.9203775325509\n",
            "mean revenue so far: 535.8692744508671\n",
            "Day =  174\n",
            "comm_rate =  0.95\n"
          ]
        },
        {
          "name": "stderr",
          "output_type": "stream",
          "text": [
            "[2023-04-27 17:42:19,144] simulation time 10.1 s\n"
          ]
        },
        {
          "name": "stdout",
          "output_type": "stream",
          "text": [
            "nP =  282    nV =  13     reward= 298.6588838383839 revenue 1821.53836 revenue/max_revenue 0.6899766515151515    nP/params.nP= 0.141    nV/params.nV= 0.065\n",
            "mean reward so far: 129.84223190235687\n",
            "mean revenue so far: 542.6966835632185\n",
            "Day =  175\n",
            "comm_rate =  1\n"
          ]
        },
        {
          "name": "stderr",
          "output_type": "stream",
          "text": [
            "[2023-04-27 17:42:34,486] simulation time 9.8 s\n"
          ]
        },
        {
          "name": "stdout",
          "output_type": "stream",
          "text": [
            "nP =  254    nV =  14     reward= 307.64227272727265 revenue 1916.4467999999997 revenue/max_revenue 0.725926818181818    nP/params.nP= 0.127    nV/params.nV= 0.07\n",
            "mean reward so far: 130.80689848484846\n",
            "mean revenue so far: 550.0043502857144\n",
            "Day =  176\n",
            "comm_rate =  1.0\n"
          ]
        },
        {
          "name": "stderr",
          "output_type": "stream",
          "text": [
            "[2023-04-27 17:42:49,555] simulation time 9.5 s\n"
          ]
        },
        {
          "name": "stdout",
          "output_type": "stream",
          "text": [
            "nP =  238    nV =  13     reward= 273.7862626262626 revenue 1682.6272 revenue/max_revenue 0.6373587878787879    nP/params.nP= 0.119    nV/params.nV= 0.065\n",
            "mean reward so far: 131.81164492940772\n",
            "mean revenue so far: 557.768227840909\n",
            "Day =  177\n",
            "comm_rate =  1\n"
          ]
        },
        {
          "name": "stderr",
          "output_type": "stream",
          "text": [
            "[2023-04-27 17:43:04,209] simulation time 9.1 s\n"
          ]
        },
        {
          "name": "stdout",
          "output_type": "stream",
          "text": [
            "nP =  281    nV =  18     reward= 279.9049494949495 revenue 1608.3271999999997 revenue/max_revenue 0.6092148484848484    nP/params.nP= 0.1405    nV/params.nV= 0.09\n",
            "mean reward so far: 132.61376141357073\n",
            "mean revenue so far: 564.1233632768362\n",
            "Day =  178\n",
            "comm_rate =  1\n"
          ]
        },
        {
          "name": "stderr",
          "output_type": "stream",
          "text": [
            "[2023-04-27 17:43:20,187] simulation time 10.4 s\n"
          ]
        },
        {
          "name": "stdout",
          "output_type": "stream",
          "text": [
            "nP =  285    nV =  22     reward= 329.0971717171717 revenue 1939.8496 revenue/max_revenue 0.7347915151515152    nP/params.nP= 0.1425    nV/params.nV= 0.11\n",
            "mean reward so far: 133.44123999829756\n",
            "mean revenue so far: 569.9896769662922\n",
            "Day =  179\n",
            "comm_rate =  1.0\n"
          ]
        },
        {
          "name": "stderr",
          "output_type": "stream",
          "text": [
            "[2023-04-27 17:43:36,320] simulation time 10.6 s\n"
          ]
        },
        {
          "name": "stdout",
          "output_type": "stream",
          "text": [
            "nP =  271    nV =  8     reward= 296.5024242424242 revenue 1884.9792 revenue/max_revenue 0.7140072727272727    nP/params.nP= 0.1355    nV/params.nV= 0.04\n",
            "mean reward so far: 134.53428989616836\n",
            "mean revenue so far: 577.642525698324\n",
            "Day =  180\n",
            "comm_rate =  1\n"
          ]
        },
        {
          "name": "stderr",
          "output_type": "stream",
          "text": [
            "[2023-04-27 17:43:50,483] simulation time 8.6 s\n"
          ]
        },
        {
          "name": "stdout",
          "output_type": "stream",
          "text": [
            "nP =  286    nV =  18     reward= 309.99025252525246 revenue 1840.0028 revenue/max_revenue 0.6969707575757575    nP/params.nP= 0.143    nV/params.nV= 0.09\n",
            "mean reward so far: 135.43411286475867\n",
            "mean revenue so far: 584.9055072222222\n",
            "Day =  181\n",
            "comm_rate =  1\n"
          ]
        },
        {
          "name": "stderr",
          "output_type": "stream",
          "text": [
            "[2023-04-27 17:44:06,719] simulation time 10.7 s\n"
          ]
        },
        {
          "name": "stdout",
          "output_type": "stream",
          "text": [
            "nP =  255    nV =  12     reward= 315.1491919191919 revenue 2000.9815999999998 revenue/max_revenue 0.7579475757575757    nP/params.nP= 0.1275    nV/params.nV= 0.06\n",
            "mean reward so far: 136.39851142641885\n",
            "mean revenue so far: 591.8397464088398\n",
            "Day =  182\n",
            "comm_rate =  0.95\n"
          ]
        },
        {
          "name": "stderr",
          "output_type": "stream",
          "text": [
            "[2023-04-27 17:44:21,651] simulation time 9.4 s\n"
          ]
        },
        {
          "name": "stdout",
          "output_type": "stream",
          "text": [
            "nP =  280    nV =  15     reward= 275.85750757575755 revenue 1617.1914599999998 revenue/max_revenue 0.6125725227272727    nP/params.nP= 0.14    nV/params.nV= 0.075\n",
            "mean reward so far: 137.38065802253297\n",
            "mean revenue so far: 599.5822840659341\n",
            "Day =  183\n",
            "comm_rate =  0.9\n"
          ]
        },
        {
          "name": "stderr",
          "output_type": "stream",
          "text": [
            "[2023-04-27 17:44:37,138] simulation time 10.0 s\n"
          ]
        },
        {
          "name": "stdout",
          "output_type": "stream",
          "text": [
            "nP =  261    nV =  13     reward= 282.01943939393936 revenue 1717.4739599999998 revenue/max_revenue 0.6505583181818181    nP/params.nP= 0.1305    nV/params.nV= 0.065\n",
            "mean reward so far: 138.13736211845224\n",
            "mean revenue so far: 605.1429899453552\n",
            "Day =  184\n",
            "comm_rate =  0.9\n"
          ]
        },
        {
          "name": "stderr",
          "output_type": "stream",
          "text": [
            "[2023-04-27 17:44:52,297] simulation time 9.6 s\n"
          ]
        },
        {
          "name": "stdout",
          "output_type": "stream",
          "text": [
            "nP =  277    nV =  17     reward= 272.7518636363636 revenue 1570.15476 revenue/max_revenue 0.5947555909090909    nP/params.nP= 0.1385    nV/params.nV= 0.085\n",
            "mean reward so far: 138.9193299297321\n",
            "mean revenue so far: 611.1882669565217\n",
            "Day =  185\n",
            "comm_rate =  0.95\n"
          ]
        },
        {
          "name": "stderr",
          "output_type": "stream",
          "text": [
            "[2023-04-27 17:45:08,207] simulation time 10.3 s\n"
          ]
        },
        {
          "name": "stdout",
          "output_type": "stream",
          "text": [
            "nP =  254    nV =  10     reward= 283.95045202020196 revenue 1781.6075799999999 revenue/max_revenue 0.674851356060606    nP/params.nP= 0.127    nV/params.nV= 0.05\n",
            "mean reward so far: 139.64274903084902\n",
            "mean revenue so far: 616.3718696216216\n",
            "Day =  186\n",
            "comm_rate =  0.95\n"
          ]
        },
        {
          "name": "stderr",
          "output_type": "stream",
          "text": [
            "[2023-04-27 17:45:22,588] simulation time 8.9 s\n"
          ]
        },
        {
          "name": "stdout",
          "output_type": "stream",
          "text": [
            "nP =  268    nV =  13     reward= 273.8034494949495 revenue 1643.1633199999999 revenue/max_revenue 0.6224103484848484    nP/params.nP= 0.134    nV/params.nV= 0.065\n",
            "mean reward so far: 140.41859689638318\n",
            "mean revenue so far: 622.6365777419355\n",
            "Day =  187\n",
            "comm_rate =  0.9\n"
          ]
        },
        {
          "name": "stderr",
          "output_type": "stream",
          "text": [
            "[2023-04-27 17:45:37,777] simulation time 9.7 s\n"
          ]
        },
        {
          "name": "stdout",
          "output_type": "stream",
          "text": [
            "nP =  269    nV =  20     reward= 286.6345757575757 revenue 1651.06584 revenue/max_revenue 0.6254037272727273    nP/params.nP= 0.1345    nV/params.nV= 0.1\n",
            "mean reward so far: 141.1318848781937\n",
            "mean revenue so far: 628.09394\n",
            "Day =  188\n",
            "comm_rate =  0.85\n"
          ]
        },
        {
          "name": "stderr",
          "output_type": "stream",
          "text": [
            "[2023-04-27 17:45:53,605] simulation time 10.3 s\n"
          ]
        },
        {
          "name": "stdout",
          "output_type": "stream",
          "text": [
            "nP =  269    nV =  19     reward= 271.02795202020195 revenue 1540.66138 revenue/max_revenue 0.583583856060606    nP/params.nP= 0.1345    nV/params.nV= 0.095\n",
            "mean reward so far: 141.90583536159468\n",
            "mean revenue so far: 633.5352798936169\n",
            "Day =  189\n",
            "comm_rate =  0.85\n"
          ]
        },
        {
          "name": "stderr",
          "output_type": "stream",
          "text": [
            "[2023-04-27 17:46:09,264] simulation time 10.2 s\n"
          ]
        },
        {
          "name": "stdout",
          "output_type": "stream",
          "text": [
            "nP =  254    nV =  23     reward= 282.8169292929293 revenue 1601.03008 revenue/max_revenue 0.6064507878787879    nP/params.nP= 0.127    nV/params.nV= 0.115\n",
            "mean reward so far: 142.58902116402118\n",
            "mean revenue so far: 638.3348888888888\n",
            "Day =  190\n",
            "comm_rate =  0.85\n"
          ]
        },
        {
          "name": "stderr",
          "output_type": "stream",
          "text": [
            "[2023-04-27 17:46:24,751] simulation time 9.9 s\n"
          ]
        },
        {
          "name": "stdout",
          "output_type": "stream",
          "text": [
            "nP =  292    nV =  19     reward= 264.74370959595956 revenue 1460.5301799999997 revenue/max_revenue 0.5532311287878787    nP/params.nP= 0.146    nV/params.nV= 0.095\n",
            "mean reward so far: 143.32706278575228\n",
            "mean revenue so far: 643.4017056842105\n",
            "Day =  191\n",
            "comm_rate =  0.85\n"
          ]
        },
        {
          "name": "stderr",
          "output_type": "stream",
          "text": [
            "[2023-04-27 17:46:40,916] simulation time 10.6 s\n"
          ]
        },
        {
          "name": "stdout",
          "output_type": "stream",
          "text": [
            "nP =  251    nV =  18     reward= 283.349351010101 revenue 1675.2068599999998 revenue/max_revenue 0.6345480530303029    nP/params.nP= 0.1255    nV/params.nV= 0.09\n",
            "mean reward so far: 143.9627520360675\n",
            "mean revenue so far: 647.679865235602\n",
            "Day =  192\n",
            "comm_rate =  0.85\n"
          ]
        },
        {
          "name": "stderr",
          "output_type": "stream",
          "text": [
            "[2023-04-27 17:46:56,140] simulation time 9.8 s\n"
          ]
        },
        {
          "name": "stdout",
          "output_type": "stream",
          "text": [
            "nP =  260    nV =  15     reward= 246.11383838383838 revenue 1408.0216 revenue/max_revenue 0.5333415151515152    nP/params.nP= 0.13    nV/params.nV= 0.075\n",
            "mean reward so far: 144.68872390572392\n",
            "mean revenue so far: 653.0315683333333\n",
            "Day =  193\n",
            "comm_rate =  0.8\n"
          ]
        },
        {
          "name": "stderr",
          "output_type": "stream",
          "text": [
            "[2023-04-27 17:47:11,536] simulation time 9.8 s\n"
          ]
        },
        {
          "name": "stdout",
          "output_type": "stream",
          "text": [
            "nP =  265    nV =  14     reward= 244.9704646464646 revenue 1405.56608 revenue/max_revenue 0.532411393939394    nP/params.nP= 0.1325    nV/params.nV= 0.07\n",
            "mean reward so far: 145.21424263358978\n",
            "mean revenue so far: 656.9434337823834\n",
            "Day =  194\n",
            "comm_rate =  0.75\n"
          ]
        },
        {
          "name": "stderr",
          "output_type": "stream",
          "text": [
            "[2023-04-27 17:47:26,741] simulation time 9.7 s\n"
          ]
        },
        {
          "name": "stdout",
          "output_type": "stream",
          "text": [
            "nP =  248    nV =  23     reward= 247.62526515151515 revenue 1330.2321 revenue/max_revenue 0.5038757954545454    nP/params.nP= 0.124    nV/params.nV= 0.115\n",
            "mean reward so far: 145.72844996355306\n",
            "mean revenue so far: 660.8023134020619\n",
            "Day =  195\n",
            "comm_rate =  0.75\n"
          ]
        },
        {
          "name": "stderr",
          "output_type": "stream",
          "text": [
            "[2023-04-27 17:47:42,004] simulation time 9.7 s\n"
          ]
        },
        {
          "name": "stdout",
          "output_type": "stream",
          "text": [
            "nP =  270    nV =  13     reward= 226.49102272727274 revenue 1265.8089 revenue/max_revenue 0.4794730681818182    nP/params.nP= 0.135    nV/params.nV= 0.065\n",
            "mean reward so far: 146.25099773374774\n",
            "mean revenue so far: 664.2352866666666\n",
            "Day =  196\n",
            "comm_rate =  0.8\n"
          ]
        },
        {
          "name": "stderr",
          "output_type": "stream",
          "text": [
            "[2023-04-27 17:47:57,210] simulation time 9.7 s\n"
          ]
        },
        {
          "name": "stdout",
          "output_type": "stream",
          "text": [
            "nP =  273    nV =  12     reward= 244.79078787878785 revenue 1419.98304 revenue/max_revenue 0.5378723636363637    nP/params.nP= 0.1365    nV/params.nV= 0.06\n",
            "mean reward so far: 146.66038561636776\n",
            "mean revenue so far: 667.3045397959185\n",
            "Day =  197\n",
            "comm_rate =  0.75\n"
          ]
        },
        {
          "name": "stderr",
          "output_type": "stream",
          "text": [
            "[2023-04-27 17:48:12,308] simulation time 9.5 s\n"
          ]
        },
        {
          "name": "stdout",
          "output_type": "stream",
          "text": [
            "nP =  275    nV =  21     reward= 257.0441287878788 revenue 1395.5895 revenue/max_revenue 0.5286323863636364    nP/params.nP= 0.1375    nV/params.nV= 0.105\n",
            "mean reward so far: 147.15850948572015\n",
            "mean revenue so far: 671.1252428426396\n",
            "Day =  198\n",
            "comm_rate =  0.7\n"
          ]
        },
        {
          "name": "stderr",
          "output_type": "stream",
          "text": [
            "[2023-04-27 17:48:28,230] simulation time 10.4 s\n"
          ]
        },
        {
          "name": "stdout",
          "output_type": "stream",
          "text": [
            "nP =  283    nV =  14     reward= 240.48241414141407 revenue 1346.2607199999998 revenue/max_revenue 0.5099472424242424    nP/params.nP= 0.1415    nV/params.nV= 0.07\n",
            "mean reward so far: 147.71348736098358\n",
            "mean revenue so far: 674.7841532323233\n",
            "Day =  199\n",
            "comm_rate =  0.75\n"
          ]
        },
        {
          "name": "stderr",
          "output_type": "stream",
          "text": [
            "[2023-04-27 17:48:43,953] simulation time 10.1 s\n"
          ]
        },
        {
          "name": "stdout",
          "output_type": "stream",
          "text": [
            "nP =  285    nV =  13     reward= 247.3498106060606 revenue 1411.2105000000001 revenue/max_revenue 0.5345494318181818    nP/params.nP= 0.1425    nV/params.nV= 0.065\n",
            "mean reward so far: 148.179662872443\n",
            "mean revenue so far: 678.1584073366836\n",
            "Day =  200\n",
            "comm_rate =  0.8\n"
          ]
        },
        {
          "name": "stderr",
          "output_type": "stream",
          "text": [
            "[2023-04-27 17:48:59,681] simulation time 10.1 s\n"
          ]
        },
        {
          "name": "stdout",
          "output_type": "stream",
          "text": [
            "nP =  277    nV =  15     reward= 260.0374545454546 revenue 1495.85664 revenue/max_revenue 0.5666123636363636    nP/params.nP= 0.1385    nV/params.nV= 0.075\n",
            "mean reward so far: 148.67551361111109\n",
            "mean revenue so far: 681.8236678\n",
            "Day =  201\n",
            "comm_rate =  0.8\n"
          ]
        },
        {
          "name": "stderr",
          "output_type": "stream",
          "text": [
            "[2023-04-27 17:49:15,468] simulation time 10.2 s\n"
          ]
        },
        {
          "name": "stdout",
          "output_type": "stream",
          "text": [
            "nP =  273    nV =  16     reward= 259.21947474747475 revenue 1481.4582400000002 revenue/max_revenue 0.5611584242424243    nP/params.nP= 0.1365    nV/params.nV= 0.08\n",
            "mean reward so far: 149.22955311824714\n",
            "mean revenue so far: 685.873583084577\n",
            "Day =  202\n",
            "comm_rate =  0.85\n"
          ]
        },
        {
          "name": "stderr",
          "output_type": "stream",
          "text": [
            "[2023-04-27 17:49:31,084] simulation time 10.1 s\n"
          ]
        },
        {
          "name": "stdout",
          "output_type": "stream",
          "text": [
            "nP =  265    nV =  21     reward= 278.7932878787878 revenue 1581.0428399999998 revenue/max_revenue 0.5988798636363636    nP/params.nP= 0.1325    nV/params.nV= 0.105\n",
            "mean reward so far: 149.77405768076807\n",
            "mean revenue so far: 689.812120990099\n",
            "Day =  203\n",
            "comm_rate =  0.85\n"
          ]
        },
        {
          "name": "stderr",
          "output_type": "stream",
          "text": [
            "[2023-04-27 17:49:46,818] simulation time 10.2 s\n"
          ]
        },
        {
          "name": "stdout",
          "output_type": "stream",
          "text": [
            "nP =  280    nV =  15     reward= 261.5980934343434 revenue 1504.2568999999999 revenue/max_revenue 0.5697942803030303    nP/params.nP= 0.14    nV/params.nV= 0.075\n",
            "mean reward so far: 150.40962039110312\n",
            "mean revenue so far: 694.2024200985221\n",
            "Day =  204\n",
            "comm_rate =  0.9\n"
          ]
        },
        {
          "name": "stderr",
          "output_type": "stream",
          "text": [
            "[2023-04-27 17:50:02,545] simulation time 10.2 s\n"
          ]
        },
        {
          "name": "stdout",
          "output_type": "stream",
          "text": [
            "nP =  266    nV =  19     reward= 293.62704545454545 revenue 1723.6062 revenue/max_revenue 0.6528811363636363    nP/params.nP= 0.133    nV/params.nV= 0.095\n",
            "mean reward so far: 150.9546619256288\n",
            "mean revenue so far: 698.1732753921567\n",
            "Day =  205\n",
            "comm_rate =  0.85\n"
          ]
        },
        {
          "name": "stderr",
          "output_type": "stream",
          "text": [
            "[2023-04-27 17:50:18,312] simulation time 10.2 s\n"
          ]
        },
        {
          "name": "stdout",
          "output_type": "stream",
          "text": [
            "nP =  256    nV =  9     reward= 248.8905656565656 revenue 1514.4932799999997 revenue/max_revenue 0.5736716969696969    nP/params.nP= 0.128    nV/params.nV= 0.045\n",
            "mean reward so far: 151.65062477211134\n",
            "mean revenue so far: 703.1753872195121\n",
            "Day =  206\n",
            "comm_rate =  0.9\n"
          ]
        },
        {
          "name": "stderr",
          "output_type": "stream",
          "text": [
            "[2023-04-27 17:50:32,547] simulation time 8.7 s\n"
          ]
        },
        {
          "name": "stdout",
          "output_type": "stream",
          "text": [
            "nP =  281    nV =  20     reward= 268.84289393939395 revenue 1494.31572 revenue/max_revenue 0.5660286818181819    nP/params.nP= 0.1405    nV/params.nV= 0.1\n",
            "mean reward so far: 152.12266332009412\n",
            "mean revenue so far: 707.1138235922328\n",
            "Day =  207\n",
            "comm_rate =  0.85\n"
          ]
        },
        {
          "name": "stderr",
          "output_type": "stream",
          "text": [
            "[2023-04-27 17:50:48,601] simulation time 10.5 s\n"
          ]
        },
        {
          "name": "stdout",
          "output_type": "stream",
          "text": [
            "nP =  283    nV =  18     reward= 281.1551186868687 revenue 1615.58854 revenue/max_revenue 0.6119653560606061    nP/params.nP= 0.1415    nV/params.nV= 0.09\n",
            "mean reward so far: 152.68652916849652\n",
            "mean revenue so far: 710.9167313043476\n",
            "Day =  208\n",
            "comm_rate =  0.8\n"
          ]
        },
        {
          "name": "stderr",
          "output_type": "stream",
          "text": [
            "[2023-04-27 17:51:04,555] simulation time 10.4 s\n"
          ]
        },
        {
          "name": "stdout",
          "output_type": "stream",
          "text": [
            "nP =  278    nV =  14     reward= 266.60238383838384 revenue 1559.73088 revenue/max_revenue 0.5908071515151515    nP/params.nP= 0.139    nV/params.nV= 0.07\n",
            "mean reward so far: 153.30416661810412\n",
            "mean revenue so far: 715.2661149999999\n",
            "Day =  209\n",
            "comm_rate =  0.8\n"
          ]
        },
        {
          "name": "stderr",
          "output_type": "stream",
          "text": [
            "[2023-04-27 17:51:20,312] simulation time 10.0 s\n"
          ]
        },
        {
          "name": "stdout",
          "output_type": "stream",
          "text": [
            "nP =  267    nV =  13     reward= 259.4241616161616 revenue 1530.5993600000002 revenue/max_revenue 0.5797724848484849    nP/params.nP= 0.1335    nV/params.nV= 0.065\n",
            "mean reward so far: 153.8462633512155\n",
            "mean revenue so far: 719.3066162679426\n",
            "Day =  210\n",
            "comm_rate =  0.75\n"
          ]
        },
        {
          "name": "stderr",
          "output_type": "stream",
          "text": [
            "[2023-04-27 17:51:35,794] simulation time 9.8 s\n"
          ]
        },
        {
          "name": "stdout",
          "output_type": "stream",
          "text": [
            "nP =  260    nV =  10     reward= 230.64704545454546 revenue 1351.5246 revenue/max_revenue 0.5119411363636364    nP/params.nP= 0.13    nV/params.nV= 0.05\n",
            "mean reward so far: 154.34901524771524\n",
            "mean revenue so far: 723.169915047619\n",
            "Day =  211\n",
            "comm_rate =  0.7\n"
          ]
        },
        {
          "name": "stderr",
          "output_type": "stream",
          "text": [
            "[2023-04-27 17:51:50,355] simulation time 9.0 s\n"
          ]
        },
        {
          "name": "stdout",
          "output_type": "stream",
          "text": [
            "nP =  275    nV =  24     reward= 241.46829292929291 revenue 1232.6288799999998 revenue/max_revenue 0.4669048787878787    nP/params.nP= 0.1375    nV/params.nV= 0.12\n",
            "mean reward so far: 154.71061728661016\n",
            "mean revenue so far: 726.1478993364929\n",
            "Day =  212\n",
            "comm_rate =  0.7\n"
          ]
        },
        {
          "name": "stderr",
          "output_type": "stream",
          "text": [
            "[2023-04-27 17:52:06,283] simulation time 10.3 s\n"
          ]
        },
        {
          "name": "stdout",
          "output_type": "stream",
          "text": [
            "nP =  285    nV =  16     reward= 235.44192929292927 revenue 1277.3000799999998 revenue/max_revenue 0.48382578787878777    nP/params.nP= 0.1425    nV/params.nV= 0.08\n",
            "mean reward so far: 155.11985160567943\n",
            "mean revenue so far: 728.5369605660378\n",
            "Day =  213\n",
            "comm_rate =  0.65\n"
          ]
        },
        {
          "name": "stderr",
          "output_type": "stream",
          "text": [
            "[2023-04-27 17:52:22,106] simulation time 10.3 s\n"
          ]
        },
        {
          "name": "stdout",
          "output_type": "stream",
          "text": [
            "nP =  273    nV =  18     reward= 236.1364696969697 revenue 1272.24084 revenue/max_revenue 0.48190940909090907    nP/params.nP= 0.1365    nV/params.nV= 0.09\n",
            "mean reward so far: 155.4969505619576\n",
            "mean revenue so far: 731.1133132394366\n",
            "Day =  214\n",
            "comm_rate =  0.6\n"
          ]
        },
        {
          "name": "stderr",
          "output_type": "stream",
          "text": [
            "[2023-04-27 17:52:38,032] simulation time 10.3 s\n"
          ]
        },
        {
          "name": "stdout",
          "output_type": "stream",
          "text": [
            "nP =  258    nV =  15     reward= 206.93963636363637 revenue 1100.4019199999998 revenue/max_revenue 0.416818909090909    nP/params.nP= 0.129    nV/params.nV= 0.075\n",
            "mean reward so far: 155.8737707448315\n",
            "mean revenue so far: 733.6419465420561\n",
            "Day =  215\n",
            "comm_rate =  0.6\n"
          ]
        },
        {
          "name": "stderr",
          "output_type": "stream",
          "text": [
            "[2023-04-27 17:52:53,197] simulation time 9.6 s\n"
          ]
        },
        {
          "name": "stdout",
          "output_type": "stream",
          "text": [
            "nP =  282    nV =  15     reward= 208.36990909090912 revenue 1080.04968 revenue/max_revenue 0.4091097272727273    nP/params.nP= 0.141    nV/params.nV= 0.075\n",
            "mean reward so far: 156.11128639887247\n",
            "mean revenue so far: 735.347806883721\n",
            "Day =  216\n",
            "comm_rate =  0.65\n"
          ]
        },
        {
          "name": "stderr",
          "output_type": "stream",
          "text": [
            "[2023-04-27 17:53:08,982] simulation time 10.2 s\n"
          ]
        },
        {
          "name": "stdout",
          "output_type": "stream",
          "text": [
            "nP =  280    nV =  12     reward= 225.11332575757572 revenue 1254.89754 revenue/max_revenue 0.47533997727272725    nP/params.nP= 0.14    nV/params.nV= 0.06\n",
            "mean reward so far: 156.35322446689113\n",
            "mean revenue so far: 736.9436488888888\n",
            "Day =  217\n",
            "comm_rate =  0.6\n"
          ]
        },
        {
          "name": "stderr",
          "output_type": "stream",
          "text": [
            "[2023-04-27 17:53:24,445] simulation time 9.8 s\n"
          ]
        },
        {
          "name": "stdout",
          "output_type": "stream",
          "text": [
            "nP =  260    nV =  17     reward= 216.80190909090905 revenue 1149.47112 revenue/max_revenue 0.43540572727272725    nP/params.nP= 0.13    nV/params.nV= 0.085\n",
            "mean reward so far: 156.67009129311546\n",
            "mean revenue so far: 739.3305331797234\n",
            "Day =  218\n",
            "comm_rate =  0.55\n"
          ]
        },
        {
          "name": "stderr",
          "output_type": "stream",
          "text": [
            "[2023-04-27 17:53:40,427] simulation time 10.3 s\n"
          ]
        },
        {
          "name": "stdout",
          "output_type": "stream",
          "text": [
            "nP =  272    nV =  16     reward= 191.87811111111114 revenue 949.4346400000002 revenue/max_revenue 0.3596343333333334    nP/params.nP= 0.136    nV/params.nV= 0.08\n",
            "mean reward so far: 156.94592531971085\n",
            "mean revenue so far: 741.2119120183486\n",
            "Day =  219\n",
            "comm_rate =  0.5\n"
          ]
        },
        {
          "name": "stderr",
          "output_type": "stream",
          "text": [
            "[2023-04-27 17:53:56,329] simulation time 10.3 s\n"
          ]
        },
        {
          "name": "stdout",
          "output_type": "stream",
          "text": [
            "nP =  270    nV =  20     reward= 195.6120707070707 revenue 928.8476 revenue/max_revenue 0.35183621212121213    nP/params.nP= 0.135    nV/params.nV= 0.1\n",
            "mean reward so far: 157.1054330173885\n",
            "mean revenue so far: 742.1627007305935\n",
            "Day =  220\n",
            "comm_rate =  0.45\n"
          ]
        },
        {
          "name": "stderr",
          "output_type": "stream",
          "text": [
            "[2023-04-27 17:54:12,519] simulation time 10.5 s\n"
          ]
        },
        {
          "name": "stdout",
          "output_type": "stream",
          "text": [
            "nP =  296    nV =  14     reward= 180.05337121212116 revenue 850.5027 revenue/max_revenue 0.32216011363636365    nP/params.nP= 0.148    nV/params.nV= 0.07\n",
            "mean reward so far: 157.2804631887052\n",
            "mean revenue so far: 743.0112684545454\n",
            "Day =  221\n",
            "comm_rate =  0.5\n"
          ]
        },
        {
          "name": "stderr",
          "output_type": "stream",
          "text": [
            "[2023-04-27 17:54:28,730] simulation time 10.6 s\n"
          ]
        },
        {
          "name": "stdout",
          "output_type": "stream",
          "text": [
            "nP =  271    nV =  14     reward= 196.05199494949494 revenue 1010.2117999999999 revenue/max_revenue 0.38265598484848484    nP/params.nP= 0.1355    nV/params.nV= 0.07\n",
            "mean reward so far: 157.38350802139036\n",
            "mean revenue so far: 743.4976550226244\n",
            "Day =  222\n",
            "comm_rate =  0.5\n"
          ]
        },
        {
          "name": "stderr",
          "output_type": "stream",
          "text": [
            "[2023-04-27 17:54:44,476] simulation time 10.0 s\n"
          ]
        },
        {
          "name": "stdout",
          "output_type": "stream",
          "text": [
            "nP =  292    nV =  16     reward= 191.32861111111112 revenue 918.6826 revenue/max_revenue 0.3479858333333333    nP/params.nP= 0.146    nV/params.nV= 0.08\n",
            "mean reward so far: 157.55769039494038\n",
            "mean revenue so far: 744.69907009009\n",
            "Day =  223\n",
            "comm_rate =  0.45\n"
          ]
        },
        {
          "name": "stderr",
          "output_type": "stream",
          "text": [
            "[2023-04-27 17:55:00,891] simulation time 10.8 s\n"
          ]
        },
        {
          "name": "stdout",
          "output_type": "stream",
          "text": [
            "nP =  288    nV =  26     reward= 201.31051515151515 revenue 871.01928 revenue/max_revenue 0.32993154545454545    nP/params.nP= 0.144    nV/params.nV= 0.13\n",
            "mean reward so far: 157.7091295012909\n",
            "mean revenue so far: 745.4792652914798\n",
            "Day =  224\n",
            "comm_rate =  0.45\n"
          ]
        },
        {
          "name": "stderr",
          "output_type": "stream",
          "text": [
            "[2023-04-27 17:55:17,798] simulation time 11.1 s\n"
          ]
        },
        {
          "name": "stdout",
          "output_type": "stream",
          "text": [
            "nP =  287    nV =  14     reward= 183.74889393939392 revenue 891.6512399999999 revenue/max_revenue 0.3377466818181818    nP/params.nP= 0.1435    nV/params.nV= 0.07\n",
            "mean reward so far: 157.90377854437227\n",
            "mean revenue so far: 746.0397117857143\n",
            "Day =  225\n",
            "comm_rate =  0.5\n"
          ]
        },
        {
          "name": "stderr",
          "output_type": "stream",
          "text": [
            "[2023-04-27 17:55:33,593] simulation time 10.2 s\n"
          ]
        },
        {
          "name": "stdout",
          "output_type": "stream",
          "text": [
            "nP =  273    nV =  13     reward= 190.3979797979798 revenue 975.992 revenue/max_revenue 0.36969393939393935    nP/params.nP= 0.1365    nV/params.nV= 0.065\n",
            "mean reward so far: 158.0186457239057\n",
            "mean revenue so far: 746.6868741333333\n",
            "Day =  226\n",
            "comm_rate =  0.45\n"
          ]
        },
        {
          "name": "stderr",
          "output_type": "stream",
          "text": [
            "[2023-04-27 17:55:48,916] simulation time 9.8 s\n"
          ]
        },
        {
          "name": "stdout",
          "output_type": "stream",
          "text": [
            "nP =  262    nV =  16     reward= 175.68569696969698 revenue 834.39072 revenue/max_revenue 0.3160570909090909    nP/params.nP= 0.131    nV/params.nV= 0.08\n",
            "mean reward so far: 158.16191711361404\n",
            "mean revenue so far: 747.7014985840708\n",
            "Day =  227\n",
            "comm_rate =  0.45\n"
          ]
        },
        {
          "name": "stderr",
          "output_type": "stream",
          "text": [
            "[2023-04-27 17:56:04,416] simulation time 10.0 s\n"
          ]
        },
        {
          "name": "stdout",
          "output_type": "stream",
          "text": [
            "nP =  293    nV =  17     reward= 178.05023484848485 revenue 798.9978600000001 revenue/max_revenue 0.30265070454545456    nP/params.nP= 0.1465    nV/params.nV= 0.085\n",
            "mean reward so far: 158.2391143817025\n",
            "mean revenue so far: 748.0833894273128\n",
            "Day =  228\n",
            "comm_rate =  0.4\n"
          ]
        },
        {
          "name": "stderr",
          "output_type": "stream",
          "text": [
            "[2023-04-27 17:56:20,689] simulation time 10.7 s\n"
          ]
        },
        {
          "name": "stdout",
          "output_type": "stream",
          "text": [
            "nP =  259    nV =  18     reward= 169.21426262626264 revenue 760.6969600000001 revenue/max_revenue 0.28814278787878794    nP/params.nP= 0.1295    nV/params.nV= 0.09\n",
            "mean reward so far: 158.32600526094274\n",
            "mean revenue so far: 748.3066985087719\n",
            "Day =  229\n",
            "comm_rate =  0.35\n"
          ]
        },
        {
          "name": "stderr",
          "output_type": "stream",
          "text": [
            "[2023-04-27 17:56:36,238] simulation time 10.0 s\n"
          ]
        },
        {
          "name": "stdout",
          "output_type": "stream",
          "text": [
            "nP =  282    nV =  18     reward= 151.37699747474747 revenue 589.06582 revenue/max_revenue 0.22313099242424245    nP/params.nP= 0.141    nV/params.nV= 0.09\n",
            "mean reward so far: 158.37355223633713\n",
            "mean revenue so far: 748.3608044541485\n",
            "Day =  230\n",
            "comm_rate =  0.3\n"
          ]
        },
        {
          "name": "stderr",
          "output_type": "stream",
          "text": [
            "[2023-04-27 17:56:52,237] simulation time 10.4 s\n"
          ]
        },
        {
          "name": "stdout",
          "output_type": "stream",
          "text": [
            "nP =  265    nV =  16     reward= 147.71724242424241 revenue 608.9205599999999 revenue/max_revenue 0.23065172727272723    nP/params.nP= 0.1325    nV/params.nV= 0.08\n",
            "mean reward so far: 158.34313243302591\n",
            "mean revenue so far: 747.6682175652173\n",
            "Day =  231\n",
            "comm_rate =  0.25\n"
          ]
        },
        {
          "name": "stderr",
          "output_type": "stream",
          "text": [
            "[2023-04-27 17:57:07,959] simulation time 10.1 s\n"
          ]
        },
        {
          "name": "stdout",
          "output_type": "stream",
          "text": [
            "nP =  273    nV =  9     reward= 115.21464646464645 revenue 433.34000000000003 revenue/max_revenue 0.1641439393939394    nP/params.nP= 0.1365    nV/params.nV= 0.045\n",
            "mean reward so far: 158.29713290917834\n",
            "mean revenue so far: 747.0675783549783\n",
            "Day =  232\n",
            "comm_rate =  0.25\n"
          ]
        },
        {
          "name": "stderr",
          "output_type": "stream",
          "text": [
            "[2023-04-27 17:57:22,339] simulation time 8.8 s\n"
          ]
        },
        {
          "name": "stdout",
          "output_type": "stream",
          "text": [
            "nP =  292    nV =  14     reward= 130.7830303030303 revenue 465.5616 revenue/max_revenue 0.1763490909090909    nP/params.nP= 0.146    nV/params.nV= 0.07\n",
            "mean reward so far: 158.11143253657264\n",
            "mean revenue so far: 745.7153043103448\n",
            "Day =  233\n",
            "comm_rate =  0.3\n"
          ]
        },
        {
          "name": "stderr",
          "output_type": "stream",
          "text": [
            "[2023-04-27 17:57:37,882] simulation time 10.0 s\n"
          ]
        },
        {
          "name": "stdout",
          "output_type": "stream",
          "text": [
            "nP =  262    nV =  17     reward= 150.7293939393939 revenue 623.5368 revenue/max_revenue 0.2361881818181818    nP/params.nP= 0.131    nV/params.nV= 0.085\n",
            "mean reward so far: 157.99414325660032\n",
            "mean revenue so far: 744.5129278969956\n",
            "Day =  234\n",
            "comm_rate =  0.25\n"
          ]
        },
        {
          "name": "stderr",
          "output_type": "stream",
          "text": [
            "[2023-04-27 17:57:53,560] simulation time 10.1 s\n"
          ]
        },
        {
          "name": "stdout",
          "output_type": "stream",
          "text": [
            "nP =  276    nV =  16     reward= 126.84358585858585 revenue 429.08119999999997 revenue/max_revenue 0.16253075757575755    nP/params.nP= 0.138    nV/params.nV= 0.08\n",
            "mean reward so far: 157.96309731934733\n",
            "mean revenue so far: 743.9959358974357\n",
            "Day =  235\n",
            "comm_rate =  0.2\n"
          ]
        },
        {
          "name": "stderr",
          "output_type": "stream",
          "text": [
            "[2023-04-27 17:58:09,358] simulation time 10.2 s\n"
          ]
        },
        {
          "name": "stdout",
          "output_type": "stream",
          "text": [
            "nP =  273    nV =  26     reward= 135.31469696969694 revenue 368.13239999999996 revenue/max_revenue 0.1394440909090909    nP/params.nP= 0.1365    nV/params.nV= 0.13\n",
            "mean reward so far: 157.83067386632283\n",
            "mean revenue so far: 742.6558731914891\n",
            "Day =  236\n",
            "comm_rate =  0.15\n"
          ]
        },
        {
          "name": "stderr",
          "output_type": "stream",
          "text": [
            "[2023-04-27 17:58:25,310] simulation time 10.4 s\n"
          ]
        },
        {
          "name": "stdout",
          "output_type": "stream",
          "text": [
            "nP =  254    nV =  16     reward= 103.60193181818181 revenue 274.04729999999995 revenue/max_revenue 0.10380579545454544    nP/params.nP= 0.127    nV/params.nV= 0.08\n",
            "mean reward so far: 157.73526718455747\n",
            "mean revenue so far: 741.0689093220337\n",
            "Day =  237\n",
            "comm_rate =  0.2\n"
          ]
        },
        {
          "name": "stderr",
          "output_type": "stream",
          "text": [
            "[2023-04-27 17:58:40,709] simulation time 9.8 s\n"
          ]
        },
        {
          "name": "stdout",
          "output_type": "stream",
          "text": [
            "nP =  288    nV =  13     reward= 112.50882828282829 revenue 339.30992000000003 revenue/max_revenue 0.12852648484848486    nP/params.nP= 0.144    nV/params.nV= 0.065\n",
            "mean reward so far: 157.50685648680903\n",
            "mean revenue so far: 739.0983540084387\n",
            "Day =  238\n",
            "comm_rate =  0.2\n"
          ]
        },
        {
          "name": "stderr",
          "output_type": "stream",
          "text": [
            "[2023-04-27 17:58:56,118] simulation time 9.9 s\n"
          ]
        },
        {
          "name": "stdout",
          "output_type": "stream",
          "text": [
            "nP =  280    nV =  16     reward= 122.00269696969696 revenue 385.46136 revenue/max_revenue 0.14600809090909092    nP/params.nP= 0.14    nV/params.nV= 0.08\n",
            "mean reward so far: 157.31778914141415\n",
            "mean revenue so far: 737.4185706722687\n",
            "Day =  239\n",
            "comm_rate =  0.2\n"
          ]
        },
        {
          "name": "stderr",
          "output_type": "stream",
          "text": [
            "[2023-04-27 17:59:11,825] simulation time 10.1 s\n"
          ]
        },
        {
          "name": "stdout",
          "output_type": "stream",
          "text": [
            "nP =  281    nV =  14     reward= 118.30914141414141 revenue 381.2884 revenue/max_revenue 0.14442742424242425    nP/params.nP= 0.1405    nV/params.nV= 0.07\n",
            "mean reward so far: 157.1700272494823\n",
            "mean revenue so far: 735.9459463598324\n",
            "Day =  240\n",
            "comm_rate =  0.15\n"
          ]
        },
        {
          "name": "stderr",
          "output_type": "stream",
          "text": [
            "[2023-04-27 17:59:27,269] simulation time 9.9 s\n"
          ]
        },
        {
          "name": "stdout",
          "output_type": "stream",
          "text": [
            "nP =  295    nV =  14     reward= 107.95943939393939 revenue 280.83876 revenue/max_revenue 0.10637831818181817    nP/params.nP= 0.1475    nV/params.nV= 0.07\n",
            "mean reward so far: 157.008106891835\n",
            "mean revenue so far: 734.4682065833333\n",
            "Day =  241\n",
            "comm_rate =  0.2\n"
          ]
        },
        {
          "name": "stderr",
          "output_type": "stream",
          "text": [
            "[2023-04-27 17:59:42,918] simulation time 9.9 s\n"
          ]
        },
        {
          "name": "stdout",
          "output_type": "stream",
          "text": [
            "nP =  255    nV =  19     reward= 126.32514141414141 revenue 413.09511999999995 revenue/max_revenue 0.15647542424242422    nP/params.nP= 0.1275    nV/params.nV= 0.095\n",
            "mean reward so far: 156.80458544993505\n",
            "mean revenue so far: 732.5859267219918\n",
            "Day =  242\n",
            "comm_rate =  0.2\n"
          ]
        },
        {
          "name": "stderr",
          "output_type": "stream",
          "text": [
            "[2023-04-27 17:59:58,442] simulation time 10.0 s\n"
          ]
        },
        {
          "name": "stdout",
          "output_type": "stream",
          "text": [
            "nP =  273    nV =  13     reward= 110.72669696969697 revenue 344.99544000000003 revenue/max_revenue 0.1306800909090909    nP/params.nP= 0.1365    nV/params.nV= 0.065\n",
            "mean reward so far: 156.67863733408467\n",
            "mean revenue so far: 731.2657167768596\n",
            "Day =  243\n",
            "comm_rate =  0.15\n"
          ]
        },
        {
          "name": "stderr",
          "output_type": "stream",
          "text": [
            "[2023-04-27 18:00:13,939] simulation time 9.9 s\n"
          ]
        },
        {
          "name": "stdout",
          "output_type": "stream",
          "text": [
            "nP =  292    nV =  18     reward= 112.92305303030302 revenue 271.31057999999996 revenue/max_revenue 0.10276915909090907    nP/params.nP= 0.146    nV/params.nV= 0.09\n",
            "mean reward so far: 156.48953469884026\n",
            "mean revenue so far: 729.6761271604938\n",
            "Day =  244\n",
            "comm_rate =  0.2\n"
          ]
        },
        {
          "name": "stderr",
          "output_type": "stream",
          "text": [
            "[2023-04-27 18:00:30,138] simulation time 10.7 s\n"
          ]
        },
        {
          "name": "stdout",
          "output_type": "stream",
          "text": [
            "nP =  318    nV =  19     reward= 134.40598989898987 revenue 393.93543999999997 revenue/max_revenue 0.14921796969696968    nP/params.nP= 0.159    nV/params.nV= 0.095\n",
            "mean reward so far: 156.310983544461\n",
            "mean revenue so far: 727.7975798360656\n",
            "Day =  245\n",
            "comm_rate =  0.15\n"
          ]
        },
        {
          "name": "stderr",
          "output_type": "stream",
          "text": [
            "[2023-04-27 18:00:46,920] simulation time 11.1 s\n"
          ]
        },
        {
          "name": "stdout",
          "output_type": "stream",
          "text": [
            "nP =  244    nV =  18     reward= 112.75421212121212 revenue 333.33335999999997 revenue/max_revenue 0.12626263636363635    nP/params.nP= 0.122    nV/params.nV= 0.09\n",
            "mean reward so far: 156.22157540713258\n",
            "mean revenue so far: 726.4348772244898\n",
            "Day =  246\n",
            "comm_rate =  0.1\n"
          ]
        },
        {
          "name": "stderr",
          "output_type": "stream",
          "text": [
            "[2023-04-27 18:01:02,147] simulation time 9.6 s\n"
          ]
        },
        {
          "name": "stdout",
          "output_type": "stream",
          "text": [
            "nP =  282    nV =  16     reward= 93.66776767676768 revenue 158.40872000000002 revenue/max_revenue 0.06000330303030304    nP/params.nP= 0.141    nV/params.nV= 0.08\n",
            "mean reward so far: 156.0448788084093\n",
            "mean revenue so far: 724.8369035772358\n",
            "Day =  247\n",
            "comm_rate =  0.05\n"
          ]
        },
        {
          "name": "stderr",
          "output_type": "stream",
          "text": [
            "[2023-04-27 18:01:17,978] simulation time 10.3 s\n"
          ]
        },
        {
          "name": "stdout",
          "output_type": "stream",
          "text": [
            "nP =  275    nV =  12     reward= 77.96690909090908 revenue 96.09791999999999 revenue/max_revenue 0.036400727272727265    nP/params.nP= 0.1375    nV/params.nV= 0.06\n",
            "mean reward so far: 155.79233989694518\n",
            "mean revenue so far: 722.5436720647774\n",
            "Day =  248\n",
            "comm_rate =  0.1\n"
          ]
        },
        {
          "name": "stderr",
          "output_type": "stream",
          "text": [
            "[2023-04-27 18:01:33,264] simulation time 9.7 s\n"
          ]
        },
        {
          "name": "stdout",
          "output_type": "stream",
          "text": [
            "nP =  268    nV =  16     reward= 94.87615656565657 revenue 186.45916 revenue/max_revenue 0.07062846969696969    nP/params.nP= 0.134    nV/params.nV= 0.08\n",
            "mean reward so far: 155.47852767595307\n",
            "mean revenue so far: 720.0176811290322\n",
            "Day =  249\n",
            "comm_rate =  0.1\n"
          ]
        },
        {
          "name": "stderr",
          "output_type": "stream",
          "text": [
            "[2023-04-27 18:01:48,705] simulation time 9.9 s\n"
          ]
        },
        {
          "name": "stdout",
          "output_type": "stream",
          "text": [
            "nP =  281    nV =  21     reward= 104.77113131313132 revenue 181.66736 revenue/max_revenue 0.06881339393939394    nP/params.nP= 0.1405    nV/params.nV= 0.105\n",
            "mean reward so far: 155.23514465944587\n",
            "mean revenue so far: 717.8748758232932\n",
            "Day =  250\n",
            "comm_rate =  0.15\n"
          ]
        },
        {
          "name": "stderr",
          "output_type": "stream",
          "text": [
            "[2023-04-27 18:02:04,633] simulation time 10.4 s\n"
          ]
        },
        {
          "name": "stdout",
          "output_type": "stream",
          "text": [
            "nP =  282    nV =  21     reward= 118.36821212121212 revenue 288.03623999999996 revenue/max_revenue 0.10910463636363635    nP/params.nP= 0.141    nV/params.nV= 0.105\n",
            "mean reward so far: 155.0332886060606\n",
            "mean revenue so far: 715.7300457599999\n",
            "Day =  251\n",
            "comm_rate =  0.1\n"
          ]
        },
        {
          "name": "stderr",
          "output_type": "stream",
          "text": [
            "[2023-04-27 18:02:20,789] simulation time 10.6 s\n"
          ]
        },
        {
          "name": "stdout",
          "output_type": "stream",
          "text": [
            "nP =  278    nV =  14     reward= 93.42851515151514 revenue 188.19384 revenue/max_revenue 0.07128554545454545    nP/params.nP= 0.139    nV/params.nV= 0.07\n",
            "mean reward so far: 154.88721260412893\n",
            "mean revenue so far: 714.026086374502\n",
            "Day =  252\n",
            "comm_rate =  0.1\n"
          ]
        },
        {
          "name": "stderr",
          "output_type": "stream",
          "text": [
            "[2023-04-27 18:02:36,280] simulation time 9.9 s\n"
          ]
        },
        {
          "name": "stdout",
          "output_type": "stream",
          "text": [
            "nP =  286    nV =  21     reward= 106.8885505050505 revenue 191.83732 revenue/max_revenue 0.07266565151515152    nP/params.nP= 0.143    nV/params.nV= 0.105\n",
            "mean reward so far: 154.64332888407887\n",
            "mean revenue so far: 711.9394504761904\n",
            "Day =  253\n",
            "comm_rate =  0.05\n"
          ]
        },
        {
          "name": "stderr",
          "output_type": "stream",
          "text": [
            "[2023-04-27 18:02:52,439] simulation time 10.5 s\n"
          ]
        },
        {
          "name": "stdout",
          "output_type": "stream",
          "text": [
            "nP =  286    nV =  27     reward= 104.93803535353535 revenue 97.18924000000001 revenue/max_revenue 0.03681410606060607    nP/params.nP= 0.143    nV/params.nV= 0.135\n",
            "mean reward so far: 154.45457481933965\n",
            "mean revenue so far: 709.8837108300396\n",
            "Day =  254\n",
            "comm_rate =  0\n"
          ]
        },
        {
          "name": "stderr",
          "output_type": "stream",
          "text": [
            "[2023-04-27 18:03:08,865] simulation time 10.8 s\n"
          ]
        },
        {
          "name": "stdout",
          "output_type": "stream",
          "text": [
            "nP =  288    nV =  20     reward= 81.33333333333334 revenue 0.0 revenue/max_revenue 0.0    nP/params.nP= 0.144    nV/params.nV= 0.1\n",
            "mean reward so far: 154.25962781356876\n",
            "mean revenue so far: 707.4715278740158\n",
            "Day =  255\n",
            "comm_rate =  0.05\n"
          ]
        },
        {
          "name": "stderr",
          "output_type": "stream",
          "text": [
            "[2023-04-27 18:03:25,152] simulation time 10.6 s\n"
          ]
        },
        {
          "name": "stdout",
          "output_type": "stream",
          "text": [
            "nP =  285    nV =  22     reward= 96.57203787878788 revenue 98.25054 revenue/max_revenue 0.03721611363636364    nP/params.nP= 0.1425    nV/params.nV= 0.11\n",
            "mean reward so far: 153.97364234501882\n",
            "mean revenue so far: 704.6971297254902\n",
            "Day =  256\n",
            "comm_rate =  0.05\n"
          ]
        },
        {
          "name": "stderr",
          "output_type": "stream",
          "text": [
            "[2023-04-27 18:03:41,330] simulation time 10.5 s\n"
          ]
        },
        {
          "name": "stdout",
          "output_type": "stream",
          "text": [
            "nP =  265    nV =  27     reward= 101.75839393939394 revenue 99.72648 revenue/max_revenue 0.03777518181818182    nP/params.nP= 0.1325    nV/params.nV= 0.135\n",
            "mean reward so far: 153.7494173275726\n",
            "mean revenue so far: 702.3281977343751\n",
            "Day =  257\n",
            "comm_rate =  0\n"
          ]
        },
        {
          "name": "stderr",
          "output_type": "stream",
          "text": [
            "[2023-04-27 18:03:57,091] simulation time 10.1 s\n"
          ]
        },
        {
          "name": "stdout",
          "output_type": "stream",
          "text": [
            "nP =  291    nV =  26     reward= 91.83333333333333 revenue 0.0 revenue/max_revenue 0.0    nP/params.nP= 0.1455    nV/params.nV= 0.13\n",
            "mean reward so far: 153.54711762567305\n",
            "mean revenue so far: 699.9834439688716\n",
            "Day =  258\n",
            "comm_rate =  0\n"
          ]
        },
        {
          "name": "stderr",
          "output_type": "stream",
          "text": [
            "[2023-04-27 18:04:12,979] simulation time 10.7 s\n"
          ]
        },
        {
          "name": "stdout",
          "output_type": "stream",
          "text": [
            "nP =  293    nV =  25     reward= 90.49999999999999 revenue 0.0 revenue/max_revenue 0.0    nP/params.nP= 0.1465    nV/params.nV= 0.125\n",
            "mean reward so far: 153.30791691136164\n",
            "mean revenue so far: 697.2703298449612\n",
            "Day =  259\n",
            "comm_rate =  0\n"
          ]
        },
        {
          "name": "stderr",
          "output_type": "stream",
          "text": [
            "[2023-04-27 18:04:29,990] simulation time 11.2 s\n"
          ]
        },
        {
          "name": "stdout",
          "output_type": "stream",
          "text": [
            "nP =  293    nV =  27     reward= 93.83333333333333 revenue 0.0 revenue/max_revenue 0.0    nP/params.nP= 0.1465    nV/params.nV= 0.135\n",
            "mean reward so far: 153.06541530166527\n",
            "mean revenue so far: 694.5781664092664\n",
            "Day =  260\n",
            "comm_rate =  0.0\n"
          ]
        },
        {
          "name": "stderr",
          "output_type": "stream",
          "text": [
            "[2023-04-27 18:04:47,859] simulation time 11.8 s\n"
          ]
        },
        {
          "name": "stdout",
          "output_type": "stream",
          "text": [
            "nP =  294    nV =  25     reward= 90.66666666666666 revenue 0.0 revenue/max_revenue 0.0    nP/params.nP= 0.147    nV/params.nV= 0.125\n",
            "mean reward so far: 152.83759960178708\n",
            "mean revenue so far: 691.906711923077\n",
            "Day =  261\n",
            "comm_rate =  0\n"
          ]
        },
        {
          "name": "stderr",
          "output_type": "stream",
          "text": [
            "[2023-04-27 18:05:05,803] simulation time 11.9 s\n"
          ]
        },
        {
          "name": "stdout",
          "output_type": "stream",
          "text": [
            "nP =  309    nV =  25     reward= 93.16666666666664 revenue 0.0 revenue/max_revenue 0.0    nP/params.nP= 0.1545    nV/params.nV= 0.125\n",
            "mean reward so far: 152.59939679360653\n",
            "mean revenue so far: 689.2557283524905\n",
            "Day =  262\n",
            "comm_rate =  0\n"
          ]
        },
        {
          "name": "stderr",
          "output_type": "stream",
          "text": [
            "[2023-04-27 18:05:23,912] simulation time 12.0 s\n"
          ]
        },
        {
          "name": "stdout",
          "output_type": "stream",
          "text": [
            "nP =  308    nV =  29     reward= 99.66666666666666 revenue 0.0 revenue/max_revenue 0.0    nP/params.nP= 0.154    nV/params.nV= 0.145\n",
            "mean reward so far: 152.37255431220603\n",
            "mean revenue so far: 686.62498129771\n",
            "Day =  263\n",
            "comm_rate =  0.0\n"
          ]
        },
        {
          "name": "stderr",
          "output_type": "stream",
          "text": [
            "[2023-04-27 18:05:41,907] simulation time 12.0 s\n"
          ]
        },
        {
          "name": "stdout",
          "output_type": "stream",
          "text": [
            "nP =  280    nV =  36     reward= 106.66666666666666 revenue 0.0 revenue/max_revenue 0.0    nP/params.nP= 0.14    nV/params.nV= 0.18\n",
            "mean reward so far: 152.17215169758418\n",
            "mean revenue so far: 684.0142399239544\n",
            "Day =  264\n",
            "comm_rate =  0.0\n"
          ]
        },
        {
          "name": "stderr",
          "output_type": "stream",
          "text": [
            "[2023-04-27 18:05:59,088] simulation time 11.2 s\n"
          ]
        },
        {
          "name": "stdout",
          "output_type": "stream",
          "text": [
            "nP =  292    nV =  30     reward= 98.66666666666667 revenue 0.0 revenue/max_revenue 0.0    nP/params.nP= 0.146    nV/params.nV= 0.15\n",
            "mean reward so far: 151.99978243610346\n",
            "mean revenue so far: 681.4232768939394\n",
            "Day =  265\n",
            "comm_rate =  0.0\n"
          ]
        },
        {
          "name": "stderr",
          "output_type": "stream",
          "text": [
            "[2023-04-27 18:06:16,807] simulation time 11.6 s\n"
          ]
        },
        {
          "name": "stdout",
          "output_type": "stream",
          "text": [
            "nP =  324    nV =  31     reward= 105.66666666666666 revenue 0.0 revenue/max_revenue 0.0    nP/params.nP= 0.162    nV/params.nV= 0.155\n",
            "mean reward so far: 151.79852539546405\n",
            "mean revenue so far: 678.8518683018868\n",
            "Day =  266\n",
            "comm_rate =  0\n"
          ]
        },
        {
          "name": "stderr",
          "output_type": "stream",
          "text": [
            "[2023-04-27 18:06:35,339] simulation time 12.5 s\n"
          ]
        },
        {
          "name": "stdout",
          "output_type": "stream",
          "text": [
            "nP =  306    nV =  33     reward= 106.0 revenue 0.0 revenue/max_revenue 0.0    nP/params.nP= 0.153    nV/params.nV= 0.165\n",
            "mean reward so far: 151.62509735513024\n",
            "mean revenue so far: 676.2997936090226\n",
            "Day =  267\n",
            "comm_rate =  0\n"
          ]
        },
        {
          "name": "stderr",
          "output_type": "stream",
          "text": [
            "[2023-04-27 18:06:53,507] simulation time 12.0 s\n"
          ]
        },
        {
          "name": "stdout",
          "output_type": "stream",
          "text": [
            "nP =  304    nV =  30     reward= 100.66666666666667 revenue 0.0 revenue/max_revenue 0.0    nP/params.nP= 0.152    nV/params.nV= 0.15\n",
            "mean reward so far: 151.45421684069154\n",
            "mean revenue so far: 673.7668355805243\n",
            "Day =  268\n",
            "comm_rate =  0.0\n"
          ]
        },
        {
          "name": "stderr",
          "output_type": "stream",
          "text": [
            "[2023-04-27 18:07:11,522] simulation time 11.9 s\n"
          ]
        },
        {
          "name": "stdout",
          "output_type": "stream",
          "text": [
            "nP =  307    nV =  34     reward= 107.83333333333334 revenue 0.0 revenue/max_revenue 0.0    nP/params.nP= 0.1535    nV/params.nV= 0.17\n",
            "mean reward so far: 151.2647110564601\n",
            "mean revenue so far: 671.2527802238806\n",
            "Day =  269\n",
            "comm_rate =  0\n"
          ]
        },
        {
          "name": "stderr",
          "output_type": "stream",
          "text": [
            "[2023-04-27 18:07:29,116] simulation time 12.0 s\n"
          ]
        },
        {
          "name": "stdout",
          "output_type": "stream",
          "text": [
            "nP =  348    nV =  33     reward= 113.0 revenue 0.0 revenue/max_revenue 0.0    nP/params.nP= 0.174    nV/params.nV= 0.165\n",
            "mean reward so far: 151.1032561206864\n",
            "mean revenue so far: 668.7574167286245\n",
            "Day =  270\n",
            "comm_rate =  0.05\n"
          ]
        },
        {
          "name": "stderr",
          "output_type": "stream",
          "text": [
            "[2023-04-27 18:07:48,383] simulation time 13.2 s\n"
          ]
        },
        {
          "name": "stdout",
          "output_type": "stream",
          "text": [
            "nP =  317    nV =  31     reward= 119.02769696969695 revenue 115.05936 revenue/max_revenue 0.04358309090909091    nP/params.nP= 0.1585    nV/params.nV= 0.155\n",
            "mean reward so far: 150.96213294986904\n",
            "mean revenue so far: 666.2805374074075\n",
            "Day =  271\n",
            "comm_rate =  0.1\n"
          ]
        },
        {
          "name": "stderr",
          "output_type": "stream",
          "text": [
            "[2023-04-27 18:08:06,690] simulation time 12.2 s\n"
          ]
        },
        {
          "name": "stdout",
          "output_type": "stream",
          "text": [
            "nP =  306    nV =  45     reward= 152.03785353535355 revenue 206.2198 revenue/max_revenue 0.0781135606060606    nP/params.nP= 0.153    nV/params.nV= 0.225\n",
            "mean reward so far: 150.84429370270976\n",
            "mean revenue so far: 664.2465109225092\n",
            "Day =  272\n",
            "comm_rate =  0.15\n"
          ]
        },
        {
          "name": "stderr",
          "output_type": "stream",
          "text": [
            "[2023-04-27 18:08:24,689] simulation time 11.9 s\n"
          ]
        },
        {
          "name": "stdout",
          "output_type": "stream",
          "text": [
            "nP =  321    nV =  35     reward= 149.85696969696968 revenue 301.1472 revenue/max_revenue 0.11407090909090908    nP/params.nP= 0.1605    nV/params.nV= 0.175\n",
            "mean reward so far: 150.84868179032975\n",
            "mean revenue so far: 662.5625891911765\n",
            "Day =  273\n",
            "comm_rate =  0.1\n"
          ]
        },
        {
          "name": "stderr",
          "output_type": "stream",
          "text": [
            "[2023-04-27 18:08:43,090] simulation time 12.4 s\n"
          ]
        },
        {
          "name": "stdout",
          "output_type": "stream",
          "text": [
            "nP =  319    nV =  30     reward= 130.91698484848484 revenue 219.78251999999998 revenue/max_revenue 0.08325095454545453    nP/params.nP= 0.1595    nV/params.nV= 0.15\n",
            "mean reward so far: 150.84504914529916\n",
            "mean revenue so far: 661.2387232967033\n",
            "Day =  274\n",
            "comm_rate =  0.1\n"
          ]
        },
        {
          "name": "stderr",
          "output_type": "stream",
          "text": [
            "[2023-04-27 18:09:01,569] simulation time 12.4 s\n"
          ]
        },
        {
          "name": "stdout",
          "output_type": "stream",
          "text": [
            "nP =  322    nV =  23     reward= 117.87217676767675 revenue 204.90764 revenue/max_revenue 0.0776165303030303    nP/params.nP= 0.161    nV/params.nV= 0.115\n",
            "mean reward so far: 150.77231898363192\n",
            "mean revenue so far: 659.627569270073\n",
            "Day =  275\n",
            "comm_rate =  0.05\n"
          ]
        },
        {
          "name": "stderr",
          "output_type": "stream",
          "text": [
            "[2023-04-27 18:09:20,117] simulation time 12.5 s\n"
          ]
        },
        {
          "name": "stdout",
          "output_type": "stream",
          "text": [
            "nP =  314    nV =  32     reward= 119.81427777777778 revenue 112.04908 revenue/max_revenue 0.04244283333333333    nP/params.nP= 0.157    nV/params.nV= 0.16\n",
            "mean reward so far: 150.65268210284663\n",
            "mean revenue so far: 657.9740422545453\n",
            "Day =  276\n",
            "comm_rate =  0.1\n"
          ]
        },
        {
          "name": "stderr",
          "output_type": "stream",
          "text": [
            "[2023-04-27 18:09:38,573] simulation time 12.3 s\n"
          ]
        },
        {
          "name": "stdout",
          "output_type": "stream",
          "text": [
            "nP =  309    nV =  28     reward= 124.32661111111109 revenue 207.18676 revenue/max_revenue 0.07847983333333333    nP/params.nP= 0.1545    nV/params.nV= 0.14\n",
            "mean reward so far: 150.54094875384274\n",
            "mean revenue so far: 655.9960532608696\n",
            "Day =  277\n",
            "comm_rate =  0.05\n"
          ]
        },
        {
          "name": "stderr",
          "output_type": "stream",
          "text": [
            "[2023-04-27 18:09:56,699] simulation time 12.0 s\n"
          ]
        },
        {
          "name": "stdout",
          "output_type": "stream",
          "text": [
            "nP =  340    nV =  33     reward= 124.65332575757576 revenue 102.85434 revenue/max_revenue 0.03895997727272727    nP/params.nP= 0.17    nV/params.nV= 0.165\n",
            "mean reward so far: 150.44631215585457\n",
            "mean revenue so far: 654.3758031046932\n",
            "Day =  278\n",
            "comm_rate =  0\n"
          ]
        },
        {
          "name": "stderr",
          "output_type": "stream",
          "text": [
            "[2023-04-27 18:10:15,625] simulation time 12.8 s\n"
          ]
        },
        {
          "name": "stdout",
          "output_type": "stream",
          "text": [
            "nP =  335    nV =  37     reward= 117.5 revenue 0.0 revenue/max_revenue 0.0    nP/params.nP= 0.1675    nV/params.nV= 0.185\n",
            "mean reward so far: 150.35353162924204\n",
            "mean revenue so far: 652.3919129496402\n",
            "Day =  279\n",
            "comm_rate =  0.0\n"
          ]
        },
        {
          "name": "stderr",
          "output_type": "stream",
          "text": [
            "[2023-04-27 18:10:34,597] simulation time 12.8 s\n"
          ]
        },
        {
          "name": "stdout",
          "output_type": "stream",
          "text": [
            "nP =  331    nV =  40     reward= 121.83333333333331 revenue 0.0 revenue/max_revenue 0.0    nP/params.nP= 0.1655    nV/params.nV= 0.2\n",
            "mean reward so far: 150.23577703558885\n",
            "mean revenue so far: 650.0535906810035\n",
            "Day =  280\n",
            "comm_rate =  0\n"
          ]
        },
        {
          "name": "stderr",
          "output_type": "stream",
          "text": [
            "[2023-04-27 18:10:53,613] simulation time 13.4 s\n"
          ]
        },
        {
          "name": "stdout",
          "output_type": "stream",
          "text": [
            "nP =  338    nV =  36     reward= 116.33333333333331 revenue 0.0 revenue/max_revenue 0.0    nP/params.nP= 0.169    nV/params.nV= 0.18\n",
            "mean reward so far: 150.13433973665224\n",
            "mean revenue so far: 647.7319707142857\n",
            "Day =  281\n",
            "comm_rate =  0.0\n"
          ]
        },
        {
          "name": "stderr",
          "output_type": "stream",
          "text": [
            "[2023-04-27 18:11:12,188] simulation time 13.0 s\n"
          ]
        },
        {
          "name": "stdout",
          "output_type": "stream",
          "text": [
            "nP =  316    nV =  36     reward= 112.66666666666667 revenue 0.0 revenue/max_revenue 0.0    nP/params.nP= 0.158    nV/params.nV= 0.18\n",
            "mean reward so far: 150.01405145763684\n",
            "mean revenue so far: 645.426874733096\n",
            "Day =  282\n",
            "comm_rate =  0.05\n"
          ]
        },
        {
          "name": "stderr",
          "output_type": "stream",
          "text": [
            "[2023-04-27 18:11:30,569] simulation time 12.2 s\n"
          ]
        },
        {
          "name": "stdout",
          "output_type": "stream",
          "text": [
            "nP =  334    nV =  44     reward= 141.95000505050504 revenue 102.56404 revenue/max_revenue 0.038850015151515156    nP/params.nP= 0.167    nV/params.nV= 0.22\n",
            "mean reward so far: 149.8816139229171\n",
            "mean revenue so far: 643.1381269503545\n",
            "Day =  283\n",
            "comm_rate =  0.1\n"
          ]
        },
        {
          "name": "stderr",
          "output_type": "stream",
          "text": [
            "[2023-04-27 18:11:49,653] simulation time 13.0 s\n"
          ]
        },
        {
          "name": "stdout",
          "output_type": "stream",
          "text": [
            "nP =  326    nV =  33     reward= 138.0152828282828 revenue 227.16104 revenue/max_revenue 0.08604584848484849    nP/params.nP= 0.163    nV/params.nV= 0.165\n",
            "mean reward so far: 149.85358703644212\n",
            "mean revenue so far: 641.2279711660777\n",
            "Day =  284\n",
            "comm_rate =  0.1\n"
          ]
        },
        {
          "name": "stderr",
          "output_type": "stream",
          "text": [
            "[2023-04-27 18:12:08,355] simulation time 12.6 s\n"
          ]
        },
        {
          "name": "stdout",
          "output_type": "stream",
          "text": [
            "nP =  326    nV =  39     reward= 146.8189595959596 revenue 217.68616 revenue/max_revenue 0.08245687878787879    nP/params.nP= 0.163    nV/params.nV= 0.195\n",
            "mean reward so far: 149.81190286669508\n",
            "mean revenue so far: 639.7699890140844\n",
            "Day =  285\n",
            "comm_rate =  0.15\n"
          ]
        },
        {
          "name": "stderr",
          "output_type": "stream",
          "text": [
            "[2023-04-27 18:12:26,975] simulation time 12.5 s\n"
          ]
        },
        {
          "name": "stdout",
          "output_type": "stream",
          "text": [
            "nP =  341    nV =  37     reward= 159.73950757575756 revenue 326.6169 revenue/max_revenue 0.12371852272727273    nP/params.nP= 0.1705    nV/params.nV= 0.185\n",
            "mean reward so far: 149.80140131135917\n",
            "mean revenue so far: 638.2889931228071\n",
            "Day =  286\n",
            "comm_rate =  0.2\n"
          ]
        },
        {
          "name": "stderr",
          "output_type": "stream",
          "text": [
            "[2023-04-27 18:12:45,957] simulation time 12.9 s\n"
          ]
        },
        {
          "name": "stdout",
          "output_type": "stream",
          "text": [
            "nP =  357    nV =  35     reward= 175.8391313131313 revenue 459.40592000000004 revenue/max_revenue 0.17401739393939394    nP/params.nP= 0.1785    nV/params.nV= 0.175\n",
            "mean reward so far: 149.83614993466128\n",
            "mean revenue so far: 637.1992305594405\n",
            "Day =  287\n",
            "comm_rate =  0.25\n"
          ]
        },
        {
          "name": "stderr",
          "output_type": "stream",
          "text": [
            "[2023-04-27 18:13:05,372] simulation time 13.3 s\n"
          ]
        },
        {
          "name": "stdout",
          "output_type": "stream",
          "text": [
            "nP =  332    nV =  30     reward= 180.49950757575755 revenue 595.3161 revenue/max_revenue 0.22549852272727272    nP/params.nP= 0.166    nV/params.nV= 0.15\n",
            "mean reward so far: 149.92675265723435\n",
            "mean revenue so far: 636.5797416724738\n",
            "Day =  288\n",
            "comm_rate =  0.25\n"
          ]
        },
        {
          "name": "stderr",
          "output_type": "stream",
          "text": [
            "[2023-04-27 18:13:24,221] simulation time 12.7 s\n"
          ]
        },
        {
          "name": "stdout",
          "output_type": "stream",
          "text": [
            "nP =  315    nV =  29     reward= 171.47819444444445 revenue 559.5073 revenue/max_revenue 0.21193458333333332    nP/params.nP= 0.1575    nV/params.nV= 0.145\n",
            "mean reward so far: 150.03290805625704\n",
            "mean revenue so far: 636.4364651388889\n",
            "Day =  289\n",
            "comm_rate =  0.2\n"
          ]
        },
        {
          "name": "stderr",
          "output_type": "stream",
          "text": [
            "[2023-04-27 18:13:42,135] simulation time 12.3 s\n"
          ]
        },
        {
          "name": "stdout",
          "output_type": "stream",
          "text": [
            "nP =  348    nV =  37     reward= 172.11700000000002 revenue 415.40664000000004 revenue/max_revenue 0.15735100000000002    nP/params.nP= 0.174    nV/params.nV= 0.185\n",
            "mean reward so far: 150.10711319946873\n",
            "mean revenue so far: 636.1702742560553\n",
            "Day =  290\n",
            "comm_rate =  0.2\n"
          ]
        },
        {
          "name": "stderr",
          "output_type": "stream",
          "text": [
            "[2023-04-27 18:14:01,508] simulation time 13.3 s\n"
          ]
        },
        {
          "name": "stdout",
          "output_type": "stream",
          "text": [
            "nP =  355    nV =  20     reward= 148.99978787878786 revenue 447.47832000000005 revenue/max_revenue 0.16949936363636367    nP/params.nP= 0.1775    nV/params.nV= 0.1\n",
            "mean reward so far: 150.18300936084987\n",
            "mean revenue so far: 635.4090203448276\n",
            "Day =  291\n",
            "comm_rate =  0.2\n"
          ]
        },
        {
          "name": "stderr",
          "output_type": "stream",
          "text": [
            "[2023-04-27 18:14:20,832] simulation time 13.2 s\n"
          ]
        },
        {
          "name": "stdout",
          "output_type": "stream",
          "text": [
            "nP =  364    nV =  25     reward= 160.61217171717172 revenue 461.5684 revenue/max_revenue 0.17483651515151516    nP/params.nP= 0.182    nV/params.nV= 0.125\n",
            "mean reward so far: 150.17894330764693\n",
            "mean revenue so far: 634.7632103780069\n",
            "Day =  292\n",
            "comm_rate =  0.25\n"
          ]
        },
        {
          "name": "stderr",
          "output_type": "stream",
          "text": [
            "[2023-04-27 18:14:40,293] simulation time 13.4 s\n"
          ]
        },
        {
          "name": "stdout",
          "output_type": "stream",
          "text": [
            "nP =  333    nV =  33     reward= 186.18157828282827 revenue 599.3981 revenue/max_revenue 0.22704473484848484    nP/params.nP= 0.1665    nV/params.nV= 0.165\n",
            "mean reward so far: 150.21467354192612\n",
            "mean revenue so far: 634.1700774657535\n",
            "Day =  293\n",
            "comm_rate =  0.25\n"
          ]
        },
        {
          "name": "stderr",
          "output_type": "stream",
          "text": [
            "[2023-04-27 18:14:59,177] simulation time 12.8 s\n"
          ]
        },
        {
          "name": "stdout",
          "output_type": "stream",
          "text": [
            "nP =  356    nV =  36     reward= 189.46928030303027 revenue 555.4766999999999 revenue/max_revenue 0.2104078409090909    nP/params.nP= 0.178    nV/params.nV= 0.18\n",
            "mean reward so far: 150.33742748302134\n",
            "mean revenue so far: 634.051401774744\n",
            "Day =  294\n",
            "comm_rate =  0.25\n"
          ]
        },
        {
          "name": "stderr",
          "output_type": "stream",
          "text": [
            "[2023-04-27 18:15:18,640] simulation time 13.3 s\n"
          ]
        },
        {
          "name": "stdout",
          "output_type": "stream",
          "text": [
            "nP =  330    nV =  27     reward= 174.39118686868687 revenue 589.1782000000001 revenue/max_revenue 0.22317356060606064    nP/params.nP= 0.165    nV/params.nV= 0.135\n",
            "mean reward so far: 150.47052902322545\n",
            "mean revenue so far: 633.7841408843537\n",
            "Day =  295\n",
            "comm_rate =  0.3\n"
          ]
        },
        {
          "name": "stderr",
          "output_type": "stream",
          "text": [
            "[2023-04-27 18:15:37,099] simulation time 12.9 s\n"
          ]
        },
        {
          "name": "stdout",
          "output_type": "stream",
          "text": [
            "nP =  355    nV =  32     reward= 195.1416818181818 revenue 654.5221199999999 revenue/max_revenue 0.2479250454545454    nP/params.nP= 0.1775    nV/params.nV= 0.16\n",
            "mean reward so far: 150.55161599897278\n",
            "mean revenue so far: 633.6329343050847\n",
            "Day =  296\n",
            "comm_rate =  0.35\n"
          ]
        },
        {
          "name": "stderr",
          "output_type": "stream",
          "text": [
            "[2023-04-27 18:15:56,349] simulation time 13.2 s\n"
          ]
        },
        {
          "name": "stdout",
          "output_type": "stream",
          "text": [
            "nP =  353    nV =  31     reward= 212.487702020202 revenue 807.7425999999998 revenue/max_revenue 0.305963106060606    nP/params.nP= 0.1765    nV/params.nV= 0.155\n",
            "mean reward so far: 150.70225811322686\n",
            "mean revenue so far: 633.7035058783785\n",
            "Day =  297\n",
            "comm_rate =  0.4\n"
          ]
        },
        {
          "name": "stderr",
          "output_type": "stream",
          "text": [
            "[2023-04-27 18:16:15,859] simulation time 13.3 s\n"
          ]
        },
        {
          "name": "stdout",
          "output_type": "stream",
          "text": [
            "nP =  372    nV =  29     reward= 227.0589898989899 revenue 924.4672 revenue/max_revenue 0.3501769696969697    nP/params.nP= 0.186    nV/params.nV= 0.145\n",
            "mean reward so far: 150.91028991089345\n",
            "mean revenue so far: 634.2894960942762\n",
            "Day =  298\n",
            "comm_rate =  0.45\n"
          ]
        },
        {
          "name": "stderr",
          "output_type": "stream",
          "text": [
            "[2023-04-27 18:16:35,561] simulation time 13.6 s\n"
          ]
        },
        {
          "name": "stdout",
          "output_type": "stream",
          "text": [
            "nP =  359    nV =  24     reward= 240.36608333333334 revenue 1113.0193800000002 revenue/max_revenue 0.42159825000000006    nP/params.nP= 0.1795    nV/params.nV= 0.12\n",
            "mean reward so far: 151.16582246118907\n",
            "mean revenue so far: 635.2632467785236\n",
            "Day =  299\n",
            "comm_rate =  0.45\n"
          ]
        },
        {
          "name": "stderr",
          "output_type": "stream",
          "text": [
            "[2023-04-27 18:16:55,067] simulation time 13.4 s\n"
          ]
        },
        {
          "name": "stdout",
          "output_type": "stream",
          "text": [
            "nP =  375    nV =  20     reward= 232.43051515151512 revenue 1081.84968 revenue/max_revenue 0.4097915454545455    nP/params.nP= 0.1875    nV/params.nV= 0.1\n",
            "mean reward so far: 151.4641510928685\n",
            "mean revenue so far: 636.8610933779264\n",
            "Day =  300\n",
            "comm_rate =  0.5\n"
          ]
        },
        {
          "name": "stderr",
          "output_type": "stream",
          "text": [
            "[2023-04-27 18:17:14,756] simulation time 13.5 s\n"
          ]
        },
        {
          "name": "stdout",
          "output_type": "stream",
          "text": [
            "nP =  379    nV =  21     reward= 255.2835606060606 revenue 1244.3658 revenue/max_revenue 0.47135068181818185    nP/params.nP= 0.1895    nV/params.nV= 0.105\n",
            "mean reward so far: 151.73403897306397\n",
            "mean revenue so far: 638.3443886666668\n",
            "Day =  301\n",
            "comm_rate =  0.45\n"
          ]
        },
        {
          "name": "stderr",
          "output_type": "stream",
          "text": [
            "[2023-04-27 18:17:34,112] simulation time 13.7 s\n"
          ]
        },
        {
          "name": "stdout",
          "output_type": "stream",
          "text": [
            "nP =  361    nV =  20     reward= 236.97334090909092 revenue 1136.30886 revenue/max_revenue 0.43042002272727276    nP/params.nP= 0.1805    nV/params.nV= 0.1\n",
            "mean reward so far: 152.07805731735965\n",
            "mean revenue so far: 640.3577488372092\n",
            "Day =  302\n",
            "comm_rate =  0.4\n"
          ]
        },
        {
          "name": "stderr",
          "output_type": "stream",
          "text": [
            "[2023-04-27 18:17:53,292] simulation time 13.1 s\n"
          ]
        },
        {
          "name": "stdout",
          "output_type": "stream",
          "text": [
            "nP =  345    nV =  34     reward= 233.58440404040402 revenue 945.7884799999999 revenue/max_revenue 0.3582532121212121    nP/params.nP= 0.1725    nV/params.nV= 0.17\n",
            "mean reward so far: 152.3591675279283\n",
            "mean revenue so far: 641.9999710596027\n",
            "Day =  303\n",
            "comm_rate =  0.4\n"
          ]
        },
        {
          "name": "stderr",
          "output_type": "stream",
          "text": [
            "[2023-04-27 18:18:12,455] simulation time 13.1 s\n"
          ]
        },
        {
          "name": "stdout",
          "output_type": "stream",
          "text": [
            "nP =  342    nV =  27     reward= 217.91254545454547 revenue 918.02736 revenue/max_revenue 0.34773763636363636    nP/params.nP= 0.171    nV/params.nV= 0.135\n",
            "mean reward so far: 152.62723761542821\n",
            "mean revenue so far: 643.0025733993399\n",
            "Day =  304\n",
            "comm_rate =  0.4\n"
          ]
        },
        {
          "name": "stderr",
          "output_type": "stream",
          "text": [
            "[2023-04-27 18:18:31,540] simulation time 13.0 s\n"
          ]
        },
        {
          "name": "stdout",
          "output_type": "stream",
          "text": [
            "nP =  384    nV =  23     reward= 215.85175757575755 revenue 899.06592 revenue/max_revenue 0.3405552727272727    nP/params.nP= 0.192    nV/params.nV= 0.115\n",
            "mean reward so far: 152.84199191753055\n",
            "mean revenue so far: 643.9072601973685\n",
            "Day =  305\n",
            "comm_rate =  0.35\n"
          ]
        },
        {
          "name": "stderr",
          "output_type": "stream",
          "text": [
            "[2023-04-27 18:18:51,587] simulation time 13.9 s\n"
          ]
        },
        {
          "name": "stdout",
          "output_type": "stream",
          "text": [
            "nP =  349    nV =  23     reward= 206.56004545454542 revenue 871.6755599999999 revenue/max_revenue 0.3301801363636363    nP/params.nP= 0.1745    nV/params.nV= 0.115\n",
            "mean reward so far: 153.0485813131313\n",
            "mean revenue so far: 644.7438459672131\n",
            "Day =  306\n",
            "comm_rate =  0.3\n"
          ]
        },
        {
          "name": "stderr",
          "output_type": "stream",
          "text": [
            "[2023-04-27 18:19:10,579] simulation time 12.9 s\n"
          ]
        },
        {
          "name": "stdout",
          "output_type": "stream",
          "text": [
            "nP =  380    nV =  26     reward= 193.26760606060606 revenue 685.8794399999999 revenue/max_revenue 0.25980281818181816    nP/params.nP= 0.19    nV/params.nV= 0.13\n",
            "mean reward so far: 153.2234553789529\n",
            "mean revenue so far: 645.485452875817\n",
            "Day =  307\n",
            "comm_rate =  0.3\n"
          ]
        },
        {
          "name": "stderr",
          "output_type": "stream",
          "text": [
            "[2023-04-27 18:19:29,957] simulation time 13.8 s\n"
          ]
        },
        {
          "name": "stdout",
          "output_type": "stream",
          "text": [
            "nP =  383    nV =  23     reward= 196.93645454545452 revenue 750.5767199999999 revenue/max_revenue 0.2843093636363636    nP/params.nP= 0.1915    nV/params.nV= 0.115\n",
            "mean reward so far: 153.35389235185733\n",
            "mean revenue so far: 645.6170293811075\n",
            "Day =  308\n",
            "comm_rate =  0.35\n"
          ]
        },
        {
          "name": "stderr",
          "output_type": "stream",
          "text": [
            "[2023-04-27 18:19:49,852] simulation time 13.7 s\n"
          ]
        },
        {
          "name": "stdout",
          "output_type": "stream",
          "text": [
            "nP =  383    nV =  18     reward= 206.30388888888888 revenue 890.7667999999999 revenue/max_revenue 0.3374116666666666    nP/params.nP= 0.1915    nV/params.nV= 0.09\n",
            "mean reward so far: 153.49539417716122\n",
            "mean revenue so far: 645.9578075974026\n",
            "Day =  309\n",
            "comm_rate =  0.4\n"
          ]
        },
        {
          "name": "stderr",
          "output_type": "stream",
          "text": [
            "[2023-04-27 18:20:09,645] simulation time 13.6 s\n"
          ]
        },
        {
          "name": "stdout",
          "output_type": "stream",
          "text": [
            "nP =  397    nV =  18     reward= 226.04656565656563 revenue 1028.6488000000002 revenue/max_revenue 0.389639696969697    nP/params.nP= 0.1985    nV/params.nV= 0.09\n",
            "mean reward so far: 153.66629545454546\n",
            "mean revenue so far: 646.7500697087379\n",
            "Day =  310\n",
            "comm_rate =  0.45\n"
          ]
        },
        {
          "name": "stderr",
          "output_type": "stream",
          "text": [
            "[2023-04-27 18:20:29,551] simulation time 13.8 s\n"
          ]
        },
        {
          "name": "stdout",
          "output_type": "stream",
          "text": [
            "nP =  342    nV =  19     reward= 231.84812121212119 revenue 1133.99712 revenue/max_revenue 0.4295443636363636    nP/params.nP= 0.171    nV/params.nV= 0.095\n",
            "mean reward so far: 153.8997801971326\n",
            "mean revenue so far: 647.9820010967742\n",
            "Day =  311\n",
            "comm_rate =  0.45\n"
          ]
        },
        {
          "name": "stderr",
          "output_type": "stream",
          "text": [
            "[2023-04-27 18:20:48,515] simulation time 12.8 s\n"
          ]
        },
        {
          "name": "stdout",
          "output_type": "stream",
          "text": [
            "nP =  387    nV =  21     reward= 224.14863636363637 revenue 987.2172 revenue/max_revenue 0.37394590909090913    nP/params.nP= 0.1935    nV/params.nV= 0.105\n",
            "mean reward so far: 154.15041794959237\n",
            "mean revenue so far: 649.5447506752413\n",
            "Day =  312\n",
            "comm_rate =  0.45\n"
          ]
        },
        {
          "name": "stderr",
          "output_type": "stream",
          "text": [
            "[2023-04-27 18:21:08,099] simulation time 13.9 s\n"
          ]
        },
        {
          "name": "stdout",
          "output_type": "stream",
          "text": [
            "nP =  364    nV =  25     reward= 243.42203787878788 revenue 1117.42254 revenue/max_revenue 0.42326611363636363    nP/params.nP= 0.182    nV/params.nV= 0.125\n",
            "mean reward so far: 154.37477121373993\n",
            "mean revenue so far: 650.6270341666667\n",
            "Day =  313\n",
            "comm_rate =  0.4\n"
          ]
        },
        {
          "name": "stderr",
          "output_type": "stream",
          "text": [
            "[2023-04-27 18:21:27,851] simulation time 13.6 s\n"
          ]
        },
        {
          "name": "stdout",
          "output_type": "stream",
          "text": [
            "nP =  355    nV =  17     reward= 212.9079797979798 revenue 993.2312000000002 revenue/max_revenue 0.37622393939393944    nP/params.nP= 0.1775    nV/params.nV= 0.085\n",
            "mean reward so far: 154.65926727337268\n",
            "mean revenue so far: 652.1183936102236\n",
            "Day =  314\n",
            "comm_rate =  0.4\n"
          ]
        },
        {
          "name": "stderr",
          "output_type": "stream",
          "text": [
            "[2023-04-27 18:21:46,806] simulation time 12.8 s\n"
          ]
        },
        {
          "name": "stdout",
          "output_type": "stream",
          "text": [
            "nP =  376    nV =  15     reward= 202.51252525252525 revenue 909.5792 revenue/max_revenue 0.34453757575757576    nP/params.nP= 0.188    nV/params.nV= 0.075\n",
            "mean reward so far: 154.8447727272727\n",
            "mean revenue so far: 653.2047401273886\n",
            "Day =  315\n",
            "comm_rate =  0.45\n"
          ]
        },
        {
          "name": "stderr",
          "output_type": "stream",
          "text": [
            "[2023-04-27 18:22:05,632] simulation time 12.7 s\n"
          ]
        },
        {
          "name": "stdout",
          "output_type": "stream",
          "text": [
            "nP =  385    nV =  13     reward= 227.32087878787883 revenue 1120.5813600000001 revenue/max_revenue 0.4244626363636364    nP/params.nP= 0.1925    nV/params.nV= 0.065\n",
            "mean reward so far: 154.99609892576558\n",
            "mean revenue so far: 654.0186273015873\n",
            "Day =  316\n",
            "comm_rate =  0.45\n"
          ]
        },
        {
          "name": "stderr",
          "output_type": "stream",
          "text": [
            "[2023-04-27 18:22:24,277] simulation time 12.5 s\n"
          ]
        },
        {
          "name": "stdout",
          "output_type": "stream",
          "text": [
            "nP =  389    nV =  15     reward= 231.93846969696966 revenue 1125.4726799999999 revenue/max_revenue 0.42631540909090904    nP/params.nP= 0.1945    nV/params.nV= 0.075\n",
            "mean reward so far: 155.2249748114052\n",
            "mean revenue so far: 655.4950916455697\n",
            "Day =  317\n",
            "comm_rate =  0.4\n"
          ]
        },
        {
          "name": "stderr",
          "output_type": "stream",
          "text": [
            "[2023-04-27 18:22:43,424] simulation time 13.5 s\n"
          ]
        },
        {
          "name": "stdout",
          "output_type": "stream",
          "text": [
            "nP =  358    nV =  16     reward= 216.5097777777778 revenue 1030.99744 revenue/max_revenue 0.3905293333333334    nP/params.nP= 0.179    nV/params.nV= 0.08\n",
            "mean reward so far: 155.46697321798422\n",
            "mean revenue so far: 656.9776707886435\n",
            "Day =  318\n",
            "comm_rate =  0.35\n"
          ]
        },
        {
          "name": "stderr",
          "output_type": "stream",
          "text": [
            "[2023-04-27 18:23:01,702] simulation time 12.6 s\n"
          ]
        },
        {
          "name": "stdout",
          "output_type": "stream",
          "text": [
            "nP =  340    nV =  27     reward= 204.8979823232323 revenue 817.5920199999998 revenue/max_revenue 0.3096939469696969    nP/params.nP= 0.17    nV/params.nV= 0.135\n",
            "mean reward so far: 155.65893172288926\n",
            "mean revenue so far: 658.1538335849058\n",
            "Day =  319\n",
            "comm_rate =  0.3\n"
          ]
        },
        {
          "name": "stderr",
          "output_type": "stream",
          "text": [
            "[2023-04-27 18:23:20,852] simulation time 12.9 s\n"
          ]
        },
        {
          "name": "stdout",
          "output_type": "stream",
          "text": [
            "nP =  376    nV =  15     reward= 171.9836515151515 revenue 667.79052 revenue/max_revenue 0.2529509545454546    nP/params.nP= 0.188    nV/params.nV= 0.075\n",
            "mean reward so far: 155.81328611348593\n",
            "mean revenue so far: 658.6536398119123\n",
            "Day =  320\n",
            "comm_rate =  0.25\n"
          ]
        },
        {
          "name": "stderr",
          "output_type": "stream",
          "text": [
            "[2023-04-27 18:23:39,583] simulation time 12.6 s\n"
          ]
        },
        {
          "name": "stdout",
          "output_type": "stream",
          "text": [
            "nP =  376    nV =  14     reward= 167.72146464646465 revenue 647.234 revenue/max_revenue 0.24516439393939396    nP/params.nP= 0.188    nV/params.nV= 0.07\n",
            "mean reward so far: 155.86381850536614\n",
            "mean revenue so far: 658.6821925625001\n",
            "Day =  321\n",
            "comm_rate =  0.2\n"
          ]
        },
        {
          "name": "stderr",
          "output_type": "stream",
          "text": [
            "[2023-04-27 18:23:58,172] simulation time 12.4 s\n"
          ]
        },
        {
          "name": "stdout",
          "output_type": "stream",
          "text": [
            "nP =  351    nV =  24     reward= 160.06529292929295 revenue 487.59712 revenue/max_revenue 0.1846958787878788    nP/params.nP= 0.1755    nV/params.nV= 0.12\n",
            "mean reward so far: 155.90075821297083\n",
            "mean revenue so far: 658.646528411215\n",
            "Day =  322\n",
            "comm_rate =  0.25\n"
          ]
        },
        {
          "name": "stderr",
          "output_type": "stream",
          "text": [
            "[2023-04-27 18:24:17,006] simulation time 13.1 s\n"
          ]
        },
        {
          "name": "stdout",
          "output_type": "stream",
          "text": [
            "nP =  342    nV =  14     reward= 154.01670454545453 revenue 583.5723 revenue/max_revenue 0.22105011363636365    nP/params.nP= 0.171    nV/params.nV= 0.07\n",
            "mean reward so far: 155.91369155059914\n",
            "mean revenue so far: 658.115319068323\n",
            "Day =  323\n",
            "comm_rate =  0.2\n"
          ]
        },
        {
          "name": "stderr",
          "output_type": "stream",
          "text": [
            "[2023-04-27 18:24:35,134] simulation time 11.9 s\n"
          ]
        },
        {
          "name": "stdout",
          "output_type": "stream",
          "text": [
            "nP =  348    nV =  22     reward= 151.7889393939394 revenue 452.40840000000003 revenue/max_revenue 0.1713668181818182    nP/params.nP= 0.174    nV/params.nV= 0.11\n",
            "mean reward so far: 155.9078185258154\n",
            "mean revenue so far: 657.8845357275542\n",
            "Day =  324\n",
            "comm_rate =  0.15\n"
          ]
        },
        {
          "name": "stderr",
          "output_type": "stream",
          "text": [
            "[2023-04-27 18:24:54,422] simulation time 13.1 s\n"
          ]
        },
        {
          "name": "stdout",
          "output_type": "stream",
          "text": [
            "nP =  351    nV =  22     reward= 138.07232575757578 revenue 339.81282 revenue/max_revenue 0.12871697727272727    nP/params.nP= 0.1755    nV/params.nV= 0.11\n",
            "mean reward so far: 155.89510593590222\n",
            "mean revenue so far: 657.2503501234568\n",
            "Day =  325\n",
            "comm_rate =  0.2\n"
          ]
        },
        {
          "name": "stderr",
          "output_type": "stream",
          "text": [
            "[2023-04-27 18:25:13,550] simulation time 13.0 s\n"
          ]
        },
        {
          "name": "stdout",
          "output_type": "stream",
          "text": [
            "nP =  366    nV =  21     reward= 154.61030303030304 revenue 464.1936 revenue/max_revenue 0.1758309090909091    nP/params.nP= 0.183    nV/params.nV= 0.105\n",
            "mean reward so far: 155.8402666122766\n",
            "mean revenue so far: 656.2736192615384\n",
            "Day =  326\n",
            "comm_rate =  0.15\n"
          ]
        },
        {
          "name": "stderr",
          "output_type": "stream",
          "text": [
            "[2023-04-27 18:25:33,211] simulation time 13.4 s\n"
          ]
        },
        {
          "name": "stdout",
          "output_type": "stream",
          "text": [
            "nP =  379    nV =  26     reward= 152.92631818181817 revenue 367.69643999999994 revenue/max_revenue 0.13927895454545453    nP/params.nP= 0.1895    nV/params.nV= 0.13\n",
            "mean reward so far: 155.83649371785336\n",
            "mean revenue so far: 655.6844167484663\n",
            "Day =  327\n",
            "comm_rate =  0.2\n"
          ]
        },
        {
          "name": "stderr",
          "output_type": "stream",
          "text": [
            "[2023-04-27 18:25:52,790] simulation time 14.0 s\n"
          ]
        },
        {
          "name": "stdout",
          "output_type": "stream",
          "text": [
            "nP =  357    nV =  26     reward= 167.08562626262625 revenue 508.87816 revenue/max_revenue 0.19275687878787878    nP/params.nP= 0.1785    nV/params.nV= 0.13\n",
            "mean reward so far: 155.82759409847714\n",
            "mean revenue so far: 654.8037195718654\n",
            "Day =  328\n",
            "comm_rate =  0.15\n"
          ]
        },
        {
          "name": "stderr",
          "output_type": "stream",
          "text": [
            "[2023-04-27 18:26:12,332] simulation time 13.3 s\n"
          ]
        },
        {
          "name": "stdout",
          "output_type": "stream",
          "text": [
            "nP =  352    nV =  19     reward= 135.68124242424238 revenue 359.15544 revenue/max_revenue 0.13604372727272726    nP/params.nP= 0.176    nV/params.nV= 0.095\n",
            "mean reward so far: 155.86191736727025\n",
            "mean revenue so far: 654.3588245731708\n",
            "Day =  329\n",
            "comm_rate =  0.1\n"
          ]
        },
        {
          "name": "stderr",
          "output_type": "stream",
          "text": [
            "[2023-04-27 18:26:31,544] simulation time 13.0 s\n"
          ]
        },
        {
          "name": "stdout",
          "output_type": "stream",
          "text": [
            "nP =  368    nV =  32     reward= 143.93599494949493 revenue 231.81308 revenue/max_revenue 0.08780798484848486    nP/params.nP= 0.184    nV/params.nV= 0.16\n",
            "mean reward so far: 155.80057792975342\n",
            "mean revenue so far: 653.4615498480243\n",
            "Day =  330\n",
            "comm_rate =  0.1\n"
          ]
        },
        {
          "name": "stderr",
          "output_type": "stream",
          "text": [
            "[2023-04-27 18:26:51,322] simulation time 13.6 s\n"
          ]
        },
        {
          "name": "stdout",
          "output_type": "stream",
          "text": [
            "nP =  349    nV =  30     reward= 138.2241717171717 revenue 238.05543999999998 revenue/max_revenue 0.09017251515151514    nP/params.nP= 0.1745    nV/params.nV= 0.15\n",
            "mean reward so far: 155.76462464799508\n",
            "mean revenue so far: 652.1838272121212\n",
            "Day =  331\n",
            "comm_rate =  0.1\n"
          ]
        },
        {
          "name": "stderr",
          "output_type": "stream",
          "text": [
            "[2023-04-27 18:27:10,589] simulation time 13.1 s\n"
          ]
        },
        {
          "name": "stdout",
          "output_type": "stream",
          "text": [
            "nP =  361    nV =  25     reward= 130.37552525252525 revenue 226.05416000000002 revenue/max_revenue 0.08562657575757576    nP/params.nP= 0.1805    nV/params.nV= 0.125\n",
            "mean reward so far: 155.71163234306812\n",
            "mean revenue so far: 650.9326840483384\n",
            "Day =  332\n",
            "comm_rate =  0.15\n"
          ]
        },
        {
          "name": "stderr",
          "output_type": "stream",
          "text": [
            "[2023-04-27 18:27:29,467] simulation time 13.3 s\n"
          ]
        },
        {
          "name": "stdout",
          "output_type": "stream",
          "text": [
            "nP =  374    nV =  26     reward= 150.64204545454544 revenue 356.2049999999999 revenue/max_revenue 0.13492613636363635    nP/params.nP= 0.187    nV/params.nV= 0.13\n",
            "mean reward so far: 155.6353187674942\n",
            "mean revenue so far: 649.6529294578313\n",
            "Day =  333\n",
            "comm_rate =  0.1\n"
          ]
        },
        {
          "name": "stderr",
          "output_type": "stream",
          "text": [
            "[2023-04-27 18:27:49,357] simulation time 13.7 s\n"
          ]
        },
        {
          "name": "stdout",
          "output_type": "stream",
          "text": [
            "nP =  391    nV =  26     reward= 139.95302020202018 revenue 249.10792000000004 revenue/max_revenue 0.09435906060606061    nP/params.nP= 0.1955    nV/params.nV= 0.13\n",
            "mean reward so far: 155.6203239527406\n",
            "mean revenue so far: 648.7717044444445\n",
            "Day =  334\n",
            "comm_rate =  0.15\n"
          ]
        },
        {
          "name": "stderr",
          "output_type": "stream",
          "text": [
            "[2023-04-27 18:28:09,697] simulation time 14.2 s\n"
          ]
        },
        {
          "name": "stdout",
          "output_type": "stream",
          "text": [
            "nP =  366    nV =  23     reward= 149.07391666666666 revenue 393.94542 revenue/max_revenue 0.14922175000000001    nP/params.nP= 0.183    nV/params.nV= 0.115\n",
            "mean reward so far: 155.57341585767858\n",
            "mean revenue so far: 647.5751062874252\n",
            "Day =  335\n",
            "comm_rate =  0.1\n"
          ]
        },
        {
          "name": "stderr",
          "output_type": "stream",
          "text": [
            "[2023-04-27 18:28:29,411] simulation time 13.5 s\n"
          ]
        },
        {
          "name": "stdout",
          "output_type": "stream",
          "text": [
            "nP =  381    nV =  27     reward= 139.655 revenue 246.7476 revenue/max_revenue 0.093465    nP/params.nP= 0.1905    nV/params.nV= 0.135\n",
            "mean reward so far: 155.55401436755614\n",
            "mean revenue so far: 646.8180027462687\n",
            "Day =  336\n",
            "comm_rate =  0.05\n"
          ]
        },
        {
          "name": "stderr",
          "output_type": "stream",
          "text": [
            "[2023-04-27 18:28:48,932] simulation time 13.9 s\n"
          ]
        },
        {
          "name": "stdout",
          "output_type": "stream",
          "text": [
            "nP =  341    nV =  29     reward= 120.92706060606059 revenue 124.82232 revenue/max_revenue 0.04728118181818182    nP/params.nP= 0.1705    nV/params.nV= 0.145\n",
            "mean reward so far: 155.50669587241458\n",
            "mean revenue so far: 645.6273170238095\n",
            "Day =  337\n",
            "comm_rate =  0\n"
          ]
        },
        {
          "name": "stderr",
          "output_type": "stream",
          "text": [
            "[2023-04-27 18:29:08,186] simulation time 13.0 s\n"
          ]
        },
        {
          "name": "stdout",
          "output_type": "stream",
          "text": [
            "nP =  385    nV =  28     reward= 110.83333333333333 revenue 0.0 revenue/max_revenue 0.0    nP/params.nP= 0.1925    nV/params.nV= 0.14\n",
            "mean reward so far: 155.4040856787459\n",
            "mean revenue so far: 644.0819016023738\n",
            "Day =  338\n",
            "comm_rate =  0.05\n"
          ]
        },
        {
          "name": "stderr",
          "output_type": "stream",
          "text": [
            "[2023-04-27 18:29:28,482] simulation time 14.1 s\n"
          ]
        },
        {
          "name": "stdout",
          "output_type": "stream",
          "text": [
            "nP =  368    nV =  33     reward= 132.50824747474746 revenue 128.10532 revenue/max_revenue 0.04852474242424243    nP/params.nP= 0.184    nV/params.nV= 0.165\n",
            "mean reward so far: 155.27221954754648\n",
            "mean revenue so far: 642.1763338461537\n",
            "Day =  339\n",
            "comm_rate =  0.05\n"
          ]
        },
        {
          "name": "stderr",
          "output_type": "stream",
          "text": [
            "[2023-04-27 18:29:48,375] simulation time 13.7 s\n"
          ]
        },
        {
          "name": "stdout",
          "output_type": "stream",
          "text": [
            "nP =  378    nV =  28     reward= 125.02478282828284 revenue 121.63628000000001 revenue/max_revenue 0.04607434848484849    nP/params.nP= 0.189    nV/params.nV= 0.14\n",
            "mean reward so far: 155.2050691874497\n",
            "mean revenue so far: 640.6599001769912\n",
            "Day =  340\n",
            "comm_rate =  0.1\n"
          ]
        },
        {
          "name": "stderr",
          "output_type": "stream",
          "text": [
            "[2023-04-27 18:30:07,897] simulation time 13.9 s\n"
          ]
        },
        {
          "name": "stdout",
          "output_type": "stream",
          "text": [
            "nP =  367    nV =  30     reward= 143.34595454545453 revenue 254.85996 revenue/max_revenue 0.09653786363636363    nP/params.nP= 0.1835    nV/params.nV= 0.15\n",
            "mean reward so far: 155.1163036393345\n",
            "mean revenue so far: 639.133360117647\n",
            "Day =  341\n",
            "comm_rate =  0.05\n"
          ]
        },
        {
          "name": "stderr",
          "output_type": "stream",
          "text": [
            "[2023-04-27 18:30:27,710] simulation time 13.6 s\n"
          ]
        },
        {
          "name": "stdout",
          "output_type": "stream",
          "text": [
            "nP =  393    nV =  34     reward= 137.69444444444446 revenue 122.98 revenue/max_revenue 0.04658333333333334    nP/params.nP= 0.1965    nV/params.nV= 0.17\n",
            "mean reward so far: 155.0817864865665\n",
            "mean revenue so far: 638.0064586510264\n",
            "Day =  342\n",
            "comm_rate =  0.1\n"
          ]
        },
        {
          "name": "stderr",
          "output_type": "stream",
          "text": [
            "[2023-04-27 18:30:48,162] simulation time 14.3 s\n"
          ]
        },
        {
          "name": "stdout",
          "output_type": "stream",
          "text": [
            "nP =  401    nV =  27     reward= 144.67518181818178 revenue 260.10744 revenue/max_revenue 0.09852554545454545    nP/params.nP= 0.2005    nV/params.nV= 0.135\n",
            "mean reward so far: 155.03094630515682\n",
            "mean revenue so far: 636.5005333333334\n",
            "Day =  343\n",
            "comm_rate =  0.1\n"
          ]
        },
        {
          "name": "stderr",
          "output_type": "stream",
          "text": [
            "[2023-04-27 18:31:08,790] simulation time 14.4 s\n"
          ]
        },
        {
          "name": "stdout",
          "output_type": "stream",
          "text": [
            "nP =  392    nV =  33     reward= 153.66521717171716 revenue 263.98852 revenue/max_revenue 0.09999565151515151    nP/params.nP= 0.196    nV/params.nV= 0.165\n",
            "mean reward so far: 155.00075457195865\n",
            "mean revenue so far: 635.4031773760933\n",
            "Day =  344\n",
            "comm_rate =  0.1\n"
          ]
        },
        {
          "name": "stderr",
          "output_type": "stream",
          "text": [
            "[2023-04-27 18:31:29,312] simulation time 14.9 s\n"
          ]
        },
        {
          "name": "stdout",
          "output_type": "stream",
          "text": [
            "nP =  376    nV =  42     reward= 165.57433838383838 revenue 260.62876 revenue/max_revenue 0.09872301515151514    nP/params.nP= 0.188    nV/params.nV= 0.21\n",
            "mean reward so far: 154.99687219579513\n",
            "mean revenue so far: 634.3234836046512\n",
            "Day =  345\n",
            "comm_rate =  0.1\n"
          ]
        },
        {
          "name": "stderr",
          "output_type": "stream",
          "text": [
            "[2023-04-27 18:31:48,982] simulation time 14.1 s\n"
          ]
        },
        {
          "name": "stdout",
          "output_type": "stream",
          "text": [
            "nP =  355    nV =  35     reward= 148.67508585858585 revenue 246.90668 revenue/max_revenue 0.09352525757575757    nP/params.nP= 0.1775    nV/params.nV= 0.175\n",
            "mean reward so far: 155.02753151807934\n",
            "mean revenue so far: 633.2403104927536\n",
            "Day =  346\n",
            "comm_rate =  0.05\n"
          ]
        },
        {
          "name": "stderr",
          "output_type": "stream",
          "text": [
            "[2023-04-27 18:32:08,340] simulation time 13.2 s\n"
          ]
        },
        {
          "name": "stdout",
          "output_type": "stream",
          "text": [
            "nP =  371    nV =  35     reward= 135.11612626262627 revenue 118.39972 revenue/max_revenue 0.04484837878787879    nP/params.nP= 0.1855    nV/params.nV= 0.175\n",
            "mean reward so far: 155.00917184854322\n",
            "mean revenue so far: 632.1237393063584\n",
            "Day =  347\n",
            "comm_rate =  0\n"
          ]
        },
        {
          "name": "stderr",
          "output_type": "stream",
          "text": [
            "[2023-04-27 18:32:28,311] simulation time 13.8 s\n"
          ]
        },
        {
          "name": "stdout",
          "output_type": "stream",
          "text": [
            "nP =  389    nV =  36     reward= 124.83333333333333 revenue 0.0 revenue/max_revenue 0.0    nP/params.nP= 0.1945    nV/params.nV= 0.18\n",
            "mean reward so far: 154.95184318691236\n",
            "mean revenue so far: 630.643266628242\n",
            "Day =  348\n",
            "comm_rate =  0.05\n"
          ]
        },
        {
          "name": "stderr",
          "output_type": "stream",
          "text": [
            "[2023-04-27 18:32:48,021] simulation time 14.1 s\n"
          ]
        },
        {
          "name": "stdout",
          "output_type": "stream",
          "text": [
            "nP =  399    nV =  42     reward= 152.9628282828283 revenue 130.3856 revenue/max_revenue 0.049388484848484855    nP/params.nP= 0.1995    nV/params.nV= 0.21\n",
            "mean reward so far: 154.86529574480434\n",
            "mean revenue so far: 628.8310733333333\n",
            "Day =  349\n",
            "comm_rate =  0\n"
          ]
        },
        {
          "name": "stderr",
          "output_type": "stream",
          "text": [
            "[2023-04-27 18:33:08,977] simulation time 14.7 s\n"
          ]
        },
        {
          "name": "stdout",
          "output_type": "stream",
          "text": [
            "nP =  397    nV =  27     reward= 111.16666666666664 revenue 0.0 revenue/max_revenue 0.0    nP/params.nP= 0.1985    nV/params.nV= 0.135\n",
            "mean reward so far: 154.85984454863825\n",
            "mean revenue so far: 627.402862808023\n",
            "Day =  350\n",
            "comm_rate =  0.0\n"
          ]
        },
        {
          "name": "stderr",
          "output_type": "stream",
          "text": [
            "[2023-04-27 18:33:29,676] simulation time 14.5 s\n"
          ]
        },
        {
          "name": "stdout",
          "output_type": "stream",
          "text": [
            "nP =  399    nV =  36     reward= 126.5 revenue 0.0 revenue/max_revenue 0.0    nP/params.nP= 0.1995    nV/params.nV= 0.18\n",
            "mean reward so far: 154.73500689754687\n",
            "mean revenue so far: 625.6102832\n",
            "Day =  351\n",
            "comm_rate =  0.0\n"
          ]
        },
        {
          "name": "stderr",
          "output_type": "stream",
          "text": [
            "[2023-04-27 18:33:50,318] simulation time 14.4 s\n"
          ]
        },
        {
          "name": "stdout",
          "output_type": "stream",
          "text": [
            "nP =  386    nV =  42     reward= 134.33333333333334 revenue 0.0 revenue/max_revenue 0.0    nP/params.nP= 0.193    nV/params.nV= 0.21\n",
            "mean reward so far: 154.65456528245414\n",
            "mean revenue so far: 623.8279177207978\n",
            "Day =  352\n",
            "comm_rate =  0.05\n"
          ]
        },
        {
          "name": "stderr",
          "output_type": "stream",
          "text": [
            "[2023-04-27 18:34:10,666] simulation time 14.1 s\n"
          ]
        },
        {
          "name": "stdout",
          "output_type": "stream",
          "text": [
            "nP =  410    nV =  37     reward= 145.9337904040404 revenue 126.19562 revenue/max_revenue 0.04780137121212121    nP/params.nP= 0.205    nV/params.nV= 0.185\n",
            "mean reward so far: 154.59683450987143\n",
            "mean revenue so far: 622.0556793181818\n",
            "Day =  353\n",
            "comm_rate =  0.1\n"
          ]
        },
        {
          "name": "stderr",
          "output_type": "stream",
          "text": [
            "[2023-04-27 18:34:31,102] simulation time 14.9 s\n"
          ]
        },
        {
          "name": "stdout",
          "output_type": "stream",
          "text": [
            "nP =  405    nV =  48     reward= 182.43886868686872 revenue 276.71584 revenue/max_revenue 0.10481660606060607    nP/params.nP= 0.2025    nV/params.nV= 0.24\n",
            "mean reward so far: 154.5722933084385\n",
            "mean revenue so far: 620.6509766005665\n",
            "Day =  354\n",
            "comm_rate =  0.1\n"
          ]
        },
        {
          "name": "stderr",
          "output_type": "stream",
          "text": [
            "[2023-04-27 18:34:52,380] simulation time 14.9 s\n"
          ]
        },
        {
          "name": "stdout",
          "output_type": "stream",
          "text": [
            "nP =  393    nV =  45     reward= 173.4101515151515 revenue 260.64840000000004 revenue/max_revenue 0.09873045454545457    nP/params.nP= 0.1965    nV/params.nV= 0.225\n",
            "mean reward so far: 154.65101244792558\n",
            "mean revenue so far: 619.679408418079\n",
            "Day =  355\n",
            "comm_rate =  0.1\n"
          ]
        },
        {
          "name": "stderr",
          "output_type": "stream",
          "text": [
            "[2023-04-27 18:35:13,155] simulation time 14.5 s\n"
          ]
        },
        {
          "name": "stdout",
          "output_type": "stream",
          "text": [
            "nP =  431    nV =  44     reward= 177.9707878787879 revenue 259.80864 revenue/max_revenue 0.09841236363636365    nP/params.nP= 0.2155    nV/params.nV= 0.22\n",
            "mean reward so far: 154.70385509318538\n",
            "mean revenue so far: 618.6680534647887\n",
            "Day =  356\n",
            "comm_rate =  0.15\n"
          ]
        },
        {
          "name": "stderr",
          "output_type": "stream",
          "text": [
            "[2023-04-27 18:35:34,994] simulation time 16.2 s\n"
          ]
        },
        {
          "name": "stdout",
          "output_type": "stream",
          "text": [
            "nP =  411    nV =  38     reward= 185.67779545454545 revenue 426.44813999999997 revenue/max_revenue 0.16153338636363634    nP/params.nP= 0.2055    nV/params.nV= 0.19\n",
            "mean reward so far: 154.76921164595393\n",
            "mean revenue so far: 617.6600214044943\n",
            "Day =  357\n",
            "comm_rate =  0.15\n"
          ]
        },
        {
          "name": "stderr",
          "output_type": "stream",
          "text": [
            "[2023-04-27 18:35:55,559] simulation time 14.9 s\n"
          ]
        },
        {
          "name": "stdout",
          "output_type": "stream",
          "text": [
            "nP =  425    nV =  42     reward= 191.38917424242425 revenue 400.40225999999996 revenue/max_revenue 0.1516675227272727    nP/params.nP= 0.2125    nV/params.nV= 0.21\n",
            "mean reward so far: 154.85579031208442\n",
            "mean revenue so far: 617.1244138935574\n",
            "Day =  358\n",
            "comm_rate =  0.1\n"
          ]
        },
        {
          "name": "stderr",
          "output_type": "stream",
          "text": [
            "[2023-04-27 18:36:17,253] simulation time 15.4 s\n"
          ]
        },
        {
          "name": "stdout",
          "output_type": "stream",
          "text": [
            "nP =  432    nV =  38     reward= 170.55562626262625 revenue 278.96056 revenue/max_revenue 0.10566687878787878    nP/params.nP= 0.216    nV/params.nV= 0.19\n",
            "mean reward so far: 154.95783887054907\n",
            "mean revenue so far: 616.5190447486033\n",
            "Day =  359\n",
            "comm_rate =  0.05\n"
          ]
        },
        {
          "name": "stderr",
          "output_type": "stream",
          "text": [
            "[2023-04-27 18:36:39,001] simulation time 15.4 s\n"
          ]
        },
        {
          "name": "stdout",
          "output_type": "stream",
          "text": [
            "nP =  411    nV =  47     reward= 165.07210606060607 revenue 144.45108 revenue/max_revenue 0.05471631818181818    nP/params.nP= 0.2055    nV/params.nV= 0.235\n",
            "mean reward so far: 155.001286746293\n",
            "mean revenue so far: 615.5787704178273\n",
            "Day =  360\n",
            "comm_rate =  0.05\n"
          ]
        },
        {
          "name": "stderr",
          "output_type": "stream",
          "text": [
            "[2023-04-27 18:37:00,508] simulation time 15.8 s\n"
          ]
        },
        {
          "name": "stdout",
          "output_type": "stream",
          "text": [
            "nP =  435    nV =  43     reward= 160.88782575757574 revenue 132.43158 revenue/max_revenue 0.05016347727272727    nP/params.nP= 0.2175    nV/params.nV= 0.215\n",
            "mean reward so far: 155.0292612443883\n",
            "mean revenue so far: 614.2700823888888\n",
            "Day =  361\n",
            "comm_rate =  0\n"
          ]
        },
        {
          "name": "stderr",
          "output_type": "stream",
          "text": [
            "[2023-04-27 18:37:21,812] simulation time 15.6 s\n"
          ]
        },
        {
          "name": "stdout",
          "output_type": "stream",
          "text": [
            "nP =  427    nV =  46     reward= 147.83333333333331 revenue 0.0 revenue/max_revenue 0.0    nP/params.nP= 0.2135    nV/params.nV= 0.23\n",
            "mean reward so far: 155.04548995495117\n",
            "mean revenue so far: 612.9353496952908\n",
            "Day =  362\n",
            "comm_rate =  0\n"
          ]
        },
        {
          "name": "stderr",
          "output_type": "stream",
          "text": [
            "[2023-04-27 18:37:43,515] simulation time 15.4 s\n"
          ]
        },
        {
          "name": "stdout",
          "output_type": "stream",
          "text": [
            "nP =  418    nV =  53     reward= 157.99999999999997 revenue 0.0 revenue/max_revenue 0.0    nP/params.nP= 0.209    nV/params.nV= 0.265\n",
            "mean reward so far: 155.02556687036105\n",
            "mean revenue so far: 611.2421581215469\n",
            "Day =  363\n",
            "comm_rate =  0.0\n"
          ]
        },
        {
          "name": "stderr",
          "output_type": "stream",
          "text": [
            "[2023-04-27 18:38:05,157] simulation time 15.4 s\n"
          ]
        },
        {
          "name": "stdout",
          "output_type": "stream",
          "text": [
            "nP =  443    nV =  49     reward= 155.5 revenue 0.0 revenue/max_revenue 0.0    nP/params.nP= 0.2215    nV/params.nV= 0.245\n",
            "mean reward so far: 155.03376090102122\n",
            "mean revenue so far: 609.5582954269972\n",
            "Day =  364\n",
            "comm_rate =  0.0\n"
          ]
        },
        {
          "name": "stderr",
          "output_type": "stream",
          "text": [
            "[2023-04-27 18:38:26,969] simulation time 16.1 s\n"
          ]
        },
        {
          "name": "stdout",
          "output_type": "stream",
          "text": [
            "nP =  444    nV =  39     reward= 139.0 revenue 0.0 revenue/max_revenue 0.0    nP/params.nP= 0.222    nV/params.nV= 0.195\n",
            "mean reward so far: 155.03504177766678\n",
            "mean revenue so far: 607.8836847252746\n",
            "Day =  365\n",
            "comm_rate =  0.05\n"
          ]
        },
        {
          "name": "stderr",
          "output_type": "stream",
          "text": [
            "[2023-04-27 18:38:49,064] simulation time 15.8 s\n"
          ]
        },
        {
          "name": "stdout",
          "output_type": "stream",
          "text": [
            "nP =  416    nV =  53     reward= 176.50014393939392 revenue 149.16114 revenue/max_revenue 0.05650043181818181    nP/params.nP= 0.208    nV/params.nV= 0.265\n",
            "mean reward so far: 154.99111015635808\n",
            "mean revenue so far: 606.2182499726027\n",
            "Day =  366\n",
            "comm_rate =  0\n"
          ]
        },
        {
          "name": "stderr",
          "output_type": "stream",
          "text": [
            "[2023-04-27 18:39:10,533] simulation time 15.1 s\n"
          ]
        },
        {
          "name": "stdout",
          "output_type": "stream",
          "text": [
            "nP =  442    nV =  45     reward= 148.66666666666666 revenue 0.0 revenue/max_revenue 0.0    nP/params.nP= 0.221    nV/params.nV= 0.225\n",
            "mean reward so far: 155.0498780082243\n",
            "mean revenue so far: 604.9694600546447\n",
            "Day =  367\n",
            "comm_rate =  0.05\n"
          ]
        },
        {
          "name": "stderr",
          "output_type": "stream",
          "text": [
            "[2023-04-27 18:39:32,619] simulation time 15.8 s\n"
          ]
        },
        {
          "name": "stdout",
          "output_type": "stream",
          "text": [
            "nP =  449    nV =  47     reward= 171.65994444444442 revenue 146.46676000000002 revenue/max_revenue 0.05547983333333334    nP/params.nP= 0.2245    nV/params.nV= 0.235\n",
            "mean reward so far: 155.03248506178952\n",
            "mean revenue so far: 603.3210419073569\n",
            "Day =  368\n",
            "comm_rate =  0.1\n"
          ]
        },
        {
          "name": "stderr",
          "output_type": "stream",
          "text": [
            "[2023-04-27 18:39:54,209] simulation time 15.9 s\n"
          ]
        },
        {
          "name": "stdout",
          "output_type": "stream",
          "text": [
            "nP =  450    nV =  51     reward= 196.46824747474747 revenue 288.82852 revenue/max_revenue 0.10940474242424243    nP/params.nP= 0.225    nV/params.nV= 0.255\n",
            "mean reward so far: 155.07766837532935\n",
            "mean revenue so far: 602.0795900543478\n",
            "Day =  369\n",
            "comm_rate =  0.15\n"
          ]
        },
        {
          "name": "stderr",
          "output_type": "stream",
          "text": [
            "[2023-04-27 18:40:16,715] simulation time 16.1 s\n"
          ]
        },
        {
          "name": "stdout",
          "output_type": "stream",
          "text": [
            "nP =  446    nV =  45     reward= 205.07721969696968 revenue 441.49158 revenue/max_revenue 0.1672316590909091    nP/params.nP= 0.223    nV/params.nV= 0.225\n",
            "mean reward so far: 155.1898379663847\n",
            "mean revenue so far: 601.2306711653116\n",
            "Day =  370\n",
            "comm_rate =  0.1\n"
          ]
        },
        {
          "name": "stderr",
          "output_type": "stream",
          "text": [
            "[2023-04-27 18:40:39,004] simulation time 16.0 s\n"
          ]
        },
        {
          "name": "stdout",
          "output_type": "stream",
          "text": [
            "nP =  458    nV =  36     reward= 173.2329141414141 revenue 292.24468 revenue/max_revenue 0.11069874242424244    nP/params.nP= 0.229    nV/params.nV= 0.18\n",
            "mean reward so far: 155.3246687278187\n",
            "mean revenue so far: 600.7989438918919\n",
            "Day =  371\n",
            "comm_rate =  0.05\n"
          ]
        },
        {
          "name": "stderr",
          "output_type": "stream",
          "text": [
            "[2023-04-27 18:41:01,475] simulation time 16.8 s\n"
          ]
        },
        {
          "name": "stdout",
          "output_type": "stream",
          "text": [
            "nP =  447    nV =  41     reward= 162.37541919191918 revenue 154.77332 revenue/max_revenue 0.05862625757575758    nP/params.nP= 0.2235    nV/params.nV= 0.205\n",
            "mean reward so far: 155.37293893108986\n",
            "mean revenue so far: 599.9672612398922\n",
            "Day =  372\n",
            "comm_rate =  0.1\n"
          ]
        },
        {
          "name": "stderr",
          "output_type": "stream",
          "text": [
            "[2023-04-27 18:41:23,092] simulation time 15.9 s\n"
          ]
        },
        {
          "name": "stdout",
          "output_type": "stream",
          "text": [
            "nP =  447    nV =  44     reward= 184.70857575757577 revenue 292.05192 revenue/max_revenue 0.11062572727272726    nP/params.nP= 0.2235    nV/params.nV= 0.22\n",
            "mean reward so far: 155.39176280275873\n",
            "mean revenue so far: 598.7705033333333\n",
            "Day =  373\n",
            "comm_rate =  0.05\n"
          ]
        },
        {
          "name": "stderr",
          "output_type": "stream",
          "text": [
            "[2023-04-27 18:41:45,238] simulation time 15.9 s\n"
          ]
        },
        {
          "name": "stdout",
          "output_type": "stream",
          "text": [
            "nP =  451    nV =  46     reward= 170.23725757575755 revenue 145.75907999999998 revenue/max_revenue 0.05521177272727272    nP/params.nP= 0.2255    nV/params.nV= 0.23\n",
            "mean reward so far: 155.47036015652503\n",
            "mean revenue so far: 597.9482015013405\n",
            "Day =  374\n",
            "comm_rate =  0\n"
          ]
        },
        {
          "name": "stderr",
          "output_type": "stream",
          "text": [
            "[2023-04-27 18:42:07,537] simulation time 16.0 s\n"
          ]
        },
        {
          "name": "stdout",
          "output_type": "stream",
          "text": [
            "nP =  436    nV =  51     reward= 157.66666666666669 revenue 0.0 revenue/max_revenue 0.0    nP/params.nP= 0.218    nV/params.nV= 0.255\n",
            "mean reward so far: 155.50984383946414\n",
            "mean revenue so far: 596.7391396791444\n",
            "Day =  375\n",
            "comm_rate =  0\n"
          ]
        },
        {
          "name": "stderr",
          "output_type": "stream",
          "text": [
            "[2023-04-27 18:42:29,074] simulation time 15.9 s\n"
          ]
        },
        {
          "name": "stdout",
          "output_type": "stream",
          "text": [
            "nP =  470    nV =  48     reward= 158.33333333333331 revenue 0.0 revenue/max_revenue 0.0    nP/params.nP= 0.235    nV/params.nV= 0.24\n",
            "mean reward so far: 155.51559536700336\n",
            "mean revenue so far: 595.1478353066666\n",
            "Day =  376\n",
            "comm_rate =  0.05\n"
          ]
        },
        {
          "name": "stderr",
          "output_type": "stream",
          "text": [
            "[2023-04-27 18:42:52,152] simulation time 16.7 s\n"
          ]
        },
        {
          "name": "stdout",
          "output_type": "stream",
          "text": [
            "nP =  462    nV =  45     reward= 171.37609343434343 revenue 153.45866 revenue/max_revenue 0.05812828030303031    nP/params.nP= 0.231    nV/params.nV= 0.225\n",
            "mean reward so far: 155.52308935095638\n",
            "mean revenue so far: 593.5649953191489\n",
            "Day =  377\n",
            "comm_rate =  0.1\n"
          ]
        },
        {
          "name": "stderr",
          "output_type": "stream",
          "text": [
            "[2023-04-27 18:43:15,066] simulation time 16.6 s\n"
          ]
        },
        {
          "name": "stdout",
          "output_type": "stream",
          "text": [
            "nP =  441    nV =  48     reward= 191.92154545454545 revenue 304.29864000000003 revenue/max_revenue 0.11526463636363637    nP/params.nP= 0.2205    nV/params.nV= 0.24\n",
            "mean reward so far: 155.56513975966564\n",
            "mean revenue so far: 592.3976045092837\n",
            "Day =  378\n",
            "comm_rate =  0.15\n"
          ]
        },
        {
          "name": "stderr",
          "output_type": "stream",
          "text": [
            "[2023-04-27 18:43:37,379] simulation time 15.9 s\n"
          ]
        },
        {
          "name": "stdout",
          "output_type": "stream",
          "text": [
            "nP =  465    nV =  57     reward= 227.45743181818182 revenue 435.26285999999993 revenue/max_revenue 0.16487229545454543    nP/params.nP= 0.2325    nV/params.nV= 0.285\n",
            "mean reward so far: 155.66132072711238\n",
            "mean revenue so far: 591.6354379365079\n",
            "Day =  379\n",
            "comm_rate =  0.1\n"
          ]
        },
        {
          "name": "stderr",
          "output_type": "stream",
          "text": [
            "[2023-04-27 18:43:59,629] simulation time 16.6 s\n"
          ]
        },
        {
          "name": "stdout",
          "output_type": "stream",
          "text": [
            "nP =  450    nV =  46     reward= 190.0728333333333 revenue 304.17683999999997 revenue/max_revenue 0.11521849999999999    nP/params.nP= 0.225    nV/params.nV= 0.23\n",
            "mean reward so far: 155.8507563764292\n",
            "mean revenue so far: 591.2228453825857\n",
            "Day =  380\n",
            "comm_rate =  0.05\n"
          ]
        },
        {
          "name": "stderr",
          "output_type": "stream",
          "text": [
            "[2023-04-27 18:44:22,190] simulation time 16.2 s\n"
          ]
        },
        {
          "name": "stdout",
          "output_type": "stream",
          "text": [
            "nP =  464    nV =  48     reward= 176.24903787878787 revenue 149.81238000000002 revenue/max_revenue 0.056747113636363644    nP/params.nP= 0.232    nV/params.nV= 0.24\n",
            "mean reward so far: 155.9408144736842\n",
            "mean revenue so far: 590.4674611578947\n",
            "Day =  381\n",
            "comm_rate =  0.1\n"
          ]
        },
        {
          "name": "stderr",
          "output_type": "stream",
          "text": [
            "[2023-04-27 18:44:45,194] simulation time 16.7 s\n"
          ]
        },
        {
          "name": "stdout",
          "output_type": "stream",
          "text": [
            "nP =  489    nV =  47     reward= 198.18556565656564 revenue 303.74968 revenue/max_revenue 0.11505669696969698    nP/params.nP= 0.2445    nV/params.nV= 0.235\n",
            "mean reward so far: 155.99411689731963\n",
            "mean revenue so far: 589.3108861417322\n",
            "Day =  382\n",
            "comm_rate =  0.05\n"
          ]
        },
        {
          "name": "stderr",
          "output_type": "stream",
          "text": [
            "[2023-04-27 18:45:07,981] simulation time 17.1 s\n"
          ]
        },
        {
          "name": "stdout",
          "output_type": "stream",
          "text": [
            "nP =  475    nV =  44     reward= 172.45678030303029 revenue 158.0577 revenue/max_revenue 0.059870340909090915    nP/params.nP= 0.2375    nV/params.nV= 0.22\n",
            "mean reward so far: 156.10456571606113\n",
            "mean revenue so far: 588.5633437172775\n",
            "Day =  383\n",
            "comm_rate =  0.05\n"
          ]
        },
        {
          "name": "stderr",
          "output_type": "stream",
          "text": [
            "[2023-04-27 18:45:30,744] simulation time 16.4 s\n"
          ]
        },
        {
          "name": "stdout",
          "output_type": "stream",
          "text": [
            "nP =  467    nV =  52     reward= 184.11494444444443 revenue 155.35036000000002 revenue/max_revenue 0.05884483333333334    nP/params.nP= 0.2335    nV/params.nV= 0.26\n",
            "mean reward so far: 156.1472607933117\n",
            "mean revenue so far: 587.4393080939947\n",
            "Day =  384\n",
            "comm_rate =  0.1\n"
          ]
        },
        {
          "name": "stderr",
          "output_type": "stream",
          "text": [
            "[2023-04-27 18:45:53,617] simulation time 16.6 s\n"
          ]
        },
        {
          "name": "stdout",
          "output_type": "stream",
          "text": [
            "nP =  491    nV =  43     reward= 192.33644444444442 revenue 307.58464000000004 revenue/max_revenue 0.11650933333333335    nP/params.nP= 0.2455    nV/params.nV= 0.215\n",
            "mean reward so far: 156.2200933028199\n",
            "mean revenue so far: 586.3140764583333\n",
            "Day =  385\n",
            "comm_rate =  0.05\n"
          ]
        },
        {
          "name": "stderr",
          "output_type": "stream",
          "text": [
            "[2023-04-27 18:46:16,980] simulation time 17.7 s\n"
          ]
        },
        {
          "name": "stdout",
          "output_type": "stream",
          "text": [
            "nP =  452    nV =  54     reward= 185.42309343434343 revenue 159.11090000000002 revenue/max_revenue 0.06026928030303031    nP/params.nP= 0.226    nV/params.nV= 0.27\n",
            "mean reward so far: 156.31390200708384\n",
            "mean revenue so far: 585.5901038961039\n",
            "Day =  386\n",
            "comm_rate =  0.1\n"
          ]
        },
        {
          "name": "stderr",
          "output_type": "stream",
          "text": [
            "[2023-04-27 18:46:38,805] simulation time 16.1 s\n"
          ]
        },
        {
          "name": "stdout",
          "output_type": "stream",
          "text": [
            "nP =  460    nV =  51     reward= 199.2503232323232 revenue 297.66256 revenue/max_revenue 0.1127509696969697    nP/params.nP= 0.23    nV/params.nV= 0.255\n",
            "mean reward so far: 156.3893144201078\n",
            "mean revenue so far: 584.485235492228\n",
            "Day =  387\n",
            "comm_rate =  0.1\n"
          ]
        },
        {
          "name": "stderr",
          "output_type": "stream",
          "text": [
            "[2023-04-27 18:47:02,008] simulation time 16.7 s\n"
          ]
        },
        {
          "name": "stdout",
          "output_type": "stream",
          "text": [
            "nP =  495    nV =  47     reward= 199.84075252525253 revenue 308.93876 revenue/max_revenue 0.11702225757575757    nP/params.nP= 0.2475    nV/params.nV= 0.235\n",
            "mean reward so far: 156.50006638086288\n",
            "mean revenue so far: 583.744091627907\n",
            "Day =  388\n",
            "comm_rate =  0.15\n"
          ]
        },
        {
          "name": "stderr",
          "output_type": "stream",
          "text": [
            "[2023-04-27 18:47:25,942] simulation time 17.6 s\n"
          ]
        },
        {
          "name": "stdout",
          "output_type": "stream",
          "text": [
            "nP =  471    nV =  49     reward= 220.6863712121212 revenue 479.31606 revenue/max_revenue 0.18155911363636362    nP/params.nP= 0.2355    nV/params.nV= 0.245\n",
            "mean reward so far: 156.6117691802041\n",
            "mean revenue so far: 583.0358304639175\n",
            "Day =  389\n",
            "comm_rate =  0.1\n"
          ]
        },
        {
          "name": "stderr",
          "output_type": "stream",
          "text": [
            "[2023-04-27 18:47:48,261] simulation time 16.6 s\n"
          ]
        },
        {
          "name": "stdout",
          "output_type": "stream",
          "text": [
            "nP =  499    nV =  50     reward= 205.79281818181815 revenue 311.19912 revenue/max_revenue 0.11787845454545454    nP/params.nP= 0.2495    nV/params.nV= 0.25\n",
            "mean reward so far: 156.7764853808003\n",
            "mean revenue so far: 582.7691986632391\n",
            "Day =  390\n",
            "comm_rate =  0.15\n"
          ]
        },
        {
          "name": "stderr",
          "output_type": "stream",
          "text": [
            "[2023-04-27 18:48:12,134] simulation time 17.5 s\n"
          ]
        },
        {
          "name": "stdout",
          "output_type": "stream",
          "text": [
            "nP =  497    nV =  51     reward= 229.2535984848485 revenue 486.44849999999997 revenue/max_revenue 0.18426079545454543    nP/params.nP= 0.2485    nV/params.nV= 0.255\n",
            "mean reward so far: 156.9021682854183\n",
            "mean revenue so far: 582.0728651282051\n",
            "Day =  391\n",
            "comm_rate =  0.2\n"
          ]
        },
        {
          "name": "stderr",
          "output_type": "stream",
          "text": [
            "[2023-04-27 18:48:36,492] simulation time 17.9 s\n"
          ]
        },
        {
          "name": "stdout",
          "output_type": "stream",
          "text": [
            "nP =  469    nV =  50     reward= 242.0152525252525 revenue 637.6808 revenue/max_revenue 0.24154575757575758    nP/params.nP= 0.2345    nV/params.nV= 0.25\n",
            "mean reward so far: 157.0872103063887\n",
            "mean revenue so far: 581.8283015345268\n",
            "Day =  392\n",
            "comm_rate =  0.15\n"
          ]
        },
        {
          "name": "stderr",
          "output_type": "stream",
          "text": [
            "[2023-04-27 18:48:59,316] simulation time 17.1 s\n"
          ]
        },
        {
          "name": "stdout",
          "output_type": "stream",
          "text": [
            "nP =  529    nV =  44     reward= 219.7196515151515 revenue 461.09963999999997 revenue/max_revenue 0.17465895454545452    nP/params.nP= 0.2645    nV/params.nV= 0.22\n",
            "mean reward so far: 157.30386347531436\n",
            "mean revenue so far: 581.9707823979592\n",
            "Day =  393\n",
            "comm_rate =  0.15\n"
          ]
        },
        {
          "name": "stderr",
          "output_type": "stream",
          "text": [
            "[2023-04-27 18:49:22,889] simulation time 18.0 s\n"
          ]
        },
        {
          "name": "stdout",
          "output_type": "stream",
          "text": [
            "nP =  517    nV =  57     reward= 246.9726136363636 revenue 521.1831 revenue/max_revenue 0.1974178409090909    nP/params.nP= 0.2585    nV/params.nV= 0.285\n",
            "mean reward so far: 157.46268227439793\n",
            "mean revenue so far: 581.6632222391858\n",
            "Day =  394\n",
            "comm_rate =  0.1\n"
          ]
        },
        {
          "name": "stderr",
          "output_type": "stream",
          "text": [
            "[2023-04-27 18:49:47,712] simulation time 18.3 s\n"
          ]
        },
        {
          "name": "stdout",
          "output_type": "stream",
          "text": [
            "nP =  506    nV =  53     reward= 215.57797979797976 revenue 339.8576 revenue/max_revenue 0.1287339393939394    nP/params.nP= 0.253    nV/params.nV= 0.265\n",
            "mean reward so far: 157.68986484130647\n",
            "mean revenue so far: 581.509719390863\n",
            "Day =  395\n",
            "comm_rate =  0.1\n"
          ]
        },
        {
          "name": "stderr",
          "output_type": "stream",
          "text": [
            "[2023-04-27 18:50:11,897] simulation time 17.8 s\n"
          ]
        },
        {
          "name": "stdout",
          "output_type": "stream",
          "text": [
            "nP =  485    nV =  44     reward= 195.2907323232323 revenue 325.70259999999996 revenue/max_revenue 0.12337219696969695    nP/params.nP= 0.2425    nV/params.nV= 0.22\n",
            "mean reward so far: 157.8364170310702\n",
            "mean revenue so far: 580.8979418734177\n",
            "Day =  396\n",
            "comm_rate =  0.1\n"
          ]
        },
        {
          "name": "stderr",
          "output_type": "stream",
          "text": [
            "[2023-04-27 18:50:34,643] simulation time 17.0 s\n"
          ]
        },
        {
          "name": "stdout",
          "output_type": "stream",
          "text": [
            "nP =  483    nV =  38     reward= 183.41312626262626 revenue 313.47196 revenue/max_revenue 0.1187393787878788    nP/params.nP= 0.2415    nV/params.nV= 0.19\n",
            "mean reward so far: 157.93099863534334\n",
            "mean revenue so far: 580.2535091919192\n",
            "Day =  397\n",
            "comm_rate =  0.15\n"
          ]
        },
        {
          "name": "stderr",
          "output_type": "stream",
          "text": [
            "[2023-04-27 18:50:57,903] simulation time 16.8 s\n"
          ]
        },
        {
          "name": "stdout",
          "output_type": "stream",
          "text": [
            "nP =  486    nV =  60     reward= 241.1365 revenue 476.28108 revenue/max_revenue 0.1804095    nP/params.nP= 0.243    nV/params.nV= 0.3\n",
            "mean reward so far: 157.99518535480752\n",
            "mean revenue so far: 579.5815153652393\n",
            "Day =  398\n",
            "comm_rate =  0.1\n"
          ]
        },
        {
          "name": "stderr",
          "output_type": "stream",
          "text": [
            "[2023-04-27 18:51:21,574] simulation time 17.2 s\n"
          ]
        },
        {
          "name": "stdout",
          "output_type": "stream",
          "text": [
            "nP =  505    nV =  49     reward= 204.8741212121212 revenue 309.20304 revenue/max_revenue 0.11712236363636364    nP/params.nP= 0.2525    nV/params.nV= 0.245\n",
            "mean reward so far: 158.20408313029796\n",
            "mean revenue so far: 579.3219665326634\n",
            "Day =  399\n",
            "comm_rate =  0.05\n"
          ]
        },
        {
          "name": "stderr",
          "output_type": "stream",
          "text": [
            "[2023-04-27 18:51:44,509] simulation time 17.3 s\n"
          ]
        },
        {
          "name": "stdout",
          "output_type": "stream",
          "text": [
            "nP =  519    nV =  58     reward= 203.5003535353535 revenue 161.0428 revenue/max_revenue 0.06100106060606061    nP/params.nP= 0.2595    nV/params.nV= 0.29\n",
            "mean reward so far: 158.3210506442875\n",
            "mean revenue so far: 578.6449767418546\n",
            "Day =  400\n",
            "comm_rate =  0.05\n"
          ]
        },
        {
          "name": "stderr",
          "output_type": "stream",
          "text": [
            "[2023-04-27 18:52:08,822] simulation time 17.9 s\n"
          ]
        },
        {
          "name": "stdout",
          "output_type": "stream",
          "text": [
            "nP =  522    nV =  45     reward= 183.51785606060605 revenue 170.42141999999998 revenue/max_revenue 0.06455356818181818    nP/params.nP= 0.261    nV/params.nV= 0.225\n",
            "mean reward so far: 158.43399890151514\n",
            "mean revenue so far: 577.6009713\n",
            "Day =  401\n",
            "comm_rate =  0.05\n"
          ]
        },
        {
          "name": "stderr",
          "output_type": "stream",
          "text": [
            "[2023-04-27 18:52:33,190] simulation time 18.0 s\n"
          ]
        },
        {
          "name": "stdout",
          "output_type": "stream",
          "text": [
            "nP =  524    nV =  49     reward= 190.45986363636362 revenue 169.96212 revenue/max_revenue 0.06437959090909091    nP/params.nP= 0.262    nV/params.nV= 0.245\n",
            "mean reward so far: 158.49655216126348\n",
            "mean revenue so far: 576.5855609476309\n",
            "Day =  402\n",
            "comm_rate =  0\n"
          ]
        },
        {
          "name": "stderr",
          "output_type": "stream",
          "text": [
            "[2023-04-27 18:52:56,799] simulation time 17.9 s\n"
          ]
        },
        {
          "name": "stdout",
          "output_type": "stream",
          "text": [
            "nP =  517    nV =  48     reward= 166.16666666666666 revenue 0.0 revenue/max_revenue 0.0    nP/params.nP= 0.2585    nV/params.nV= 0.24\n",
            "mean reward so far: 158.57606288632593\n",
            "mean revenue so far: 575.5740598507463\n",
            "Day =  403\n",
            "comm_rate =  0.05\n"
          ]
        },
        {
          "name": "stderr",
          "output_type": "stream",
          "text": [
            "[2023-04-27 18:53:21,222] simulation time 18.0 s\n"
          ]
        },
        {
          "name": "stdout",
          "output_type": "stream",
          "text": [
            "nP =  530    nV =  47     reward= 187.64625505050503 revenue 166.15834 revenue/max_revenue 0.06293876515151516    nP/params.nP= 0.265    nV/params.nV= 0.235\n",
            "mean reward so far: 158.59489813143847\n",
            "mean revenue so far: 574.1458363771712\n",
            "Day =  404\n",
            "comm_rate =  0.1\n"
          ]
        },
        {
          "name": "stderr",
          "output_type": "stream",
          "text": [
            "[2023-04-27 18:53:45,996] simulation time 18.4 s\n"
          ]
        },
        {
          "name": "stdout",
          "output_type": "stream",
          "text": [
            "nP =  541    nV =  51     reward= 219.35671717171718 revenue 349.9852 revenue/max_revenue 0.13257015151515153    nP/params.nP= 0.2705    nV/params.nV= 0.255\n",
            "mean reward so far: 158.66680743074306\n",
            "mean revenue so far: 573.1359663366336\n",
            "Day =  405\n",
            "comm_rate =  0.1\n"
          ]
        },
        {
          "name": "stderr",
          "output_type": "stream",
          "text": [
            "[2023-04-27 18:54:10,066] simulation time 18.3 s\n"
          ]
        },
        {
          "name": "stdout",
          "output_type": "stream",
          "text": [
            "nP =  515    nV =  50     reward= 212.72126767676767 revenue 344.95244 revenue/max_revenue 0.13066380303030303    nP/params.nP= 0.2575    nV/params.nV= 0.25\n",
            "mean reward so far: 158.81665905973315\n",
            "mean revenue so far: 572.5849767901235\n",
            "Day =  406\n",
            "comm_rate =  0.15\n"
          ]
        },
        {
          "name": "stderr",
          "output_type": "stream",
          "text": [
            "[2023-04-27 18:54:34,037] simulation time 17.5 s\n"
          ]
        },
        {
          "name": "stdout",
          "output_type": "stream",
          "text": [
            "nP =  534    nV =  43     reward= 223.19826515151513 revenue 495.25026 revenue/max_revenue 0.18759479545454547    nP/params.nP= 0.267    nV/params.nV= 0.215\n",
            "mean reward so far: 158.94942903169627\n",
            "mean revenue so far: 572.0243055172414\n",
            "Day =  407\n",
            "comm_rate =  0.2\n"
          ]
        },
        {
          "name": "stderr",
          "output_type": "stream",
          "text": [
            "[2023-04-27 18:54:58,693] simulation time 18.2 s\n"
          ]
        },
        {
          "name": "stdout",
          "output_type": "stream",
          "text": [
            "nP =  552    nV =  56     reward= 272.60248484848483 revenue 691.17168 revenue/max_revenue 0.26180745454545457    nP/params.nP= 0.276    nV/params.nV= 0.28\n",
            "mean reward so far: 159.10728857990222\n",
            "mean revenue so far: 571.8356714987715\n",
            "Day =  408\n",
            "comm_rate =  0.15\n"
          ]
        },
        {
          "name": "stderr",
          "output_type": "stream",
          "text": [
            "[2023-04-27 18:55:23,090] simulation time 18.7 s\n"
          ]
        },
        {
          "name": "stdout",
          "output_type": "stream",
          "text": [
            "nP =  533    nV =  50     reward= 241.00100757575754 revenue 545.16798 revenue/max_revenue 0.2065030227272727    nP/params.nP= 0.2665    nV/params.nV= 0.25\n",
            "mean reward so far: 159.3854630805605\n",
            "mean revenue so far: 572.1281617156862\n",
            "Day =  409\n",
            "comm_rate =  0.15\n"
          ]
        },
        {
          "name": "stderr",
          "output_type": "stream",
          "text": [
            "[2023-04-27 18:55:47,384] simulation time 17.9 s\n"
          ]
        },
        {
          "name": "stdout",
          "output_type": "stream",
          "text": [
            "nP =  552    nV =  49     reward= 237.40094696969695 revenue 504.77549999999997 revenue/max_revenue 0.1912028409090909    nP/params.nP= 0.276    nV/params.nV= 0.245\n",
            "mean reward so far: 159.58501208910621\n",
            "mean revenue so far: 572.0622444009779\n",
            "Day =  410\n",
            "comm_rate =  0.15\n"
          ]
        },
        {
          "name": "stderr",
          "output_type": "stream",
          "text": [
            "[2023-04-27 18:56:12,330] simulation time 18.5 s\n"
          ]
        },
        {
          "name": "stdout",
          "output_type": "stream",
          "text": [
            "nP =  526    nV =  49     reward= 235.80276515151513 revenue 526.4378999999999 revenue/max_revenue 0.19940829545454541    nP/params.nP= 0.263    nV/params.nV= 0.245\n",
            "mean reward so far: 159.7748070522296\n",
            "mean revenue so far: 571.8981303902439\n",
            "Day =  411\n",
            "comm_rate =  0.1\n"
          ]
        },
        {
          "name": "stderr",
          "output_type": "stream",
          "text": [
            "[2023-04-27 18:56:36,249] simulation time 18.2 s\n"
          ]
        },
        {
          "name": "stdout",
          "output_type": "stream",
          "text": [
            "nP =  543    nV =  58     reward= 230.47652525252528 revenue 343.01408000000004 revenue/max_revenue 0.12992957575757577    nP/params.nP= 0.2715    nV/params.nV= 0.29\n",
            "mean reward so far: 159.9597899186512\n",
            "mean revenue so far: 571.7875215571776\n",
            "Day =  412\n",
            "comm_rate =  0.05\n"
          ]
        },
        {
          "name": "stderr",
          "output_type": "stream",
          "text": [
            "[2023-04-27 18:57:01,493] simulation time 18.8 s\n"
          ]
        },
        {
          "name": "stdout",
          "output_type": "stream",
          "text": [
            "nP =  567    nV =  52     reward= 203.0670303030303 revenue 173.45088 revenue/max_revenue 0.06570109090909092    nP/params.nP= 0.2835    nV/params.nV= 0.26\n",
            "mean reward so far: 160.130947043248\n",
            "mean revenue so far: 571.2322462135921\n",
            "Day =  413\n",
            "comm_rate =  0\n"
          ]
        },
        {
          "name": "stderr",
          "output_type": "stream",
          "text": [
            "[2023-04-27 18:57:27,040] simulation time 19.1 s\n"
          ]
        },
        {
          "name": "stdout",
          "output_type": "stream",
          "text": [
            "nP =  562    nV =  49     reward= 175.33333333333334 revenue 0.0 revenue/max_revenue 0.0    nP/params.nP= 0.281    nV/params.nV= 0.245\n",
            "mean reward so far: 160.23490850392545\n",
            "mean revenue so far: 570.2690952058111\n",
            "Day =  414\n",
            "comm_rate =  0.0\n"
          ]
        },
        {
          "name": "stderr",
          "output_type": "stream",
          "text": [
            "[2023-04-27 18:57:51,573] simulation time 18.8 s\n"
          ]
        },
        {
          "name": "stdout",
          "output_type": "stream",
          "text": [
            "nP =  536    nV =  59     reward= 187.66666666666666 revenue 0.0 revenue/max_revenue 0.0    nP/params.nP= 0.268    nV/params.nV= 0.295\n",
            "mean reward so far: 160.27137812911724\n",
            "mean revenue so far: 568.8916336231883\n",
            "Day =  415\n",
            "comm_rate =  0\n"
          ]
        },
        {
          "name": "stderr",
          "output_type": "stream",
          "text": [
            "[2023-04-27 18:58:16,767] simulation time 18.7 s\n"
          ]
        },
        {
          "name": "stdout",
          "output_type": "stream",
          "text": [
            "nP =  530    nV =  62     reward= 191.66666666666666 revenue 0.0 revenue/max_revenue 0.0    nP/params.nP= 0.265    nV/params.nV= 0.31\n",
            "mean reward so far: 160.33739087258124\n",
            "mean revenue so far: 567.5208104096386\n",
            "Day =  416\n",
            "comm_rate =  0.0\n"
          ]
        },
        {
          "name": "stderr",
          "output_type": "stream",
          "text": [
            "[2023-04-27 18:58:41,538] simulation time 18.3 s\n"
          ]
        },
        {
          "name": "stdout",
          "output_type": "stream",
          "text": [
            "nP =  550    nV =  62     reward= 194.99999999999997 revenue 0.0 revenue/max_revenue 0.0    nP/params.nP= 0.275    nV/params.nV= 0.31\n",
            "mean reward so far: 160.41270163170162\n",
            "mean revenue so far: 566.1565776923077\n",
            "Day =  417\n",
            "comm_rate =  0.05\n"
          ]
        },
        {
          "name": "stderr",
          "output_type": "stream",
          "text": [
            "[2023-04-27 18:59:06,076] simulation time 18.8 s\n"
          ]
        },
        {
          "name": "stdout",
          "output_type": "stream",
          "text": [
            "nP =  553    nV =  55     reward= 206.06626262626258 revenue 176.0848 revenue/max_revenue 0.06669878787878789    nP/params.nP= 0.2765    nV/params.nV= 0.275\n",
            "mean reward so far: 160.4956447932563\n",
            "mean revenue so far: 564.7988880575539\n",
            "Day =  418\n",
            "comm_rate =  0.05\n"
          ]
        },
        {
          "name": "stderr",
          "output_type": "stream",
          "text": [
            "[2023-04-27 18:59:31,408] simulation time 18.9 s\n"
          ]
        },
        {
          "name": "stdout",
          "output_type": "stream",
          "text": [
            "nP =  580    nV =  62     reward= 222.75283080808077 revenue 180.20242000000002 revenue/max_revenue 0.06825849242424244    nP/params.nP= 0.29    nV/params.nV= 0.31\n",
            "mean reward so far: 160.60466541008168\n",
            "mean revenue so far: 563.8689500478469\n",
            "Day =  419\n",
            "comm_rate =  0.05\n"
          ]
        },
        {
          "name": "stderr",
          "output_type": "stream",
          "text": [
            "[2023-04-27 18:59:57,856] simulation time 20.0 s\n"
          ]
        },
        {
          "name": "stdout",
          "output_type": "stream",
          "text": [
            "nP =  557    nV =  60     reward= 216.85763383838383 revenue 190.27246 revenue/max_revenue 0.07207290151515151    nP/params.nP= 0.2785    nV/params.nV= 0.3\n",
            "mean reward so far: 160.75299038716523\n",
            "mean revenue so far: 562.9532781384248\n",
            "Day =  420\n",
            "comm_rate =  0.1\n"
          ]
        },
        {
          "name": "stderr",
          "output_type": "stream",
          "text": [
            "[2023-04-27 19:00:22,525] simulation time 19.0 s\n"
          ]
        },
        {
          "name": "stdout",
          "output_type": "stream",
          "text": [
            "nP =  586    nV =  63     reward= 248.36015656565652 revenue 361.89244 revenue/max_revenue 0.13708046969696971    nP/params.nP= 0.293    nV/params.nV= 0.315\n",
            "mean reward so far: 160.88657287157284\n",
            "mean revenue so far: 562.0659428571429\n",
            "Day =  421\n",
            "comm_rate =  0.05\n"
          ]
        },
        {
          "name": "stderr",
          "output_type": "stream",
          "text": [
            "[2023-04-27 19:00:48,902] simulation time 20.0 s\n"
          ]
        },
        {
          "name": "stdout",
          "output_type": "stream",
          "text": [
            "nP =  613    nV =  54     reward= 215.98761868686867 revenue 188.66194000000002 revenue/max_revenue 0.07146285606060607    nP/params.nP= 0.3065    nV/params.nV= 0.27\n",
            "mean reward so far: 161.09434860481298\n",
            "mean revenue so far: 561.5904713539193\n",
            "Day =  422\n",
            "comm_rate =  0.05\n"
          ]
        },
        {
          "name": "stderr",
          "output_type": "stream",
          "text": [
            "[2023-04-27 19:01:15,960] simulation time 20.5 s\n"
          ]
        },
        {
          "name": "stdout",
          "output_type": "stream",
          "text": [
            "nP =  575    nV =  58     reward= 217.836148989899 revenue 200.66230000000002 revenue/max_revenue 0.07600844696969697    nP/params.nP= 0.2875    nV/params.nV= 0.29\n",
            "mean reward so far: 161.22442744386998\n",
            "mean revenue so far: 560.7067544549762\n",
            "Day =  423\n",
            "comm_rate =  0.1\n"
          ]
        },
        {
          "name": "stderr",
          "output_type": "stream",
          "text": [
            "[2023-04-27 19:01:41,447] simulation time 19.7 s\n"
          ]
        },
        {
          "name": "stdout",
          "output_type": "stream",
          "text": [
            "nP =  573    nV =  53     reward= 230.8973232323232 revenue 372.7468 revenue/max_revenue 0.1411919696969697    nP/params.nP= 0.2865    nV/params.nV= 0.265\n",
            "mean reward so far: 161.3582613009528\n",
            "mean revenue so far: 559.8555855319148\n",
            "Day =  424\n",
            "comm_rate =  0.15\n"
          ]
        },
        {
          "name": "stderr",
          "output_type": "stream",
          "text": [
            "[2023-04-27 19:02:07,053] simulation time 19.1 s\n"
          ]
        },
        {
          "name": "stdout",
          "output_type": "stream",
          "text": [
            "nP =  565    nV =  52     reward= 250.89033333333333 revenue 554.8514399999999 revenue/max_revenue 0.21017099999999997    nP/params.nP= 0.2825    nV/params.nV= 0.26\n",
            "mean reward so far: 161.52226852248901\n",
            "mean revenue so far: 559.414291226415\n",
            "Day =  425\n",
            "comm_rate =  0.2\n"
          ]
        },
        {
          "name": "stderr",
          "output_type": "stream",
          "text": [
            "[2023-04-27 19:02:32,763] simulation time 20.0 s\n"
          ]
        },
        {
          "name": "stdout",
          "output_type": "stream",
          "text": [
            "nP =  579    nV =  54     reward= 278.8247777777778 revenue 731.21224 revenue/max_revenue 0.2769743333333333    nP/params.nP= 0.2895    nV/params.nV= 0.27\n",
            "mean reward so far: 161.73254632204393\n",
            "mean revenue so far: 559.4035551058823\n",
            "Day =  426\n",
            "comm_rate =  0.2\n"
          ]
        },
        {
          "name": "stderr",
          "output_type": "stream",
          "text": [
            "[2023-04-27 19:02:57,802] simulation time 19.3 s\n"
          ]
        },
        {
          "name": "stdout",
          "output_type": "stream",
          "text": [
            "nP =  616    nV =  61     reward= 299.24751515151513 revenue 751.72032 revenue/max_revenue 0.28474254545454547    nP/params.nP= 0.308    nV/params.nV= 0.305\n",
            "mean reward so far: 162.00741071513252\n",
            "mean revenue so far: 559.8068618779342\n",
            "Day =  427\n",
            "comm_rate =  0.2\n"
          ]
        },
        {
          "name": "stderr",
          "output_type": "stream",
          "text": [
            "[2023-04-27 19:03:24,058] simulation time 20.1 s\n"
          ]
        },
        {
          "name": "stdout",
          "output_type": "stream",
          "text": [
            "nP =  572    nV =  58     reward= 294.0471717171717 revenue 808.2136 revenue/max_revenue 0.30614151515151516    nP/params.nP= 0.286    nV/params.nV= 0.29\n",
            "mean reward so far: 162.32881611193903\n",
            "mean revenue so far: 560.2563079156909\n",
            "Day =  428\n",
            "comm_rate =  0.2\n"
          ]
        },
        {
          "name": "stderr",
          "output_type": "stream",
          "text": [
            "[2023-04-27 19:03:49,275] simulation time 19.7 s\n"
          ]
        },
        {
          "name": "stdout",
          "output_type": "stream",
          "text": [
            "nP =  605    nV =  57     reward= 288.1262222222222 revenue 730.95968 revenue/max_revenue 0.27687866666666666    nP/params.nP= 0.3025    nV/params.nV= 0.285\n",
            "mean reward so far: 162.636569279241\n",
            "mean revenue so far: 560.8356473831775\n",
            "Day =  429\n",
            "comm_rate =  0.25\n"
          ]
        },
        {
          "name": "stderr",
          "output_type": "stream",
          "text": [
            "[2023-04-27 19:04:13,664] simulation time 18.9 s\n"
          ]
        },
        {
          "name": "stdout",
          "output_type": "stream",
          "text": [
            "nP =  604    nV =  44     reward= 296.52285353535353 revenue 970.381 revenue/max_revenue 0.3675685606060606    nP/params.nP= 0.302    nV/params.nV= 0.22\n",
            "mean reward so far: 162.92908595276774\n",
            "mean revenue so far: 561.2322068997669\n",
            "Day =  430\n",
            "comm_rate =  0.2\n"
          ]
        },
        {
          "name": "stderr",
          "output_type": "stream",
          "text": [
            "[2023-04-27 19:04:38,554] simulation time 18.9 s\n"
          ]
        },
        {
          "name": "stdout",
          "output_type": "stream",
          "text": [
            "nP =  627    nV =  53     reward= 291.5795656565656 revenue 782.07016 revenue/max_revenue 0.29623869696969696    nP/params.nP= 0.3135    nV/params.nV= 0.265\n",
            "mean reward so far: 163.23976913319237\n",
            "mean revenue so far: 562.1837157209302\n",
            "Day =  431\n",
            "comm_rate =  0.15\n"
          ]
        },
        {
          "name": "stderr",
          "output_type": "stream",
          "text": [
            "[2023-04-27 19:05:03,888] simulation time 20.0 s\n"
          ]
        },
        {
          "name": "stdout",
          "output_type": "stream",
          "text": [
            "nP =  598    nV =  53     reward= 264.7211136363636 revenue 607.63122 revenue/max_revenue 0.2301633409090909    nP/params.nP= 0.299    nV/params.nV= 0.265\n",
            "mean reward so far: 163.5375412828986\n",
            "mean revenue so far: 562.6938930858469\n",
            "Day =  432\n",
            "comm_rate =  0.2\n"
          ]
        },
        {
          "name": "stderr",
          "output_type": "stream",
          "text": [
            "[2023-04-27 19:05:27,694] simulation time 18.4 s\n"
          ]
        },
        {
          "name": "stdout",
          "output_type": "stream",
          "text": [
            "nP =  638    nV =  51     reward= 288.26035353535354 revenue 767.662 revenue/max_revenue 0.2907810606060606    nP/params.nP= 0.319    nV/params.nV= 0.255\n",
            "mean reward so far: 163.77176251519828\n",
            "mean revenue so far: 562.7979146759259\n",
            "Day =  433\n",
            "comm_rate =  0.25\n"
          ]
        },
        {
          "name": "stderr",
          "output_type": "stream",
          "text": [
            "[2023-04-27 19:05:53,228] simulation time 19.5 s\n"
          ]
        },
        {
          "name": "stdout",
          "output_type": "stream",
          "text": [
            "nP =  608    nV =  57     reward= 328.4854671717171 revenue 1046.6449 revenue/max_revenue 0.3964564015151515    nP/params.nP= 0.304    nV/params.nV= 0.285\n",
            "mean reward so far: 164.0592650348753\n",
            "mean revenue so far: 563.2710418937644\n",
            "Day =  434\n",
            "comm_rate =  0.25\n"
          ]
        },
        {
          "name": "stderr",
          "output_type": "stream",
          "text": [
            "[2023-04-27 19:06:18,495] simulation time 19.8 s\n"
          ]
        },
        {
          "name": "stdout",
          "output_type": "stream",
          "text": [
            "nP =  637    nV =  60     reward= 328.8992929292929 revenue 972.0424 revenue/max_revenue 0.3681978787878788    nP/params.nP= 0.3185    nV/params.nV= 0.3\n",
            "mean reward so far: 164.4381272517805\n",
            "mean revenue so far: 564.3848065437787\n",
            "Day =  435\n",
            "comm_rate =  0.2\n"
          ]
        },
        {
          "name": "stderr",
          "output_type": "stream",
          "text": [
            "[2023-04-27 19:06:43,514] simulation time 19.6 s\n"
          ]
        },
        {
          "name": "stdout",
          "output_type": "stream",
          "text": [
            "nP =  612    nV =  56     reward= 299.3396262626262 revenue 823.72984 revenue/max_revenue 0.31201887878787876    nP/params.nP= 0.306    nV/params.nV= 0.28\n",
            "mean reward so far: 164.81619889701614\n",
            "mean revenue so far: 565.3219504367815\n",
            "Day =  436\n",
            "comm_rate =  0.15\n"
          ]
        },
        {
          "name": "stderr",
          "output_type": "stream",
          "text": [
            "[2023-04-27 19:07:08,374] simulation time 18.8 s\n"
          ]
        },
        {
          "name": "stdout",
          "output_type": "stream",
          "text": [
            "nP =  618    nV =  51     reward= 262.7621363636364 revenue 592.1161199999999 revenue/max_revenue 0.22428640909090905    nP/params.nP= 0.309    nV/params.nV= 0.255\n",
            "mean reward so far: 165.12473886803818\n",
            "mean revenue so far: 565.9146290825687\n",
            "Day =  437\n",
            "comm_rate =  0.15\n"
          ]
        },
        {
          "name": "stderr",
          "output_type": "stream",
          "text": [
            "[2023-04-27 19:07:32,766] simulation time 19.0 s\n"
          ]
        },
        {
          "name": "stdout",
          "output_type": "stream",
          "text": [
            "nP =  639    nV =  61     reward= 284.2394393939394 revenue 602.49636 revenue/max_revenue 0.22821831818181817    nP/params.nP= 0.3195    nV/params.nV= 0.305\n",
            "mean reward so far: 165.3481654069297\n",
            "mean revenue so far: 565.9745867276887\n",
            "Day =  438\n",
            "comm_rate =  0.15\n"
          ]
        },
        {
          "name": "stderr",
          "output_type": "stream",
          "text": [
            "[2023-04-27 19:07:58,423] simulation time 19.6 s\n"
          ]
        },
        {
          "name": "stdout",
          "output_type": "stream",
          "text": [
            "nP =  612    nV =  60     reward= 279.6975227272727 revenue 615.36438 revenue/max_revenue 0.23309256818181817    nP/params.nP= 0.306    nV/params.nV= 0.3\n",
            "mean reward so far: 165.61960667174023\n",
            "mean revenue so far: 566.0579697716895\n",
            "Day =  439\n",
            "comm_rate =  0.15\n"
          ]
        },
        {
          "name": "stderr",
          "output_type": "stream",
          "text": [
            "[2023-04-27 19:08:23,033] simulation time 18.5 s\n"
          ]
        },
        {
          "name": "stdout",
          "output_type": "stream",
          "text": [
            "nP =  630    nV =  52     reward= 266.5207121212121 revenue 592.84404 revenue/max_revenue 0.22456213636363634    nP/params.nP= 0.315    nV/params.nV= 0.26\n",
            "mean reward so far: 165.87946525045444\n",
            "mean revenue so far: 566.1702850569475\n",
            "Day =  440\n",
            "comm_rate =  0.15\n"
          ]
        },
        {
          "name": "stderr",
          "output_type": "stream",
          "text": [
            "[2023-04-27 19:08:47,392] simulation time 19.0 s\n"
          ]
        },
        {
          "name": "stdout",
          "output_type": "stream",
          "text": [
            "nP =  643    nV =  39     reward= 248.36066666666667 revenue 603.4564799999999 revenue/max_revenue 0.22858199999999998    nP/params.nP= 0.3215    nV/params.nV= 0.195\n",
            "mean reward so far: 166.10819535697885\n",
            "mean revenue so far: 566.2309072272726\n",
            "Day =  441\n",
            "comm_rate =  0.15\n"
          ]
        },
        {
          "name": "stderr",
          "output_type": "stream",
          "text": [
            "[2023-04-27 19:09:13,087] simulation time 19.6 s\n"
          ]
        },
        {
          "name": "stdout",
          "output_type": "stream",
          "text": [
            "nP =  619    nV =  57     reward= 276.6775909090909 revenue 621.80652 revenue/max_revenue 0.23553277272727272    nP/params.nP= 0.3095    nV/params.nV= 0.285\n",
            "mean reward so far: 166.29470889736362\n",
            "mean revenue so far: 566.315318956916\n",
            "Day =  442\n",
            "comm_rate =  0.15\n"
          ]
        },
        {
          "name": "stderr",
          "output_type": "stream",
          "text": [
            "[2023-04-27 19:09:38,023] simulation time 18.9 s\n"
          ]
        },
        {
          "name": "stdout",
          "output_type": "stream",
          "text": [
            "nP =  620    nV =  52     reward= 264.1784015151515 revenue 587.49294 revenue/max_revenue 0.22253520454545453    nP/params.nP= 0.31    nV/params.nV= 0.26\n",
            "mean reward so far: 166.54444392453948\n",
            "mean revenue so far: 566.4408646606335\n",
            "Day =  443\n",
            "comm_rate =  0.2\n"
          ]
        },
        {
          "name": "stderr",
          "output_type": "stream",
          "text": [
            "[2023-04-27 19:10:02,474] simulation time 19.1 s\n"
          ]
        },
        {
          "name": "stdout",
          "output_type": "stream",
          "text": [
            "nP =  624    nV =  54     reward= 294.2291919191919 revenue 793.8152 revenue/max_revenue 0.30068757575757576    nP/params.nP= 0.312    nV/params.nV= 0.27\n",
            "mean reward so far: 166.76483660533094\n",
            "mean revenue so far: 566.488386275395\n",
            "Day =  444\n",
            "comm_rate =  0.25\n"
          ]
        },
        {
          "name": "stderr",
          "output_type": "stream",
          "text": [
            "[2023-04-27 19:10:27,461] simulation time 19.0 s\n"
          ]
        },
        {
          "name": "stdout",
          "output_type": "stream",
          "text": [
            "nP =  657    nV =  60     reward= 335.86234848484855 revenue 1000.7898 revenue/max_revenue 0.37908704545454547    nP/params.nP= 0.3285    nV/params.nV= 0.3\n",
            "mean reward so far: 167.05191848666846\n",
            "mean revenue so far: 567.0003836036035\n",
            "Day =  445\n",
            "comm_rate =  0.3\n"
          ]
        },
        {
          "name": "stderr",
          "output_type": "stream",
          "text": [
            "[2023-04-27 19:10:53,322] simulation time 20.5 s\n"
          ]
        },
        {
          "name": "stdout",
          "output_type": "stream",
          "text": [
            "nP =  642    nV =  58     reward= 366.15125757575754 revenue 1286.8779599999998 revenue/max_revenue 0.48745377272727264    nP/params.nP= 0.321    nV/params.nV= 0.29\n",
            "mean reward so far: 167.43126776756324\n",
            "mean revenue so far: 567.9751912808988\n",
            "Day =  446\n",
            "comm_rate =  0.3\n"
          ]
        },
        {
          "name": "stderr",
          "output_type": "stream",
          "text": [
            "[2023-04-27 19:11:17,953] simulation time 19.2 s\n"
          ]
        },
        {
          "name": "stdout",
          "output_type": "stream",
          "text": [
            "nP =  650    nV =  54     reward= 352.256696969697 revenue 1219.07304 revenue/max_revenue 0.4617700909090909    nP/params.nP= 0.325    nV/params.nV= 0.27\n",
            "mean reward so far: 167.87682828282828\n",
            "mean revenue so far: 569.5870808968609\n",
            "Day =  447\n",
            "comm_rate =  0.25\n"
          ]
        },
        {
          "name": "stderr",
          "output_type": "stream",
          "text": [
            "[2023-04-27 19:11:43,721] simulation time 19.7 s\n"
          ]
        },
        {
          "name": "stdout",
          "output_type": "stream",
          "text": [
            "nP =  653    nV =  51     reward= 322.97065656565655 revenue 1022.7675999999999 revenue/max_revenue 0.38741196969696967    nP/params.nP= 0.3265    nV/params.nV= 0.255\n",
            "mean reward so far: 168.28931121053938\n",
            "mean revenue so far: 571.0400696196867\n",
            "Day =  448\n",
            "comm_rate =  0.3\n"
          ]
        },
        {
          "name": "stderr",
          "output_type": "stream",
          "text": [
            "[2023-04-27 19:12:08,770] simulation time 19.7 s\n"
          ]
        },
        {
          "name": "stdout",
          "output_type": "stream",
          "text": [
            "nP =  647    nV =  48     reward= 345.6655303030303 revenue 1250.031 revenue/max_revenue 0.4734965909090909    nP/params.nP= 0.3235    nV/params.nV= 0.24\n",
            "mean reward so far: 168.63458207070704\n",
            "mean revenue so far: 572.04839\n",
            "Day =  449\n",
            "comm_rate =  0.35\n"
          ]
        },
        {
          "name": "stderr",
          "output_type": "stream",
          "text": [
            "[2023-04-27 19:12:34,218] simulation time 19.3 s\n"
          ]
        },
        {
          "name": "stdout",
          "output_type": "stream",
          "text": [
            "nP =  661    nV =  55     reward= 385.4553888888889 revenue 1454.2866799999997 revenue/max_revenue 0.5508661666666665    nP/params.nP= 0.3305    nV/params.nV= 0.275\n",
            "mean reward so far: 169.02886035184807\n",
            "mean revenue so far: 573.5583735412026\n",
            "Day =  450\n",
            "comm_rate =  0.4\n"
          ]
        },
        {
          "name": "stderr",
          "output_type": "stream",
          "text": [
            "[2023-04-27 19:13:00,224] simulation time 19.9 s\n"
          ]
        },
        {
          "name": "stdout",
          "output_type": "stream",
          "text": [
            "nP =  638    nV =  43     reward= 393.6359191919192 revenue 1707.83648 revenue/max_revenue 0.6469077575757576    nP/params.nP= 0.319    nV/params.nV= 0.215\n",
            "mean reward so far: 169.5098081930415\n",
            "mean revenue so far: 575.5155475555556\n",
            "Day =  451\n",
            "comm_rate =  0.35\n"
          ]
        },
        {
          "name": "stderr",
          "output_type": "stream",
          "text": [
            "[2023-04-27 19:13:24,758] simulation time 19.1 s\n"
          ]
        },
        {
          "name": "stdout",
          "output_type": "stream",
          "text": [
            "nP =  647    nV =  56     reward= 383.75319949494946 revenue 1446.0853399999999 revenue/max_revenue 0.5477595984848485    nP/params.nP= 0.3235    nV/params.nV= 0.28\n",
            "mean reward so far: 170.00676187596585\n",
            "mean revenue so far: 578.0262369844789\n",
            "Day =  452\n",
            "comm_rate =  0.3\n"
          ]
        },
        {
          "name": "stderr",
          "output_type": "stream",
          "text": [
            "[2023-04-27 19:13:50,385] simulation time 19.6 s\n"
          ]
        },
        {
          "name": "stdout",
          "output_type": "stream",
          "text": [
            "nP =  675    nV =  46     reward= 344.8167272727273 revenue 1232.7484800000002 revenue/max_revenue 0.4669501818181819    nP/params.nP= 0.3375    nV/params.nV= 0.23\n",
            "mean reward so far: 170.47965222468042\n",
            "mean revenue so far: 579.9467217256637\n",
            "Day =  453\n",
            "comm_rate =  0.3\n"
          ]
        },
        {
          "name": "stderr",
          "output_type": "stream",
          "text": [
            "[2023-04-27 19:14:17,251] simulation time 21.4 s\n"
          ]
        },
        {
          "name": "stdout",
          "output_type": "stream",
          "text": [
            "nP =  655    nV =  44     reward= 349.5797272727272 revenue 1323.27144 revenue/max_revenue 0.5012391818181818    nP/params.nP= 0.3275    nV/params.nV= 0.22\n",
            "mean reward so far: 170.86450227997412\n",
            "mean revenue so far: 581.387785209713\n",
            "Day =  454\n",
            "comm_rate =  0.25\n"
          ]
        },
        {
          "name": "stderr",
          "output_type": "stream",
          "text": [
            "[2023-04-27 19:14:43,368] simulation time 20.5 s\n"
          ]
        },
        {
          "name": "stdout",
          "output_type": "stream",
          "text": [
            "nP =  630    nV =  45     reward= 311.737601010101 revenue 1043.3618000000001 revenue/max_revenue 0.3952128030303031    nP/params.nP= 0.315    nV/params.nV= 0.225\n",
            "mean reward so far: 171.2581481500022\n",
            "mean revenue so far: 583.0218901762114\n",
            "Day =  455\n",
            "comm_rate =  0.25\n"
          ]
        },
        {
          "name": "stderr",
          "output_type": "stream",
          "text": [
            "[2023-04-27 19:15:08,352] simulation time 18.9 s\n"
          ]
        },
        {
          "name": "stdout",
          "output_type": "stream",
          "text": [
            "nP =  661    nV =  51     reward= 324.4452651515151 revenue 1023.8864999999998 revenue/max_revenue 0.3878357954545454    nP/params.nP= 0.3305    nV/params.nV= 0.255\n",
            "mean reward so far: 171.56689420024418\n",
            "mean revenue so far: 584.0336262417583\n",
            "Day =  456\n",
            "comm_rate =  0.3\n"
          ]
        },
        {
          "name": "stderr",
          "output_type": "stream",
          "text": [
            "[2023-04-27 19:15:33,505] simulation time 19.7 s\n"
          ]
        },
        {
          "name": "stdout",
          "output_type": "stream",
          "text": [
            "nP =  655    nV =  38     reward= 335.34943939393935 revenue 1289.7675599999998 revenue/max_revenue 0.4885483181818181    nP/params.nP= 0.3275    nV/params.nV= 0.19\n",
            "mean reward so far: 171.90215378566364\n",
            "mean revenue so far: 584.9982158771929\n",
            "Day =  457\n",
            "comm_rate =  0.25\n"
          ]
        },
        {
          "name": "stderr",
          "output_type": "stream",
          "text": [
            "[2023-04-27 19:15:59,352] simulation time 19.7 s\n"
          ]
        },
        {
          "name": "stdout",
          "output_type": "stream",
          "text": [
            "nP =  636    nV =  47     reward= 316.4336616161616 revenue 1046.2346 revenue/max_revenue 0.39630098484848486    nP/params.nP= 0.318    nV/params.nV= 0.235\n",
            "mean reward so far: 172.25980648940165\n",
            "mean revenue so far: 586.5403807439826\n",
            "Day =  458\n",
            "comm_rate =  0.25\n"
          ]
        },
        {
          "name": "stderr",
          "output_type": "stream",
          "text": [
            "[2023-04-27 19:16:24,584] simulation time 19.1 s\n"
          ]
        },
        {
          "name": "stdout",
          "output_type": "stream",
          "text": [
            "nP =  672    nV =  39     reward= 304.64871212121216 revenue 1010.9778 revenue/max_revenue 0.3829461363636364    nP/params.nP= 0.336    nV/params.nV= 0.195\n",
            "mean reward so far: 172.57459656609765\n",
            "mean revenue so far: 587.5440799126637\n",
            "Day =  459\n",
            "comm_rate =  0.25\n"
          ]
        },
        {
          "name": "stderr",
          "output_type": "stream",
          "text": [
            "[2023-04-27 19:16:49,882] simulation time 19.9 s\n"
          ]
        },
        {
          "name": "stdout",
          "output_type": "stream",
          "text": [
            "nP =  649    nV =  37     reward= 306.3451893939394 revenue 1081.1739 revenue/max_revenue 0.4095355681818182    nP/params.nP= 0.3245    nV/params.nV= 0.185\n",
            "mean reward so far: 172.86233973724168\n",
            "mean revenue so far: 588.4665934640523\n",
            "Day =  460\n",
            "comm_rate =  0.25\n"
          ]
        },
        {
          "name": "stderr",
          "output_type": "stream",
          "text": [
            "[2023-04-27 19:17:15,325] simulation time 19.4 s\n"
          ]
        },
        {
          "name": "stdout",
          "output_type": "stream",
          "text": [
            "nP =  657    nV =  43     reward= 314.44820707070704 revenue 1055.5898 revenue/max_revenue 0.3998446212121212    nP/params.nP= 0.3285    nV/params.nV= 0.215\n",
            "mean reward so far: 173.15251984519102\n",
            "mean revenue so far: 589.5376963043478\n",
            "Day =  461\n",
            "comm_rate =  0.2\n"
          ]
        },
        {
          "name": "stderr",
          "output_type": "stream",
          "text": [
            "[2023-04-27 19:17:40,361] simulation time 19.6 s\n"
          ]
        },
        {
          "name": "stdout",
          "output_type": "stream",
          "text": [
            "nP =  668    nV =  44     reward= 290.1871515151515 revenue 835.72224 revenue/max_revenue 0.3165614545454546    nP/params.nP= 0.334    nV/params.nV= 0.22\n",
            "mean reward so far: 173.45901808212272\n",
            "mean revenue so far: 590.5486553145336\n",
            "Day =  462\n",
            "comm_rate =  0.25\n"
          ]
        },
        {
          "name": "stderr",
          "output_type": "stream",
          "text": [
            "[2023-04-27 19:18:06,573] simulation time 20.0 s\n"
          ]
        },
        {
          "name": "stdout",
          "output_type": "stream",
          "text": [
            "nP =  650    nV =  45     reward= 317.8712626262626 revenue 1065.5403999999999 revenue/max_revenue 0.4036137878787878    nP/params.nP= 0.325    nV/params.nV= 0.225\n",
            "mean reward so far: 173.7116763795968\n",
            "mean revenue so far: 591.0793340692642\n",
            "Day =  463\n",
            "comm_rate =  0.2\n"
          ]
        },
        {
          "name": "stderr",
          "output_type": "stream",
          "text": [
            "[2023-04-27 19:18:32,296] simulation time 19.5 s\n"
          ]
        },
        {
          "name": "stdout",
          "output_type": "stream",
          "text": [
            "nP =  675    nV =  52     reward= 305.9687676767677 revenue 845.87264 revenue/max_revenue 0.32040630303030304    nP/params.nP= 0.3375    nV/params.nV= 0.26\n",
            "mean reward so far: 174.0230361771058\n",
            "mean revenue so far: 592.1040879913606\n",
            "Day =  464\n",
            "comm_rate =  0.25\n"
          ]
        },
        {
          "name": "stderr",
          "output_type": "stream",
          "text": [
            "[2023-04-27 19:18:58,036] simulation time 20.3 s\n"
          ]
        },
        {
          "name": "stdout",
          "output_type": "stream",
          "text": [
            "nP =  656    nV =  57     reward= 343.74916666666667 revenue 1104.1734000000001 revenue/max_revenue 0.41824750000000005    nP/params.nP= 0.328    nV/params.nV= 0.285\n",
            "mean reward so far: 174.30740197775168\n",
            "mean revenue so far: 592.6510029741379\n",
            "Day =  465\n",
            "comm_rate =  0.3\n"
          ]
        },
        {
          "name": "stderr",
          "output_type": "stream",
          "text": [
            "[2023-04-27 19:19:24,097] simulation time 19.9 s\n"
          ]
        },
        {
          "name": "stdout",
          "output_type": "stream",
          "text": [
            "nP =  687    nV =  45     reward= 347.90051515151515 revenue 1254.53208 revenue/max_revenue 0.47520154545454546    nP/params.nP= 0.3435    nV/params.nV= 0.225\n",
            "mean reward so far: 174.6717928695558\n",
            "mean revenue so far: 593.751051139785\n",
            "Day =  466\n",
            "comm_rate =  0.35\n"
          ]
        },
        {
          "name": "stderr",
          "output_type": "stream",
          "text": [
            "[2023-04-27 19:19:49,955] simulation time 20.5 s\n"
          ]
        },
        {
          "name": "stdout",
          "output_type": "stream",
          "text": [
            "nP =  643    nV =  48     reward= 382.67555303030304 revenue 1548.4303799999998 revenue/max_revenue 0.5865266590909091    nP/params.nP= 0.3215    nV/params.nV= 0.24\n",
            "mean reward so far: 175.04352832509647\n",
            "mean revenue so far: 595.1690361802575\n",
            "Day =  467\n",
            "comm_rate =  0.4\n"
          ]
        },
        {
          "name": "stderr",
          "output_type": "stream",
          "text": [
            "[2023-04-27 19:20:15,511] simulation time 19.4 s\n"
          ]
        },
        {
          "name": "stdout",
          "output_type": "stream",
          "text": [
            "nP =  678    nV =  44     reward= 393.6789494949494 revenue 1642.1772799999999 revenue/max_revenue 0.6220368484848484    nP/params.nP= 0.339    nV/params.nV= 0.22\n",
            "mean reward so far: 175.48813651504338\n",
            "mean revenue so far: 597.2102810278371\n",
            "Day =  468\n",
            "comm_rate =  0.45\n"
          ]
        },
        {
          "name": "stderr",
          "output_type": "stream",
          "text": [
            "[2023-04-27 19:20:41,771] simulation time 20.1 s\n"
          ]
        },
        {
          "name": "stdout",
          "output_type": "stream",
          "text": [
            "nP =  681    nV =  49     reward= 442.078053030303 revenue 1955.53818 revenue/max_revenue 0.7407341590909091    nP/params.nP= 0.3405    nV/params.nV= 0.245\n",
            "mean reward so far: 175.95435620089785\n",
            "mean revenue so far: 599.4431164957265\n",
            "Day =  469\n",
            "comm_rate =  0.4\n"
          ]
        },
        {
          "name": "stderr",
          "output_type": "stream",
          "text": [
            "[2023-04-27 19:21:07,444] simulation time 20.3 s\n"
          ]
        },
        {
          "name": "stdout",
          "output_type": "stream",
          "text": [
            "nP =  690    nV =  47     reward= 414.3446666666666 revenue 1750.40976 revenue/max_revenue 0.663034    nP/params.nP= 0.345    nV/params.nV= 0.235\n",
            "mean reward so far: 176.52178412590723\n",
            "mean revenue so far: 602.3345771855011\n",
            "Day =  470\n",
            "comm_rate =  0.45\n"
          ]
        },
        {
          "name": "stderr",
          "output_type": "stream",
          "text": [
            "[2023-04-27 19:21:34,151] simulation time 20.5 s\n"
          ]
        },
        {
          "name": "stdout",
          "output_type": "stream",
          "text": [
            "nP =  659    nV =  33     reward= 425.41715151515155 revenue 2063.82384 revenue/max_revenue 0.7817514545454546    nP/params.nP= 0.3295    nV/params.nV= 0.165\n",
            "mean reward so far: 177.0277902589727\n",
            "mean revenue so far: 604.7772903404256\n",
            "Day =  471\n",
            "comm_rate =  0.5\n"
          ]
        },
        {
          "name": "stderr",
          "output_type": "stream",
          "text": [
            "[2023-04-27 19:21:59,145] simulation time 19.5 s\n"
          ]
        },
        {
          "name": "stdout",
          "output_type": "stream",
          "text": [
            "nP =  705    nV =  45     reward= 459.1790404040404 revenue 2112.098 revenue/max_revenue 0.8000371212121212    nP/params.nP= 0.3525    nV/params.nV= 0.225\n",
            "mean reward so far: 177.55515620643808\n",
            "mean revenue so far: 607.8750537154989\n",
            "Day =  472\n",
            "comm_rate =  0.5\n"
          ]
        },
        {
          "name": "stderr",
          "output_type": "stream",
          "text": [
            "[2023-04-27 19:22:26,152] simulation time 20.8 s\n"
          ]
        },
        {
          "name": "stdout",
          "output_type": "stream",
          "text": [
            "nP =  674    nV =  33     reward= 454.74462121212116 revenue 2276.2974 revenue/max_revenue 0.8622338636363636    nP/params.nP= 0.337    nV/params.nV= 0.165\n",
            "mean reward so far: 178.15181697804317\n",
            "mean revenue so far: 611.0619667372881\n",
            "Day =  473\n",
            "comm_rate =  0.5\n"
          ]
        },
        {
          "name": "stderr",
          "output_type": "stream",
          "text": [
            "[2023-04-27 19:22:52,237] simulation time 20.6 s\n"
          ]
        },
        {
          "name": "stdout",
          "output_type": "stream",
          "text": [
            "nP =  672    nV =  27     reward= 430.63017676767674 revenue 2167.151 revenue/max_revenue 0.8208905303030303    nP/params.nP= 0.336    nV/params.nV= 0.135\n",
            "mean reward so far: 178.73657977769236\n",
            "mean revenue so far: 614.5825490486259\n",
            "Day =  474\n",
            "comm_rate =  0.45\n"
          ]
        },
        {
          "name": "stderr",
          "output_type": "stream",
          "text": [
            "[2023-04-27 19:23:16,875] simulation time 19.2 s\n"
          ]
        },
        {
          "name": "stdout",
          "output_type": "stream",
          "text": [
            "nP =  657    nV =  42     reward= 427.82063636363637 revenue 1966.6994399999999 revenue/max_revenue 0.7449619090909091    nP/params.nP= 0.3285    nV/params.nV= 0.21\n",
            "mean reward so far: 179.26800086838853\n",
            "mean revenue so far: 617.8580099156118\n",
            "Day =  475\n",
            "comm_rate =  0.5\n"
          ]
        },
        {
          "name": "stderr",
          "output_type": "stream",
          "text": [
            "[2023-04-27 19:23:42,655] simulation time 19.6 s\n"
          ]
        },
        {
          "name": "stdout",
          "output_type": "stream",
          "text": [
            "nP =  645    nV =  21     reward= 407.9286363636363 revenue 2102.1947999999998 revenue/max_revenue 0.796285909090909    nP/params.nP= 0.3225    nV/params.nV= 0.105\n",
            "mean reward so far: 179.7912695746943\n",
            "mean revenue so far: 620.6976760842105\n",
            "Day =  476\n",
            "comm_rate =  0.5\n"
          ]
        },
        {
          "name": "stderr",
          "output_type": "stream",
          "text": [
            "[2023-04-27 19:24:05,297] simulation time 17.3 s\n"
          ]
        },
        {
          "name": "stdout",
          "output_type": "stream",
          "text": [
            "nP =  656    nV =  25     reward= 416.6484848484848 revenue 2103.9359999999997 revenue/max_revenue 0.7969454545454544    nP/params.nP= 0.328    nV/params.nV= 0.125\n",
            "mean reward so far: 180.27054975702404\n",
            "mean revenue so far: 623.8100649999999\n",
            "Day =  477\n",
            "comm_rate =  0.45\n"
          ]
        },
        {
          "name": "stderr",
          "output_type": "stream",
          "text": [
            "[2023-04-27 19:24:29,829] simulation time 18.3 s\n"
          ]
        },
        {
          "name": "stdout",
          "output_type": "stream",
          "text": [
            "nP =  632    nV =  23     reward= 383.47789393939394 revenue 1899.30492 revenue/max_revenue 0.7194336818181818    nP/params.nP= 0.316    nV/params.nV= 0.115\n",
            "mean reward so far: 180.76610098363085\n",
            "mean revenue so far: 626.9130543815514\n",
            "Day =  478\n",
            "comm_rate =  0.4\n"
          ]
        },
        {
          "name": "stderr",
          "output_type": "stream",
          "text": [
            "[2023-04-27 19:24:52,756] simulation time 17.6 s\n"
          ]
        },
        {
          "name": "stdout",
          "output_type": "stream",
          "text": [
            "nP =  594    nV =  30     reward= 357.0537777777777 revenue 1647.78592 revenue/max_revenue 0.6241613333333333    nP/params.nP= 0.297    nV/params.nV= 0.15\n",
            "mean reward so far: 181.19018423249227\n",
            "mean revenue so far: 629.5749620502091\n",
            "Day =  479\n",
            "comm_rate =  0.35\n"
          ]
        },
        {
          "name": "stderr",
          "output_type": "stream",
          "text": [
            "[2023-04-27 19:25:17,045] simulation time 18.0 s\n"
          ]
        },
        {
          "name": "stdout",
          "output_type": "stream",
          "text": [
            "nP =  608    nV =  33     reward= 328.16514393939394 revenue 1360.90794 revenue/max_revenue 0.5154954318181818    nP/params.nP= 0.304    nV/params.nV= 0.165\n",
            "mean reward so far: 181.55733160941355\n",
            "mean revenue so far: 631.7006634237995\n",
            "Day =  480\n",
            "comm_rate =  0.3\n"
          ]
        },
        {
          "name": "stderr",
          "output_type": "stream",
          "text": [
            "[2023-04-27 19:25:40,955] simulation time 18.5 s\n"
          ]
        },
        {
          "name": "stdout",
          "output_type": "stream",
          "text": [
            "nP =  617    nV =  23     reward= 288.64099999999996 revenue 1167.9967199999999 revenue/max_revenue 0.44242299999999996    nP/params.nP= 0.3085    nV/params.nV= 0.115\n",
            "mean reward so far: 181.8627645517677\n",
            "mean revenue so far: 633.2198452499999\n",
            "Day =  481\n",
            "comm_rate =  0.35\n"
          ]
        },
        {
          "name": "stderr",
          "output_type": "stream",
          "text": [
            "[2023-04-27 19:26:04,526] simulation time 17.4 s\n"
          ]
        },
        {
          "name": "stdout",
          "output_type": "stream",
          "text": [
            "nP =  587    nV =  20     reward= 306.1439343434343 revenue 1385.8199599999998 revenue/max_revenue 0.524931803030303    nP/params.nP= 0.2935    nV/params.nV= 0.1\n",
            "mean reward so far: 182.0847567252567\n",
            "mean revenue so far: 634.3316474844074\n",
            "Day =  482\n",
            "comm_rate =  0.35\n"
          ]
        },
        {
          "name": "stderr",
          "output_type": "stream",
          "text": [
            "[2023-04-27 19:26:26,868] simulation time 17.0 s\n"
          ]
        },
        {
          "name": "stdout",
          "output_type": "stream",
          "text": [
            "nP =  584    nV =  16     reward= 295.11724494949493 revenue 1355.24858 revenue/max_revenue 0.5133517348484848    nP/params.nP= 0.292    nV/params.nV= 0.08\n",
            "mean reward so far: 182.34214091118656\n",
            "mean revenue so far: 635.8907518672198\n",
            "Day =  483\n",
            "comm_rate =  0.3\n"
          ]
        },
        {
          "name": "stderr",
          "output_type": "stream",
          "text": [
            "[2023-04-27 19:26:47,035] simulation time 14.8 s\n"
          ]
        },
        {
          "name": "stdout",
          "output_type": "stream",
          "text": [
            "nP =  566    nV =  27     reward= 283.64866666666666 revenue 1142.97744 revenue/max_revenue 0.43294599999999994    nP/params.nP= 0.283    nV/params.nV= 0.135\n",
            "mean reward so far: 182.57562973942322\n",
            "mean revenue so far: 637.3801055486542\n",
            "Day =  484\n",
            "comm_rate =  0.3\n"
          ]
        },
        {
          "name": "stderr",
          "output_type": "stream",
          "text": [
            "[2023-04-27 19:27:10,384] simulation time 17.2 s\n"
          ]
        },
        {
          "name": "stdout",
          "output_type": "stream",
          "text": [
            "nP =  546    nV =  38     reward= 291.2590303030302 revenue 1084.4515199999998 revenue/max_revenue 0.41077709090909087    nP/params.nP= 0.273    nV/params.nV= 0.19\n",
            "mean reward so far: 182.78445832811587\n",
            "mean revenue so far: 638.4247281404957\n",
            "Day =  485\n",
            "comm_rate =  0.35\n"
          ]
        },
        {
          "name": "stderr",
          "output_type": "stream",
          "text": [
            "[2023-04-27 19:27:32,671] simulation time 16.9 s\n"
          ]
        },
        {
          "name": "stdout",
          "output_type": "stream",
          "text": [
            "nP =  543    nV =  33     reward= 300.41949242424243 revenue 1226.96238 revenue/max_revenue 0.46475847727272723    nP/params.nP= 0.2715    nV/params.nV= 0.165\n",
            "mean reward so far: 183.00811723940436\n",
            "mean revenue so far: 639.3443710103093\n",
            "Day =  486\n",
            "comm_rate =  0.35\n"
          ]
        },
        {
          "name": "stderr",
          "output_type": "stream",
          "text": [
            "[2023-04-27 19:27:55,678] simulation time 16.9 s\n"
          ]
        },
        {
          "name": "stdout",
          "output_type": "stream",
          "text": [
            "nP =  517    nV =  31     reward= 296.09649242424234 revenue 1253.4442199999999 revenue/max_revenue 0.47478947727272724    nP/params.nP= 0.2585    nV/params.nV= 0.155\n",
            "mean reward so far: 183.2497044311427\n",
            "mean revenue so far: 640.553461563786\n",
            "Day =  487\n",
            "comm_rate =  0.3\n"
          ]
        },
        {
          "name": "stderr",
          "output_type": "stream",
          "text": [
            "[2023-04-27 19:28:17,362] simulation time 16.3 s\n"
          ]
        },
        {
          "name": "stdout",
          "output_type": "stream",
          "text": [
            "nP =  530    nV =  26     reward= 255.61624242424242 revenue 981.6806399999999 revenue/max_revenue 0.3718487272727272    nP/params.nP= 0.265    nV/params.nV= 0.13\n",
            "mean reward so far: 183.4814226816419\n",
            "mean revenue so far: 641.8119641478439\n",
            "Day =  488\n",
            "comm_rate =  0.35\n"
          ]
        },
        {
          "name": "stderr",
          "output_type": "stream",
          "text": [
            "[2023-04-27 19:28:39,804] simulation time 16.3 s\n"
          ]
        },
        {
          "name": "stdout",
          "output_type": "stream",
          "text": [
            "nP =  569    nV =  31     reward= 299.9200252525252 revenue 1215.0865999999999 revenue/max_revenue 0.4602600757575757    nP/params.nP= 0.2845    nV/params.nV= 0.155\n",
            "mean reward so far: 183.62923993521278\n",
            "mean revenue so far: 642.508416352459\n",
            "Day =  489\n",
            "comm_rate =  0.3\n"
          ]
        },
        {
          "name": "stderr",
          "output_type": "stream",
          "text": [
            "[2023-04-27 19:29:02,575] simulation time 17.4 s\n"
          ]
        },
        {
          "name": "stdout",
          "output_type": "stream",
          "text": [
            "nP =  556    nV =  36     reward= 292.92068181818183 revenue 1110.8118 revenue/max_revenue 0.42076204545454543    nP/params.nP= 0.278    nV/params.nV= 0.18\n",
            "mean reward so far: 183.86705340211938\n",
            "mean revenue so far: 643.6793328834356\n",
            "Day =  490\n",
            "comm_rate =  0.35\n"
          ]
        },
        {
          "name": "stderr",
          "output_type": "stream",
          "text": [
            "[2023-04-27 19:29:25,866] simulation time 17.1 s\n"
          ]
        },
        {
          "name": "stdout",
          "output_type": "stream",
          "text": [
            "nP =  524    nV =  32     reward= 298.9107171717172 revenue 1253.29288 revenue/max_revenue 0.4747321515151515    nP/params.nP= 0.262    nV/params.nV= 0.16\n",
            "mean reward so far: 184.08961182745827\n",
            "mean revenue so far: 644.6326644489795\n",
            "Day =  491\n",
            "comm_rate =  0.35\n"
          ]
        },
        {
          "name": "stderr",
          "output_type": "stream",
          "text": [
            "[2023-04-27 19:29:47,692] simulation time 16.5 s\n"
          ]
        },
        {
          "name": "stdout",
          "output_type": "stream",
          "text": [
            "nP =  555    nV =  29     reward= 292.39639646464644 revenue 1200.3794599999997 revenue/max_revenue 0.45468918939393926    nP/params.nP= 0.2775    nV/params.nV= 0.145\n",
            "mean reward so far: 184.3234633658376\n",
            "mean revenue so far: 645.8722982892057\n",
            "Day =  492\n",
            "comm_rate =  0.3\n"
          ]
        },
        {
          "name": "stderr",
          "output_type": "stream",
          "text": [
            "[2023-04-27 19:30:10,852] simulation time 17.0 s\n"
          ]
        },
        {
          "name": "stdout",
          "output_type": "stream",
          "text": [
            "nP =  539    nV =  41     reward= 296.9346212121212 revenue 1099.0421999999999 revenue/max_revenue 0.41630386363636357    nP/params.nP= 0.2695    nV/params.nV= 0.205\n",
            "mean reward so far: 184.54312379896527\n",
            "mean revenue so far: 646.9993453658536\n",
            "Day =  493\n",
            "comm_rate =  0.35\n"
          ]
        },
        {
          "name": "stderr",
          "output_type": "stream",
          "text": [
            "[2023-04-27 19:30:33,638] simulation time 17.5 s\n"
          ]
        },
        {
          "name": "stdout",
          "output_type": "stream",
          "text": [
            "nP =  549    nV =  37     reward= 306.7346994949495 revenue 1216.2588199999998 revenue/max_revenue 0.4607040984848484    nP/params.nP= 0.2745    nV/params.nV= 0.185\n",
            "mean reward so far: 184.77109843874854\n",
            "mean revenue so far: 647.9162679918863\n",
            "Day =  494\n",
            "comm_rate =  0.4\n"
          ]
        },
        {
          "name": "stderr",
          "output_type": "stream",
          "text": [
            "[2023-04-27 19:30:55,974] simulation time 17.0 s\n"
          ]
        },
        {
          "name": "stdout",
          "output_type": "stream",
          "text": [
            "nP =  555    nV =  30     reward= 325.11109090909093 revenue 1446.2798400000001 revenue/max_revenue 0.5478332727272728    nP/params.nP= 0.2775    nV/params.nV= 0.15\n",
            "mean reward so far: 185.01798831942915\n",
            "mean revenue so far: 649.0667589878542\n",
            "Day =  495\n",
            "comm_rate =  0.45\n"
          ]
        },
        {
          "name": "stderr",
          "output_type": "stream",
          "text": [
            "[2023-04-27 19:31:19,121] simulation time 17.0 s\n"
          ]
        },
        {
          "name": "stdout",
          "output_type": "stream",
          "text": [
            "nP =  568    nV =  38     reward= 361.80274999999995 revenue 1614.11778 revenue/max_revenue 0.61140825    nP/params.nP= 0.284    nV/params.nV= 0.19\n",
            "mean reward so far: 185.30100468829713\n",
            "mean revenue so far: 650.6772904646464\n",
            "Day =  496\n",
            "comm_rate =  0.5\n"
          ]
        },
        {
          "name": "stderr",
          "output_type": "stream",
          "text": [
            "[2023-04-27 19:31:41,877] simulation time 17.4 s\n"
          ]
        },
        {
          "name": "stdout",
          "output_type": "stream",
          "text": [
            "nP =  559    nV =  24     reward= 368.8873232323232 revenue 1866.9076 revenue/max_revenue 0.7071619696969697    nP/params.nP= 0.2795    nV/params.nV= 0.12\n",
            "mean reward so far: 185.65685498126427\n",
            "mean revenue so far: 652.6197108064516\n",
            "Day =  497\n",
            "comm_rate =  0.5\n"
          ]
        },
        {
          "name": "stderr",
          "output_type": "stream",
          "text": [
            "[2023-04-27 19:32:04,628] simulation time 16.7 s\n"
          ]
        },
        {
          "name": "stdout",
          "output_type": "stream",
          "text": [
            "nP =  572    nV =  21     reward= 355.29027777777776 revenue 1781.6589999999999 revenue/max_revenue 0.6748708333333333    nP/params.nP= 0.286    nV/params.nV= 0.105\n",
            "mean reward so far: 186.02552795561246\n",
            "mean revenue so far: 655.0629459959758\n",
            "Day =  498\n",
            "comm_rate =  0.5\n"
          ]
        },
        {
          "name": "stderr",
          "output_type": "stream",
          "text": [
            "[2023-04-27 19:32:25,930] simulation time 16.0 s\n"
          ]
        },
        {
          "name": "stdout",
          "output_type": "stream",
          "text": [
            "nP =  582    nV =  21     reward= 368.0082828282828 revenue 1869.1855999999998 revenue/max_revenue 0.7080248484848484    nP/params.nP= 0.291    nV/params.nV= 0.105\n",
            "mean reward so far: 186.36541701148028\n",
            "mean revenue so far: 657.3251870682731\n",
            "Day =  499\n",
            "comm_rate =  0.55\n"
          ]
        },
        {
          "name": "stderr",
          "output_type": "stream",
          "text": [
            "[2023-04-27 19:32:48,308] simulation time 16.3 s\n"
          ]
        },
        {
          "name": "stdout",
          "output_type": "stream",
          "text": [
            "nP =  524    nV =  34     reward= 407.5625833333333 revenue 2087.41566 revenue/max_revenue 0.79068775    nP/params.nP= 0.262    nV/params.nV= 0.17\n",
            "mean reward so far: 186.7294307706322\n",
            "mean revenue so far: 659.7537650501002\n",
            "Day =  500\n",
            "comm_rate =  0.55\n"
          ]
        },
        {
          "name": "stderr",
          "output_type": "stream",
          "text": [
            "[2023-04-27 19:33:10,012] simulation time 16.3 s\n"
          ]
        },
        {
          "name": "stdout",
          "output_type": "stream",
          "text": [
            "nP =  542    nV =  20     reward= 361.5258611111111 revenue 1883.8448200000003 revenue/max_revenue 0.7135775833333334    nP/params.nP= 0.271    nV/params.nV= 0.1\n",
            "mean reward so far: 187.17109707575756\n",
            "mean revenue so far: 662.60908884\n",
            "Day =  501\n",
            "comm_rate =  0.6\n"
          ]
        },
        {
          "name": "stderr",
          "output_type": "stream",
          "text": [
            "[2023-04-27 19:33:31,580] simulation time 15.5 s\n"
          ]
        },
        {
          "name": "stdout",
          "output_type": "stream",
          "text": [
            "nP =  512    nV =  19     reward= 392.08793939393934 revenue 2178.6964799999996 revenue/max_revenue 0.825263818181818    nP/params.nP= 0.256    nV/params.nV= 0.095\n",
            "mean reward so far: 187.51911057682617\n",
            "mean revenue so far: 665.0466851097805\n",
            "Day =  502\n",
            "comm_rate =  0.65\n"
          ]
        },
        {
          "name": "stderr",
          "output_type": "stream",
          "text": [
            "[2023-04-27 19:33:52,034] simulation time 15.1 s\n"
          ]
        },
        {
          "name": "stdout",
          "output_type": "stream",
          "text": [
            "nP =  508    nV =  18     reward= 379.5785328282828 revenue 2098.10198 revenue/max_revenue 0.7947355984848484    nP/params.nP= 0.254    nV/params.nV= 0.09\n",
            "mean reward so far: 187.92661820395188\n",
            "mean revenue so far: 668.0619237450198\n",
            "Day =  503\n",
            "comm_rate =  0.7\n"
          ]
        },
        {
          "name": "stderr",
          "output_type": "stream",
          "text": [
            "[2023-04-27 19:34:12,790] simulation time 14.6 s\n"
          ]
        },
        {
          "name": "stdout",
          "output_type": "stream",
          "text": [
            "nP =  506    nV =  18     reward= 403.82911616161607 revenue 2292.8066 revenue/max_revenue 0.8684873484848484    nP/params.nP= 0.253    nV/params.nV= 0.09\n",
            "mean reward so far: 188.30763592686307\n",
            "mean revenue so far: 670.9049457256461\n",
            "Day =  504\n",
            "comm_rate =  0.7\n"
          ]
        },
        {
          "name": "stderr",
          "output_type": "stream",
          "text": [
            "[2023-04-27 19:34:32,631] simulation time 14.5 s\n"
          ]
        },
        {
          "name": "stdout",
          "output_type": "stream",
          "text": [
            "nP =  477    nV =  11     reward= 396.76624747474744 revenue 2367.54868 revenue/max_revenue 0.8967987424242424    nP/params.nP= 0.2385    nV/params.nV= 0.055\n",
            "mean reward so far: 188.73525791145582\n",
            "mean revenue so far: 674.1230045634921\n",
            "Day =  505\n",
            "comm_rate =  0.65\n"
          ]
        },
        {
          "name": "stderr",
          "output_type": "stream",
          "text": [
            "[2023-04-27 19:34:50,749] simulation time 12.0 s\n"
          ]
        },
        {
          "name": "stdout",
          "output_type": "stream",
          "text": [
            "nP =  460    nV =  27     reward= 377.0247803030303 revenue 2022.43626 revenue/max_revenue 0.7660743409090909    nP/params.nP= 0.23    nV/params.nV= 0.135\n",
            "mean reward so far: 189.1472004650465\n",
            "mean revenue so far: 677.4763227326733\n",
            "Day =  506\n",
            "comm_rate =  0.6\n"
          ]
        },
        {
          "name": "stderr",
          "output_type": "stream",
          "text": [
            "[2023-04-27 19:35:10,954] simulation time 14.9 s\n"
          ]
        },
        {
          "name": "stdout",
          "output_type": "stream",
          "text": [
            "nP =  453    nV =  25     reward= 345.51209090909083 revenue 1808.4957599999998 revenue/max_revenue 0.6850362727272726    nP/params.nP= 0.2265    nV/params.nV= 0.125\n",
            "mean reward so far: 189.5185000299437\n",
            "mean revenue so far: 680.1343463241107\n",
            "Day =  507\n",
            "comm_rate =  0.65\n"
          ]
        },
        {
          "name": "stderr",
          "output_type": "stream",
          "text": [
            "[2023-04-27 19:35:31,796] simulation time 14.7 s\n"
          ]
        },
        {
          "name": "stdout",
          "output_type": "stream",
          "text": [
            "nP =  442    nV =  25     reward= 351.48069696969696 revenue 1870.28712 revenue/max_revenue 0.7084420909090909    nP/params.nP= 0.221    nV/params.nV= 0.125\n",
            "mean reward so far: 189.826179696372\n",
            "mean revenue so far: 682.3599112426035\n",
            "Day =  508\n",
            "comm_rate =  0.65\n"
          ]
        },
        {
          "name": "stderr",
          "output_type": "stream",
          "text": [
            "[2023-04-27 19:35:51,487] simulation time 14.4 s\n"
          ]
        },
        {
          "name": "stdout",
          "output_type": "stream",
          "text": [
            "nP =  469    nV =  18     reward= 344.3877626262626 revenue 1870.87108 revenue/max_revenue 0.7086632878787879    nP/params.nP= 0.2345    nV/params.nV= 0.09\n",
            "mean reward so far: 190.14439725005965\n",
            "mean revenue so far: 684.6983506299212\n",
            "Day =  509\n",
            "comm_rate =  0.7\n"
          ]
        },
        {
          "name": "stderr",
          "output_type": "stream",
          "text": [
            "[2023-04-27 19:36:11,648] simulation time 14.0 s\n"
          ]
        },
        {
          "name": "stdout",
          "output_type": "stream",
          "text": [
            "nP =  479    nV =  19     reward= 382.44355555555546 revenue 2145.8729599999997 revenue/max_revenue 0.8128306666666666    nP/params.nP= 0.2395    nV/params.nV= 0.095\n",
            "mean reward so far: 190.44742940207576\n",
            "mean revenue so far: 687.0287489194499\n",
            "Day =  510\n",
            "comm_rate =  0.75\n"
          ]
        },
        {
          "name": "stderr",
          "output_type": "stream",
          "text": [
            "[2023-04-27 19:36:31,332] simulation time 14.4 s\n"
          ]
        },
        {
          "name": "stdout",
          "output_type": "stream",
          "text": [
            "nP =  464    nV =  16     reward= 403.79128787878784 revenue 2374.3469999999998 revenue/max_revenue 0.8993738636363635    nP/params.nP= 0.232    nV/params.nV= 0.08\n",
            "mean reward so far: 190.82389239453354\n",
            "mean revenue so far: 689.8892277647059\n",
            "Day =  511\n",
            "comm_rate =  0.8\n"
          ]
        },
        {
          "name": "stderr",
          "output_type": "stream",
          "text": [
            "[2023-04-27 19:36:50,993] simulation time 13.4 s\n"
          ]
        },
        {
          "name": "stdout",
          "output_type": "stream",
          "text": [
            "nP =  460    nV =  21     reward= 422.9794343434343 revenue 2465.5971200000004 revenue/max_revenue 0.9339383030303031    nP/params.nP= 0.23    nV/params.nV= 0.105\n",
            "mean reward so far: 191.24065833481586\n",
            "mean revenue so far: 693.1856226223091\n",
            "Day =  512\n",
            "comm_rate =  0.85\n"
          ]
        },
        {
          "name": "stderr",
          "output_type": "stream",
          "text": [
            "[2023-04-27 19:37:10,446] simulation time 14.2 s\n"
          ]
        },
        {
          "name": "stdout",
          "output_type": "stream",
          "text": [
            "nP =  456    nV =  19     reward= 437.8216919191919 revenue 2614.8278 revenue/max_revenue 0.9904650757575758    nP/params.nP= 0.228    nV/params.nV= 0.095\n",
            "mean reward so far: 191.6932731317077\n",
            "mean revenue so far: 696.647363828125\n",
            "Day =  513\n",
            "comm_rate =  0.8\n"
          ]
        },
        {
          "name": "stderr",
          "output_type": "stream",
          "text": [
            "[2023-04-27 19:37:30,295] simulation time 13.7 s\n"
          ]
        },
        {
          "name": "stdout",
          "output_type": "stream",
          "text": [
            "nP =  436    nV =  25     reward= 420.87175757575756 revenue 2427.7843199999998 revenue/max_revenue 0.9196152727272726    nP/params.nP= 0.218    nV/params.nV= 0.125\n",
            "mean reward so far: 192.1730556244708\n",
            "mean revenue so far: 700.3865069785576\n",
            "Day =  514\n",
            "comm_rate =  0.75\n"
          ]
        },
        {
          "name": "stderr",
          "output_type": "stream",
          "text": [
            "[2023-04-27 19:37:49,874] simulation time 14.2 s\n"
          ]
        },
        {
          "name": "stdout",
          "output_type": "stream",
          "text": [
            "nP =  436    nV =  19     reward= 387.0446590909091 revenue 2239.0737 revenue/max_revenue 0.8481339772727272    nP/params.nP= 0.218    nV/params.nV= 0.095\n",
            "mean reward so far: 192.61799473332547\n",
            "mean revenue so far: 703.7472031128406\n",
            "Day =  515\n",
            "comm_rate =  0.8\n"
          ]
        },
        {
          "name": "stderr",
          "output_type": "stream",
          "text": [
            "[2023-04-27 19:38:09,687] simulation time 13.7 s\n"
          ]
        },
        {
          "name": "stdout",
          "output_type": "stream",
          "text": [
            "nP =  422    nV =  12     reward= 387.1781414141414 revenue 2351.01088 revenue/max_revenue 0.8905344242424241    nP/params.nP= 0.211    nV/params.nV= 0.06\n",
            "mean reward so far: 192.99552223693243\n",
            "mean revenue so far: 706.7284196116505\n",
            "Day =  516\n",
            "comm_rate =  0.85\n"
          ]
        },
        {
          "name": "stderr",
          "output_type": "stream",
          "text": [
            "[2023-04-27 19:38:26,384] simulation time 11.4 s\n"
          ]
        },
        {
          "name": "stdout",
          "output_type": "stream",
          "text": [
            "nP =  419    nV =  28     reward= 419.27171717171706 revenue 2397.9519999999998 revenue/max_revenue 0.9083151515151514    nP/params.nP= 0.2095    nV/params.nV= 0.14\n",
            "mean reward so far: 193.37184514231458\n",
            "mean revenue so far: 709.9150135271318\n",
            "Day =  517\n",
            "comm_rate =  0.9\n"
          ]
        },
        {
          "name": "stderr",
          "output_type": "stream",
          "text": [
            "[2023-04-27 19:38:46,461] simulation time 14.0 s\n"
          ]
        },
        {
          "name": "stdout",
          "output_type": "stream",
          "text": [
            "nP =  433    nV =  21     reward= 427.40962121212124 revenue 2536.3242 revenue/max_revenue 0.9607288636363637    nP/params.nP= 0.2165    nV/params.nV= 0.105\n",
            "mean reward so far: 193.80878880194595\n",
            "mean revenue so far: 713.1800753965184\n",
            "Day =  518\n",
            "comm_rate =  0.9\n"
          ]
        },
        {
          "name": "stderr",
          "output_type": "stream",
          "text": [
            "[2023-04-27 19:39:05,746] simulation time 14.0 s\n"
          ]
        },
        {
          "name": "stdout",
          "output_type": "stream",
          "text": [
            "nP =  427    nV =  19     reward= 424.3445151515151 revenue 2546.36856 revenue/max_revenue 0.9645335454545454    nP/params.nP= 0.2135    nV/params.nV= 0.095\n",
            "mean reward so far: 194.25975565988065\n",
            "mean revenue so far: 716.6996586486488\n",
            "Day =  519\n",
            "comm_rate =  0.95\n"
          ]
        },
        {
          "name": "stderr",
          "output_type": "stream",
          "text": [
            "[2023-04-27 19:39:25,225] simulation time 13.3 s\n"
          ]
        },
        {
          "name": "stdout",
          "output_type": "stream",
          "text": [
            "nP =  434    nV =  17     reward= 438.6370353535353 revenue 2676.7253199999996 revenue/max_revenue 1.0139111060606059    nP/params.nP= 0.217    nV/params.nV= 0.085\n",
            "mean reward so far: 194.70307889589537\n",
            "mean revenue so far: 720.2250322543352\n",
            "Day =  520\n",
            "comm_rate =  1\n"
          ]
        },
        {
          "name": "stderr",
          "output_type": "stream",
          "text": [
            "[2023-04-27 19:39:43,725] simulation time 13.2 s\n"
          ]
        },
        {
          "name": "stdout",
          "output_type": "stream",
          "text": [
            "nP =  427    nV =  13     reward= 457.51489898989894 revenue 2888.278 revenue/max_revenue 1.0940446969696969    nP/params.nP= 0.2135    nV/params.nV= 0.065\n",
            "mean reward so far: 195.17218265831391\n",
            "mean revenue so far: 723.9875328076923\n",
            "Day =  521\n",
            "comm_rate =  1.0\n"
          ]
        },
        {
          "name": "stderr",
          "output_type": "stream",
          "text": [
            "[2023-04-27 19:40:01,761] simulation time 11.9 s\n"
          ]
        },
        {
          "name": "stdout",
          "output_type": "stream",
          "text": [
            "nP =  416    nV =  29     reward= 479.6125252525252 revenue 2866.6111999999994 revenue/max_revenue 1.0858375757575756    nP/params.nP= 0.208    nV/params.nV= 0.145\n",
            "mean reward so far: 195.6757195418678\n",
            "mean revenue so far: 728.1416411900193\n",
            "Day =  522\n",
            "comm_rate =  1.0\n"
          ]
        },
        {
          "name": "stderr",
          "output_type": "stream",
          "text": [
            "[2023-04-27 19:40:20,834] simulation time 13.8 s\n"
          ]
        },
        {
          "name": "stdout",
          "output_type": "stream",
          "text": [
            "nP =  404    nV =  14     reward= 443.5373232323232 revenue 2794.7356 revenue/max_revenue 1.0586119696969696    nP/params.nP= 0.202    nV/params.nV= 0.07\n",
            "mean reward so far: 196.21965978269282\n",
            "mean revenue so far: 732.2383261685824\n",
            "Day =  523\n",
            "comm_rate =  0.95\n"
          ]
        },
        {
          "name": "stderr",
          "output_type": "stream",
          "text": [
            "[2023-04-27 19:40:38,809] simulation time 11.9 s\n"
          ]
        },
        {
          "name": "stdout",
          "output_type": "stream",
          "text": [
            "nP =  405    nV =  24     reward= 429.6283510101009 revenue 2551.2565399999994 revenue/max_revenue 0.9663850530303028    nP/params.nP= 0.2025    nV/params.nV= 0.12\n",
            "mean reward so far: 196.69254250439386\n",
            "mean revenue so far: 736.1819156022946\n",
            "Day =  524\n",
            "comm_rate =  1\n"
          ]
        },
        {
          "name": "stderr",
          "output_type": "stream",
          "text": [
            "[2023-04-27 19:40:57,752] simulation time 13.7 s\n"
          ]
        },
        {
          "name": "stdout",
          "output_type": "stream",
          "text": [
            "nP =  411    nV =  17     reward= 444.29606060606056 revenue 2751.9048000000003 revenue/max_revenue 1.042388181818182    nP/params.nP= 0.2055    nV/params.nV= 0.085\n",
            "mean reward so far: 197.13707649009174\n",
            "mean revenue so far: 739.6457984732825\n",
            "Day =  525\n",
            "comm_rate =  1.0\n"
          ]
        },
        {
          "name": "stderr",
          "output_type": "stream",
          "text": [
            "[2023-04-27 19:41:16,571] simulation time 12.7 s\n"
          ]
        },
        {
          "name": "stdout",
          "output_type": "stream",
          "text": [
            "nP =  394    nV =  19     reward= 441.32939393939387 revenue 2724.4487999999997 revenue/max_revenue 1.0319881818181817    nP/params.nP= 0.197    nV/params.nV= 0.095\n",
            "mean reward so far: 197.60785550745547\n",
            "mean revenue so far: 743.4786727619048\n",
            "Day =  526\n",
            "comm_rate =  0.95\n"
          ]
        },
        {
          "name": "stderr",
          "output_type": "stream",
          "text": [
            "[2023-04-27 19:41:34,760] simulation time 12.9 s\n"
          ]
        },
        {
          "name": "stdout",
          "output_type": "stream",
          "text": [
            "nP =  377    nV =  17     reward= 397.74428535353536 revenue 2428.09474 revenue/max_revenue 0.9197328560606061    nP/params.nP= 0.1885    nV/params.nV= 0.085\n",
            "mean reward so far: 198.0712044398356\n",
            "mean revenue so far: 747.2447756653993\n",
            "Day =  527\n",
            "comm_rate =  1\n"
          ]
        },
        {
          "name": "stderr",
          "output_type": "stream",
          "text": [
            "[2023-04-27 19:41:52,813] simulation time 11.9 s\n"
          ]
        },
        {
          "name": "stdout",
          "output_type": "stream",
          "text": [
            "nP =  383    nV =  10     reward= 406.3118686868687 revenue 2580.4300000000003 revenue/max_revenue 0.9774356060606062    nP/params.nP= 0.1915    nV/params.nV= 0.05\n",
            "mean reward so far: 198.45009074137963\n",
            "mean revenue so far: 750.4342442884251\n",
            "Day =  528\n",
            "comm_rate =  1\n"
          ]
        },
        {
          "name": "stderr",
          "output_type": "stream",
          "text": [
            "[2023-04-27 19:42:08,627] simulation time 10.5 s\n"
          ]
        },
        {
          "name": "stdout",
          "output_type": "stream",
          "text": [
            "nP =  378    nV =  16     reward= 411.0385353535353 revenue 2545.2652 revenue/max_revenue 0.964115606060606    nP/params.nP= 0.189    nV/params.nV= 0.08\n",
            "mean reward so far: 198.84376835112488\n",
            "mean revenue so far: 753.9001453409091\n",
            "Day =  529\n",
            "comm_rate =  0.95\n"
          ]
        },
        {
          "name": "stderr",
          "output_type": "stream",
          "text": [
            "[2023-04-27 19:42:26,774] simulation time 12.0 s\n"
          ]
        },
        {
          "name": "stdout",
          "output_type": "stream",
          "text": [
            "nP =  374    nV =  14     reward= 385.927553030303 revenue 2378.0662199999997 revenue/max_revenue 0.9007826590909089    nP/params.nP= 0.187    nV/params.nV= 0.07\n",
            "mean reward so far: 199.24489267438085\n",
            "mean revenue so far: 757.2864686956522\n",
            "Day =  530\n",
            "comm_rate =  0.9\n"
          ]
        },
        {
          "name": "stderr",
          "output_type": "stream",
          "text": [
            "[2023-04-27 19:42:43,561] simulation time 11.5 s\n"
          ]
        },
        {
          "name": "stdout",
          "output_type": "stream",
          "text": [
            "nP =  381    nV =  24     reward= 387.5427727272727 revenue 2249.61876 revenue/max_revenue 0.8521283181818181    nP/params.nP= 0.1905    nV/params.nV= 0.12\n",
            "mean reward so far: 199.59712410901463\n",
            "mean revenue so far: 760.3445436981132\n",
            "Day =  531\n",
            "comm_rate =  0.9\n"
          ]
        },
        {
          "name": "stderr",
          "output_type": "stream",
          "text": [
            "[2023-04-27 19:43:02,529] simulation time 12.9 s\n"
          ]
        },
        {
          "name": "stdout",
          "output_type": "stream",
          "text": [
            "nP =  373    nV =  23     reward= 387.37581818181815 revenue 2272.0564799999997 revenue/max_revenue 0.8606274545454544    nP/params.nP= 0.1865    nV/params.nV= 0.115\n",
            "mean reward so far: 199.951070716582\n",
            "mean revenue so far: 763.1492032391714\n",
            "Day =  532\n",
            "comm_rate =  0.9\n"
          ]
        },
        {
          "name": "stderr",
          "output_type": "stream",
          "text": [
            "[2023-04-27 19:43:20,502] simulation time 12.7 s\n"
          ]
        },
        {
          "name": "stdout",
          "output_type": "stream",
          "text": [
            "nP =  374    nV =  16     reward= 368.2698181818182 revenue 2211.81696 revenue/max_revenue 0.8378094545454546    nP/params.nP= 0.187    nV/params.nV= 0.08\n",
            "mean reward so far: 200.30337287347155\n",
            "mean revenue so far: 765.985495112782\n",
            "Day =  533\n",
            "comm_rate =  0.85\n"
          ]
        },
        {
          "name": "stderr",
          "output_type": "stream",
          "text": [
            "[2023-04-27 19:43:38,549] simulation time 11.9 s\n"
          ]
        },
        {
          "name": "stdout",
          "output_type": "stream",
          "text": [
            "nP =  376    nV =  15     reward= 355.7953459595959 revenue 2123.57914 revenue/max_revenue 0.8043860378787878    nP/params.nP= 0.188    nV/params.nV= 0.075\n",
            "mean reward so far: 200.618506917202\n",
            "mean revenue so far: 768.6981245028143\n",
            "Day =  534\n",
            "comm_rate =  0.9\n"
          ]
        },
        {
          "name": "stderr",
          "output_type": "stream",
          "text": [
            "[2023-04-27 19:43:55,568] simulation time 11.7 s\n"
          ]
        },
        {
          "name": "stdout",
          "output_type": "stream",
          "text": [
            "nP =  375    nV =  17     reward= 378.4326515151514 revenue 2277.7865999999995 revenue/max_revenue 0.8627979545454544    nP/params.nP= 0.1875    nV/params.nV= 0.085\n",
            "mean reward so far: 200.90910024874208\n",
            "mean revenue so far: 771.2353548689138\n",
            "Day =  535\n",
            "comm_rate =  0.95\n"
          ]
        },
        {
          "name": "stderr",
          "output_type": "stream",
          "text": [
            "[2023-04-27 19:44:13,787] simulation time 12.1 s\n"
          ]
        },
        {
          "name": "stdout",
          "output_type": "stream",
          "text": [
            "nP =  378    nV =  13     reward= 382.293606060606 revenue 2357.20536 revenue/max_revenue 0.8928808181818182    nP/params.nP= 0.189    nV/params.nV= 0.065\n",
            "mean reward so far: 201.24091997073538\n",
            "mean revenue so far: 774.0513385046728\n",
            "Day =  536\n",
            "comm_rate =  1\n"
          ]
        },
        {
          "name": "stderr",
          "output_type": "stream",
          "text": [
            "[2023-04-27 19:44:30,147] simulation time 11.1 s\n"
          ]
        },
        {
          "name": "stdout",
          "output_type": "stream",
          "text": [
            "nP =  361    nV =  19     reward= 417.03 revenue 2575.5576 revenue/max_revenue 0.9755900000000001    nP/params.nP= 0.1805    nV/params.nV= 0.095\n",
            "mean reward so far: 201.57870483284336\n",
            "mean revenue so far: 777.0049840671642\n",
            "Day =  537\n",
            "comm_rate =  0.95\n"
          ]
        },
        {
          "name": "stderr",
          "output_type": "stream",
          "text": [
            "[2023-04-27 19:44:48,622] simulation time 12.3 s\n"
          ]
        },
        {
          "name": "stdout",
          "output_type": "stream",
          "text": [
            "nP =  359    nV =  17     reward= 391.99317171717166 revenue 2406.30592 revenue/max_revenue 0.911479515151515    nP/params.nP= 0.1795    nV/params.nV= 0.085\n",
            "mean reward so far: 201.97991767300564\n",
            "mean revenue so far: 780.3542440595904\n",
            "Day =  538\n",
            "comm_rate =  0.9\n"
          ]
        },
        {
          "name": "stderr",
          "output_type": "stream",
          "text": [
            "[2023-04-27 19:45:05,572] simulation time 11.7 s\n"
          ]
        },
        {
          "name": "stdout",
          "output_type": "stream",
          "text": [
            "nP =  340    nV =  20     reward= 365.80190909090896 revenue 2184.35112 revenue/max_revenue 0.8274057272727272    nP/params.nP= 0.17    nV/params.nV= 0.1\n",
            "mean reward so far: 202.33310216007658\n",
            "mean revenue so far: 783.376459070632\n",
            "Day =  539\n",
            "comm_rate =  0.95\n"
          ]
        },
        {
          "name": "stderr",
          "output_type": "stream",
          "text": [
            "[2023-04-27 19:45:23,254] simulation time 11.6 s\n"
          ]
        },
        {
          "name": "stdout",
          "output_type": "stream",
          "text": [
            "nP =  365    nV =  17     reward= 379.93182323232315 revenue 2302.8600399999996 revenue/max_revenue 0.8722954696969696    nP/params.nP= 0.1825    nV/params.nV= 0.085\n",
            "mean reward so far: 202.63638380558834\n",
            "mean revenue so far: 785.9756699443413\n",
            "Day =  540\n",
            "comm_rate =  0.95\n"
          ]
        },
        {
          "name": "stderr",
          "output_type": "stream",
          "text": [
            "[2023-04-27 19:45:40,438] simulation time 11.9 s\n"
          ]
        },
        {
          "name": "stdout",
          "output_type": "stream",
          "text": [
            "nP =  381    nV =  13     reward= 375.94141919191907 revenue 2302.9360399999996 revenue/max_revenue 0.8723242575757574    nP/params.nP= 0.1905    nV/params.nV= 0.065\n",
            "mean reward so far: 202.96470869341564\n",
            "mean revenue so far: 788.7847150740741\n",
            "Day =  541\n",
            "comm_rate =  1\n"
          ]
        },
        {
          "name": "stderr",
          "output_type": "stream",
          "text": [
            "[2023-04-27 19:45:58,004] simulation time 11.4 s\n"
          ]
        },
        {
          "name": "stdout",
          "output_type": "stream",
          "text": [
            "nP =  342    nV =  13     reward= 393.95348484848483 revenue 2497.0716 revenue/max_revenue 0.9458604545454546    nP/params.nP= 0.171    nV/params.nV= 0.065\n",
            "mean reward so far: 203.28444383296926\n",
            "mean revenue so far: 791.5835160443623\n",
            "Day =  542\n",
            "comm_rate =  1\n"
          ]
        },
        {
          "name": "stderr",
          "output_type": "stream",
          "text": [
            "[2023-04-27 19:46:14,174] simulation time 10.9 s\n"
          ]
        },
        {
          "name": "stdout",
          "output_type": "stream",
          "text": [
            "nP =  359    nV =  14     reward= 376.8263636363636 revenue 2325.7848 revenue/max_revenue 0.8809790909090909    nP/params.nP= 0.1795    nV/params.nV= 0.07\n",
            "mean reward so far: 203.63623173152186\n",
            "mean revenue so far: 794.7301730258303\n",
            "Day =  543\n",
            "comm_rate =  0.95\n"
          ]
        },
        {
          "name": "stderr",
          "output_type": "stream",
          "text": [
            "[2023-04-27 19:46:31,352] simulation time 11.1 s\n"
          ]
        },
        {
          "name": "stdout",
          "output_type": "stream",
          "text": [
            "nP =  359    nV =  32     reward= 414.89664646464644 revenue 2389.70144 revenue/max_revenue 0.9051899393939393    nP/params.nP= 0.1795    nV/params.nV= 0.16\n",
            "mean reward so far: 203.95518225068363\n",
            "mean revenue so far: 797.54979480663\n",
            "Day =  544\n",
            "comm_rate =  0.95\n"
          ]
        },
        {
          "name": "stderr",
          "output_type": "stream",
          "text": [
            "[2023-04-27 19:46:49,114] simulation time 12.5 s\n"
          ]
        },
        {
          "name": "stdout",
          "output_type": "stream",
          "text": [
            "nP =  360    nV =  13     reward= 376.0008964646464 revenue 2331.1270999999997 revenue/max_revenue 0.8830026893939393    nP/params.nP= 0.18    nV/params.nV= 0.065\n",
            "mean reward so far: 204.3429422951946\n",
            "mean revenue so far: 800.4765441544117\n",
            "Day =  545\n",
            "comm_rate =  0.9\n"
          ]
        },
        {
          "name": "stderr",
          "output_type": "stream",
          "text": [
            "[2023-04-27 19:47:06,129] simulation time 10.9 s\n"
          ]
        },
        {
          "name": "stdout",
          "output_type": "stream",
          "text": [
            "nP =  353    nV =  15     reward= 365.1156515151515 revenue 2227.75596 revenue/max_revenue 0.8438469545454546    nP/params.nP= 0.1765    nV/params.nV= 0.075\n",
            "mean reward so far: 204.65791101844127\n",
            "mean revenue so far: 803.2850772844037\n",
            "Day =  546\n",
            "comm_rate =  0.9\n"
          ]
        },
        {
          "name": "stderr",
          "output_type": "stream",
          "text": [
            "[2023-04-27 19:47:22,556] simulation time 11.1 s\n"
          ]
        },
        {
          "name": "stdout",
          "output_type": "stream",
          "text": [
            "nP =  336    nV =  18     reward= 362.3106818181818 revenue 2188.3806 revenue/max_revenue 0.8289320454545455    nP/params.nP= 0.168    nV/params.nV= 0.09\n",
            "mean reward so far: 204.95178966403967\n",
            "mean revenue so far: 805.8939983150183\n",
            "Day =  547\n",
            "comm_rate =  0.95\n"
          ]
        },
        {
          "name": "stderr",
          "output_type": "stream",
          "text": [
            "[2023-04-27 19:47:40,176] simulation time 11.5 s\n"
          ]
        },
        {
          "name": "stdout",
          "output_type": "stream",
          "text": [
            "nP =  350    nV =  17     reward= 358.44353030303023 revenue 2152.4727599999997 revenue/max_revenue 0.8153305909090908    nP/params.nP= 0.175    nV/params.nV= 0.085\n",
            "mean reward so far: 205.23946588369986\n",
            "mean revenue so far: 808.4213961243145\n",
            "Day =  548\n",
            "comm_rate =  1\n"
          ]
        },
        {
          "name": "stderr",
          "output_type": "stream",
          "text": [
            "[2023-04-27 19:47:57,161] simulation time 11.7 s\n"
          ]
        },
        {
          "name": "stdout",
          "output_type": "stream",
          "text": [
            "nP =  359    nV =  20     reward= 403.93020202020205 revenue 2461.2472 revenue/max_revenue 0.932290606060606    nP/params.nP= 0.1795    nV/params.nV= 0.1\n",
            "mean reward so far: 205.5190353443191\n",
            "mean revenue so far: 810.8740445985402\n",
            "Day =  549\n",
            "comm_rate =  1\n"
          ]
        },
        {
          "name": "stderr",
          "output_type": "stream",
          "text": [
            "[2023-04-27 19:48:15,556] simulation time 12.2 s\n"
          ]
        },
        {
          "name": "stdout",
          "output_type": "stream",
          "text": [
            "nP =  353    nV =  18     reward= 395.52747474747474 revenue 2429.0176 revenue/max_revenue 0.9200824242424243    nP/params.nP= 0.1765    nV/params.nV= 0.09\n",
            "mean reward so far: 205.88044001950283\n",
            "mean revenue so far: 813.8801887795995\n",
            "Day =  550\n",
            "comm_rate =  1\n"
          ]
        },
        {
          "name": "stderr",
          "output_type": "stream",
          "text": [
            "[2023-04-27 19:48:32,557] simulation time 11.8 s\n"
          ]
        },
        {
          "name": "stdout",
          "output_type": "stream",
          "text": [
            "nP =  356    nV =  15     reward= 390.9985353535353 revenue 2428.7883999999995 revenue/max_revenue 0.9199956060606058    nP/params.nP= 0.178    nV/params.nV= 0.075\n",
            "mean reward so far: 206.22525280991732\n",
            "mean revenue so far: 816.8168022545455\n",
            "Day =  551\n",
            "comm_rate =  1\n"
          ]
        },
        {
          "name": "stderr",
          "output_type": "stream",
          "text": [
            "[2023-04-27 19:48:49,945] simulation time 11.3 s\n"
          ]
        },
        {
          "name": "stdout",
          "output_type": "stream",
          "text": [
            "nP =  346    nV =  14     reward= 386.4259595959596 revenue 2418.9736000000003 revenue/max_revenue 0.9162778787878789    nP/params.nP= 0.173    nV/params.nV= 0.07\n",
            "mean reward so far: 206.5605945205228\n",
            "mean revenue so far: 819.7423405444648\n",
            "Day =  552\n",
            "comm_rate =  0.95\n"
          ]
        },
        {
          "name": "stderr",
          "output_type": "stream",
          "text": [
            "[2023-04-27 19:49:06,230] simulation time 11.1 s\n"
          ]
        },
        {
          "name": "stdout",
          "output_type": "stream",
          "text": [
            "nP =  335    nV =  13     reward= 352.52480808080804 revenue 2178.1964799999996 revenue/max_revenue 0.825074424242424    nP/params.nP= 0.1675    nV/params.nV= 0.065\n",
            "mean reward so far: 206.88643757319568\n",
            "mean revenue so far: 822.6394986231884\n",
            "Day =  553\n",
            "comm_rate =  1\n"
          ]
        },
        {
          "name": "stderr",
          "output_type": "stream",
          "text": [
            "[2023-04-27 19:49:22,994] simulation time 10.6 s\n"
          ]
        },
        {
          "name": "stdout",
          "output_type": "stream",
          "text": [
            "nP =  324    nV =  16     reward= 364.4345959595959 revenue 2247.442 revenue/max_revenue 0.8513037878787879    nP/params.nP= 0.162    nV/params.nV= 0.08\n",
            "mean reward so far: 207.1497980985259\n",
            "mean revenue so far: 825.0907770705245\n",
            "Day =  554\n",
            "comm_rate =  1\n"
          ]
        },
        {
          "name": "stderr",
          "output_type": "stream",
          "text": [
            "[2023-04-27 19:49:39,163] simulation time 11.0 s\n"
          ]
        },
        {
          "name": "stdout",
          "output_type": "stream",
          "text": [
            "nP =  345    nV =  14     reward= 364.6780303030303 revenue 2248.05 revenue/max_revenue 0.8515340909090909    nP/params.nP= 0.1725    nV/params.nV= 0.07\n",
            "mean reward so far: 207.4337056758925\n",
            "mean revenue so far: 827.6581980505416\n",
            "Day =  555\n",
            "comm_rate =  0.95\n"
          ]
        },
        {
          "name": "stderr",
          "output_type": "stream",
          "text": [
            "[2023-04-27 19:49:56,004] simulation time 10.7 s\n"
          ]
        },
        {
          "name": "stdout",
          "output_type": "stream",
          "text": [
            "nP =  305    nV =  17     reward= 367.6174696969697 revenue 2284.5303599999997 revenue/max_revenue 0.865352409090909    nP/params.nP= 0.1525    nV/params.nV= 0.085\n",
            "mean reward so far: 207.71702878332874\n",
            "mean revenue so far: 830.2174625585585\n",
            "Day =  556\n",
            "comm_rate =  0.9\n"
          ]
        },
        {
          "name": "stderr",
          "output_type": "stream",
          "text": [
            "[2023-04-27 19:50:12,127] simulation time 10.8 s\n"
          ]
        },
        {
          "name": "stdout",
          "output_type": "stream",
          "text": [
            "nP =  314    nV =  21     reward= 323.7115606060605 revenue 1872.1155599999997 revenue/max_revenue 0.7091346818181817    nP/params.nP= 0.157    nV/params.nV= 0.105\n",
            "mean reward so far: 208.00461950439643\n",
            "mean revenue so far: 832.8331332374103\n",
            "Day =  557\n",
            "comm_rate =  0.95\n"
          ]
        },
        {
          "name": "stderr",
          "output_type": "stream",
          "text": [
            "[2023-04-27 19:50:28,547] simulation time 11.2 s\n"
          ]
        },
        {
          "name": "stdout",
          "output_type": "stream",
          "text": [
            "nP =  329    nV =  17     reward= 337.91641161616155 revenue 2017.6179799999998 revenue/max_revenue 0.7642492348484847    nP/params.nP= 0.1645    nV/params.nV= 0.085\n",
            "mean reward so far: 208.21235189416606\n",
            "mean revenue so far: 834.6989903770199\n",
            "Day =  558\n",
            "comm_rate =  0.9\n"
          ]
        },
        {
          "name": "stderr",
          "output_type": "stream",
          "text": [
            "[2023-04-27 19:50:46,159] simulation time 11.5 s\n"
          ]
        },
        {
          "name": "stdout",
          "output_type": "stream",
          "text": [
            "nP =  329    nV =  21     reward= 343.40510606060604 revenue 2008.2884400000003 revenue/max_revenue 0.7607153181818183    nP/params.nP= 0.1645    nV/params.nV= 0.105\n",
            "mean reward so far: 208.44479644563916\n",
            "mean revenue so far: 836.8189168817205\n",
            "Day =  559\n",
            "comm_rate =  0.95\n"
          ]
        },
        {
          "name": "stderr",
          "output_type": "stream",
          "text": [
            "[2023-04-27 19:51:03,061] simulation time 11.7 s\n"
          ]
        },
        {
          "name": "stdout",
          "output_type": "stream",
          "text": [
            "nP =  325    nV =  17     reward= 343.9809267676767 revenue 2070.92894 revenue/max_revenue 0.7844427803030303    nP/params.nP= 0.1625    nV/params.nV= 0.085\n",
            "mean reward so far: 208.6862281265246\n",
            "mean revenue so far: 838.9145689803221\n",
            "Day =  560\n",
            "comm_rate =  0.9\n"
          ]
        },
        {
          "name": "stderr",
          "output_type": "stream",
          "text": [
            "[2023-04-27 19:51:20,277] simulation time 11.1 s\n"
          ]
        },
        {
          "name": "stdout",
          "output_type": "stream",
          "text": [
            "nP =  325    nV =  13     reward= 330.4142424242424 revenue 2016.2808 revenue/max_revenue 0.7637427272727273    nP/params.nP= 0.1625    nV/params.nV= 0.065\n",
            "mean reward so far: 208.92782580266956\n",
            "mean revenue so far: 841.114594642857\n",
            "Day =  561\n",
            "comm_rate =  0.85\n"
          ]
        },
        {
          "name": "stderr",
          "output_type": "stream",
          "text": [
            "[2023-04-27 19:51:36,156] simulation time 10.6 s\n"
          ]
        },
        {
          "name": "stdout",
          "output_type": "stream",
          "text": [
            "nP =  298    nV =  15     reward= 308.19124494949494 revenue 1849.5146599999998 revenue/max_revenue 0.7005737348484847    nP/params.nP= 0.149    nV/params.nV= 0.075\n",
            "mean reward so far: 209.14437912998073\n",
            "mean revenue so far: 843.2093650623885\n",
            "Day =  562\n",
            "comm_rate =  0.8\n"
          ]
        },
        {
          "name": "stderr",
          "output_type": "stream",
          "text": [
            "[2023-04-27 19:51:52,801] simulation time 10.5 s\n"
          ]
        },
        {
          "name": "stdout",
          "output_type": "stream",
          "text": [
            "nP =  316    nV =  15     reward= 281.2257777777778 revenue 1612.18816 revenue/max_revenue 0.6106773333333333    nP/params.nP= 0.158    nV/params.nV= 0.075\n",
            "mean reward so far: 209.32061910474857\n",
            "mean revenue so far: 844.9999438790035\n",
            "Day =  563\n",
            "comm_rate =  0.8\n"
          ]
        },
        {
          "name": "stderr",
          "output_type": "stream",
          "text": [
            "[2023-04-27 19:52:09,002] simulation time 11.0 s\n"
          ]
        },
        {
          "name": "stdout",
          "output_type": "stream",
          "text": [
            "nP =  329    nV =  15     reward= 293.4451717171717 revenue 1691.8057600000002 revenue/max_revenue 0.6408355151515153    nP/params.nP= 0.1645    nV/params.nV= 0.075\n",
            "mean reward so far: 209.44833697095285\n",
            "mean revenue so far: 846.3626227708703\n",
            "Day =  564\n",
            "comm_rate =  0.8\n"
          ]
        },
        {
          "name": "stderr",
          "output_type": "stream",
          "text": [
            "[2023-04-27 19:52:26,037] simulation time 11.0 s\n"
          ]
        },
        {
          "name": "stdout",
          "output_type": "stream",
          "text": [
            "nP =  298    nV =  21     reward= 308.394101010101 revenue 1771.92128 revenue/max_revenue 0.671182303030303    nP/params.nP= 0.149    nV/params.nV= 0.105\n",
            "mean reward so far: 209.59726752901352\n",
            "mean revenue so far: 847.8616354255317\n",
            "Day =  565\n",
            "comm_rate =  0.85\n"
          ]
        },
        {
          "name": "stderr",
          "output_type": "stream",
          "text": [
            "[2023-04-27 19:52:42,110] simulation time 10.9 s\n"
          ]
        },
        {
          "name": "stdout",
          "output_type": "stream",
          "text": [
            "nP =  321    nV =  23     reward= 313.15641919191916 revenue 1752.8788399999999 revenue/max_revenue 0.6639692575757575    nP/params.nP= 0.1605    nV/params.nV= 0.115\n",
            "mean reward so far: 209.77212918119244\n",
            "mean revenue so far: 849.4971392212389\n",
            "Day =  566\n",
            "comm_rate =  0.85\n"
          ]
        },
        {
          "name": "stderr",
          "output_type": "stream",
          "text": [
            "[2023-04-27 19:52:59,635] simulation time 11.5 s\n"
          ]
        },
        {
          "name": "stdout",
          "output_type": "stream",
          "text": [
            "nP =  324    nV =  16     reward= 317.0382727272727 revenue 1872.06312 revenue/max_revenue 0.7091148181818182    nP/params.nP= 0.162    nV/params.nV= 0.08\n",
            "mean reward so far: 209.95478693739514\n",
            "mean revenue so far: 851.0932199646642\n",
            "Day =  567\n",
            "comm_rate =  0.8\n"
          ]
        },
        {
          "name": "stderr",
          "output_type": "stream",
          "text": [
            "[2023-04-27 19:53:15,982] simulation time 11.1 s\n"
          ]
        },
        {
          "name": "stdout",
          "output_type": "stream",
          "text": [
            "nP =  314    nV =  22     reward= 305.49175757575756 revenue 1714.61472 revenue/max_revenue 0.6494752727272728    nP/params.nP= 0.157    nV/params.nV= 0.11\n",
            "mean reward so far: 210.143646700693\n",
            "mean revenue so far: 852.8938723456789\n",
            "Day =  568\n",
            "comm_rate =  0.8\n"
          ]
        },
        {
          "name": "stderr",
          "output_type": "stream",
          "text": [
            "[2023-04-27 19:53:33,289] simulation time 11.2 s\n"
          ]
        },
        {
          "name": "stdout",
          "output_type": "stream",
          "text": [
            "nP =  313    nV =  13     reward= 297.38428282828283 revenue 1770.5235200000002 revenue/max_revenue 0.6706528484848485    nP/params.nP= 0.1565    nV/params.nV= 0.065\n",
            "mean reward so far: 210.31151309307864\n",
            "mean revenue so far: 854.4109865140845\n",
            "Day =  569\n",
            "comm_rate =  0.85\n"
          ]
        },
        {
          "name": "stderr",
          "output_type": "stream",
          "text": [
            "[2023-04-27 19:53:48,899] simulation time 10.4 s\n"
          ]
        },
        {
          "name": "stdout",
          "output_type": "stream",
          "text": [
            "nP =  326    nV =  14     reward= 293.2544419191919 revenue 1707.45518 revenue/max_revenue 0.6467633257575758    nP/params.nP= 0.163    nV/params.nV= 0.07\n",
            "mean reward so far: 210.4645408079033\n",
            "mean revenue so far: 856.0210261159929\n",
            "Day =  570\n",
            "comm_rate =  0.8\n"
          ]
        },
        {
          "name": "stderr",
          "output_type": "stream",
          "text": [
            "[2023-04-27 19:54:05,776] simulation time 10.8 s\n"
          ]
        },
        {
          "name": "stdout",
          "output_type": "stream",
          "text": [
            "nP =  284    nV =  27     reward= 314.89240404040396 revenue 1762.66784 revenue/max_revenue 0.6676772121212121    nP/params.nP= 0.142    nV/params.nV= 0.135\n",
            "mean reward so far: 210.60978624844938\n",
            "mean revenue so far: 857.5147702456139\n",
            "Day =  571\n",
            "comm_rate =  0.75\n"
          ]
        },
        {
          "name": "stderr",
          "output_type": "stream",
          "text": [
            "[2023-04-27 19:54:21,626] simulation time 10.6 s\n"
          ]
        },
        {
          "name": "stdout",
          "output_type": "stream",
          "text": [
            "nP =  325    nV =  22     reward= 266.77007575757574 revenue 1393.4189999999999 revenue/max_revenue 0.5278102272727272    nP/params.nP= 0.1625    nV/params.nV= 0.11\n",
            "mean reward so far: 210.79241780325142\n",
            "mean revenue so far: 859.099977022767\n",
            "Day =  572\n",
            "comm_rate =  0.7\n"
          ]
        },
        {
          "name": "stderr",
          "output_type": "stream",
          "text": [
            "[2023-04-27 19:54:38,434] simulation time 11.6 s\n"
          ]
        },
        {
          "name": "stdout",
          "output_type": "stream",
          "text": [
            "nP =  316    nV =  16     reward= 271.4924191919191 revenue 1521.8999599999997 revenue/max_revenue 0.5764772575757575    nP/params.nP= 0.158    nV/params.nV= 0.08\n",
            "mean reward so far: 210.8902808416331\n",
            "mean revenue so far: 860.0341011888111\n",
            "Day =  573\n",
            "comm_rate =  0.75\n"
          ]
        },
        {
          "name": "stderr",
          "output_type": "stream",
          "text": [
            "[2023-04-27 19:54:55,551] simulation time 10.9 s\n"
          ]
        },
        {
          "name": "stdout",
          "output_type": "stream",
          "text": [
            "nP =  337    nV =  18     reward= 293.2464015151515 revenue 1640.0715 revenue/max_revenue 0.6212392045454546    nP/params.nP= 0.1685    nV/params.nV= 0.09\n",
            "mean reward so far: 210.9960437357872\n",
            "mean revenue so far: 861.189189947644\n",
            "Day =  574\n",
            "comm_rate =  0.7\n"
          ]
        },
        {
          "name": "stderr",
          "output_type": "stream",
          "text": [
            "[2023-04-27 19:55:12,256] simulation time 11.5 s\n"
          ]
        },
        {
          "name": "stdout",
          "output_type": "stream",
          "text": [
            "nP =  312    nV =  15     reward= 286.4199191919192 revenue 1658.60576 revenue/max_revenue 0.6282597575757576    nP/params.nP= 0.156    nV/params.nV= 0.075\n",
            "mean reward so far: 211.13933704202302\n",
            "mean revenue so far: 862.5461277700347\n",
            "Day =  575\n",
            "comm_rate =  0.75\n"
          ]
        },
        {
          "name": "stderr",
          "output_type": "stream",
          "text": [
            "[2023-04-27 19:55:29,029] simulation time 10.6 s\n"
          ]
        },
        {
          "name": "stdout",
          "output_type": "stream",
          "text": [
            "nP =  343    nV =  16     reward= 288.1608333333333 revenue 1618.2738 revenue/max_revenue 0.6129825    nP/params.nP= 0.1715    nV/params.nV= 0.08\n",
            "mean reward so far: 211.27025979358805\n",
            "mean revenue so far: 863.9305793043477\n",
            "Day =  576\n",
            "comm_rate =  0.7\n"
          ]
        },
        {
          "name": "stderr",
          "output_type": "stream",
          "text": [
            "[2023-04-27 19:55:45,597] simulation time 11.3 s\n"
          ]
        },
        {
          "name": "stdout",
          "output_type": "stream",
          "text": [
            "nP =  312    nV =  20     reward= 294.06555555555553 revenue 1653.1591999999998 revenue/max_revenue 0.6261966666666666    nP/params.nP= 0.156    nV/params.nV= 0.1\n",
            "mean reward so far: 211.4037503726501\n",
            "mean revenue so far: 865.2402029513889\n",
            "Day =  577\n",
            "comm_rate =  0.75\n"
          ]
        },
        {
          "name": "stderr",
          "output_type": "stream",
          "text": [
            "[2023-04-27 19:56:02,833] simulation time 11.1 s\n"
          ]
        },
        {
          "name": "stdout",
          "output_type": "stream",
          "text": [
            "nP =  333    nV =  17     reward= 289.0999242424242 revenue 1625.7114 revenue/max_revenue 0.6157997727272727    nP/params.nP= 0.1665    nV/params.nV= 0.085\n",
            "mean reward so far: 211.5470117334524\n",
            "mean revenue so far: 866.6057471403813\n",
            "Day =  578\n",
            "comm_rate =  0.75\n"
          ]
        },
        {
          "name": "stderr",
          "output_type": "stream",
          "text": [
            "[2023-04-27 19:56:19,462] simulation time 11.4 s\n"
          ]
        },
        {
          "name": "stdout",
          "output_type": "stream",
          "text": [
            "nP =  325    nV =  17     reward= 295.0639772727272 revenue 1683.5067 revenue/max_revenue 0.6376919318181817    nP/params.nP= 0.1625    nV/params.nV= 0.085\n",
            "mean reward so far: 211.68118632256824\n",
            "mean revenue so far: 867.9190787197233\n",
            "Day =  579\n",
            "comm_rate =  0.75\n"
          ]
        },
        {
          "name": "stderr",
          "output_type": "stream",
          "text": [
            "[2023-04-27 19:56:36,644] simulation time 11.0 s\n"
          ]
        },
        {
          "name": "stdout",
          "output_type": "stream",
          "text": [
            "nP =  312    nV =  15     reward= 285.8317803030303 revenue 1653.9477 revenue/max_revenue 0.6264953409090909    nP/params.nP= 0.156    nV/params.nV= 0.075\n",
            "mean reward so far: 211.825198051325\n",
            "mean revenue so far: 869.3276929188255\n",
            "Day =  580\n",
            "comm_rate =  0.7\n"
          ]
        },
        {
          "name": "stderr",
          "output_type": "stream",
          "text": [
            "[2023-04-27 19:56:52,457] simulation time 10.6 s\n"
          ]
        },
        {
          "name": "stdout",
          "output_type": "stream",
          "text": [
            "nP =  330    nV =  23     reward= 280.55819696969695 revenue 1482.82092 revenue/max_revenue 0.5616745909090909    nP/params.nP= 0.165    nV/params.nV= 0.115\n",
            "mean reward so far: 211.95279560693137\n",
            "mean revenue so far: 870.6804860344827\n",
            "Day =  581\n",
            "comm_rate =  0.7\n"
          ]
        },
        {
          "name": "stderr",
          "output_type": "stream",
          "text": [
            "[2023-04-27 19:57:10,411] simulation time 11.8 s\n"
          ]
        },
        {
          "name": "stdout",
          "output_type": "stream",
          "text": [
            "nP =  333    nV =  10     reward= 270.97016666666667 revenue 1574.52372 revenue/max_revenue 0.5964105    nP/params.nP= 0.1665    nV/params.nV= 0.05\n",
            "mean reward so far: 212.0708771927537\n",
            "mean revenue so far: 871.7340840275389\n",
            "Day =  582\n",
            "comm_rate =  0.7\n"
          ]
        },
        {
          "name": "stderr",
          "output_type": "stream",
          "text": [
            "[2023-04-27 19:57:25,410] simulation time 9.9 s\n"
          ]
        },
        {
          "name": "stdout",
          "output_type": "stream",
          "text": [
            "nP =  290    nV =  10     reward= 268.3254999999999 revenue 1610.3379599999998 revenue/max_revenue 0.6099764999999999    nP/params.nP= 0.145    nV/params.nV= 0.05\n",
            "mean reward so far: 212.1720787210594\n",
            "mean revenue so far: 872.9416263573883\n",
            "Day =  583\n",
            "comm_rate =  0.65\n"
          ]
        },
        {
          "name": "stderr",
          "output_type": "stream",
          "text": [
            "[2023-04-27 19:57:39,832] simulation time 9.1 s\n"
          ]
        },
        {
          "name": "stdout",
          "output_type": "stream",
          "text": [
            "nP =  319    nV =  16     reward= 243.99756313131311 revenue 1300.1807 revenue/max_revenue 0.49249268939393936    nP/params.nP= 0.1595    nV/params.nV= 0.08\n",
            "mean reward so far: 212.26839676785005\n",
            "mean revenue so far: 874.2064571183533\n",
            "Day =  584\n",
            "comm_rate =  0.6\n"
          ]
        },
        {
          "name": "stderr",
          "output_type": "stream",
          "text": [
            "[2023-04-27 19:57:57,049] simulation time 11.1 s\n"
          ]
        },
        {
          "name": "stdout",
          "output_type": "stream",
          "text": [
            "nP =  285    nV =  16     reward= 239.1669090909091 revenue 1306.8019199999999 revenue/max_revenue 0.4950007272727272    nP/params.nP= 0.1425    nV/params.nV= 0.08\n",
            "mean reward so far: 212.322727532171\n",
            "mean revenue so far: 874.9358650684933\n",
            "Day =  585\n",
            "comm_rate =  0.6\n"
          ]
        },
        {
          "name": "stderr",
          "output_type": "stream",
          "text": [
            "[2023-04-27 19:58:12,737] simulation time 10.5 s\n"
          ]
        },
        {
          "name": "stdout",
          "output_type": "stream",
          "text": [
            "nP =  319    nV =  14     reward= 217.08836363636362 revenue 1113.45984 revenue/max_revenue 0.4217650909090909    nP/params.nP= 0.1595    nV/params.nV= 0.07\n",
            "mean reward so far: 212.368615022015\n",
            "mean revenue so far: 875.6740976410257\n",
            "Day =  586\n",
            "comm_rate =  0.65\n"
          ]
        },
        {
          "name": "stderr",
          "output_type": "stream",
          "text": [
            "[2023-04-27 19:58:29,426] simulation time 10.5 s\n"
          ]
        },
        {
          "name": "stdout",
          "output_type": "stream",
          "text": [
            "nP =  305    nV =  12     reward= 253.48684595959597 revenue 1446.61582 revenue/max_revenue 0.5479605378787878    nP/params.nP= 0.1525    nV/params.nV= 0.06\n",
            "mean reward so far: 212.3766692005378\n",
            "mean revenue so far: 876.0798753583617\n",
            "Day =  587\n",
            "comm_rate =  0.65\n"
          ]
        },
        {
          "name": "stderr",
          "output_type": "stream",
          "text": [
            "[2023-04-27 19:58:44,654] simulation time 9.9 s\n"
          ]
        },
        {
          "name": "stdout",
          "output_type": "stream",
          "text": [
            "nP =  315    nV =  18     reward= 255.80726767676765 revenue 1372.5935600000003 revenue/max_revenue 0.5199218030303031    nP/params.nP= 0.1575    nV/params.nV= 0.09\n",
            "mean reward so far: 212.4467035732108\n",
            "mean revenue so far: 877.0518275638842\n",
            "Day =  588\n",
            "comm_rate =  0.65\n"
          ]
        },
        {
          "name": "stderr",
          "output_type": "stream",
          "text": [
            "[2023-04-27 19:59:01,782] simulation time 11.0 s\n"
          ]
        },
        {
          "name": "stdout",
          "output_type": "stream",
          "text": [
            "nP =  273    nV =  21     reward= 268.2922878787879 revenue 1487.31492 revenue/max_revenue 0.5633768636363636    nP/params.nP= 0.1365    nV/params.nV= 0.105\n",
            "mean reward so far: 212.52044602916925\n",
            "mean revenue so far: 877.8945856122449\n",
            "Day =  589\n",
            "comm_rate =  0.65\n"
          ]
        },
        {
          "name": "stderr",
          "output_type": "stream",
          "text": [
            "[2023-04-27 19:59:17,324] simulation time 10.3 s\n"
          ]
        },
        {
          "name": "stdout",
          "output_type": "stream",
          "text": [
            "nP =  283    nV =  12     reward= 221.78049242424242 revenue 1224.5415 revenue/max_revenue 0.4638414772727273    nP/params.nP= 0.1415    nV/params.nV= 0.06\n",
            "mean reward so far: 212.61513506456757\n",
            "mean revenue so far: 878.9292551103565\n",
            "Day =  590\n",
            "comm_rate =  0.6\n"
          ]
        },
        {
          "name": "stderr",
          "output_type": "stream",
          "text": [
            "[2023-04-27 19:59:33,260] simulation time 9.8 s\n"
          ]
        },
        {
          "name": "stdout",
          "output_type": "stream",
          "text": [
            "nP =  315    nV =  14     reward= 222.63375757575753 revenue 1162.6593599999999 revenue/max_revenue 0.4404012727272727    nP/params.nP= 0.1575    nV/params.nV= 0.07\n",
            "mean reward so far: 212.63066956856701\n",
            "mean revenue so far: 879.5150385762713\n",
            "Day =  591\n",
            "comm_rate =  0.6\n"
          ]
        },
        {
          "name": "stderr",
          "output_type": "stream",
          "text": [
            "[2023-04-27 19:59:48,886] simulation time 10.3 s\n"
          ]
        },
        {
          "name": "stdout",
          "output_type": "stream",
          "text": [
            "nP =  293    nV =  18     reward= 247.2559696969697 revenue 1333.90728 revenue/max_revenue 0.505267909090909    nP/params.nP= 0.1465    nV/params.nV= 0.09\n",
            "mean reward so far: 212.64759526739476\n",
            "mean revenue so far: 879.994132182741\n",
            "Day =  592\n",
            "comm_rate =  0.55\n"
          ]
        },
        {
          "name": "stderr",
          "output_type": "stream",
          "text": [
            "[2023-04-27 20:00:04,713] simulation time 10.6 s\n"
          ]
        },
        {
          "name": "stdout",
          "output_type": "stream",
          "text": [
            "nP =  302    nV =  12     reward= 214.57644444444443 revenue 1142.40544 revenue/max_revenue 0.43272933333333335    nP/params.nP= 0.151    nV/params.nV= 0.06\n",
            "mean reward so far: 212.7060553593366\n",
            "mean revenue so far: 880.7608773648649\n",
            "Day =  593\n",
            "comm_rate =  0.55\n"
          ]
        },
        {
          "name": "stderr",
          "output_type": "stream",
          "text": [
            "[2023-04-27 20:00:20,730] simulation time 9.8 s\n"
          ]
        },
        {
          "name": "stdout",
          "output_type": "stream",
          "text": [
            "nP =  293    nV =  17     reward= 220.69994444444447 revenue 1136.78356 revenue/max_revenue 0.43059983333333335    nP/params.nP= 0.1465    nV/params.nV= 0.085\n",
            "mean reward so far: 212.70920947246495\n",
            "mean revenue so far: 881.2020992242834\n",
            "Day =  594\n",
            "comm_rate =  0.5\n"
          ]
        },
        {
          "name": "stderr",
          "output_type": "stream",
          "text": [
            "[2023-04-27 20:00:36,498] simulation time 10.5 s\n"
          ]
        },
        {
          "name": "stdout",
          "output_type": "stream",
          "text": [
            "nP =  300    nV =  18     reward= 210.51646464646464 revenue 1033.6904 revenue/max_revenue 0.3915493939393939    nP/params.nP= 0.15    nV/params.nV= 0.09\n",
            "mean reward so far: 212.7226618882427\n",
            "mean revenue so far: 881.6323710437712\n",
            "Day =  595\n",
            "comm_rate =  0.5\n"
          ]
        },
        {
          "name": "stderr",
          "output_type": "stream",
          "text": [
            "[2023-04-27 20:00:53,532] simulation time 10.9 s\n"
          ]
        },
        {
          "name": "stdout",
          "output_type": "stream",
          "text": [
            "nP =  287    nV =  19     reward= 208.10522727272723 revenue 1018.5534 revenue/max_revenue 0.3858156818181818    nP/params.nP= 0.1435    nV/params.nV= 0.095\n",
            "mean reward so far: 212.7189539937187\n",
            "mean revenue so far: 881.8879307563026\n",
            "Day =  596\n",
            "comm_rate =  0.5\n"
          ]
        },
        {
          "name": "stderr",
          "output_type": "stream",
          "text": [
            "[2023-04-27 20:01:09,343] simulation time 10.6 s\n"
          ]
        },
        {
          "name": "stdout",
          "output_type": "stream",
          "text": [
            "nP =  302    nV =  20     reward= 209.72479797979793 revenue 998.3804 revenue/max_revenue 0.37817439393939395    nP/params.nP= 0.151    nV/params.nV= 0.1\n",
            "mean reward so far: 212.71121284150226\n",
            "mean revenue so far: 882.1172352348993\n",
            "Day =  597\n",
            "comm_rate =  0.55\n"
          ]
        },
        {
          "name": "stderr",
          "output_type": "stream",
          "text": [
            "[2023-04-27 20:01:26,269] simulation time 10.8 s\n"
          ]
        },
        {
          "name": "stdout",
          "output_type": "stream",
          "text": [
            "nP =  289    nV =  16     reward= 215.02961111111114 revenue 1110.35452 revenue/max_revenue 0.42058883333333336    nP/params.nP= 0.1445    nV/params.nV= 0.08\n",
            "mean reward so far: 212.70621047154967\n",
            "mean revenue so far: 882.3119809045227\n",
            "Day =  598\n",
            "comm_rate =  0.6\n"
          ]
        },
        {
          "name": "stderr",
          "output_type": "stream",
          "text": [
            "[2023-04-27 20:01:42,019] simulation time 10.5 s\n"
          ]
        },
        {
          "name": "stdout",
          "output_type": "stream",
          "text": [
            "nP =  280    nV =  17     reward= 225.82106060606057 revenue 1194.5028 revenue/max_revenue 0.4524631818181818    nP/params.nP= 0.14    nV/params.nV= 0.085\n",
            "mean reward so far: 212.7100957569001\n",
            "mean revenue so far: 882.6933229431439\n",
            "Day =  599\n",
            "comm_rate =  0.55\n"
          ]
        },
        {
          "name": "stderr",
          "output_type": "stream",
          "text": [
            "[2023-04-27 20:01:58,310] simulation time 10.2 s\n"
          ]
        },
        {
          "name": "stdout",
          "output_type": "stream",
          "text": [
            "nP =  309    nV =  16     reward= 210.84580555555556 revenue 1050.81878 revenue/max_revenue 0.3980374166666667    nP/params.nP= 0.1545    nV/params.nV= 0.08\n",
            "mean reward so far: 212.7319838451291\n",
            "mean revenue so far: 883.2138729883138\n",
            "Day =  600\n",
            "comm_rate =  0.55\n"
          ]
        },
        {
          "name": "stderr",
          "output_type": "stream",
          "text": [
            "[2023-04-27 20:02:14,460] simulation time 10.9 s\n"
          ]
        },
        {
          "name": "stdout",
          "output_type": "stream",
          "text": [
            "nP =  288    nV =  22     reward= 227.88625000000002 revenue 1134.2991000000002 revenue/max_revenue 0.4296587500000001    nP/params.nP= 0.144    nV/params.nV= 0.11\n",
            "mean reward so far: 212.72884021464645\n",
            "mean revenue so far: 883.4932145000001\n",
            "Day =  601\n",
            "comm_rate =  0.55\n"
          ]
        },
        {
          "name": "stderr",
          "output_type": "stream",
          "text": [
            "[2023-04-27 20:02:30,369] simulation time 10.6 s\n"
          ]
        },
        {
          "name": "stdout",
          "output_type": "stream",
          "text": [
            "nP =  281    nV =  15     reward= 207.91500000000002 revenue 1077.7668 revenue/max_revenue 0.408245    nP/params.nP= 0.1405    nV/params.nV= 0.075\n",
            "mean reward so far: 212.75406053042906\n",
            "mean revenue so far: 883.9105287853578\n",
            "Day =  602\n",
            "comm_rate =  0.55\n"
          ]
        },
        {
          "name": "stderr",
          "output_type": "stream",
          "text": [
            "[2023-04-27 20:02:46,594] simulation time 10.1 s\n"
          ]
        },
        {
          "name": "stdout",
          "output_type": "stream",
          "text": [
            "nP =  287    nV =  13     reward= 208.89286111111113 revenue 1103.9914600000002 revenue/max_revenue 0.4181785833333334    nP/params.nP= 0.1435    nV/params.nV= 0.065\n",
            "mean reward so far: 212.74602222390013\n",
            "mean revenue so far: 884.2325491694354\n",
            "Day =  603\n",
            "comm_rate =  0.6\n"
          ]
        },
        {
          "name": "stderr",
          "output_type": "stream",
          "text": [
            "[2023-04-27 20:03:01,768] simulation time 10.0 s\n"
          ]
        },
        {
          "name": "stdout",
          "output_type": "stream",
          "text": [
            "nP =  323    nV =  16     reward= 228.74157575757576 revenue 1174.0732799999998 revenue/max_revenue 0.4447247272727272    nP/params.nP= 0.1615    nV/params.nV= 0.08\n",
            "mean reward so far: 212.73963223863848\n",
            "mean revenue so far: 884.5969918076286\n",
            "Day =  604\n",
            "comm_rate =  0.6\n"
          ]
        },
        {
          "name": "stderr",
          "output_type": "stream",
          "text": [
            "[2023-04-27 20:03:18,845] simulation time 11.0 s\n"
          ]
        },
        {
          "name": "stdout",
          "output_type": "stream",
          "text": [
            "nP =  322    nV =  12     reward= 244.9285151515151 revenue 1356.3938399999997 revenue/max_revenue 0.5137855454545454    nP/params.nP= 0.161    nV/params.nV= 0.06\n",
            "mean reward so far: 212.7661255226102\n",
            "mean revenue so far: 885.0762571854306\n",
            "Day =  605\n",
            "comm_rate =  0.6\n"
          ]
        },
        {
          "name": "stderr",
          "output_type": "stream",
          "text": [
            "[2023-04-27 20:03:34,235] simulation time 10.2 s\n"
          ]
        },
        {
          "name": "stdout",
          "output_type": "stream",
          "text": [
            "nP =  318    nV =  16     reward= 246.15090909090907 revenue 1318.5551999999998 revenue/max_revenue 0.4994527272727272    nP/params.nP= 0.159    nV/params.nV= 0.08\n",
            "mean reward so far: 212.81928649720345\n",
            "mean revenue so far: 885.8552945123968\n",
            "Day =  606\n",
            "comm_rate =  0.65\n"
          ]
        },
        {
          "name": "stderr",
          "output_type": "stream",
          "text": [
            "[2023-04-27 20:03:51,363] simulation time 11.0 s\n"
          ]
        },
        {
          "name": "stdout",
          "output_type": "stream",
          "text": [
            "nP =  308    nV =  14     reward= 249.32452272727272 revenue 1383.29022 revenue/max_revenue 0.5239735681818182    nP/params.nP= 0.154    nV/params.nV= 0.07\n",
            "mean reward so far: 212.8742891747508\n",
            "mean revenue so far: 886.5693207590759\n",
            "Day =  607\n",
            "comm_rate =  0.7\n"
          ]
        },
        {
          "name": "stderr",
          "output_type": "stream",
          "text": [
            "[2023-04-27 20:04:06,936] simulation time 10.3 s\n"
          ]
        },
        {
          "name": "stdout",
          "output_type": "stream",
          "text": [
            "nP =  296    nV =  14     reward= 262.79539898989896 revenue 1505.81956 revenue/max_revenue 0.570386196969697    nP/params.nP= 0.148    nV/params.nV= 0.07\n",
            "mean reward so far: 212.9343389829098\n",
            "mean revenue so far: 887.3876418451401\n",
            "Day =  608\n",
            "comm_rate =  0.75\n"
          ]
        },
        {
          "name": "stderr",
          "output_type": "stream",
          "text": [
            "[2023-04-27 20:04:23,359] simulation time 10.3 s\n"
          ]
        },
        {
          "name": "stdout",
          "output_type": "stream",
          "text": [
            "nP =  306    nV =  19     reward= 268.64431818181816 revenue 1472.9430000000002 revenue/max_revenue 0.5579329545454547    nP/params.nP= 0.153    nV/params.nV= 0.095\n",
            "mean reward so far: 213.01634730528974\n",
            "mean revenue so far: 888.4047996052631\n",
            "Day =  609\n",
            "comm_rate =  0.7\n"
          ]
        },
        {
          "name": "stderr",
          "output_type": "stream",
          "text": [
            "[2023-04-27 20:04:39,431] simulation time 10.8 s\n"
          ]
        },
        {
          "name": "stdout",
          "output_type": "stream",
          "text": [
            "nP =  304    nV =  14     reward= 260.34922727272726 revenue 1475.8858799999998 revenue/max_revenue 0.5590476818181818    nP/params.nP= 0.152    nV/params.nV= 0.07\n",
            "mean reward so far: 213.10769044301802\n",
            "mean revenue so far: 889.3646324466337\n",
            "Day =  610\n",
            "comm_rate =  0.75\n"
          ]
        },
        {
          "name": "stderr",
          "output_type": "stream",
          "text": [
            "[2023-04-27 20:04:54,945] simulation time 10.2 s\n"
          ]
        },
        {
          "name": "stdout",
          "output_type": "stream",
          "text": [
            "nP =  302    nV =  19     reward= 280.7754166666667 revenue 1574.3013 revenue/max_revenue 0.5963262500000001    nP/params.nP= 0.151    nV/params.nV= 0.095\n",
            "mean reward so far: 213.18513558536182\n",
            "mean revenue so far: 890.3261426885246\n",
            "Day =  611\n",
            "comm_rate =  0.75\n"
          ]
        },
        {
          "name": "stderr",
          "output_type": "stream",
          "text": [
            "[2023-04-27 20:05:12,009] simulation time 10.9 s\n"
          ]
        },
        {
          "name": "stdout",
          "output_type": "stream",
          "text": [
            "nP =  313    nV =  14     reward= 267.47526515151515 revenue 1520.4441 revenue/max_revenue 0.5759257954545455    nP/params.nP= 0.1565    nV/params.nV= 0.07\n",
            "mean reward so far: 213.2957579766569\n",
            "mean revenue so far: 891.4455782978722\n",
            "Day =  612\n",
            "comm_rate =  0.8\n"
          ]
        },
        {
          "name": "stderr",
          "output_type": "stream",
          "text": [
            "[2023-04-27 20:05:27,705] simulation time 10.5 s\n"
          ]
        },
        {
          "name": "stdout",
          "output_type": "stream",
          "text": [
            "nP =  275    nV =  10     reward= 281.7182626262626 revenue 1736.20864 revenue/max_revenue 0.657654787878788    nP/params.nP= 0.1375    nV/params.nV= 0.05\n",
            "mean reward so far: 213.38428658315178\n",
            "mean revenue so far: 892.4733536601306\n",
            "Day =  613\n",
            "comm_rate =  0.8\n"
          ]
        },
        {
          "name": "stderr",
          "output_type": "stream",
          "text": [
            "[2023-04-27 20:05:42,973] simulation time 9.1 s\n"
          ]
        },
        {
          "name": "stdout",
          "output_type": "stream",
          "text": [
            "nP =  298    nV =  15     reward= 264.58949494949496 revenue 1504.1888 revenue/max_revenue 0.5697684848484849    nP/params.nP= 0.149    nV/params.nV= 0.075\n",
            "mean reward so far: 213.49576125858914\n",
            "mean revenue so far: 893.8497570636215\n",
            "Day =  614\n",
            "comm_rate =  0.8\n"
          ]
        },
        {
          "name": "stderr",
          "output_type": "stream",
          "text": [
            "[2023-04-27 20:05:58,381] simulation time 10.2 s\n"
          ]
        },
        {
          "name": "stdout",
          "output_type": "stream",
          "text": [
            "nP =  324    nV =  23     reward= 293.78965656565657 revenue 1595.5340800000001 revenue/max_revenue 0.6043689696969697    nP/params.nP= 0.162    nV/params.nV= 0.115\n",
            "mean reward so far: 213.57897580857437\n",
            "mean revenue so far: 894.8437945928339\n",
            "Day =  615\n",
            "comm_rate =  0.85\n"
          ]
        },
        {
          "name": "stderr",
          "output_type": "stream",
          "text": [
            "[2023-04-27 20:06:16,046] simulation time 11.5 s\n"
          ]
        },
        {
          "name": "stdout",
          "output_type": "stream",
          "text": [
            "nP =  296    nV =  13     reward= 306.9267727272727 revenue 1868.5400399999999 revenue/max_revenue 0.7077803181818181    nP/params.nP= 0.148    nV/params.nV= 0.065\n",
            "mean reward so far: 213.70939967972407\n",
            "mean revenue so far: 895.9831283902439\n",
            "Day =  616\n",
            "comm_rate =  0.8\n"
          ]
        },
        {
          "name": "stderr",
          "output_type": "stream",
          "text": [
            "[2023-04-27 20:06:31,204] simulation time 10.0 s\n"
          ]
        },
        {
          "name": "stdout",
          "output_type": "stream",
          "text": [
            "nP =  291    nV =  18     reward= 286.0891313131313 revenue 1644.10592 revenue/max_revenue 0.622767393939394    nP/params.nP= 0.1455    nV/params.nV= 0.09\n",
            "mean reward so far: 213.86072658402205\n",
            "mean revenue so far: 897.5619545454546\n",
            "Day =  617\n",
            "comm_rate =  0.75\n"
          ]
        },
        {
          "name": "stderr",
          "output_type": "stream",
          "text": [
            "[2023-04-27 20:06:46,990] simulation time 10.6 s\n"
          ]
        },
        {
          "name": "stdout",
          "output_type": "stream",
          "text": [
            "nP =  294    nV =  10     reward= 251.6535984848485 revenue 1473.0165 revenue/max_revenue 0.5579607954545455    nP/params.nP= 0.147    nV/params.nV= 0.05\n",
            "mean reward so far: 213.97779044906113\n",
            "mean revenue so far: 898.771912350081\n",
            "Day =  618\n",
            "comm_rate =  0.75\n"
          ]
        },
        {
          "name": "stderr",
          "output_type": "stream",
          "text": [
            "[2023-04-27 20:07:02,469] simulation time 9.3 s\n"
          ]
        },
        {
          "name": "stdout",
          "output_type": "stream",
          "text": [
            "nP =  278    nV =  11     reward= 254.81075757575755 revenue 1505.9412 revenue/max_revenue 0.5704322727272727    nP/params.nP= 0.139    nV/params.nV= 0.055\n",
            "mean reward so far: 214.03875453973387\n",
            "mean revenue so far: 899.7011107119741\n",
            "Day =  619\n",
            "comm_rate =  0.7\n"
          ]
        },
        {
          "name": "stderr",
          "output_type": "stream",
          "text": [
            "[2023-04-27 20:07:17,151] simulation time 9.4 s\n"
          ]
        },
        {
          "name": "stdout",
          "output_type": "stream",
          "text": [
            "nP =  295    nV =  9     reward= 225.65447474747475 revenue 1278.98344 revenue/max_revenue 0.4844634242424242    nP/params.nP= 0.1475    nV/params.nV= 0.045\n",
            "mean reward so far: 214.10462207291008\n",
            "mean revenue so far: 900.6804969628433\n",
            "Day =  620\n",
            "comm_rate =  0.75\n"
          ]
        },
        {
          "name": "stderr",
          "output_type": "stream",
          "text": [
            "[2023-04-27 20:07:32,323] simulation time 9.0 s\n"
          ]
        },
        {
          "name": "stdout",
          "output_type": "stream",
          "text": [
            "nP =  289    nV =  14     reward= 261.45166666666665 revenue 1504.4171999999999 revenue/max_revenue 0.569855    nP/params.nP= 0.1445    nV/params.nV= 0.07\n",
            "mean reward so far: 214.12325086754637\n",
            "mean revenue so far: 901.290663\n",
            "Day =  621\n",
            "comm_rate =  0.7\n"
          ]
        },
        {
          "name": "stderr",
          "output_type": "stream",
          "text": [
            "[2023-04-27 20:07:47,695] simulation time 10.1 s\n"
          ]
        },
        {
          "name": "stdout",
          "output_type": "stream",
          "text": [
            "nP =  254    nV =  18     reward= 244.4847222222222 revenue 1363.4389999999999 revenue/max_revenue 0.5164541666666667    nP/params.nP= 0.127    nV/params.nV= 0.09\n",
            "mean reward so far: 214.19946409749673\n",
            "mean revenue so far: 902.2618812560387\n",
            "Day =  622\n",
            "comm_rate =  0.65\n"
          ]
        },
        {
          "name": "stderr",
          "output_type": "stream",
          "text": [
            "[2023-04-27 20:08:03,682] simulation time 9.8 s\n"
          ]
        },
        {
          "name": "stdout",
          "output_type": "stream",
          "text": [
            "nP =  292    nV =  14     reward= 214.27410101010096 revenue 1126.81088 revenue/max_revenue 0.42682230303030305    nP/params.nP= 0.146    nV/params.nV= 0.07\n",
            "mean reward so far: 214.24815422309916\n",
            "mean revenue so far: 903.0033235691319\n",
            "Day =  623\n",
            "comm_rate =  0.6\n"
          ]
        },
        {
          "name": "stderr",
          "output_type": "stream",
          "text": [
            "[2023-04-27 20:08:18,992] simulation time 10.1 s\n"
          ]
        },
        {
          "name": "stdout",
          "output_type": "stream",
          "text": [
            "nP =  276    nV =  16     reward= 228.97090909090912 revenue 1237.9296 revenue/max_revenue 0.46891272727272726    nP/params.nP= 0.138    nV/params.nV= 0.08\n",
            "mean reward so far: 214.2481958712324\n",
            "mean revenue so far: 903.3625652327448\n",
            "Day =  624\n",
            "comm_rate =  0.55\n"
          ]
        },
        {
          "name": "stderr",
          "output_type": "stream",
          "text": [
            "[2023-04-27 20:08:35,360] simulation time 10.2 s\n"
          ]
        },
        {
          "name": "stdout",
          "output_type": "stream",
          "text": [
            "nP =  271    nV =  17     reward= 208.95341666666664 revenue 1072.79106 revenue/max_revenue 0.40636025    nP/params.nP= 0.1355    nV/params.nV= 0.085\n",
            "mean reward so far: 214.27178996293057\n",
            "mean revenue so far: 903.898730352564\n",
            "Day =  625\n",
            "comm_rate =  0.5\n"
          ]
        },
        {
          "name": "stderr",
          "output_type": "stream",
          "text": [
            "[2023-04-27 20:08:50,660] simulation time 10.0 s\n"
          ]
        },
        {
          "name": "stdout",
          "output_type": "stream",
          "text": [
            "nP =  291    nV =  22     reward= 202.6291414141414 revenue 930.3027999999999 revenue/max_revenue 0.3523874242424242    nP/params.nP= 0.1455    nV/params.nV= 0.11\n",
            "mean reward so far: 214.26328056565654\n",
            "mean revenue so far: 904.16895808\n",
            "Day =  626\n",
            "comm_rate =  0.45\n"
          ]
        },
        {
          "name": "stderr",
          "output_type": "stream",
          "text": [
            "[2023-04-27 20:09:06,684] simulation time 10.8 s\n"
          ]
        },
        {
          "name": "stdout",
          "output_type": "stream",
          "text": [
            "nP =  290    nV =  19     reward= 191.73322727272725 revenue 884.92716 revenue/max_revenue 0.3351996818181818    nP/params.nP= 0.145    nV/params.nV= 0.095\n",
            "mean reward so far: 214.24469567883307\n",
            "mean revenue so far: 904.2107054313099\n",
            "Day =  627\n",
            "comm_rate =  0.45\n"
          ]
        },
        {
          "name": "stderr",
          "output_type": "stream",
          "text": [
            "[2023-04-27 20:09:23,463] simulation time 10.6 s\n"
          ]
        },
        {
          "name": "stdout",
          "output_type": "stream",
          "text": [
            "nP =  281    nV =  15     reward= 185.5830606060606 revenue 900.89784 revenue/max_revenue 0.3412491818181818    nP/params.nP= 0.1405    nV/params.nV= 0.075\n",
            "mean reward so far: 214.2087922204501\n",
            "mean revenue so far: 904.1799501754386\n",
            "Day =  628\n",
            "comm_rate =  0.45\n"
          ]
        },
        {
          "name": "stderr",
          "output_type": "stream",
          "text": [
            "[2023-04-27 20:09:38,669] simulation time 10.0 s\n"
          ]
        },
        {
          "name": "stdout",
          "output_type": "stream",
          "text": [
            "nP =  312    nV =  11     reward= 179.6513106060606 revenue 865.79838 revenue/max_revenue 0.3279539318181818    nP/params.nP= 0.156    nV/params.nV= 0.055\n",
            "mean reward so far: 214.16320984526797\n",
            "mean revenue so far: 904.1747238853504\n",
            "Day =  629\n",
            "comm_rate =  0.5\n"
          ]
        },
        {
          "name": "stderr",
          "output_type": "stream",
          "text": [
            "[2023-04-27 20:09:54,612] simulation time 9.8 s\n"
          ]
        },
        {
          "name": "stdout",
          "output_type": "stream",
          "text": [
            "nP =  279    nV =  16     reward= 209.90507575757573 revenue 1082.9681999999998 revenue/max_revenue 0.4102152272727272    nP/params.nP= 0.1395    nV/params.nV= 0.08\n",
            "mean reward so far: 214.10834196094487\n",
            "mean revenue so far: 904.1137122098569\n",
            "Day =  630\n",
            "comm_rate =  0.45\n"
          ]
        },
        {
          "name": "stderr",
          "output_type": "stream",
          "text": [
            "[2023-04-27 20:10:09,954] simulation time 10.1 s\n"
          ]
        },
        {
          "name": "stdout",
          "output_type": "stream",
          "text": [
            "nP =  271    nV =  21     reward= 193.4007121212121 revenue 896.81364 revenue/max_revenue 0.33970213636363633    nP/params.nP= 0.1355    nV/params.nV= 0.105\n",
            "mean reward so far: 214.10167010982843\n",
            "mean revenue so far: 904.3976082222222\n",
            "Day =  631\n",
            "comm_rate =  0.4\n"
          ]
        },
        {
          "name": "stderr",
          "output_type": "stream",
          "text": [
            "[2023-04-27 20:10:25,346] simulation time 10.2 s\n"
          ]
        },
        {
          "name": "stdout",
          "output_type": "stream",
          "text": [
            "nP =  288    nV =  19     reward= 173.42246464646465 revenue 742.54592 revenue/max_revenue 0.28126739393939393    nP/params.nP= 0.144    nV/params.nV= 0.095\n",
            "mean reward so far: 214.06886352030602\n",
            "mean revenue so far: 904.3855892551506\n",
            "Day =  632\n",
            "comm_rate =  0.4\n"
          ]
        },
        {
          "name": "stderr",
          "output_type": "stream",
          "text": [
            "[2023-04-27 20:10:42,116] simulation time 10.6 s\n"
          ]
        },
        {
          "name": "stdout",
          "output_type": "stream",
          "text": [
            "nP =  293    nV =  16     reward= 175.01721212121214 revenue 788.17632 revenue/max_revenue 0.29855163636363635    nP/params.nP= 0.1465    nV/params.nV= 0.08\n",
            "mean reward so far: 214.00454959803733\n",
            "mean revenue so far: 904.1295138291139\n",
            "Day =  633\n",
            "comm_rate =  0.4\n"
          ]
        },
        {
          "name": "stderr",
          "output_type": "stream",
          "text": [
            "[2023-04-27 20:10:57,792] simulation time 10.5 s\n"
          ]
        },
        {
          "name": "stdout",
          "output_type": "stream",
          "text": [
            "nP =  289    nV =  18     reward= 178.11814141414143 revenue 791.61568 revenue/max_revenue 0.29985442424242426    nP/params.nP= 0.1445    nV/params.nV= 0.09\n",
            "mean reward so far: 213.94295822761578\n",
            "mean revenue so far: 903.94633342812\n",
            "Day =  634\n",
            "comm_rate =  0.4\n"
          ]
        },
        {
          "name": "stderr",
          "output_type": "stream",
          "text": [
            "[2023-04-27 20:11:14,425] simulation time 10.5 s\n"
          ]
        },
        {
          "name": "stdout",
          "output_type": "stream",
          "text": [
            "nP =  281    nV =  21     reward= 184.99846464646467 revenue 817.06784 revenue/max_revenue 0.30949539393939396    nP/params.nP= 0.1405    nV/params.nV= 0.105\n",
            "mean reward so far: 213.88645220740528\n",
            "mean revenue so far: 903.769155741325\n",
            "Day =  635\n",
            "comm_rate =  0.35\n"
          ]
        },
        {
          "name": "stderr",
          "output_type": "stream",
          "text": [
            "[2023-04-27 20:11:30,093] simulation time 10.4 s\n"
          ]
        },
        {
          "name": "stdout",
          "output_type": "stream",
          "text": [
            "nP =  297    nV =  19     reward= 165.98181313131312 revenue 671.73596 revenue/max_revenue 0.2544454393939394    nP/params.nP= 0.1485    nV/params.nV= 0.095\n",
            "mean reward so far: 213.84095931360852\n",
            "mean revenue so far: 903.6326182362205\n",
            "Day =  636\n",
            "comm_rate =  0.3\n"
          ]
        },
        {
          "name": "stderr",
          "output_type": "stream",
          "text": [
            "[2023-04-27 20:11:46,953] simulation time 10.8 s\n"
          ]
        },
        {
          "name": "stdout",
          "output_type": "stream",
          "text": [
            "nP =  287    nV =  16     reward= 151.9711363636364 revenue 613.5714 revenue/max_revenue 0.2324134090909091    nP/params.nP= 0.1435    nV/params.nV= 0.08\n",
            "mean reward so far: 213.76570908376212\n",
            "mean revenue so far: 903.2680008490566\n",
            "Day =  637\n",
            "comm_rate =  0.25\n"
          ]
        },
        {
          "name": "stderr",
          "output_type": "stream",
          "text": [
            "[2023-04-27 20:12:02,483] simulation time 10.3 s\n"
          ]
        },
        {
          "name": "stdout",
          "output_type": "stream",
          "text": [
            "nP =  267    nV =  11     reward= 124.62777777777778 revenue 489.412 revenue/max_revenue 0.18538333333333332    nP/params.nP= 0.1335    nV/params.nV= 0.055\n",
            "mean reward so far: 213.66870033537887\n",
            "mean revenue so far: 902.8132181161695\n",
            "Day =  638\n",
            "comm_rate =  0.25\n"
          ]
        },
        {
          "name": "stderr",
          "output_type": "stream",
          "text": [
            "[2023-04-27 20:12:17,145] simulation time 9.3 s\n"
          ]
        },
        {
          "name": "stdout",
          "output_type": "stream",
          "text": [
            "nP =  267    nV =  13     reward= 121.33553030303031 revenue 436.9374 revenue/max_revenue 0.16550659090909092    nP/params.nP= 0.1335    nV/params.nV= 0.065\n",
            "mean reward so far: 213.5291377608372\n",
            "mean revenue so far: 902.1652538244515\n",
            "Day =  639\n",
            "comm_rate =  0.2\n"
          ]
        },
        {
          "name": "stderr",
          "output_type": "stream",
          "text": [
            "[2023-04-27 20:12:32,844] simulation time 9.5 s\n"
          ]
        },
        {
          "name": "stdout",
          "output_type": "stream",
          "text": [
            "nP =  311    nV =  17     reward= 124.92121212121211 revenue 354.456 revenue/max_revenue 0.13426363636363636    nP/params.nP= 0.1555    nV/params.nV= 0.085\n",
            "mean reward so far: 213.38485981489384\n",
            "mean revenue so far: 901.4371977151799\n",
            "Day =  640\n",
            "comm_rate =  0.25\n"
          ]
        },
        {
          "name": "stderr",
          "output_type": "stream",
          "text": [
            "[2023-04-27 20:12:48,917] simulation time 10.9 s\n"
          ]
        },
        {
          "name": "stdout",
          "output_type": "stream",
          "text": [
            "nP =  283    nV =  15     reward= 136.96751262626262 revenue 513.2227 revenue/max_revenue 0.1944025378787879    nP/params.nP= 0.1415    nV/params.nV= 0.075\n",
            "mean reward so far: 213.24663536537247\n",
            "mean revenue so far: 900.58253959375\n",
            "Day =  641\n",
            "comm_rate =  0.25\n"
          ]
        },
        {
          "name": "stderr",
          "output_type": "stream",
          "text": [
            "[2023-04-27 20:13:05,160] simulation time 10.1 s\n"
          ]
        },
        {
          "name": "stdout",
          "output_type": "stream",
          "text": [
            "nP =  280    nV =  23     reward= 145.6718813131313 revenue 480.5213 revenue/max_revenue 0.18201564393939393    nP/params.nP= 0.14    nV/params.nV= 0.115\n",
            "mean reward so far: 213.12763517389178\n",
            "mean revenue so far: 899.9782340717629\n",
            "Day =  642\n",
            "comm_rate =  0.3\n"
          ]
        },
        {
          "name": "stderr",
          "output_type": "stream",
          "text": [
            "[2023-04-27 20:13:20,885] simulation time 10.5 s\n"
          ]
        },
        {
          "name": "stdout",
          "output_type": "stream",
          "text": [
            "nP =  289    nV =  19     reward= 152.36195454545452 revenue 574.4266799999999 revenue/max_revenue 0.21758586363636362    nP/params.nP= 0.1445    nV/params.nV= 0.095\n",
            "mean reward so far: 213.02256390619593\n",
            "mean revenue so far: 899.3248743613706\n",
            "Day =  643\n",
            "comm_rate =  0.3\n"
          ]
        },
        {
          "name": "stderr",
          "output_type": "stream",
          "text": [
            "[2023-04-27 20:13:37,478] simulation time 10.4 s\n"
          ]
        },
        {
          "name": "stdout",
          "output_type": "stream",
          "text": [
            "nP =  289    nV =  14     reward= 149.3207575757575 revenue 616.3403999999999 revenue/max_revenue 0.2334622727272727    nP/params.nP= 0.1445    nV/params.nV= 0.07\n",
            "mean reward so far: 212.92822392274215\n",
            "mean revenue so far: 898.8195894556765\n",
            "Day =  644\n",
            "comm_rate =  0.3\n"
          ]
        },
        {
          "name": "stderr",
          "output_type": "stream",
          "text": [
            "[2023-04-27 20:13:52,958] simulation time 10.2 s\n"
          ]
        },
        {
          "name": "stdout",
          "output_type": "stream",
          "text": [
            "nP =  279    nV =  19     reward= 150.99256060606058 revenue 576.78108 revenue/max_revenue 0.2184776818181818    nP/params.nP= 0.1395    nV/params.nV= 0.095\n",
            "mean reward so far: 212.82945456506047\n",
            "mean revenue so far: 898.380957173913\n",
            "Day =  645\n",
            "comm_rate =  0.3\n"
          ]
        },
        {
          "name": "stderr",
          "output_type": "stream",
          "text": [
            "[2023-04-27 20:14:08,547] simulation time 10.4 s\n"
          ]
        },
        {
          "name": "stdout",
          "output_type": "stream",
          "text": [
            "nP =  286    nV =  18     reward= 149.67025757575757 revenue 570.2684399999999 revenue/max_revenue 0.2160107727272727    nP/params.nP= 0.143    nV/params.nV= 0.09\n",
            "mean reward so far: 212.73358341163572\n",
            "mean revenue so far: 897.8823527131782\n",
            "Day =  646\n",
            "comm_rate =  0.25\n"
          ]
        },
        {
          "name": "stderr",
          "output_type": "stream",
          "text": [
            "[2023-04-27 20:14:25,156] simulation time 10.4 s\n"
          ]
        },
        {
          "name": "stdout",
          "output_type": "stream",
          "text": [
            "nP =  289    nV =  19     reward= 144.62752525252526 revenue 513.1700000000001 revenue/max_revenue 0.19438257575757578    nP/params.nP= 0.1445    nV/params.nV= 0.095\n",
            "mean reward so far: 212.63596216421175\n",
            "mean revenue so far: 897.3752104334365\n",
            "Day =  647\n",
            "comm_rate =  0.3\n"
          ]
        },
        {
          "name": "stderr",
          "output_type": "stream",
          "text": [
            "[2023-04-27 20:14:40,934] simulation time 10.6 s\n"
          ]
        },
        {
          "name": "stdout",
          "output_type": "stream",
          "text": [
            "nP =  276    nV =  19     reward= 153.89051515151513 revenue 603.6928800000001 revenue/max_revenue 0.2286715454545455    nP/params.nP= 0.138    nV/params.nV= 0.095\n",
            "mean reward so far: 212.53084866048425\n",
            "mean revenue so far: 896.7813847604327\n",
            "Day =  648\n",
            "comm_rate =  0.25\n"
          ]
        },
        {
          "name": "stderr",
          "output_type": "stream",
          "text": [
            "[2023-04-27 20:14:57,362] simulation time 10.3 s\n"
          ]
        },
        {
          "name": "stdout",
          "output_type": "stream",
          "text": [
            "nP =  307    nV =  22     reward= 148.7726893939394 revenue 482.63969999999995 revenue/max_revenue 0.18281806818181817    nP/params.nP= 0.1535    nV/params.nV= 0.11\n",
            "mean reward so far: 212.4403543186494\n",
            "mean revenue so far: 896.3290876851852\n",
            "Day =  649\n",
            "comm_rate =  0.3\n"
          ]
        },
        {
          "name": "stderr",
          "output_type": "stream",
          "text": [
            "[2023-04-27 20:15:13,740] simulation time 11.1 s\n"
          ]
        },
        {
          "name": "stdout",
          "output_type": "stream",
          "text": [
            "nP =  297    nV =  17     reward= 157.00431818181818 revenue 627.0342 revenue/max_revenue 0.23751295454545457    nP/params.nP= 0.1485    nV/params.nV= 0.085\n",
            "mean reward so far: 212.34225314002893\n",
            "mean revenue so far: 895.6916618181818\n",
            "Day =  650\n",
            "comm_rate =  0.35\n"
          ]
        },
        {
          "name": "stderr",
          "output_type": "stream",
          "text": [
            "[2023-04-27 20:15:29,474] simulation time 10.5 s\n"
          ]
        },
        {
          "name": "stdout",
          "output_type": "stream",
          "text": [
            "nP =  315    nV =  15     reward= 170.3631136363636 revenue 735.4758599999999 revenue/max_revenue 0.2785893409090909    nP/params.nP= 0.1575    nV/params.nV= 0.075\n",
            "mean reward so far: 212.25711785547784\n",
            "mean revenue so far: 895.2783426461539\n",
            "Day =  651\n",
            "comm_rate =  0.35\n"
          ]
        },
        {
          "name": "stderr",
          "output_type": "stream",
          "text": [
            "[2023-04-27 20:15:46,376] simulation time 10.7 s\n"
          ]
        },
        {
          "name": "stdout",
          "output_type": "stream",
          "text": [
            "nP =  278    nV =  13     reward= 166.0973636363636 revenue 776.9311199999999 revenue/max_revenue 0.29429209090909086    nP/params.nP= 0.139    nV/params.nV= 0.065\n",
            "mean reward so far: 212.1927645463855\n",
            "mean revenue so far: 895.0328703225807\n",
            "Day =  652\n",
            "comm_rate =  0.4\n"
          ]
        },
        {
          "name": "stderr",
          "output_type": "stream",
          "text": [
            "[2023-04-27 20:16:01,470] simulation time 9.8 s\n"
          ]
        },
        {
          "name": "stdout",
          "output_type": "stream",
          "text": [
            "nP =  323    nV =  18     reward= 179.815898989899 revenue 760.18192 revenue/max_revenue 0.28794769696969696    nP/params.nP= 0.1615    nV/params.nV= 0.09\n",
            "mean reward so far: 212.12206607873208\n",
            "mean revenue so far: 894.8517326687116\n",
            "Day =  653\n",
            "comm_rate =  0.35\n"
          ]
        },
        {
          "name": "stderr",
          "output_type": "stream",
          "text": [
            "[2023-04-27 20:16:18,894] simulation time 11.2 s\n"
          ]
        },
        {
          "name": "stdout",
          "output_type": "stream",
          "text": [
            "nP =  273    nV =  19     reward= 176.3405101010101 revenue 785.4568399999998 revenue/max_revenue 0.29752153030303025    nP/params.nP= 0.1365    nV/params.nV= 0.095\n",
            "mean reward so far: 212.07259262224073\n",
            "mean revenue so far: 894.6455001837672\n",
            "Day =  654\n",
            "comm_rate =  0.4\n"
          ]
        },
        {
          "name": "stderr",
          "output_type": "stream",
          "text": [
            "[2023-04-27 20:16:34,306] simulation time 10.2 s\n"
          ]
        },
        {
          "name": "stdout",
          "output_type": "stream",
          "text": [
            "nP =  285    nV =  14     reward= 163.15793939393942 revenue 731.2108800000001 revenue/max_revenue 0.2769738181818182    nP/params.nP= 0.1425    nV/params.nV= 0.07\n",
            "mean reward so far: 212.0179564104346\n",
            "mean revenue so far: 894.4785450458716\n",
            "Day =  655\n",
            "comm_rate =  0.45\n"
          ]
        },
        {
          "name": "stderr",
          "output_type": "stream",
          "text": [
            "[2023-04-27 20:16:50,474] simulation time 9.9 s\n"
          ]
        },
        {
          "name": "stdout",
          "output_type": "stream",
          "text": [
            "nP =  304    nV =  16     reward= 190.02253787878786 revenue 892.4985 revenue/max_revenue 0.3380676136363637    nP/params.nP= 0.152    nV/params.nV= 0.08\n",
            "mean reward so far: 211.94336096460785\n",
            "mean revenue so far: 894.2292814351146\n",
            "Day =  656\n",
            "comm_rate =  0.45\n"
          ]
        },
        {
          "name": "stderr",
          "output_type": "stream",
          "text": [
            "[2023-04-27 20:17:06,335] simulation time 10.6 s\n"
          ]
        },
        {
          "name": "stdout",
          "output_type": "stream",
          "text": [
            "nP =  283    nV =  14     reward= 188.59313636363635 revenue 935.29764 revenue/max_revenue 0.3542794090909091    nP/params.nP= 0.1415    nV/params.nV= 0.07\n",
            "mean reward so far: 211.90994507575758\n",
            "mean revenue so far: 894.2266430487805\n",
            "Day =  657\n",
            "comm_rate =  0.4\n"
          ]
        },
        {
          "name": "stderr",
          "output_type": "stream",
          "text": [
            "[2023-04-27 20:17:21,620] simulation time 10.0 s\n"
          ]
        },
        {
          "name": "stdout",
          "output_type": "stream",
          "text": [
            "nP =  269    nV =  17     reward= 171.96294949494947 revenue 782.4665600000001 revenue/max_revenue 0.29638884848484853    nP/params.nP= 0.1345    nV/params.nV= 0.085\n",
            "mean reward so far: 211.87445526036623\n",
            "mean revenue so far: 894.2891559817352\n",
            "Day =  658\n",
            "comm_rate =  0.35\n"
          ]
        },
        {
          "name": "stderr",
          "output_type": "stream",
          "text": [
            "[2023-04-27 20:17:37,905] simulation time 10.1 s\n"
          ]
        },
        {
          "name": "stdout",
          "output_type": "stream",
          "text": [
            "nP =  300    nV =  18     reward= 160.82037373737373 revenue 640.09736 revenue/max_revenue 0.2424611212121212    nP/params.nP= 0.15    nV/params.nV= 0.09\n",
            "mean reward so far: 211.8137994765282\n",
            "mean revenue so far: 894.1192128267477\n",
            "Day =  659\n",
            "comm_rate =  0.35\n"
          ]
        },
        {
          "name": "stderr",
          "output_type": "stream",
          "text": [
            "[2023-04-27 20:17:53,976] simulation time 10.9 s\n"
          ]
        },
        {
          "name": "stdout",
          "output_type": "stream",
          "text": [
            "nP =  277    nV =  16     reward= 166.31112121212118 revenue 740.3440799999998 revenue/max_revenue 0.28043336363636356    nP/params.nP= 0.1385    nV/params.nV= 0.08\n",
            "mean reward so far: 211.7364194678193\n",
            "mean revenue so far: 893.7337471927162\n",
            "Day =  660\n",
            "comm_rate =  0.4\n"
          ]
        },
        {
          "name": "stderr",
          "output_type": "stream",
          "text": [
            "[2023-04-27 20:18:10,154] simulation time 10.0 s\n"
          ]
        },
        {
          "name": "stdout",
          "output_type": "stream",
          "text": [
            "nP =  319    nV =  14     reward= 174.93894949494947 revenue 779.63648 revenue/max_revenue 0.29531684848484846    nP/params.nP= 0.1595    nV/params.nV= 0.07\n",
            "mean reward so far: 211.66759325834096\n",
            "mean revenue so far: 893.5013386060606\n",
            "Day =  661\n",
            "comm_rate =  0.45\n"
          ]
        },
        {
          "name": "stderr",
          "output_type": "stream",
          "text": [
            "[2023-04-27 20:18:25,745] simulation time 10.4 s\n"
          ]
        },
        {
          "name": "stdout",
          "output_type": "stream",
          "text": [
            "nP =  298    nV =  12     reward= 201.49673484848483 revenue 1044.0941400000002 revenue/max_revenue 0.3954902045454546    nP/params.nP= 0.149    nV/params.nV= 0.06\n",
            "mean reward so far: 211.6120279878971\n",
            "mean revenue so far: 893.3290770953103\n",
            "Day =  662\n",
            "comm_rate =  0.5\n"
          ]
        },
        {
          "name": "stderr",
          "output_type": "stream",
          "text": [
            "[2023-04-27 20:18:40,882] simulation time 9.9 s\n"
          ]
        },
        {
          "name": "stdout",
          "output_type": "stream",
          "text": [
            "nP =  300    nV =  16     reward= 209.13224747474746 revenue 1049.1273999999999 revenue/max_revenue 0.3973967424242424    nP/params.nP= 0.15    nV/params.nV= 0.08\n",
            "mean reward so far: 211.596748088895\n",
            "mean revenue so far: 893.5568188821752\n",
            "Day =  663\n",
            "comm_rate =  0.5\n"
          ]
        },
        {
          "name": "stderr",
          "output_type": "stream",
          "text": [
            "[2023-04-27 20:18:57,776] simulation time 10.7 s\n"
          ]
        },
        {
          "name": "stdout",
          "output_type": "stream",
          "text": [
            "nP =  271    nV =  13     reward= 195.21219696969698 revenue 1016.7606000000001 revenue/max_revenue 0.3851365909090909    nP/params.nP= 0.1355    nV/params.nV= 0.065\n",
            "mean reward so far: 211.59303089339855\n",
            "mean revenue so far: 893.7914653092006\n",
            "Day =  664\n",
            "comm_rate =  0.45\n"
          ]
        },
        {
          "name": "stderr",
          "output_type": "stream",
          "text": [
            "[2023-04-27 20:19:12,735] simulation time 9.7 s\n"
          ]
        },
        {
          "name": "stdout",
          "output_type": "stream",
          "text": [
            "nP =  277    nV =  13     reward= 173.58617424242422 revenue 837.5625 revenue/max_revenue 0.31725852272727273    nP/params.nP= 0.1385    nV/params.nV= 0.065\n",
            "mean reward so far: 211.56836096279054\n",
            "mean revenue so far: 893.9766597891567\n",
            "Day =  665\n",
            "comm_rate =  0.5\n"
          ]
        },
        {
          "name": "stderr",
          "output_type": "stream",
          "text": [
            "[2023-04-27 20:19:28,782] simulation time 9.9 s\n"
          ]
        },
        {
          "name": "stdout",
          "output_type": "stream",
          "text": [
            "nP =  298    nV =  20     reward= 196.55133838383836 revenue 899.3265999999999 revenue/max_revenue 0.3406540151515151    nP/params.nP= 0.149    nV/params.nV= 0.1\n",
            "mean reward so far: 211.51124489253434\n",
            "mean revenue so far: 893.8918264661655\n",
            "Day =  666\n",
            "comm_rate =  0.55\n"
          ]
        },
        {
          "name": "stderr",
          "output_type": "stream",
          "text": [
            "[2023-04-27 20:19:45,081] simulation time 11.1 s\n"
          ]
        },
        {
          "name": "stdout",
          "output_type": "stream",
          "text": [
            "nP =  301    nV =  18     reward= 227.23513888888894 revenue 1164.7823000000003 revenue/max_revenue 0.4412054166666668    nP/params.nP= 0.1505    nV/params.nV= 0.09\n",
            "mean reward so far: 211.48878257044925\n",
            "mean revenue so far: 893.8999867867867\n",
            "Day =  667\n",
            "comm_rate =  0.5\n"
          ]
        },
        {
          "name": "stderr",
          "output_type": "stream",
          "text": [
            "[2023-04-27 20:20:00,915] simulation time 10.6 s\n"
          ]
        },
        {
          "name": "stdout",
          "output_type": "stream",
          "text": [
            "nP =  272    nV =  16     reward= 206.32762626262627 revenue 1063.8748 revenue/max_revenue 0.4029828787878788    nP/params.nP= 0.136    nV/params.nV= 0.08\n",
            "mean reward so far: 211.51239030106157\n",
            "mean revenue so far: 894.3061071964019\n",
            "Day =  668\n",
            "comm_rate =  0.45\n"
          ]
        },
        {
          "name": "stderr",
          "output_type": "stream",
          "text": [
            "[2023-04-27 20:20:17,157] simulation time 10.0 s\n"
          ]
        },
        {
          "name": "stdout",
          "output_type": "stream",
          "text": [
            "nP =  281    nV =  16     reward= 182.5786590909091 revenue 863.90298 revenue/max_revenue 0.32723597727272724    nP/params.nP= 0.1405    nV/params.nV= 0.08\n",
            "mean reward so far: 211.50462867824953\n",
            "mean revenue so far: 894.5599525449102\n",
            "Day =  669\n",
            "comm_rate =  0.5\n"
          ]
        },
        {
          "name": "stderr",
          "output_type": "stream",
          "text": [
            "[2023-04-27 20:20:32,489] simulation time 10.2 s\n"
          ]
        },
        {
          "name": "stdout",
          "output_type": "stream",
          "text": [
            "nP =  280    nV =  17     reward= 193.28563131313132 revenue 936.8222000000001 revenue/max_revenue 0.35485689393939396    nP/params.nP= 0.14    nV/params.nV= 0.085\n",
            "mean reward so far: 211.46139105554798\n",
            "mean revenue so far: 894.5141274738417\n",
            "Day =  670\n",
            "comm_rate =  0.45\n"
          ]
        },
        {
          "name": "stderr",
          "output_type": "stream",
          "text": [
            "[2023-04-27 20:20:49,061] simulation time 10.3 s\n"
          ]
        },
        {
          "name": "stdout",
          "output_type": "stream",
          "text": [
            "nP =  303    nV =  13     reward= 182.71664393939398 revenue 875.55582 revenue/max_revenue 0.3316499318181818    nP/params.nP= 0.1515    nV/params.nV= 0.065\n",
            "mean reward so far: 211.43426305593243\n",
            "mean revenue so far: 894.5772738507462\n",
            "Day =  671\n",
            "comm_rate =  0.4\n"
          ]
        },
        {
          "name": "stderr",
          "output_type": "stream",
          "text": [
            "[2023-04-27 20:21:04,395] simulation time 10.2 s\n"
          ]
        },
        {
          "name": "stdout",
          "output_type": "stream",
          "text": [
            "nP =  286    nV =  15     reward= 178.10951515151513 revenue 835.10736 revenue/max_revenue 0.3163285454545454    nP/params.nP= 0.143    nV/params.nV= 0.075\n",
            "mean reward so far: 211.39146481581838\n",
            "mean revenue so far: 894.5489259314455\n",
            "Day =  672\n",
            "comm_rate =  0.4\n"
          ]
        },
        {
          "name": "stderr",
          "output_type": "stream",
          "text": [
            "[2023-04-27 20:21:20,985] simulation time 10.2 s\n"
          ]
        },
        {
          "name": "stdout",
          "output_type": "stream",
          "text": [
            "nP =  255    nV =  13     reward= 164.716101010101 revenue 796.3515199999999 revenue/max_revenue 0.301648303030303    nP/params.nP= 0.1275    nV/params.nV= 0.065\n",
            "mean reward so far: 211.3419381050084\n",
            "mean revenue so far: 894.4604712202379\n",
            "Day =  673\n",
            "comm_rate =  0.4\n"
          ]
        },
        {
          "name": "stderr",
          "output_type": "stream",
          "text": [
            "[2023-04-27 20:21:35,551] simulation time 9.4 s\n"
          ]
        },
        {
          "name": "stdout",
          "output_type": "stream",
          "text": [
            "nP =  299    nV =  20     reward= 171.8432727272727 revenue 702.31872 revenue/max_revenue 0.2660298181818182    nP/params.nP= 0.1495    nV/params.nV= 0.1\n",
            "mean reward so far: 211.2726575149714\n",
            "mean revenue so far: 894.3146926894501\n",
            "Day =  674\n",
            "comm_rate =  0.35\n"
          ]
        },
        {
          "name": "stderr",
          "output_type": "stream",
          "text": [
            "[2023-04-27 20:21:51,671] simulation time 10.9 s\n"
          ]
        },
        {
          "name": "stdout",
          "output_type": "stream",
          "text": [
            "nP =  287    nV =  18     reward= 172.02322979797975 revenue 745.9839799999999 revenue/max_revenue 0.28256968939393934    nP/params.nP= 0.1435    nV/params.nV= 0.09\n",
            "mean reward so far: 211.21415694406977\n",
            "mean revenue so far: 894.0298321958458\n",
            "Day =  675\n",
            "comm_rate =  0.3\n"
          ]
        },
        {
          "name": "stderr",
          "output_type": "stream",
          "text": [
            "[2023-04-27 20:22:08,342] simulation time 10.4 s\n"
          ]
        },
        {
          "name": "stdout",
          "output_type": "stream",
          "text": [
            "nP =  283    nV =  17     reward= 150.7878333333333 revenue 596.27964 revenue/max_revenue 0.2258635    nP/params.nP= 0.1415    nV/params.nV= 0.085\n",
            "mean reward so far: 211.15609631126074\n",
            "mean revenue so far: 893.8105050074074\n",
            "Day =  676\n",
            "comm_rate =  0.25\n"
          ]
        },
        {
          "name": "stderr",
          "output_type": "stream",
          "text": [
            "[2023-04-27 20:22:24,046] simulation time 10.4 s\n"
          ]
        },
        {
          "name": "stdout",
          "output_type": "stream",
          "text": [
            "nP =  281    nV =  20     reward= 142.49816919191917 revenue 493.66549999999995 revenue/max_revenue 0.18699450757575756    nP/params.nP= 0.1405    nV/params.nV= 0.1\n",
            "mean reward so far: 211.06679414709222\n",
            "mean revenue so far: 893.3703705917158\n",
            "Day =  677\n",
            "comm_rate =  0.3\n"
          ]
        },
        {
          "name": "stderr",
          "output_type": "stream",
          "text": [
            "[2023-04-27 20:22:40,689] simulation time 10.5 s\n"
          ]
        },
        {
          "name": "stdout",
          "output_type": "stream",
          "text": [
            "nP =  307    nV =  14     reward= 145.57237878787876 revenue 562.89324 revenue/max_revenue 0.21321713636363637    nP/params.nP= 0.1535    nV/params.nV= 0.07\n",
            "mean reward so far: 210.96551109693684\n",
            "mean revenue so far: 892.7799645790251\n",
            "Day =  678\n",
            "comm_rate =  0.3\n"
          ]
        },
        {
          "name": "stderr",
          "output_type": "stream",
          "text": [
            "[2023-04-27 20:22:56,158] simulation time 10.3 s\n"
          ]
        },
        {
          "name": "stdout",
          "output_type": "stream",
          "text": [
            "nP =  298    nV =  25     reward= 173.09299999999996 revenue 647.53656 revenue/max_revenue 0.245279    nP/params.nP= 0.149    nV/params.nV= 0.125\n",
            "mean reward so far: 210.86906104928337\n",
            "mean revenue so far: 892.2934059882004\n",
            "Day =  679\n",
            "comm_rate =  0.25\n"
          ]
        },
        {
          "name": "stderr",
          "output_type": "stream",
          "text": [
            "[2023-04-27 20:23:12,416] simulation time 11.0 s\n"
          ]
        },
        {
          "name": "stdout",
          "output_type": "stream",
          "text": [
            "nP =  281    nV =  20     reward= 144.69434343434344 revenue 511.0592 revenue/max_revenue 0.19358303030303028    nP/params.nP= 0.1405    nV/params.nV= 0.1\n",
            "mean reward so far: 210.81342620237723\n",
            "mean revenue so far: 891.9329393519882\n",
            "Day =  680\n",
            "comm_rate =  0.3\n"
          ]
        },
        {
          "name": "stderr",
          "output_type": "stream",
          "text": [
            "[2023-04-27 20:23:29,078] simulation time 10.4 s\n"
          ]
        },
        {
          "name": "stdout",
          "output_type": "stream",
          "text": [
            "nP =  282    nV =  19     reward= 151.24086363636363 revenue 574.7876399999999 revenue/max_revenue 0.21772259090909088    nP/params.nP= 0.141    nV/params.nV= 0.095\n",
            "mean reward so far: 210.7161922571301\n",
            "mean revenue so far: 891.3728309117648\n",
            "Day =  681\n",
            "comm_rate =  0.25\n"
          ]
        },
        {
          "name": "stderr",
          "output_type": "stream",
          "text": [
            "[2023-04-27 20:23:44,693] simulation time 10.4 s\n"
          ]
        },
        {
          "name": "stdout",
          "output_type": "stream",
          "text": [
            "nP =  303    nV =  25     reward= 155.37859848484848 revenue 500.6384999999999 revenue/max_revenue 0.18963579545454542    nP/params.nP= 0.1515    nV/params.nV= 0.125\n",
            "mean reward so far: 210.6288569728118\n",
            "mean revenue so far: 890.907948105727\n",
            "Day =  682\n",
            "comm_rate =  0.25\n"
          ]
        },
        {
          "name": "stderr",
          "output_type": "stream",
          "text": [
            "[2023-04-27 20:24:01,873] simulation time 11.0 s\n"
          ]
        },
        {
          "name": "stdout",
          "output_type": "stream",
          "text": [
            "nP =  287    nV =  16     reward= 140.79541666666668 revenue 525.0597 revenue/max_revenue 0.19888625000000001    nP/params.nP= 0.1435    nV/params.nV= 0.08\n",
            "mean reward so far: 210.54784486359193\n",
            "mean revenue so far: 890.3357055131964\n",
            "Day =  683\n",
            "comm_rate =  0.25\n"
          ]
        },
        {
          "name": "stderr",
          "output_type": "stream",
          "text": [
            "[2023-04-27 20:24:17,460] simulation time 10.3 s\n"
          ]
        },
        {
          "name": "stdout",
          "output_type": "stream",
          "text": [
            "nP =  288    nV =  17     reward= 135.57088383838385 revenue 469.1614 revenue/max_revenue 0.17771265151515153    nP/params.nP= 0.144    nV/params.nV= 0.085\n",
            "mean reward so far: 210.44571832157592\n",
            "mean revenue so far: 889.8008943777453\n",
            "Day =  684\n",
            "comm_rate =  0.25\n"
          ]
        },
        {
          "name": "stderr",
          "output_type": "stream",
          "text": [
            "[2023-04-27 20:24:33,219] simulation time 10.5 s\n"
          ]
        },
        {
          "name": "stdout",
          "output_type": "stream",
          "text": [
            "nP =  297    nV =  19     reward= 143.7009090909091 revenue 495.2712 revenue/max_revenue 0.18760272727272728    nP/params.nP= 0.1485    nV/params.nV= 0.095\n",
            "mean reward so far: 210.33625218929055\n",
            "mean revenue so far: 889.185924356725\n",
            "Day =  685\n",
            "comm_rate =  0.25\n"
          ]
        },
        {
          "name": "stderr",
          "output_type": "stream",
          "text": [
            "[2023-04-27 20:24:50,270] simulation time 10.8 s\n"
          ]
        },
        {
          "name": "stdout",
          "output_type": "stream",
          "text": [
            "nP =  296    nV =  16     reward= 140.49189393939392 revenue 510.7758 revenue/max_revenue 0.1934756818181818    nP/params.nP= 0.148    nV/params.nV= 0.08\n",
            "mean reward so far: 210.23897431615424\n",
            "mean revenue so far: 888.6108663649635\n",
            "Day =  686\n",
            "comm_rate =  0.3\n"
          ]
        },
        {
          "name": "stderr",
          "output_type": "stream",
          "text": [
            "[2023-04-27 20:25:06,088] simulation time 10.5 s\n"
          ]
        },
        {
          "name": "stdout",
          "output_type": "stream",
          "text": [
            "nP =  314    nV =  15     reward= 155.85221212121212 revenue 621.86952 revenue/max_revenue 0.23555663636363636    nP/params.nP= 0.157    nV/params.nV= 0.075\n",
            "mean reward so far: 210.13730218732513\n",
            "mean revenue so far: 888.0600863848396\n",
            "Day =  687\n",
            "comm_rate =  0.3\n"
          ]
        },
        {
          "name": "stderr",
          "output_type": "stream",
          "text": [
            "[2023-04-27 20:25:22,813] simulation time 10.5 s\n"
          ]
        },
        {
          "name": "stdout",
          "output_type": "stream",
          "text": [
            "nP =  294    nV =  23     reward= 169.49266666666665 revenue 650.70192 revenue/max_revenue 0.246478    nP/params.nP= 0.147    nV/params.nV= 0.115\n",
            "mean reward so far: 210.05828458897562\n",
            "mean revenue so far: 887.672618311499\n",
            "Day =  688\n",
            "comm_rate =  0.3\n"
          ]
        },
        {
          "name": "stderr",
          "output_type": "stream",
          "text": [
            "[2023-04-27 20:25:38,736] simulation time 10.7 s\n"
          ]
        },
        {
          "name": "stdout",
          "output_type": "stream",
          "text": [
            "nP =  283    nV =  20     reward= 156.60590909090908 revenue 602.7588 revenue/max_revenue 0.22831772727272726    nP/params.nP= 0.1415    nV/params.nV= 0.1\n",
            "mean reward so far: 209.99932293501877\n",
            "mean revenue so far: 887.3281841569768\n",
            "Day =  689\n",
            "comm_rate =  0.35\n"
          ]
        },
        {
          "name": "stderr",
          "output_type": "stream",
          "text": [
            "[2023-04-27 20:25:54,401] simulation time 10.5 s\n"
          ]
        },
        {
          "name": "stdout",
          "output_type": "stream",
          "text": [
            "nP =  272    nV =  18     reward= 164.04866414141412 revenue 702.6254199999998 revenue/max_revenue 0.26614599242424236    nP/params.nP= 0.136    nV/params.nV= 0.09\n",
            "mean reward so far: 209.92182886557882\n",
            "mean revenue so far: 886.9151661828737\n",
            "Day =  690\n",
            "comm_rate =  0.4\n"
          ]
        },
        {
          "name": "stderr",
          "output_type": "stream",
          "text": [
            "[2023-04-27 20:26:10,961] simulation time 10.3 s\n"
          ]
        },
        {
          "name": "stdout",
          "output_type": "stream",
          "text": [
            "nP =  279    nV =  18     reward= 168.84602020202018 revenue 731.38048 revenue/max_revenue 0.2770380606060606    nP/params.nP= 0.1395    nV/params.nV= 0.09\n",
            "mean reward so far: 209.85534601815255\n",
            "mean revenue so far: 886.6480795942027\n",
            "Day =  691\n",
            "comm_rate =  0.35\n"
          ]
        },
        {
          "name": "stderr",
          "output_type": "stream",
          "text": [
            "[2023-04-27 20:26:26,448] simulation time 10.3 s\n"
          ]
        },
        {
          "name": "stdout",
          "output_type": "stream",
          "text": [
            "nP =  278    nV =  17     reward= 159.6002121212121 revenue 672.67368 revenue/max_revenue 0.25480063636363637    nP/params.nP= 0.139    nV/params.nV= 0.085\n",
            "mean reward so far: 209.79599822391788\n",
            "mean revenue so far: 886.4233797395079\n",
            "Day =  692\n",
            "comm_rate =  0.4\n"
          ]
        },
        {
          "name": "stderr",
          "output_type": "stream",
          "text": [
            "[2023-04-27 20:26:42,957] simulation time 10.2 s\n"
          ]
        },
        {
          "name": "stdout",
          "output_type": "stream",
          "text": [
            "nP =  268    nV =  17     reward= 169.9229292929293 revenue 767.6296 revenue/max_revenue 0.29076878787878785    nP/params.nP= 0.134    nV/params.nV= 0.085\n",
            "mean reward so far: 209.72346096076367\n",
            "mean revenue so far: 886.1144928901733\n",
            "Day =  693\n",
            "comm_rate =  0.45\n"
          ]
        },
        {
          "name": "stderr",
          "output_type": "stream",
          "text": [
            "[2023-04-27 20:26:58,301] simulation time 10.2 s\n"
          ]
        },
        {
          "name": "stdout",
          "output_type": "stream",
          "text": [
            "nP =  323    nV =  11     reward= 175.1852121212121 revenue 815.90688 revenue/max_revenue 0.30905563636363637    nP/params.nP= 0.1615    nV/params.nV= 0.055\n",
            "mean reward so far: 209.66602873613476\n",
            "mean revenue so far: 885.9435190187592\n",
            "Day =  694\n",
            "comm_rate =  0.5\n"
          ]
        },
        {
          "name": "stderr",
          "output_type": "stream",
          "text": [
            "[2023-04-27 20:27:13,800] simulation time 10.2 s\n"
          ]
        },
        {
          "name": "stdout",
          "output_type": "stream",
          "text": [
            "nP =  264    nV =  16     reward= 211.83578282828282 revenue 1118.0594 revenue/max_revenue 0.4235073484848485    nP/params.nP= 0.132    nV/params.nV= 0.08\n",
            "mean reward so far: 209.61634456233807\n",
            "mean revenue so far: 885.8426016714697\n",
            "Day =  695\n",
            "comm_rate =  0.45\n"
          ]
        },
        {
          "name": "stderr",
          "output_type": "stream",
          "text": [
            "[2023-04-27 20:27:29,904] simulation time 10.0 s\n"
          ]
        },
        {
          "name": "stdout",
          "output_type": "stream",
          "text": [
            "nP =  285    nV =  15     reward= 177.01474999999996 revenue 827.75682 revenue/max_revenue 0.31354424999999997    nP/params.nP= 0.1425    nV/params.nV= 0.075\n",
            "mean reward so far: 209.61953799869192\n",
            "mean revenue so far: 886.1767265611511\n",
            "Day =  696\n",
            "comm_rate =  0.45\n"
          ]
        },
        {
          "name": "stderr",
          "output_type": "stream",
          "text": [
            "[2023-04-27 20:27:45,423] simulation time 10.3 s\n"
          ]
        },
        {
          "name": "stdout",
          "output_type": "stream",
          "text": [
            "nP =  274    nV =  16     reward= 184.1974696969697 revenue 885.96396 revenue/max_revenue 0.3355924090909091    nP/params.nP= 0.137    nV/params.nV= 0.08\n",
            "mean reward so far: 209.5726920389237\n",
            "mean revenue so far: 886.0927899137931\n",
            "Day =  697\n",
            "comm_rate =  0.45\n"
          ]
        },
        {
          "name": "stderr",
          "output_type": "stream",
          "text": [
            "[2023-04-27 20:28:01,954] simulation time 10.2 s\n"
          ]
        },
        {
          "name": "stdout",
          "output_type": "stream",
          "text": [
            "nP =  290    nV =  18     reward= 181.04676515151513 revenue 813.49038 revenue/max_revenue 0.30814029545454547    nP/params.nP= 0.145    nV/params.nV= 0.09\n",
            "mean reward so far: 209.53628569410023\n",
            "mean revenue so far: 886.0926050789096\n",
            "Day =  698\n",
            "comm_rate =  0.4\n"
          ]
        },
        {
          "name": "stderr",
          "output_type": "stream",
          "text": [
            "[2023-04-27 20:28:17,825] simulation time 10.7 s\n"
          ]
        },
        {
          "name": "stdout",
          "output_type": "stream",
          "text": [
            "nP =  271    nV =  16     reward= 169.90644444444445 revenue 776.73904 revenue/max_revenue 0.29421933333333333    nP/params.nP= 0.1355    nV/params.nV= 0.08\n",
            "mean reward so far: 209.4954697620908\n",
            "mean revenue so far: 885.9885904297994\n",
            "Day =  699\n",
            "comm_rate =  0.4\n"
          ]
        },
        {
          "name": "stderr",
          "output_type": "stream",
          "text": [
            "[2023-04-27 20:28:33,150] simulation time 10.1 s\n"
          ]
        },
        {
          "name": "stdout",
          "output_type": "stream",
          "text": [
            "nP =  286    nV =  22     reward= 178.34682828282828 revenue 744.5868800000001 revenue/max_revenue 0.2820404848484849    nP/params.nP= 0.143    nV/params.nV= 0.11\n",
            "mean reward so far: 209.4388331021228\n",
            "mean revenue so far: 885.8322963662374\n",
            "Day =  700\n",
            "comm_rate =  0.4\n"
          ]
        },
        {
          "name": "stderr",
          "output_type": "stream",
          "text": [
            "[2023-04-27 20:28:50,033] simulation time 10.6 s\n"
          ]
        },
        {
          "name": "stdout",
          "output_type": "stream",
          "text": [
            "nP =  303    nV =  16     reward= 174.4988888888889 revenue 770.8712 revenue/max_revenue 0.2919966666666667    nP/params.nP= 0.1515    nV/params.nV= 0.08\n",
            "mean reward so far: 209.39441595238094\n",
            "mean revenue so far: 885.6305172000001\n",
            "Day =  701\n",
            "comm_rate =  0.35\n"
          ]
        },
        {
          "name": "stderr",
          "output_type": "stream",
          "text": [
            "[2023-04-27 20:29:05,774] simulation time 10.6 s\n"
          ]
        },
        {
          "name": "stdout",
          "output_type": "stream",
          "text": [
            "nP =  280    nV =  13     reward= 159.84385606060604 revenue 724.76334 revenue/max_revenue 0.2745315681818182    nP/params.nP= 0.14    nV/params.nV= 0.065\n",
            "mean reward so far: 209.34463631320335\n",
            "mean revenue so far: 885.4668091868758\n",
            "Day =  702\n",
            "comm_rate =  0.35\n"
          ]
        },
        {
          "name": "stderr",
          "output_type": "stream",
          "text": [
            "[2023-04-27 20:29:21,834] simulation time 9.8 s\n"
          ]
        },
        {
          "name": "stdout",
          "output_type": "stream",
          "text": [
            "nP =  303    nV =  16     reward= 163.13057323232323 revenue 680.8341399999999 revenue/max_revenue 0.25789171969696967    nP/params.nP= 0.1515    nV/params.nV= 0.08\n",
            "mean reward so far: 209.2741223812196\n",
            "mean revenue so far: 885.2378868660969\n",
            "Day =  703\n",
            "comm_rate =  0.3\n"
          ]
        },
        {
          "name": "stderr",
          "output_type": "stream",
          "text": [
            "[2023-04-27 20:29:37,489] simulation time 10.5 s\n"
          ]
        },
        {
          "name": "stdout",
          "output_type": "stream",
          "text": [
            "nP =  262    nV =  17     reward= 151.64509090909087 revenue 630.7891199999999 revenue/max_revenue 0.2389352727272727    nP/params.nP= 0.131    nV/params.nV= 0.085\n",
            "mean reward so far: 209.20848433122114\n",
            "mean revenue so far: 884.9471276244665\n",
            "Day =  704\n",
            "comm_rate =  0.25\n"
          ]
        },
        {
          "name": "stderr",
          "output_type": "stream",
          "text": [
            "[2023-04-27 20:29:52,702] simulation time 9.9 s\n"
          ]
        },
        {
          "name": "stdout",
          "output_type": "stream",
          "text": [
            "nP =  296    nV =  12     reward= 127.41146464646464 revenue 459.9788 revenue/max_revenue 0.17423439393939394    nP/params.nP= 0.148    nV/params.nV= 0.06\n",
            "mean reward so far: 209.1267181473829\n",
            "mean revenue so far: 884.5861077272726\n",
            "Day =  705\n",
            "comm_rate =  0.3\n"
          ]
        },
        {
          "name": "stderr",
          "output_type": "stream",
          "text": [
            "[2023-04-27 20:30:08,636] simulation time 9.7 s\n"
          ]
        },
        {
          "name": "stdout",
          "output_type": "stream",
          "text": [
            "nP =  279    nV =  18     reward= 155.1995606060606 revenue 623.30052 revenue/max_revenue 0.23609868181818183    nP/params.nP= 0.1395    nV/params.nV= 0.09\n",
            "mean reward so far: 209.01080998638872\n",
            "mean revenue so far: 883.983827858156\n",
            "Day =  706\n",
            "comm_rate =  0.25\n"
          ]
        },
        {
          "name": "stderr",
          "output_type": "stream",
          "text": [
            "[2023-04-27 20:30:24,175] simulation time 10.3 s\n"
          ]
        },
        {
          "name": "stdout",
          "output_type": "stream",
          "text": [
            "nP =  291    nV =  13     reward= 130.8962121212121 revenue 480.97799999999995 revenue/max_revenue 0.18218863636363636    nP/params.nP= 0.1455    nV/params.nV= 0.065\n",
            "mean reward so far: 208.9345900864166\n",
            "mean revenue so far: 883.6145880453258\n",
            "Day =  707\n",
            "comm_rate =  0.25\n"
          ]
        },
        {
          "name": "stderr",
          "output_type": "stream",
          "text": [
            "[2023-04-27 20:30:40,362] simulation time 10.0 s\n"
          ]
        },
        {
          "name": "stdout",
          "output_type": "stream",
          "text": [
            "nP =  280    nV =  10     reward= 126.24742424242424 revenue 498.2796 revenue/max_revenue 0.18874227272727273    nP/params.nP= 0.14    nV/params.nV= 0.05\n",
            "mean reward so far: 208.82421048533425\n",
            "mean revenue so far: 883.045087920792\n",
            "Day =  708\n",
            "comm_rate =  0.25\n"
          ]
        },
        {
          "name": "stderr",
          "output_type": "stream",
          "text": [
            "[2023-04-27 20:30:54,630] simulation time 9.0 s\n"
          ]
        },
        {
          "name": "stdout",
          "output_type": "stream",
          "text": [
            "nP =  280    nV =  16     reward= 133.5647222222222 revenue 477.0326 revenue/max_revenue 0.18069416666666666    nP/params.nP= 0.14    nV/params.nV= 0.08\n",
            "mean reward so far: 208.70757660646007\n",
            "mean revenue so far: 882.5016338418078\n",
            "Day =  709\n",
            "comm_rate =  0.2\n"
          ]
        },
        {
          "name": "stderr",
          "output_type": "stream",
          "text": [
            "[2023-04-27 20:31:10,042] simulation time 10.2 s\n"
          ]
        },
        {
          "name": "stdout",
          "output_type": "stream",
          "text": [
            "nP =  285    nV =  18     reward= 125.37174747474747 revenue 379.14423999999997 revenue/max_revenue 0.14361524242424242    nP/params.nP= 0.1425    nV/params.nV= 0.09\n",
            "mean reward so far: 208.60159232665154\n",
            "mean revenue so far: 881.9297452186178\n",
            "Day =  710\n",
            "comm_rate =  0.2\n"
          ]
        },
        {
          "name": "stderr",
          "output_type": "stream",
          "text": [
            "[2023-04-27 20:31:26,694] simulation time 10.4 s\n"
          ]
        },
        {
          "name": "stdout",
          "output_type": "stream",
          "text": [
            "nP =  281    nV =  19     reward= 128.459303030303 revenue 395.67768 revenue/max_revenue 0.1498779090909091    nP/params.nP= 0.1405    nV/params.nV= 0.095\n",
            "mean reward so far: 208.48436719305735\n",
            "mean revenue so far: 881.2215966197183\n",
            "Day =  711\n",
            "comm_rate =  0.2\n"
          ]
        },
        {
          "name": "stderr",
          "output_type": "stream",
          "text": [
            "[2023-04-27 20:31:42,337] simulation time 10.4 s\n"
          ]
        },
        {
          "name": "stdout",
          "output_type": "stream",
          "text": [
            "nP =  305    nV =  17     reward= 128.75479797979793 revenue 392.73799999999994 revenue/max_revenue 0.14876439393939392    nP/params.nP= 0.1525    nV/params.nV= 0.085\n",
            "mean reward so far: 208.3718143601983\n",
            "mean revenue so far: 880.5386937834036\n",
            "Day =  712\n",
            "comm_rate =  0.15\n"
          ]
        },
        {
          "name": "stderr",
          "output_type": "stream",
          "text": [
            "[2023-04-27 20:31:59,617] simulation time 10.9 s\n"
          ]
        },
        {
          "name": "stdout",
          "output_type": "stream",
          "text": [
            "nP =  288    nV =  10     reward= 104.16583333333332 revenue 312.8334 revenue/max_revenue 0.11849749999999999    nP/params.nP= 0.144    nV/params.nV= 0.05\n",
            "mean reward so far: 208.25999270797865\n",
            "mean revenue so far: 879.853580449438\n",
            "Day =  713\n",
            "comm_rate =  0.1\n"
          ]
        },
        {
          "name": "stderr",
          "output_type": "stream",
          "text": [
            "[2023-04-27 20:32:14,159] simulation time 9.3 s\n"
          ]
        },
        {
          "name": "stdout",
          "output_type": "stream",
          "text": [
            "nP =  303    nV =  7     reward= 86.90686363636362 revenue 195.94236 revenue/max_revenue 0.07422059090909092    nP/params.nP= 0.1515    nV/params.nV= 0.035\n",
            "mean reward so far: 208.11399809454997\n",
            "mean revenue so far: 879.0583207293128\n",
            "Day =  714\n",
            "comm_rate =  0.15\n"
          ]
        },
        {
          "name": "stderr",
          "output_type": "stream",
          "text": [
            "[2023-04-27 20:32:27,790] simulation time 8.4 s\n"
          ]
        },
        {
          "name": "stdout",
          "output_type": "stream",
          "text": [
            "nP =  286    nV =  19     reward= 119.11471969696969 revenue 315.06858 revenue/max_revenue 0.11934415909090909    nP/params.nP= 0.143    nV/params.nV= 0.095\n",
            "mean reward so far: 207.94424020315196\n",
            "mean revenue so far: 878.1015756862745\n",
            "Day =  715\n",
            "comm_rate =  0.15\n"
          ]
        },
        {
          "name": "stderr",
          "output_type": "stream",
          "text": [
            "[2023-04-27 20:32:44,514] simulation time 10.5 s\n"
          ]
        },
        {
          "name": "stdout",
          "output_type": "stream",
          "text": [
            "nP =  284    nV =  20     reward= 118.69827272727271 revenue 301.21031999999997 revenue/max_revenue 0.11409481818181817    nP/params.nP= 0.142    nV/params.nV= 0.1\n",
            "mean reward so far: 207.82000311153496\n",
            "mean revenue so far: 877.3141169510488\n",
            "Day =  716\n",
            "comm_rate =  0.2\n"
          ]
        },
        {
          "name": "stderr",
          "output_type": "stream",
          "text": [
            "[2023-04-27 20:33:00,289] simulation time 10.6 s\n"
          ]
        },
        {
          "name": "stdout",
          "output_type": "stream",
          "text": [
            "nP =  260    nV =  21     reward= 128.17179797979796 revenue 394.72064 revenue/max_revenue 0.14951539393939395    nP/params.nP= 0.13    nV/params.nV= 0.105\n",
            "mean reward so far: 207.6955314210541\n",
            "mean revenue so far: 876.5095027094973\n",
            "Day =  717\n",
            "comm_rate =  0.15\n"
          ]
        },
        {
          "name": "stderr",
          "output_type": "stream",
          "text": [
            "[2023-04-27 20:33:16,539] simulation time 10.0 s\n"
          ]
        },
        {
          "name": "stdout",
          "output_type": "stream",
          "text": [
            "nP =  288    nV =  20     reward= 114.8588409090909 revenue 265.52202 revenue/max_revenue 0.10057652272727273    nP/params.nP= 0.144    nV/params.nV= 0.1\n",
            "mean reward so far: 207.5846196589324\n",
            "mean revenue so far: 875.8375517154811\n",
            "Day =  718\n",
            "comm_rate =  0.2\n"
          ]
        },
        {
          "name": "stderr",
          "output_type": "stream",
          "text": [
            "[2023-04-27 20:33:32,388] simulation time 10.7 s\n"
          ]
        },
        {
          "name": "stdout",
          "output_type": "stream",
          "text": [
            "nP =  290    nV =  16     reward= 124.65836363636362 revenue 393.29424000000006 revenue/max_revenue 0.14897509090909092    nP/params.nP= 0.145    nV/params.nV= 0.08\n",
            "mean reward so far: 207.4554751202836\n",
            "mean revenue so far: 874.9875300835655\n",
            "Day =  719\n",
            "comm_rate =  0.2\n"
          ]
        },
        {
          "name": "stderr",
          "output_type": "stream",
          "text": [
            "[2023-04-27 20:33:47,933] simulation time 10.2 s\n"
          ]
        },
        {
          "name": "stdout",
          "output_type": "stream",
          "text": [
            "nP =  275    nV =  21     reward= 131.96040404040406 revenue 404.9264 revenue/max_revenue 0.1533812121212121    nP/params.nP= 0.1375    nV/params.nV= 0.105\n",
            "mean reward so far: 207.34031919332406\n",
            "mean revenue so far: 874.3175811404728\n",
            "Day =  720\n",
            "comm_rate =  0.15\n"
          ]
        },
        {
          "name": "stderr",
          "output_type": "stream",
          "text": [
            "[2023-04-27 20:34:04,489] simulation time 10.3 s\n"
          ]
        },
        {
          "name": "stdout",
          "output_type": "stream",
          "text": [
            "nP =  294    nV =  17     reward= 113.26177272727273 revenue 284.55323999999996 revenue/max_revenue 0.10778531818181816    nP/params.nP= 0.147    nV/params.nV= 0.085\n",
            "mean reward so far: 207.23562486672276\n",
            "mean revenue so far: 873.6656489444443\n",
            "Day =  721\n",
            "comm_rate =  0.15\n"
          ]
        },
        {
          "name": "stderr",
          "output_type": "stream",
          "text": [
            "[2023-04-27 20:34:20,322] simulation time 10.6 s\n"
          ]
        },
        {
          "name": "stdout",
          "output_type": "stream",
          "text": [
            "nP =  303    nV =  20     reward= 120.03467424242423 revenue 286.71461999999997 revenue/max_revenue 0.10860402272727271    nP/params.nP= 0.1515    nV/params.nV= 0.1\n",
            "mean reward so far: 207.10528665293717\n",
            "mean revenue so far: 872.8485720943135\n",
            "Day =  722\n",
            "comm_rate =  0.15\n"
          ]
        },
        {
          "name": "stderr",
          "output_type": "stream",
          "text": [
            "[2023-04-27 20:34:37,386] simulation time 10.8 s\n"
          ]
        },
        {
          "name": "stdout",
          "output_type": "stream",
          "text": [
            "nP =  292    nV =  17     reward= 116.58854545454545 revenue 313.54128 revenue/max_revenue 0.11876563636363635    nP/params.nP= 0.146    nV/params.nV= 0.085\n",
            "mean reward so far: 206.98469023685607\n",
            "mean revenue so far: 872.0367522160665\n",
            "Day =  723\n",
            "comm_rate =  0.15\n"
          ]
        },
        {
          "name": "stderr",
          "output_type": "stream",
          "text": [
            "[2023-04-27 20:34:53,026] simulation time 10.4 s\n"
          ]
        },
        {
          "name": "stdout",
          "output_type": "stream",
          "text": [
            "nP =  282    nV =  15     reward= 111.27151515151515 revenue 311.0304 revenue/max_revenue 0.11781454545454545    nP/params.nP= 0.141    nV/params.nV= 0.075\n",
            "mean reward so far: 206.85966099096075\n",
            "mean revenue so far: 871.2642826832641\n",
            "Day =  724\n",
            "comm_rate =  0.2\n"
          ]
        },
        {
          "name": "stderr",
          "output_type": "stream",
          "text": [
            "[2023-04-27 20:35:08,164] simulation time 10.0 s\n"
          ]
        },
        {
          "name": "stdout",
          "output_type": "stream",
          "text": [
            "nP =  285    nV =  19     reward= 127.69436363636363 revenue 384.33936000000006 revenue/max_revenue 0.14558309090909094    nP/params.nP= 0.1425    nV/params.nV= 0.095\n",
            "mean reward so far: 206.72763316521568\n",
            "mean revenue so far: 870.4904789779006\n",
            "Day =  725\n",
            "comm_rate =  0.15\n"
          ]
        },
        {
          "name": "stderr",
          "output_type": "stream",
          "text": [
            "[2023-04-27 20:35:24,904] simulation time 10.6 s\n"
          ]
        },
        {
          "name": "stdout",
          "output_type": "stream",
          "text": [
            "nP =  284    nV =  16     reward= 111.88947727272728 revenue 300.08466 revenue/max_revenue 0.11366843181818181    nP/params.nP= 0.142    nV/params.nV= 0.08\n",
            "mean reward so far: 206.618621758969\n",
            "mean revenue so far: 869.8199257103448\n",
            "Day =  726\n",
            "comm_rate =  0.2\n"
          ]
        },
        {
          "name": "stderr",
          "output_type": "stream",
          "text": [
            "[2023-04-27 20:35:40,351] simulation time 10.2 s\n"
          ]
        },
        {
          "name": "stdout",
          "output_type": "stream",
          "text": [
            "nP =  292    nV =  21     reward= 133.21231313131312 revenue 392.40152 revenue/max_revenue 0.1486369393939394    nP/params.nP= 0.146    nV/params.nV= 0.105\n",
            "mean reward so far: 206.48814084369866\n",
            "mean revenue so far: 869.0351663911845\n",
            "Day =  727\n",
            "comm_rate =  0.2\n"
          ]
        },
        {
          "name": "stderr",
          "output_type": "stream",
          "text": [
            "[2023-04-27 20:35:57,434] simulation time 10.8 s\n"
          ]
        },
        {
          "name": "stdout",
          "output_type": "stream",
          "text": [
            "nP =  304    nV =  27     reward= 145.57211111111113 revenue 395.25112 revenue/max_revenue 0.14971633333333334    nP/params.nP= 0.152    nV/params.nV= 0.135\n",
            "mean reward so far: 206.38734878357158\n",
            "mean revenue so far: 868.3795492709767\n",
            "Day =  728\n",
            "comm_rate =  0.2\n"
          ]
        },
        {
          "name": "stderr",
          "output_type": "stream",
          "text": [
            "[2023-04-27 20:36:13,803] simulation time 11.1 s\n"
          ]
        },
        {
          "name": "stdout",
          "output_type": "stream",
          "text": [
            "nP =  282    nV =  21     reward= 133.7030202020202 revenue 409.48792000000003 revenue/max_revenue 0.1551090606060606    nP/params.nP= 0.141    nV/params.nV= 0.105\n",
            "mean reward so far: 206.30381136918635\n",
            "mean revenue so far: 867.7296475824174\n",
            "Day =  729\n",
            "comm_rate =  0.25\n"
          ]
        },
        {
          "name": "stderr",
          "output_type": "stream",
          "text": [
            "[2023-04-27 20:36:29,475] simulation time 10.5 s\n"
          ]
        },
        {
          "name": "stdout",
          "output_type": "stream",
          "text": [
            "nP =  290    nV =  21     reward= 144.94359848484848 revenue 487.9533 revenue/max_revenue 0.18483079545454545    nP/params.nP= 0.145    nV/params.nV= 0.105\n",
            "mean reward so far: 206.20422180654273\n",
            "mean revenue so far: 867.1010581069959\n",
            "Day =  730\n",
            "comm_rate =  0.2\n"
          ]
        },
        {
          "name": "stderr",
          "output_type": "stream",
          "text": [
            "[2023-04-27 20:36:46,330] simulation time 10.6 s\n"
          ]
        },
        {
          "name": "stdout",
          "output_type": "stream",
          "text": [
            "nP =  304    nV =  18     reward= 129.5261313131313 revenue 386.96696 revenue/max_revenue 0.14657839393939393    nP/params.nP= 0.152    nV/params.nV= 0.09\n",
            "mean reward so far: 206.12030314445823\n",
            "mean revenue so far: 866.5816776164384\n",
            "Day =  731\n",
            "comm_rate =  0.25\n"
          ]
        },
        {
          "name": "stderr",
          "output_type": "stream",
          "text": [
            "[2023-04-27 20:37:02,368] simulation time 10.8 s\n"
          ]
        },
        {
          "name": "stdout",
          "output_type": "stream",
          "text": [
            "nP =  308    nV =  22     reward= 154.6886994949495 revenue 528.1745000000001 revenue/max_revenue 0.20006609848484852    nP/params.nP= 0.154    nV/params.nV= 0.11\n",
            "mean reward so far: 206.01552315563288\n",
            "mean revenue so far: 865.9255699316005\n",
            "Day =  732\n",
            "comm_rate =  0.25\n"
          ]
        },
        {
          "name": "stderr",
          "output_type": "stream",
          "text": [
            "[2023-04-27 20:37:19,759] simulation time 11.1 s\n"
          ]
        },
        {
          "name": "stdout",
          "output_type": "stream",
          "text": [
            "nP =  279    nV =  29     reward= 162.99493686868686 revenue 539.8399 revenue/max_revenue 0.20448481060606058    nP/params.nP= 0.1395    nV/params.nV= 0.145\n",
            "mean reward so far: 205.94540454407462\n",
            "mean revenue so far: 865.4641613661202\n",
            "Day =  733\n",
            "comm_rate =  0.25\n"
          ]
        },
        {
          "name": "stderr",
          "output_type": "stream",
          "text": [
            "[2023-04-27 20:37:35,470] simulation time 10.5 s\n"
          ]
        },
        {
          "name": "stdout",
          "output_type": "stream",
          "text": [
            "nP =  298    nV =  20     reward= 142.1806818181818 revenue 468.711 revenue/max_revenue 0.17754204545454547    nP/params.nP= 0.149    nV/params.nV= 0.1\n",
            "mean reward so far: 205.88680909022003\n",
            "mean revenue so far: 865.0199263574351\n",
            "Day =  734\n",
            "comm_rate =  0.3\n"
          ]
        },
        {
          "name": "stderr",
          "output_type": "stream",
          "text": [
            "[2023-04-27 20:37:51,588] simulation time 10.9 s\n"
          ]
        },
        {
          "name": "stdout",
          "output_type": "stream",
          "text": [
            "nP =  296    nV =  22     reward= 160.15848484848482 revenue 587.3352 revenue/max_revenue 0.22247545454545453    nP/params.nP= 0.148    nV/params.nV= 0.11\n",
            "mean reward so far: 205.80001600129353\n",
            "mean revenue so far: 864.4799959400544\n",
            "Day =  735\n",
            "comm_rate =  0.3\n"
          ]
        },
        {
          "name": "stderr",
          "output_type": "stream",
          "text": [
            "[2023-04-27 20:38:08,675] simulation time 10.8 s\n"
          ]
        },
        {
          "name": "stdout",
          "output_type": "stream",
          "text": [
            "nP =  279    nV =  17     reward= 150.15739393939393 revenue 596.56656 revenue/max_revenue 0.22597218181818182    nP/params.nP= 0.1395    nV/params.nV= 0.085\n",
            "mean reward so far: 205.73791867999722\n",
            "mean revenue so far: 864.1029281904761\n",
            "Day =  736\n",
            "comm_rate =  0.3\n"
          ]
        },
        {
          "name": "stderr",
          "output_type": "stream",
          "text": [
            "[2023-04-27 20:38:24,060] simulation time 10.2 s\n"
          ]
        },
        {
          "name": "stdout",
          "output_type": "stream",
          "text": [
            "nP =  312    nV =  22     reward= 159.2849393939394 revenue 559.29672 revenue/max_revenue 0.2118548181818182    nP/params.nP= 0.156    nV/params.nV= 0.11\n",
            "mean reward so far: 205.66240166268665\n",
            "mean revenue so far: 863.7394276902174\n",
            "Day =  737\n",
            "comm_rate =  0.3\n"
          ]
        },
        {
          "name": "stderr",
          "output_type": "stream",
          "text": [
            "[2023-04-27 20:38:41,471] simulation time 12.2 s\n"
          ]
        },
        {
          "name": "stdout",
          "output_type": "stream",
          "text": [
            "nP =  297    nV =  15     reward= 156.54590909090908 revenue 649.8036 revenue/max_revenue 0.24613772727272726    nP/params.nP= 0.1485    nV/params.nV= 0.075\n",
            "mean reward so far: 205.59947430546987\n",
            "mean revenue so far: 863.3263439620081\n",
            "Day =  738\n",
            "comm_rate =  0.3\n"
          ]
        },
        {
          "name": "stderr",
          "output_type": "stream",
          "text": [
            "[2023-04-27 20:38:57,105] simulation time 10.4 s\n"
          ]
        },
        {
          "name": "stdout",
          "output_type": "stream",
          "text": [
            "nP =  318    nV =  29     reward= 178.63360606060607 revenue 612.21816 revenue/max_revenue 0.23190081818181818    nP/params.nP= 0.159    nV/params.nV= 0.145\n",
            "mean reward so far: 205.5330060599217\n",
            "mean revenue so far: 863.0370177506775\n",
            "Day =  739\n",
            "comm_rate =  0.3\n"
          ]
        },
        {
          "name": "stderr",
          "output_type": "stream",
          "text": [
            "[2023-04-27 20:39:13,772] simulation time 11.5 s\n"
          ]
        },
        {
          "name": "stdout",
          "output_type": "stream",
          "text": [
            "nP =  311    nV =  24     reward= 172.67969696969695 revenue 640.3032 revenue/max_revenue 0.2425390909090909    nP/params.nP= 0.1555    nV/params.nV= 0.12\n",
            "mean reward so far: 205.49660633055862\n",
            "mean revenue so far: 862.6976146955345\n",
            "Day =  740\n",
            "comm_rate =  0.25\n"
          ]
        },
        {
          "name": "stderr",
          "output_type": "stream",
          "text": [
            "[2023-04-27 20:39:31,243] simulation time 11.2 s\n"
          ]
        },
        {
          "name": "stdout",
          "output_type": "stream",
          "text": [
            "nP =  313    nV =  23     reward= 157.32171717171718 revenue 529.2280000000001 revenue/max_revenue 0.20046515151515154    nP/params.nP= 0.1565    nV/params.nV= 0.115\n",
            "mean reward so far: 205.45225915574667\n",
            "mean revenue so far: 862.3970817027026\n",
            "Day =  741\n",
            "comm_rate =  0.2\n"
          ]
        },
        {
          "name": "stderr",
          "output_type": "stream",
          "text": [
            "[2023-04-27 20:39:47,713] simulation time 11.3 s\n"
          ]
        },
        {
          "name": "stdout",
          "output_type": "stream",
          "text": [
            "nP =  302    nV =  19     reward= 135.3423535353535 revenue 422.47144000000003 revenue/max_revenue 0.16002706060606062    nP/params.nP= 0.151    nV/params.nV= 0.095\n",
            "mean reward so far: 205.38730565779247\n",
            "mean revenue so far: 861.9474608097165\n",
            "Day =  742\n",
            "comm_rate =  0.2\n"
          ]
        },
        {
          "name": "stderr",
          "output_type": "stream",
          "text": [
            "[2023-04-27 20:40:03,852] simulation time 10.9 s\n"
          ]
        },
        {
          "name": "stdout",
          "output_type": "stream",
          "text": [
            "nP =  313    nV =  24     reward= 145.35749494949496 revenue 421.27135999999996 revenue/max_revenue 0.15957248484848482    nP/params.nP= 0.1565    nV/params.nV= 0.12\n",
            "mean reward so far: 205.2929054527757\n",
            "mean revenue so far: 861.3551750673854\n",
            "Day =  743\n",
            "comm_rate =  0.15\n"
          ]
        },
        {
          "name": "stderr",
          "output_type": "stream",
          "text": [
            "[2023-04-27 20:40:21,409] simulation time 11.3 s\n"
          ]
        },
        {
          "name": "stdout",
          "output_type": "stream",
          "text": [
            "nP =  305    nV =  20     reward= 122.51327272727272 revenue 303.70511999999997 revenue/max_revenue 0.11503981818181817    nP/params.nP= 0.1525    nV/params.nV= 0.1\n",
            "mean reward so far: 205.2122386822464\n",
            "mean revenue so far: 860.7628684522207\n",
            "Day =  744\n",
            "comm_rate =  0.15\n"
          ]
        },
        {
          "name": "stderr",
          "output_type": "stream",
          "text": [
            "[2023-04-27 20:40:37,624] simulation time 10.9 s\n"
          ]
        },
        {
          "name": "stdout",
          "output_type": "stream",
          "text": [
            "nP =  321    nV =  26     reward= 135.4766590909091 revenue 306.05513999999994 revenue/max_revenue 0.11592997727272725    nP/params.nP= 0.1605    nV/params.nV= 0.13\n",
            "mean reward so far: 205.10108415811337\n",
            "mean revenue so far: 860.0141349193549\n",
            "Day =  745\n",
            "comm_rate =  0.1\n"
          ]
        },
        {
          "name": "stderr",
          "output_type": "stream",
          "text": [
            "[2023-04-27 20:40:55,386] simulation time 11.5 s\n"
          ]
        },
        {
          "name": "stdout",
          "output_type": "stream",
          "text": [
            "nP =  334    nV =  23     reward= 121.45765151515151 revenue 217.46460000000002 revenue/max_revenue 0.08237295454545455    nP/params.nP= 0.167    nV/params.nV= 0.115\n",
            "mean reward so far: 205.00762855399634\n",
            "mean revenue so far: 859.2705657986577\n",
            "Day =  746\n",
            "comm_rate =  0.15\n"
          ]
        },
        {
          "name": "stderr",
          "output_type": "stream",
          "text": [
            "[2023-04-27 20:41:12,411] simulation time 11.8 s\n"
          ]
        },
        {
          "name": "stdout",
          "output_type": "stream",
          "text": [
            "nP =  310    nV =  29     reward= 142.44483333333332 revenue 336.1630799999999 revenue/max_revenue 0.12733449999999996    nP/params.nP= 0.155    nV/params.nV= 0.145\n",
            "mean reward so far: 204.8956312657405\n",
            "mean revenue so far: 858.410236085791\n",
            "Day =  747\n",
            "comm_rate =  0.2\n"
          ]
        },
        {
          "name": "stderr",
          "output_type": "stream",
          "text": [
            "[2023-04-27 20:41:28,901] simulation time 11.2 s\n"
          ]
        },
        {
          "name": "stdout",
          "output_type": "stream",
          "text": [
            "nP =  312    nV =  24     reward= 145.26932323232322 revenue 421.89304000000004 revenue/max_revenue 0.15980796969696973    nP/params.nP= 0.156    nV/params.nV= 0.12\n",
            "mean reward so far: 204.81202912660743\n",
            "mean revenue so far: 857.7111100401606\n",
            "Day =  748\n",
            "comm_rate =  0.2\n"
          ]
        },
        {
          "name": "stderr",
          "output_type": "stream",
          "text": [
            "[2023-04-27 20:41:46,430] simulation time 11.2 s\n"
          ]
        },
        {
          "name": "stdout",
          "output_type": "stream",
          "text": [
            "nP =  318    nV =  20     reward= 140.16754545454546 revenue 426.36696 revenue/max_revenue 0.16150263636363638    nP/params.nP= 0.159    nV/params.nV= 0.1\n",
            "mean reward so far: 204.73242657862042\n",
            "mean revenue so far: 857.1284655614974\n",
            "Day =  749\n",
            "comm_rate =  0.2\n"
          ]
        },
        {
          "name": "stderr",
          "output_type": "stream",
          "text": [
            "[2023-04-27 20:42:03,134] simulation time 11.4 s\n"
          ]
        },
        {
          "name": "stdout",
          "output_type": "stream",
          "text": [
            "nP =  320    nV =  30     reward= 159.23627272727276 revenue 442.75128000000007 revenue/max_revenue 0.1677088181818182    nP/params.nP= 0.16    nV/params.nV= 0.15\n",
            "mean reward so far: 204.64622513519708\n",
            "mean revenue so far: 856.5533500667557\n",
            "Day =  750\n",
            "comm_rate =  0.25\n"
          ]
        },
        {
          "name": "stderr",
          "output_type": "stream",
          "text": [
            "[2023-04-27 20:42:21,072] simulation time 12.7 s\n"
          ]
        },
        {
          "name": "stdout",
          "output_type": "stream",
          "text": [
            "nP =  299    nV =  23     reward= 154.655202020202 revenue 526.5891999999999 revenue/max_revenue 0.199465606060606    nP/params.nP= 0.1495    nV/params.nV= 0.115\n",
            "mean reward so far: 204.5856785319865\n",
            "mean revenue so far: 856.0016139733333\n",
            "Day =  751\n",
            "comm_rate =  0.25\n"
          ]
        },
        {
          "name": "stderr",
          "output_type": "stream",
          "text": [
            "[2023-04-27 20:42:37,085] simulation time 10.8 s\n"
          ]
        },
        {
          "name": "stdout",
          "output_type": "stream",
          "text": [
            "nP =  297    nV =  23     reward= 152.27133838383838 revenue 510.349 revenue/max_revenue 0.19331401515151514    nP/params.nP= 0.1485    nV/params.nV= 0.115\n",
            "mean reward so far: 204.5191932103996\n",
            "mean revenue so far: 855.5629822636486\n",
            "Day =  752\n",
            "comm_rate =  0.2\n"
          ]
        },
        {
          "name": "stderr",
          "output_type": "stream",
          "text": [
            "[2023-04-27 20:42:53,196] simulation time 10.9 s\n"
          ]
        },
        {
          "name": "stdout",
          "output_type": "stream",
          "text": [
            "nP =  332    nV =  24     reward= 145.3593636363636 revenue 396.20616 revenue/max_revenue 0.1500780909090909    nP/params.nP= 0.166    nV/params.nV= 0.12\n",
            "mean reward so far: 204.4497146800451\n",
            "mean revenue so far: 855.1039211170213\n",
            "Day =  753\n",
            "comm_rate =  0.25\n"
          ]
        },
        {
          "name": "stderr",
          "output_type": "stream",
          "text": [
            "[2023-04-27 20:43:11,204] simulation time 11.8 s\n"
          ]
        },
        {
          "name": "stdout",
          "output_type": "stream",
          "text": [
            "nP =  338    nV =  31     reward= 181.01198232323233 revenue 578.2549 revenue/max_revenue 0.21903594696969697    nP/params.nP= 0.169    nV/params.nV= 0.155\n",
            "mean reward so far: 204.37124143828729\n",
            "mean revenue so far: 854.4944951394422\n",
            "Day =  754\n",
            "comm_rate =  0.25\n"
          ]
        },
        {
          "name": "stderr",
          "output_type": "stream",
          "text": [
            "[2023-04-27 20:43:28,310] simulation time 11.9 s\n"
          ]
        },
        {
          "name": "stdout",
          "output_type": "stream",
          "text": [
            "nP =  337    nV =  25     reward= 169.53633838383837 revenue 567.8878 revenue/max_revenue 0.21510901515151515    nP/params.nP= 0.1685    nV/params.nV= 0.125\n",
            "mean reward so far: 204.34026098853252\n",
            "mean revenue so far: 854.1281296286472\n",
            "Day =  755\n",
            "comm_rate =  0.25\n"
          ]
        },
        {
          "name": "stderr",
          "output_type": "stream",
          "text": [
            "[2023-04-27 20:43:45,335] simulation time 11.8 s\n"
          ]
        },
        {
          "name": "stdout",
          "output_type": "stream",
          "text": [
            "nP =  295    nV =  24     reward= 160.63214646464647 revenue 566.0065999999999 revenue/max_revenue 0.21439643939393938    nP/params.nP= 0.1475    nV/params.nV= 0.12\n",
            "mean reward so far: 204.29416307779783\n",
            "mean revenue so far: 853.7490033642383\n",
            "Day =  756\n",
            "comm_rate =  0.25\n"
          ]
        },
        {
          "name": "stderr",
          "output_type": "stream",
          "text": [
            "[2023-04-27 20:44:02,472] simulation time 10.8 s\n"
          ]
        },
        {
          "name": "stdout",
          "output_type": "stream",
          "text": [
            "nP =  343    nV =  22     reward= 157.11680555555557 revenue 501.2051 revenue/max_revenue 0.18985041666666666    nP/params.nP= 0.1715    nV/params.nV= 0.11\n",
            "mean reward so far: 204.23640908756883\n",
            "mean revenue so far: 853.3683917195768\n",
            "Day =  757\n",
            "comm_rate =  0.3\n"
          ]
        },
        {
          "name": "stderr",
          "output_type": "stream",
          "text": [
            "[2023-04-27 20:44:19,658] simulation time 12.0 s\n"
          ]
        },
        {
          "name": "stdout",
          "output_type": "stream",
          "text": [
            "nP =  326    nV =  17     reward= 172.17469696969695 revenue 708.9036 revenue/max_revenue 0.2685240909090909    nP/params.nP= 0.163    nV/params.nV= 0.085\n",
            "mean reward so far: 204.17416390456745\n",
            "mean revenue so far: 852.9031826155879\n",
            "Day =  758\n",
            "comm_rate =  0.25\n"
          ]
        },
        {
          "name": "stderr",
          "output_type": "stream",
          "text": [
            "[2023-04-27 20:44:37,188] simulation time 11.2 s\n"
          ]
        },
        {
          "name": "stdout",
          "output_type": "stream",
          "text": [
            "nP =  341    nV =  21     reward= 164.70058080808082 revenue 577.1086 revenue/max_revenue 0.21860174242424243    nP/params.nP= 0.1705    nV/params.nV= 0.105\n",
            "mean reward so far: 204.13194824898054\n",
            "mean revenue so far: 852.7132095514513\n",
            "Day =  759\n",
            "comm_rate =  0.25\n"
          ]
        },
        {
          "name": "stderr",
          "output_type": "stream",
          "text": [
            "[2023-04-27 20:44:54,102] simulation time 11.7 s\n"
          ]
        },
        {
          "name": "stdout",
          "output_type": "stream",
          "text": [
            "nP =  352    nV =  29     reward= 178.18622474747474 revenue 563.7949000000001 revenue/max_revenue 0.21355867424242428    nP/params.nP= 0.176    nV/params.nV= 0.145\n",
            "mean reward so far: 204.0799965132218\n",
            "mean revenue so far: 852.3500941238472\n",
            "Day =  760\n",
            "comm_rate =  0.2\n"
          ]
        },
        {
          "name": "stderr",
          "output_type": "stream",
          "text": [
            "[2023-04-27 20:45:11,530] simulation time 12.2 s\n"
          ]
        },
        {
          "name": "stdout",
          "output_type": "stream",
          "text": [
            "nP =  321    nV =  24     reward= 153.47720202020201 revenue 475.01944000000003 revenue/max_revenue 0.17993160606060607    nP/params.nP= 0.1605    nV/params.nV= 0.12\n",
            "mean reward so far: 204.04592576089843\n",
            "mean revenue so far: 851.9704162368421\n",
            "Day =  761\n",
            "comm_rate =  0.25\n"
          ]
        },
        {
          "name": "stderr",
          "output_type": "stream",
          "text": [
            "[2023-04-27 20:45:29,351] simulation time 11.4 s\n"
          ]
        },
        {
          "name": "stdout",
          "output_type": "stream",
          "text": [
            "nP =  332    nV =  22     reward= 160.76719696969695 revenue 544.6361999999999 revenue/max_revenue 0.20630159090909087    nP/params.nP= 0.166    nV/params.nV= 0.11\n",
            "mean reward so far: 203.97947540118665\n",
            "mean revenue so far: 851.475079868594\n",
            "Day =  762\n",
            "comm_rate =  0.2\n"
          ]
        },
        {
          "name": "stderr",
          "output_type": "stream",
          "text": [
            "[2023-04-27 20:45:46,312] simulation time 11.7 s\n"
          ]
        },
        {
          "name": "stdout",
          "output_type": "stream",
          "text": [
            "nP =  351    nV =  34     reward= 171.19740404040405 revenue 443.76344000000006 revenue/max_revenue 0.16809221212121214    nP/params.nP= 0.1755    nV/params.nV= 0.17\n",
            "mean reward so far: 203.92276637437368\n",
            "mean revenue so far: 851.0724041732282\n",
            "Day =  763\n",
            "comm_rate =  0.15\n"
          ]
        },
        {
          "name": "stderr",
          "output_type": "stream",
          "text": [
            "[2023-04-27 20:46:03,710] simulation time 12.2 s\n"
          ]
        },
        {
          "name": "stdout",
          "output_type": "stream",
          "text": [
            "nP =  326    nV =  23     reward= 137.3291212121212 revenue 353.72664 revenue/max_revenue 0.13398736363636363    nP/params.nP= 0.163    nV/params.nV= 0.115\n",
            "mean reward so far: 203.87987599123608\n",
            "mean revenue so far: 850.5385785321101\n",
            "Day =  764\n",
            "comm_rate =  0.15\n"
          ]
        },
        {
          "name": "stderr",
          "output_type": "stream",
          "text": [
            "[2023-04-27 20:46:21,704] simulation time 11.6 s\n"
          ]
        },
        {
          "name": "stdout",
          "output_type": "stream",
          "text": [
            "nP =  335    nV =  18     reward= 127.81975000000001 revenue 332.53242 revenue/max_revenue 0.12595925    nP/params.nP= 0.1675    nV/params.nV= 0.09\n",
            "mean reward so far: 203.79276767346235\n",
            "mean revenue so far: 849.8883011256545\n",
            "Day =  765\n",
            "comm_rate =  0.15\n"
          ]
        },
        {
          "name": "stderr",
          "output_type": "stream",
          "text": [
            "[2023-04-27 20:46:38,429] simulation time 11.5 s\n"
          ]
        },
        {
          "name": "stdout",
          "output_type": "stream",
          "text": [
            "nP =  342    nV =  30     reward= 149.42096212121214 revenue 335.97401999999994 revenue/max_revenue 0.12726288636363633    nP/params.nP= 0.171    nV/params.nV= 0.15\n",
            "mean reward so far: 203.69345653924873\n",
            "mean revenue so far: 849.2120189281046\n",
            "Day =  766\n",
            "comm_rate =  0.1\n"
          ]
        },
        {
          "name": "stderr",
          "output_type": "stream",
          "text": [
            "[2023-04-27 20:46:56,749] simulation time 12.0 s\n"
          ]
        },
        {
          "name": "stdout",
          "output_type": "stream",
          "text": [
            "nP =  335    nV =  24     reward= 125.00066666666667 revenue 231.00528 revenue/max_revenue 0.087502    nP/params.nP= 0.1675    nV/params.nV= 0.12\n",
            "mean reward so far: 203.62260471885958\n",
            "mean revenue so far: 848.5419954308093\n",
            "Day =  767\n",
            "comm_rate =  0.1\n"
          ]
        },
        {
          "name": "stderr",
          "output_type": "stream",
          "text": [
            "[2023-04-27 20:47:13,827] simulation time 11.8 s\n"
          ]
        },
        {
          "name": "stdout",
          "output_type": "stream",
          "text": [
            "nP =  345    nV =  22     reward= 122.67233838383838 revenue 225.76492000000002 revenue/max_revenue 0.08551701515151516    nP/params.nP= 0.1725    nV/params.nV= 0.11\n",
            "mean reward so far: 203.52009893261166\n",
            "mean revenue so far: 847.7368628161669\n",
            "Day =  768\n",
            "comm_rate =  0.05\n"
          ]
        },
        {
          "name": "stderr",
          "output_type": "stream",
          "text": [
            "[2023-04-27 20:47:31,050] simulation time 12.0 s\n"
          ]
        },
        {
          "name": "stdout",
          "output_type": "stream",
          "text": [
            "nP =  323    nV =  31     reward= 120.08736363636363 revenue 115.53192 revenue/max_revenue 0.04376209090909091    nP/params.nP= 0.1615    nV/params.nV= 0.155\n",
            "mean reward so far: 203.41482841106378\n",
            "mean revenue so far: 846.9270035156251\n",
            "Day =  769\n",
            "comm_rate =  0.05\n"
          ]
        },
        {
          "name": "stderr",
          "output_type": "stream",
          "text": [
            "[2023-04-27 20:47:48,877] simulation time 11.5 s\n"
          ]
        },
        {
          "name": "stdout",
          "output_type": "stream",
          "text": [
            "nP =  335    nV =  26     reward= 113.07899494949494 revenue 110.18564 revenue/max_revenue 0.04173698484848485    nP/params.nP= 0.1675    nV/params.nV= 0.13\n",
            "mean reward so far: 203.30647019939315\n",
            "mean revenue so far: 845.9759045773733\n",
            "Day =  770\n",
            "comm_rate =  0\n"
          ]
        },
        {
          "name": "stderr",
          "output_type": "stream",
          "text": [
            "[2023-04-27 20:48:05,990] simulation time 11.9 s\n"
          ]
        },
        {
          "name": "stdout",
          "output_type": "stream",
          "text": [
            "nP =  319    nV =  25     reward= 94.83333333333333 revenue 0.0 revenue/max_revenue 0.0    nP/params.nP= 0.1595    nV/params.nV= 0.125\n",
            "mean reward so far: 203.18929166010756\n",
            "mean revenue so far: 845.0203328051947\n",
            "Day =  771\n",
            "comm_rate =  0.0\n"
          ]
        },
        {
          "name": "stderr",
          "output_type": "stream",
          "text": [
            "[2023-04-27 20:48:22,715] simulation time 11.5 s\n"
          ]
        },
        {
          "name": "stdout",
          "output_type": "stream",
          "text": [
            "nP =  329    nV =  28     reward= 101.5 revenue 0.0 revenue/max_revenue 0.0    nP/params.nP= 0.1645    nV/params.nV= 0.14\n",
            "mean reward so far: 203.04875215514417\n",
            "mean revenue so far: 843.9243271854733\n",
            "Day =  772\n",
            "comm_rate =  0.05\n"
          ]
        },
        {
          "name": "stderr",
          "output_type": "stream",
          "text": [
            "[2023-04-27 20:48:40,747] simulation time 11.7 s\n"
          ]
        },
        {
          "name": "stdout",
          "output_type": "stream",
          "text": [
            "nP =  354    nV =  26     reward= 115.96014646464644 revenue 107.92436000000001 revenue/max_revenue 0.0408804393939394    nP/params.nP= 0.177    nV/params.nV= 0.13\n",
            "mean reward so far: 202.91721232074633\n",
            "mean revenue so far: 842.8311609585492\n",
            "Day =  773\n",
            "comm_rate =  0.05\n"
          ]
        },
        {
          "name": "stderr",
          "output_type": "stream",
          "text": [
            "[2023-04-27 20:48:58,372] simulation time 12.4 s\n"
          ]
        },
        {
          "name": "stdout",
          "output_type": "stream",
          "text": [
            "nP =  344    nV =  32     reward= 125.73093181818179 revenue 119.30898 revenue/max_revenue 0.04519279545454546    nP/params.nP= 0.172    nV/params.nV= 0.16\n",
            "mean reward so far: 202.8047193506867\n",
            "mean revenue so far: 841.8804406468304\n",
            "Day =  774\n",
            "comm_rate =  0\n"
          ]
        },
        {
          "name": "stderr",
          "output_type": "stream",
          "text": [
            "[2023-04-27 20:49:16,898] simulation time 12.1 s\n"
          ]
        },
        {
          "name": "stdout",
          "output_type": "stream",
          "text": [
            "nP =  376    nV =  23     reward= 100.99999999999999 revenue 0.0 revenue/max_revenue 0.0    nP/params.nP= 0.188    nV/params.nV= 0.115\n",
            "mean reward so far: 202.705140813823\n",
            "mean revenue so far: 840.9468857881135\n",
            "Day =  775\n",
            "comm_rate =  0.05\n"
          ]
        },
        {
          "name": "stderr",
          "output_type": "stream",
          "text": [
            "[2023-04-27 20:49:34,736] simulation time 12.6 s\n"
          ]
        },
        {
          "name": "stdout",
          "output_type": "stream",
          "text": [
            "nP =  360    nV =  33     reward= 131.43198232323232 revenue 130.1413 revenue/max_revenue 0.04929594696969697    nP/params.nP= 0.18    nV/params.nV= 0.165\n",
            "mean reward so far: 202.57390837406322\n",
            "mean revenue so far: 839.8617930322579\n",
            "Day =  776\n",
            "comm_rate =  0.1\n"
          ]
        },
        {
          "name": "stderr",
          "output_type": "stream",
          "text": [
            "[2023-04-27 20:49:52,365] simulation time 12.4 s\n"
          ]
        },
        {
          "name": "stdout",
          "output_type": "stream",
          "text": [
            "nP =  343    nV =  33     reward= 142.3434090909091 revenue 238.9998 revenue/max_revenue 0.09053022727272728    nP/params.nP= 0.1715    nV/params.nV= 0.165\n",
            "mean reward so far: 202.48223063430697\n",
            "mean revenue so far: 838.947204768041\n",
            "Day =  777\n",
            "comm_rate =  0.05\n"
          ]
        },
        {
          "name": "stderr",
          "output_type": "stream",
          "text": [
            "[2023-04-27 20:50:10,728] simulation time 12.0 s\n"
          ]
        },
        {
          "name": "stdout",
          "output_type": "stream",
          "text": [
            "nP =  344    nV =  36     reward= 132.1875429292929 revenue 117.64534 revenue/max_revenue 0.04456262878787879    nP/params.nP= 0.172    nV/params.nV= 0.18\n",
            "mean reward so far: 202.40483189358193\n",
            "mean revenue so far: 838.1750716859717\n",
            "Day =  778\n",
            "comm_rate =  0\n"
          ]
        },
        {
          "name": "stderr",
          "output_type": "stream",
          "text": [
            "[2023-04-27 20:50:28,198] simulation time 12.2 s\n"
          ]
        },
        {
          "name": "stdout",
          "output_type": "stream",
          "text": [
            "nP =  334    nV =  40     reward= 122.33333333333333 revenue 0.0 revenue/max_revenue 0.0    nP/params.nP= 0.167    nV/params.nV= 0.2\n",
            "mean reward so far: 202.31457830879486\n",
            "mean revenue so far: 837.2489409254499\n",
            "Day =  779\n",
            "comm_rate =  0\n"
          ]
        },
        {
          "name": "stderr",
          "output_type": "stream",
          "text": [
            "[2023-04-27 20:50:45,445] simulation time 12.0 s\n"
          ]
        },
        {
          "name": "stdout",
          "output_type": "stream",
          "text": [
            "nP =  350    nV =  37     reward= 120.0 revenue 0.0 revenue/max_revenue 0.0    nP/params.nP= 0.175    nV/params.nV= 0.185\n",
            "mean reward so far: 202.21190662076475\n",
            "mean revenue so far: 836.1741669319641\n",
            "Day =  780\n",
            "comm_rate =  0\n"
          ]
        },
        {
          "name": "stderr",
          "output_type": "stream",
          "text": [
            "[2023-04-27 20:51:04,112] simulation time 12.3 s\n"
          ]
        },
        {
          "name": "stdout",
          "output_type": "stream",
          "text": [
            "nP =  354    nV =  38     reward= 122.33333333333333 revenue 0.0 revenue/max_revenue 0.0    nP/params.nP= 0.177    nV/params.nV= 0.19\n",
            "mean reward so far: 202.10650674048173\n",
            "mean revenue so far: 835.1021487692308\n",
            "Day =  781\n",
            "comm_rate =  0\n"
          ]
        },
        {
          "name": "stderr",
          "output_type": "stream",
          "text": [
            "[2023-04-27 20:51:21,527] simulation time 12.2 s\n"
          ]
        },
        {
          "name": "stdout",
          "output_type": "stream",
          "text": [
            "nP =  360    nV =  44     reward= 133.33333333333334 revenue 0.0 revenue/max_revenue 0.0    nP/params.nP= 0.18    nV/params.nV= 0.22\n",
            "mean reward so far: 202.0043643929694\n",
            "mean revenue so far: 834.0328758514726\n",
            "Day =  782\n",
            "comm_rate =  0.0\n"
          ]
        },
        {
          "name": "stderr",
          "output_type": "stream",
          "text": [
            "[2023-04-27 20:51:40,416] simulation time 12.6 s\n"
          ]
        },
        {
          "name": "stdout",
          "output_type": "stream",
          "text": [
            "nP =  345    nV =  40     reward= 124.16666666666667 revenue 0.0 revenue/max_revenue 0.0    nP/params.nP= 0.1725    nV/params.nV= 0.2\n",
            "mean reward so far: 201.9165497752461\n",
            "mean revenue so far: 832.9663376470589\n",
            "Day =  783\n",
            "comm_rate =  0.05\n"
          ]
        },
        {
          "name": "stderr",
          "output_type": "stream",
          "text": [
            "[2023-04-27 20:51:58,033] simulation time 12.3 s\n"
          ]
        },
        {
          "name": "stdout",
          "output_type": "stream",
          "text": [
            "nP =  361    nV =  43     reward= 146.6038409090909 revenue 116.98242 revenue/max_revenue 0.04431152272727273    nP/params.nP= 0.1805    nV/params.nV= 0.215\n",
            "mean reward so far: 201.81725235109718\n",
            "mean revenue so far: 831.902523678161\n",
            "Day =  784\n",
            "comm_rate =  0\n"
          ]
        },
        {
          "name": "stderr",
          "output_type": "stream",
          "text": [
            "[2023-04-27 20:52:15,959] simulation time 12.7 s\n"
          ]
        },
        {
          "name": "stdout",
          "output_type": "stream",
          "text": [
            "nP =  360    nV =  40     reward= 126.66666666666664 revenue 0.0 revenue/max_revenue 0.0    nP/params.nP= 0.18    nV/params.nV= 0.2\n",
            "mean reward so far: 201.74682708140074\n",
            "mean revenue so far: 830.9906357908164\n",
            "Day =  785\n",
            "comm_rate =  0.0\n"
          ]
        },
        {
          "name": "stderr",
          "output_type": "stream",
          "text": [
            "[2023-04-27 20:52:34,772] simulation time 12.5 s\n"
          ]
        },
        {
          "name": "stdout",
          "output_type": "stream",
          "text": [
            "nP =  363    nV =  39     reward= 125.5 revenue 0.0 revenue/max_revenue 0.0    nP/params.nP= 0.1815    nV/params.nV= 0.195\n",
            "mean reward so far: 201.65118356494884\n",
            "mean revenue so far: 829.9320489936307\n",
            "Day =  786\n",
            "comm_rate =  0.05\n"
          ]
        },
        {
          "name": "stderr",
          "output_type": "stream",
          "text": [
            "[2023-04-27 20:52:52,674] simulation time 12.7 s\n"
          ]
        },
        {
          "name": "stdout",
          "output_type": "stream",
          "text": [
            "nP =  386    nV =  44     reward= 153.00193181818182 revenue 121.4553 revenue/max_revenue 0.04600579545454545    nP/params.nP= 0.193    nV/params.nV= 0.22\n",
            "mean reward so far: 201.55429910748705\n",
            "mean revenue so far: 828.8761558015268\n",
            "Day =  787\n",
            "comm_rate =  0\n"
          ]
        },
        {
          "name": "stderr",
          "output_type": "stream",
          "text": [
            "[2023-04-27 20:53:12,331] simulation time 14.4 s\n"
          ]
        },
        {
          "name": "stdout",
          "output_type": "stream",
          "text": [
            "nP =  353    nV =  49     reward= 140.5 revenue 0.0 revenue/max_revenue 0.0    nP/params.nP= 0.1765    nV/params.nV= 0.245\n",
            "mean reward so far: 201.49260613761504\n",
            "mean revenue so far: 827.9772728843711\n",
            "Day =  788\n",
            "comm_rate =  0\n"
          ]
        },
        {
          "name": "stderr",
          "output_type": "stream",
          "text": [
            "[2023-04-27 20:53:30,137] simulation time 12.6 s\n"
          ]
        },
        {
          "name": "stdout",
          "output_type": "stream",
          "text": [
            "nP =  369    nV =  43     reward= 133.16666666666666 revenue 0.0 revenue/max_revenue 0.0    nP/params.nP= 0.1845    nV/params.nV= 0.215\n",
            "mean reward so far: 201.41520435317645\n",
            "mean revenue so far: 826.9265403045687\n",
            "Day =  789\n",
            "comm_rate =  0.05\n"
          ]
        },
        {
          "name": "stderr",
          "output_type": "stream",
          "text": [
            "[2023-04-27 20:53:48,298] simulation time 13.0 s\n"
          ]
        },
        {
          "name": "stdout",
          "output_type": "stream",
          "text": [
            "nP =  362    nV =  33     reward= 130.80159090909092 revenue 122.5086 revenue/max_revenue 0.046404772727272725    nP/params.nP= 0.181    nV/params.nV= 0.165\n",
            "mean reward so far: 201.32870430541152\n",
            "mean revenue so far: 825.8784711787074\n",
            "Day =  790\n",
            "comm_rate =  0\n"
          ]
        },
        {
          "name": "stderr",
          "output_type": "stream",
          "text": [
            "[2023-04-27 20:54:06,982] simulation time 12.4 s\n"
          ]
        },
        {
          "name": "stdout",
          "output_type": "stream",
          "text": [
            "nP =  375    nV =  40     reward= 129.16666666666666 revenue 0.0 revenue/max_revenue 0.0    nP/params.nP= 0.1875    nV/params.nV= 0.2\n",
            "mean reward so far: 201.23942947832757\n",
            "mean revenue so far: 824.9881295696201\n",
            "Day =  791\n",
            "comm_rate =  0.0\n"
          ]
        },
        {
          "name": "stderr",
          "output_type": "stream",
          "text": [
            "[2023-04-27 20:54:25,156] simulation time 13.0 s\n"
          ]
        },
        {
          "name": "stdout",
          "output_type": "stream",
          "text": [
            "nP =  393    nV =  45     reward= 140.5 revenue 0.0 revenue/max_revenue 0.0    nP/params.nP= 0.1965    nV/params.nV= 0.225\n",
            "mean reward so far: 201.14831346971613\n",
            "mean revenue so far: 823.9451610113779\n",
            "Day =  792\n",
            "comm_rate =  0\n"
          ]
        },
        {
          "name": "stderr",
          "output_type": "stream",
          "text": [
            "[2023-04-27 20:54:43,869] simulation time 13.4 s\n"
          ]
        },
        {
          "name": "stdout",
          "output_type": "stream",
          "text": [
            "nP =  379    nV =  35     reward= 121.5 revenue 0.0 revenue/max_revenue 0.0    nP/params.nP= 0.1895    nV/params.nV= 0.175\n",
            "mean reward so far: 201.07173731634526\n",
            "mean revenue so far: 822.9048262121211\n",
            "Day =  793\n",
            "comm_rate =  0.0\n"
          ]
        },
        {
          "name": "stderr",
          "output_type": "stream",
          "text": [
            "[2023-04-27 20:55:03,351] simulation time 13.1 s\n"
          ]
        },
        {
          "name": "stdout",
          "output_type": "stream",
          "text": [
            "nP =  402    nV =  51     reward= 152.00000000000003 revenue 0.0 revenue/max_revenue 0.0    nP/params.nP= 0.201    nV/params.nV= 0.255\n",
            "mean reward so far: 200.97139464633727\n",
            "mean revenue so far: 821.8671152080706\n",
            "Day =  794\n",
            "comm_rate =  0.0\n"
          ]
        },
        {
          "name": "stderr",
          "output_type": "stream",
          "text": [
            "[2023-04-27 20:55:22,306] simulation time 13.6 s\n"
          ]
        },
        {
          "name": "stdout",
          "output_type": "stream",
          "text": [
            "nP =  358    nV =  49     reward= 141.33333333333334 revenue 0.0 revenue/max_revenue 0.0    nP/params.nP= 0.179    nV/params.nV= 0.245\n",
            "mean reward so far: 200.90971782688345\n",
            "mean revenue so far: 820.8320180856422\n",
            "Day =  795\n",
            "comm_rate =  0.05\n"
          ]
        },
        {
          "name": "stderr",
          "output_type": "stream",
          "text": [
            "[2023-04-27 20:55:41,529] simulation time 13.9 s\n"
          ]
        },
        {
          "name": "stdout",
          "output_type": "stream",
          "text": [
            "nP =  395    nV =  38     reward= 144.2122398989899 revenue 119.16094000000001 revenue/max_revenue 0.0451367196969697    nP/params.nP= 0.1975    nV/params.nV= 0.19\n",
            "mean reward so far: 200.83477897846387\n",
            "mean revenue so far: 819.799524981132\n",
            "Day =  796\n",
            "comm_rate =  0.05\n"
          ]
        },
        {
          "name": "stderr",
          "output_type": "stream",
          "text": [
            "[2023-04-27 20:56:00,255] simulation time 13.5 s\n"
          ]
        },
        {
          "name": "stdout",
          "output_type": "stream",
          "text": [
            "nP =  382    nV =  42     reward= 150.32066161616163 revenue 131.89964 revenue/max_revenue 0.04996198484848485    nP/params.nP= 0.191    nV/params.nV= 0.21\n",
            "mean reward so far: 200.7636451353992\n",
            "mean revenue so far: 818.9193257537688\n",
            "Day =  797\n",
            "comm_rate =  0.1\n"
          ]
        },
        {
          "name": "stderr",
          "output_type": "stream",
          "text": [
            "[2023-04-27 20:56:18,528] simulation time 13.0 s\n"
          ]
        },
        {
          "name": "stdout",
          "output_type": "stream",
          "text": [
            "nP =  390    nV =  40     reward= 163.56694949494948 revenue 252.65024 revenue/max_revenue 0.09570084848484849    nP/params.nP= 0.195    nV/params.nV= 0.2\n",
            "mean reward so far: 200.70035406448423\n",
            "mean revenue so far: 818.0573186198243\n",
            "Day =  798\n",
            "comm_rate =  0.05\n"
          ]
        },
        {
          "name": "stderr",
          "output_type": "stream",
          "text": [
            "[2023-04-27 20:56:38,241] simulation time 13.3 s\n"
          ]
        },
        {
          "name": "stdout",
          "output_type": "stream",
          "text": [
            "nP =  417    nV =  46     reward= 162.20468181818183 revenue 127.02108 revenue/max_revenue 0.04811404545454545    nP/params.nP= 0.2085    nV/params.nV= 0.23\n",
            "mean reward so far: 200.65382097605126\n",
            "mean revenue so far: 817.3487884461152\n",
            "Day =  799\n",
            "comm_rate =  0.1\n"
          ]
        },
        {
          "name": "stderr",
          "output_type": "stream",
          "text": [
            "[2023-04-27 20:56:57,376] simulation time 13.9 s\n"
          ]
        },
        {
          "name": "stdout",
          "output_type": "stream",
          "text": [
            "nP =  405    nV =  31     reward= 154.40142424242424 revenue 279.05928 revenue/max_revenue 0.10570427272727273    nP/params.nP= 0.2025    nV/params.nV= 0.155\n",
            "mean reward so far: 200.605699400134\n",
            "mean revenue so far: 816.4847988235293\n",
            "Day =  800\n",
            "comm_rate =  0.15\n"
          ]
        },
        {
          "name": "stderr",
          "output_type": "stream",
          "text": [
            "[2023-04-27 20:57:16,291] simulation time 13.6 s\n"
          ]
        },
        {
          "name": "stdout",
          "output_type": "stream",
          "text": [
            "nP =  396    nV =  44     reward= 191.35535606060606 revenue 412.01442 revenue/max_revenue 0.15606606818181817    nP/params.nP= 0.198    nV/params.nV= 0.22\n",
            "mean reward so far: 200.5479440561869\n",
            "mean revenue so far: 815.8130169249999\n",
            "Day =  801\n",
            "comm_rate =  0.1\n"
          ]
        },
        {
          "name": "stderr",
          "output_type": "stream",
          "text": [
            "[2023-04-27 20:57:36,381] simulation time 13.6 s\n"
          ]
        },
        {
          "name": "stdout",
          "output_type": "stream",
          "text": [
            "nP =  407    nV =  37     reward= 162.16319696969694 revenue 258.69252 revenue/max_revenue 0.09798959090909092    nP/params.nP= 0.2035    nV/params.nV= 0.185\n",
            "mean reward so far: 200.5364676666793\n",
            "mean revenue so far: 815.3088988264669\n",
            "Day =  802\n",
            "comm_rate =  0.15\n"
          ]
        },
        {
          "name": "stderr",
          "output_type": "stream",
          "text": [
            "[2023-04-27 20:57:55,155] simulation time 13.5 s\n"
          ]
        },
        {
          "name": "stdout",
          "output_type": "stream",
          "text": [
            "nP =  405    nV =  50     reward= 202.36731818181815 revenue 408.14916 revenue/max_revenue 0.15460195454545456    nP/params.nP= 0.2025    nV/params.nV= 0.25\n",
            "mean reward so far: 200.48862069573542\n",
            "mean revenue so far: 814.6148634413966\n",
            "Day =  803\n",
            "comm_rate =  0.1\n"
          ]
        },
        {
          "name": "stderr",
          "output_type": "stream",
          "text": [
            "[2023-04-27 20:58:14,176] simulation time 13.7 s\n"
          ]
        },
        {
          "name": "stdout",
          "output_type": "stream",
          "text": [
            "nP =  400    nV =  41     reward= 169.09810606060606 revenue 270.057 revenue/max_revenue 0.1022943181818182    nP/params.nP= 0.2    nV/params.nV= 0.205\n",
            "mean reward so far: 200.49096029409918\n",
            "mean revenue so far: 814.1086795018681\n",
            "Day =  804\n",
            "comm_rate =  0.15\n"
          ]
        },
        {
          "name": "stderr",
          "output_type": "stream",
          "text": [
            "[2023-04-27 20:58:33,993] simulation time 13.4 s\n"
          ]
        },
        {
          "name": "stdout",
          "output_type": "stream",
          "text": [
            "nP =  394    nV =  51     reward= 201.01606818181816 revenue 398.76725999999996 revenue/max_revenue 0.15104820454545453    nP/params.nP= 0.197    nV/params.nV= 0.255\n",
            "mean reward so far: 200.45191445550026\n",
            "mean revenue so far: 813.4319983084577\n",
            "Day =  805\n",
            "comm_rate =  0.2\n"
          ]
        },
        {
          "name": "stderr",
          "output_type": "stream",
          "text": [
            "[2023-04-27 20:58:52,819] simulation time 13.6 s\n"
          ]
        },
        {
          "name": "stdout",
          "output_type": "stream",
          "text": [
            "nP =  390    nV =  37     reward= 194.3613838383838 revenue 536.14216 revenue/max_revenue 0.20308415151515152    nP/params.nP= 0.195    nV/params.nV= 0.185\n",
            "mean reward so far: 200.45261526758267\n",
            "mean revenue so far: 812.9168868322981\n",
            "Day =  806\n",
            "comm_rate =  0.2\n"
          ]
        },
        {
          "name": "stderr",
          "output_type": "stream",
          "text": [
            "[2023-04-27 20:59:12,434] simulation time 13.2 s\n"
          ]
        },
        {
          "name": "stdout",
          "output_type": "stream",
          "text": [
            "nP =  419    nV =  31     reward= 186.71548484848486 revenue 516.5066400000001 revenue/max_revenue 0.19564645454545457    nP/params.nP= 0.2095    nV/params.nV= 0.155\n",
            "mean reward so far: 200.44505790848936\n",
            "mean revenue so far: 812.5734938709678\n",
            "Day =  807\n",
            "comm_rate =  0.25\n"
          ]
        },
        {
          "name": "stderr",
          "output_type": "stream",
          "text": [
            "[2023-04-27 20:59:31,436] simulation time 13.7 s\n"
          ]
        },
        {
          "name": "stdout",
          "output_type": "stream",
          "text": [
            "nP =  417    nV =  38     reward= 222.59489898989895 revenue 710.9115999999999 revenue/max_revenue 0.2692846969696969    nP/params.nP= 0.2085    nV/params.nV= 0.19\n",
            "mean reward so far: 200.4280448068041\n",
            "mean revenue so far: 812.2066204460967\n",
            "Day =  808\n",
            "comm_rate =  0.3\n"
          ]
        },
        {
          "name": "stderr",
          "output_type": "stream",
          "text": [
            "[2023-04-27 20:59:50,672] simulation time 14.0 s\n"
          ]
        },
        {
          "name": "stdout",
          "output_type": "stream",
          "text": [
            "nP =  420    nV =  46     reward= 251.89271212121213 revenue 833.3902799999998 revenue/max_revenue 0.3156781363636363    nP/params.nP= 0.21    nV/params.nV= 0.23\n",
            "mean reward so far: 200.45547903227825\n",
            "mean revenue so far: 812.0812553217822\n",
            "Day =  809\n",
            "comm_rate =  0.25\n"
          ]
        },
        {
          "name": "stderr",
          "output_type": "stream",
          "text": [
            "[2023-04-27 21:00:11,188] simulation time 14.1 s\n"
          ]
        },
        {
          "name": "stdout",
          "output_type": "stream",
          "text": [
            "nP =  441    nV =  38     reward= 223.93806818181818 revenue 689.8695 revenue/max_revenue 0.26131420454545456    nP/params.nP= 0.2205    nV/params.nV= 0.19\n",
            "mean reward so far: 200.51906028455133\n",
            "mean revenue so far: 812.1075952781212\n",
            "Day =  810\n",
            "comm_rate =  0.25\n"
          ]
        },
        {
          "name": "stderr",
          "output_type": "stream",
          "text": [
            "[2023-04-27 21:00:31,009] simulation time 14.5 s\n"
          ]
        },
        {
          "name": "stdout",
          "output_type": "stream",
          "text": [
            "nP =  428    nV =  37     reward= 223.79681818181817 revenue 719.1107999999999 revenue/max_revenue 0.2723904545454545    nP/params.nP= 0.214    nV/params.nV= 0.185\n",
            "mean reward so far: 200.54797263998006\n",
            "mean revenue so far: 811.9566840493827\n",
            "Day =  811\n",
            "comm_rate =  0.3\n"
          ]
        },
        {
          "name": "stderr",
          "output_type": "stream",
          "text": [
            "[2023-04-27 21:00:50,485] simulation time 14.3 s\n"
          ]
        },
        {
          "name": "stdout",
          "output_type": "stream",
          "text": [
            "nP =  405    nV =  40     reward= 240.7871818181818 revenue 844.4344799999999 revenue/max_revenue 0.3198615454545454    nP/params.nP= 0.2025    nV/params.nV= 0.2\n",
            "mean reward so far: 200.57663952720796\n",
            "mean revenue so far: 811.842200838471\n",
            "Day =  812\n",
            "comm_rate =  0.25\n"
          ]
        },
        {
          "name": "stderr",
          "output_type": "stream",
          "text": [
            "[2023-04-27 21:01:10,659] simulation time 13.7 s\n"
          ]
        },
        {
          "name": "stdout",
          "output_type": "stream",
          "text": [
            "nP =  416    nV =  40     reward= 222.17462121212117 revenue 682.5029999999999 revenue/max_revenue 0.2585238636363636    nP/params.nP= 0.208    nV/params.nV= 0.2\n",
            "mean reward so far: 200.6261598994875\n",
            "mean revenue so far: 811.8823391133004\n",
            "Day =  813\n",
            "comm_rate =  0.2\n"
          ]
        },
        {
          "name": "stderr",
          "output_type": "stream",
          "text": [
            "[2023-04-27 21:01:29,727] simulation time 13.8 s\n"
          ]
        },
        {
          "name": "stdout",
          "output_type": "stream",
          "text": [
            "nP =  455    nV =  33     reward= 199.87488888888888 revenue 546.80912 revenue/max_revenue 0.20712466666666668    nP/params.nP= 0.2275    nV/params.nV= 0.165\n",
            "mean reward so far: 200.65266477195075\n",
            "mean revenue so far: 811.7232009348094\n",
            "Day =  814\n",
            "comm_rate =  0.2\n"
          ]
        },
        {
          "name": "stderr",
          "output_type": "stream",
          "text": [
            "[2023-04-27 21:01:50,765] simulation time 15.8 s\n"
          ]
        },
        {
          "name": "stdout",
          "output_type": "stream",
          "text": [
            "nP =  428    nV =  35     reward= 205.30970707070705 revenue 599.09288 revenue/max_revenue 0.22692912121212122    nP/params.nP= 0.214    nV/params.nV= 0.175\n",
            "mean reward so far: 200.65170927332292\n",
            "mean revenue so far: 811.3977536609336\n",
            "Day =  815\n",
            "comm_rate =  0.2\n"
          ]
        },
        {
          "name": "stderr",
          "output_type": "stream",
          "text": [
            "[2023-04-27 21:02:10,118] simulation time 14.1 s\n"
          ]
        },
        {
          "name": "stdout",
          "output_type": "stream",
          "text": [
            "nP =  428    nV =  36     reward= 202.10991919191918 revenue 560.55056 revenue/max_revenue 0.2123297575757576    nP/params.nP= 0.214    nV/params.nV= 0.18\n",
            "mean reward so far: 200.65742460804367\n",
            "mean revenue so far: 811.1372568834356\n",
            "Day =  816\n",
            "comm_rate =  0.2\n"
          ]
        },
        {
          "name": "stderr",
          "output_type": "stream",
          "text": [
            "[2023-04-27 21:02:29,460] simulation time 14.1 s\n"
          ]
        },
        {
          "name": "stdout",
          "output_type": "stream",
          "text": [
            "nP =  439    nV =  36     reward= 205.59110101010097 revenue 573.6015199999999 revenue/max_revenue 0.217273303030303    nP/params.nP= 0.2195    nV/params.nV= 0.18\n",
            "mean reward so far: 200.65920462591598\n",
            "mean revenue so far: 810.8301653431371\n",
            "Day =  817\n",
            "comm_rate =  0.15\n"
          ]
        },
        {
          "name": "stderr",
          "output_type": "stream",
          "text": [
            "[2023-04-27 21:02:50,527] simulation time 14.6 s\n"
          ]
        },
        {
          "name": "stdout",
          "output_type": "stream",
          "text": [
            "nP =  436    nV =  41     reward= 196.13040151515148 revenue 436.6327799999999 revenue/max_revenue 0.1653912045454545    nP/params.nP= 0.218    nV/params.nV= 0.205\n",
            "mean reward so far: 200.6652412187975\n",
            "mean revenue so far: 810.5397998041615\n",
            "Day =  818\n",
            "comm_rate =  0.15\n"
          ]
        },
        {
          "name": "stderr",
          "output_type": "stream",
          "text": [
            "[2023-04-27 21:03:10,362] simulation time 14.5 s\n"
          ]
        },
        {
          "name": "stdout",
          "output_type": "stream",
          "text": [
            "nP =  439    nV =  42     reward= 196.4843409090909 revenue 422.2759799999999 revenue/max_revenue 0.1599530227272727    nP/params.nP= 0.2195    nV/params.nV= 0.21\n",
            "mean reward so far: 200.65969740497886\n",
            "mean revenue so far: 810.0827007579461\n",
            "Day =  819\n",
            "comm_rate =  0.1\n"
          ]
        },
        {
          "name": "stderr",
          "output_type": "stream",
          "text": [
            "[2023-04-27 21:03:30,230] simulation time 14.5 s\n"
          ]
        },
        {
          "name": "stdout",
          "output_type": "stream",
          "text": [
            "nP =  445    nV =  42     reward= 180.70888888888888 revenue 289.4144 revenue/max_revenue 0.10962666666666666    nP/params.nP= 0.2225    nV/params.nV= 0.21\n",
            "mean reward so far: 200.6545992895993\n",
            "mean revenue so far: 809.6091882783882\n",
            "Day =  820\n",
            "comm_rate =  0.1\n"
          ]
        },
        {
          "name": "stderr",
          "output_type": "stream",
          "text": [
            "[2023-04-27 21:03:51,426] simulation time 14.7 s\n"
          ]
        },
        {
          "name": "stdout",
          "output_type": "stream",
          "text": [
            "nP =  459    nV =  39     reward= 178.65014646464644 revenue 294.22916 revenue/max_revenue 0.11145043939393938    nP/params.nP= 0.2295    nV/params.nV= 0.195\n",
            "mean reward so far: 200.63027525252525\n",
            "mean revenue so far: 808.9748043902439\n",
            "Day =  821\n",
            "comm_rate =  0.05\n"
          ]
        },
        {
          "name": "stderr",
          "output_type": "stream",
          "text": [
            "[2023-04-27 21:04:11,764] simulation time 15.0 s\n"
          ]
        },
        {
          "name": "stdout",
          "output_type": "stream",
          "text": [
            "nP =  489    nV =  43     reward= 172.34551515151514 revenue 151.89648 revenue/max_revenue 0.05753654545454545    nP/params.nP= 0.2445    nV/params.nV= 0.215\n",
            "mean reward so far: 200.60350286666912\n",
            "mean revenue so far: 808.3478304019487\n",
            "Day =  822\n",
            "comm_rate =  0.05\n"
          ]
        },
        {
          "name": "stderr",
          "output_type": "stream",
          "text": [
            "[2023-04-27 21:04:33,699] simulation time 16.7 s\n"
          ]
        },
        {
          "name": "stdout",
          "output_type": "stream",
          "text": [
            "nP =  432    nV =  49     reward= 174.5073712121212 revenue 165.05838 revenue/max_revenue 0.06252211363636363    nP/params.nP= 0.216    nV/params.nV= 0.245\n",
            "mean reward so far: 200.5691257526604\n",
            "mean revenue so far: 807.549227785888\n",
            "Day =  823\n",
            "comm_rate =  0\n"
          ]
        },
        {
          "name": "stderr",
          "output_type": "stream",
          "text": [
            "[2023-04-27 21:04:53,491] simulation time 14.5 s\n"
          ]
        },
        {
          "name": "stdout",
          "output_type": "stream",
          "text": [
            "nP =  446    nV =  50     reward= 157.66666666666666 revenue 0.0 revenue/max_revenue 0.0    nP/params.nP= 0.223    nV/params.nV= 0.25\n",
            "mean reward so far: 200.53745897922113\n",
            "mean revenue so far: 806.7685584690156\n",
            "Day =  824\n",
            "comm_rate =  0\n"
          ]
        },
        {
          "name": "stderr",
          "output_type": "stream",
          "text": [
            "[2023-04-27 21:05:13,428] simulation time 14.6 s\n"
          ]
        },
        {
          "name": "stdout",
          "output_type": "stream",
          "text": [
            "nP =  460    nV =  42     reward= 146.66666666666666 revenue 0.0 revenue/max_revenue 0.0    nP/params.nP= 0.23    nV/params.nV= 0.21\n",
            "mean reward so far: 200.48543131864764\n",
            "mean revenue so far: 805.7894704126213\n",
            "Day =  825\n",
            "comm_rate =  0.0\n"
          ]
        },
        {
          "name": "stderr",
          "output_type": "stream",
          "text": [
            "[2023-04-27 21:05:34,793] simulation time 14.9 s\n"
          ]
        },
        {
          "name": "stdout",
          "output_type": "stream",
          "text": [
            "nP =  460    nV =  37     reward= 138.33333333333331 revenue 0.0 revenue/max_revenue 0.0    nP/params.nP= 0.23    nV/params.nV= 0.185\n",
            "mean reward so far: 200.4201964524028\n",
            "mean revenue so far: 804.8127559030303\n",
            "Day =  826\n",
            "comm_rate =  0\n"
          ]
        },
        {
          "name": "stderr",
          "output_type": "stream",
          "text": [
            "[2023-04-27 21:05:54,869] simulation time 14.8 s\n"
          ]
        },
        {
          "name": "stdout",
          "output_type": "stream",
          "text": [
            "nP =  432    nV =  50     reward= 155.33333333333331 revenue 0.0 revenue/max_revenue 0.0    nP/params.nP= 0.216    nV/params.nV= 0.25\n",
            "mean reward so far: 200.34503075855406\n",
            "mean revenue so far: 803.8384063196125\n",
            "Day =  827\n",
            "comm_rate =  0.0\n"
          ]
        },
        {
          "name": "stderr",
          "output_type": "stream",
          "text": [
            "[2023-04-27 21:06:14,450] simulation time 14.3 s\n"
          ]
        },
        {
          "name": "stdout",
          "output_type": "stream",
          "text": [
            "nP =  448    nV =  60     reward= 174.66666666666666 revenue 0.0 revenue/max_revenue 0.0    nP/params.nP= 0.224    nV/params.nV= 0.3\n",
            "mean reward so far: 200.29060307122003\n",
            "mean revenue so far: 802.866413083434\n",
            "Day =  828\n",
            "comm_rate =  0.05\n"
          ]
        },
        {
          "name": "stderr",
          "output_type": "stream",
          "text": [
            "[2023-04-27 21:06:35,784] simulation time 14.9 s\n"
          ]
        },
        {
          "name": "stdout",
          "output_type": "stream",
          "text": [
            "nP =  483    nV =  46     reward= 175.64383838383839 revenue 146.3392 revenue/max_revenue 0.055431515151515155    nP/params.nP= 0.2415    nV/params.nV= 0.23\n",
            "mean reward so far: 200.25965628812278\n",
            "mean revenue so far: 801.8967676570048\n",
            "Day =  829\n",
            "comm_rate =  0\n"
          ]
        },
        {
          "name": "stderr",
          "output_type": "stream",
          "text": [
            "[2023-04-27 21:06:56,623] simulation time 15.6 s\n"
          ]
        },
        {
          "name": "stdout",
          "output_type": "stream",
          "text": [
            "nP =  469    nV =  52     reward= 164.83333333333334 revenue 0.0 revenue/max_revenue 0.0    nP/params.nP= 0.2345    nV/params.nV= 0.26\n",
            "mean reward so far: 200.22996290102472\n",
            "mean revenue so far: 801.105986513872\n",
            "Day =  830\n",
            "comm_rate =  0\n"
          ]
        },
        {
          "name": "stderr",
          "output_type": "stream",
          "text": [
            "[2023-04-27 21:07:17,322] simulation time 15.4 s\n"
          ]
        },
        {
          "name": "stdout",
          "output_type": "stream",
          "text": [
            "nP =  477    nV =  55     reward= 171.16666666666666 revenue 0.0 revenue/max_revenue 0.0    nP/params.nP= 0.2385    nV/params.nV= 0.275\n",
            "mean reward so far: 200.1873163593769\n",
            "mean revenue so far: 800.1407985783131\n",
            "Day =  831\n",
            "comm_rate =  0.0\n"
          ]
        },
        {
          "name": "stderr",
          "output_type": "stream",
          "text": [
            "[2023-04-27 21:07:39,382] simulation time 15.6 s\n"
          ]
        },
        {
          "name": "stdout",
          "output_type": "stream",
          "text": [
            "nP =  486    nV =  40     reward= 147.66666666666666 revenue 0.0 revenue/max_revenue 0.0    nP/params.nP= 0.243    nV/params.nV= 0.2\n",
            "mean reward so far: 200.1523937965698\n",
            "mean revenue so far: 799.1779335980746\n",
            "Day =  832\n",
            "comm_rate =  0\n"
          ]
        },
        {
          "name": "stderr",
          "output_type": "stream",
          "text": [
            "[2023-04-27 21:08:00,337] simulation time 15.6 s\n"
          ]
        },
        {
          "name": "stdout",
          "output_type": "stream",
          "text": [
            "nP =  489    nV =  44     reward= 154.83333333333331 revenue 0.0 revenue/max_revenue 0.0    nP/params.nP= 0.2445    nV/params.nV= 0.22\n",
            "mean reward so far: 200.08930998992327\n",
            "mean revenue so far: 798.2173831971154\n",
            "Day =  833\n",
            "comm_rate =  0.05\n"
          ]
        },
        {
          "name": "stderr",
          "output_type": "stream",
          "text": [
            "[2023-04-27 21:08:22,329] simulation time 15.5 s\n"
          ]
        },
        {
          "name": "stdout",
          "output_type": "stream",
          "text": [
            "nP =  495    nV =  59     reward= 200.67616666666666 revenue 157.15524 revenue/max_revenue 0.0595285    nP/params.nP= 0.2475    nV/params.nV= 0.295\n",
            "mean reward so far: 200.03498108637396\n",
            "mean revenue so far: 797.2591390396159\n",
            "Day =  834\n",
            "comm_rate =  0.05\n"
          ]
        },
        {
          "name": "stderr",
          "output_type": "stream",
          "text": [
            "[2023-04-27 21:08:43,866] simulation time 16.2 s\n"
          ]
        },
        {
          "name": "stdout",
          "output_type": "stream",
          "text": [
            "nP =  516    nV =  60     reward= 206.67566666666664 revenue 163.75128 revenue/max_revenue 0.062027000000000006    nP/params.nP= 0.258    nV/params.nV= 0.3\n",
            "mean reward so far: 200.03574989402415\n",
            "mean revenue so far: 796.4916283693046\n",
            "Day =  835\n",
            "comm_rate =  0\n"
          ]
        },
        {
          "name": "stderr",
          "output_type": "stream",
          "text": [
            "[2023-04-27 21:09:06,131] simulation time 17.0 s\n"
          ]
        },
        {
          "name": "stdout",
          "output_type": "stream",
          "text": [
            "nP =  489    nV =  50     reward= 164.83333333333334 revenue 0.0 revenue/max_revenue 0.0    nP/params.nP= 0.2445    nV/params.nV= 0.25\n",
            "mean reward so far: 200.04370189015907\n",
            "mean revenue so far: 795.7338554970062\n",
            "Day =  836\n",
            "comm_rate =  0.0\n"
          ]
        },
        {
          "name": "stderr",
          "output_type": "stream",
          "text": [
            "[2023-04-27 21:09:28,626] simulation time 15.9 s\n"
          ]
        },
        {
          "name": "stdout",
          "output_type": "stream",
          "text": [
            "nP =  524    nV =  60     reward= 187.33333333333334 revenue 0.0 revenue/max_revenue 0.0    nP/params.nP= 0.262    nV/params.nV= 0.3\n",
            "mean reward so far: 200.0015842244212\n",
            "mean revenue so far: 794.782020741627\n",
            "Day =  837\n",
            "comm_rate =  0.0\n"
          ]
        },
        {
          "name": "stderr",
          "output_type": "stream",
          "text": [
            "[2023-04-27 21:09:50,853] simulation time 16.9 s\n"
          ]
        },
        {
          "name": "stdout",
          "output_type": "stream",
          "text": [
            "nP =  489    nV =  54     reward= 171.5 revenue 0.0 revenue/max_revenue 0.0    nP/params.nP= 0.2445    nV/params.nV= 0.27\n",
            "mean reward so far: 199.9864489186971\n",
            "mean revenue so far: 793.8324603823179\n",
            "Day =  838\n",
            "comm_rate =  0.0\n"
          ]
        },
        {
          "name": "stderr",
          "output_type": "stream",
          "text": [
            "[2023-04-27 21:10:12,144] simulation time 15.9 s\n"
          ]
        },
        {
          "name": "stdout",
          "output_type": "stream",
          "text": [
            "nP =  521    nV =  46     reward= 163.49999999999997 revenue 0.0 revenue/max_revenue 0.0    nP/params.nP= 0.2605    nV/params.nV= 0.23\n",
            "mean reward so far: 199.95245554289914\n",
            "mean revenue so far: 792.8851662768498\n",
            "Day =  839\n",
            "comm_rate =  0\n"
          ]
        },
        {
          "name": "stderr",
          "output_type": "stream",
          "text": [
            "[2023-04-27 21:10:35,500] simulation time 16.6 s\n"
          ]
        },
        {
          "name": "stdout",
          "output_type": "stream",
          "text": [
            "nP =  519    nV =  56     reward= 179.83333333333331 revenue 0.0 revenue/max_revenue 0.0    nP/params.nP= 0.2595    nV/params.nV= 0.28\n",
            "mean reward so far: 199.90900803927232\n",
            "mean revenue so far: 791.9401303218118\n",
            "Day =  840\n",
            "comm_rate =  0.0\n"
          ]
        },
        {
          "name": "stderr",
          "output_type": "stream",
          "text": [
            "[2023-04-27 21:10:57,751] simulation time 16.9 s\n"
          ]
        },
        {
          "name": "stdout",
          "output_type": "stream",
          "text": [
            "nP =  481    nV =  51     reward= 165.16666666666669 revenue 0.0 revenue/max_revenue 0.0    nP/params.nP= 0.2405    nV/params.nV= 0.255\n",
            "mean reward so far: 199.88510842652718\n",
            "mean revenue so far: 790.9973444523811\n",
            "Day =  841\n",
            "comm_rate =  0.05\n"
          ]
        },
        {
          "name": "stderr",
          "output_type": "stream",
          "text": [
            "[2023-04-27 21:11:20,080] simulation time 17.0 s\n"
          ]
        },
        {
          "name": "stdout",
          "output_type": "stream",
          "text": [
            "nP =  494    nV =  53     reward= 190.47085353535354 revenue 156.84916 revenue/max_revenue 0.05941256060606061    nP/params.nP= 0.247    nV/params.nV= 0.265\n",
            "mean reward so far: 199.84382609387572\n",
            "mean revenue so far: 790.0568006420929\n",
            "Day =  842\n",
            "comm_rate =  0\n"
          ]
        },
        {
          "name": "stderr",
          "output_type": "stream",
          "text": [
            "[2023-04-27 21:11:41,269] simulation time 15.9 s\n"
          ]
        },
        {
          "name": "stdout",
          "output_type": "stream",
          "text": [
            "nP =  505    nV =  53     reward= 172.5 revenue 0.0 revenue/max_revenue 0.0    nP/params.nP= 0.2525    nV/params.nV= 0.265\n",
            "mean reward so far: 199.83269429748793\n",
            "mean revenue so far: 789.3047725653208\n",
            "Day =  843\n",
            "comm_rate =  0.05\n"
          ]
        },
        {
          "name": "stderr",
          "output_type": "stream",
          "text": [
            "[2023-04-27 21:12:02,977] simulation time 16.4 s\n"
          ]
        },
        {
          "name": "stdout",
          "output_type": "stream",
          "text": [
            "nP =  514    nV =  60     reward= 206.918202020202 revenue 168.31216 revenue/max_revenue 0.06375460606060607    nP/params.nP= 0.257    nV/params.nV= 0.3\n",
            "mean reward so far: 199.8002711725799\n",
            "mean revenue so far: 788.3684679715303\n",
            "Day =  844\n",
            "comm_rate =  0\n"
          ]
        },
        {
          "name": "stderr",
          "output_type": "stream",
          "text": [
            "[2023-04-27 21:12:25,941] simulation time 16.5 s\n"
          ]
        },
        {
          "name": "stdout",
          "output_type": "stream",
          "text": [
            "nP =  506    nV =  61     reward= 186.0 revenue 0.0 revenue/max_revenue 0.0    nP/params.nP= 0.253    nV/params.nV= 0.305\n",
            "mean reward so far: 199.80870473993488\n",
            "mean revenue so far: 787.6338040995262\n",
            "Day =  845\n",
            "comm_rate =  0\n"
          ]
        },
        {
          "name": "stderr",
          "output_type": "stream",
          "text": [
            "[2023-04-27 21:12:47,386] simulation time 16.2 s\n"
          ]
        },
        {
          "name": "stdout",
          "output_type": "stream",
          "text": [
            "nP =  531    nV =  52     reward= 175.16666666666663 revenue 0.0 revenue/max_revenue 0.0    nP/params.nP= 0.2655    nV/params.nV= 0.26\n",
            "mean reward so far: 199.79236307752078\n",
            "mean revenue so far: 786.7016930887575\n",
            "Day =  846\n",
            "comm_rate =  0\n"
          ]
        },
        {
          "name": "stderr",
          "output_type": "stream",
          "text": [
            "[2023-04-27 21:13:09,529] simulation time 16.8 s\n"
          ]
        },
        {
          "name": "stdout",
          "output_type": "stream",
          "text": [
            "nP =  531    nV =  56     reward= 181.83333333333331 revenue 0.0 revenue/max_revenue 0.0    nP/params.nP= 0.2655    nV/params.nV= 0.28\n",
            "mean reward so far: 199.76325468932825\n",
            "mean revenue so far: 785.7717856501183\n",
            "Day =  847\n",
            "comm_rate =  0\n"
          ]
        },
        {
          "name": "stderr",
          "output_type": "stream",
          "text": [
            "[2023-04-27 21:13:33,151] simulation time 17.0 s\n"
          ]
        },
        {
          "name": "stdout",
          "output_type": "stream",
          "text": [
            "nP =  545    nV =  60     reward= 190.83333333333334 revenue 0.0 revenue/max_revenue 0.0    nP/params.nP= 0.2725    nV/params.nV= 0.3\n",
            "mean reward so far: 199.7420859510095\n",
            "mean revenue so far: 784.8440739787486\n",
            "Day =  848\n",
            "comm_rate =  0\n"
          ]
        }
      ],
      "source": [
        "sim_rln_train,agent = MaaSSim.simulators.simulate_RLx_combine(params=params, f_driver_out=S_driver_opt_out,f_trav_out=S_traveller_opt_out,kpi_veh=d2d_kpi_veh,kpi_pax=d2d_kpi_pax, logger_level=logging.WARNING)"
      ]
    },
    {
      "cell_type": "code",
      "execution_count": null,
      "id": "376cb805",
      "metadata": {
        "pycharm": {
          "name": "#%%\n"
        },
        "id": "376cb805"
      },
      "outputs": [],
      "source": [
        "sim_rln_train.RL.to_csv('../RL_EXP/csv/303030_5x/NEWSTATE_1000_24x24x24_combine_01.csv')"
      ]
    },
    {
      "cell_type": "code",
      "execution_count": null,
      "id": "24c8ecfd",
      "metadata": {
        "pycharm": {
          "name": "#%%\n"
        },
        "id": "24c8ecfd"
      },
      "outputs": [],
      "source": [
        "sim0 = sim_rln_train\n",
        "sns.set(rc={\"figure.dpi\":500, 'savefig.dpi':500})\n",
        "sns.set(palette='tab10',font_scale=1)#, rc={'axes.facecolor':'lightblue', 'figure.facecolor':'lightgreen'},)\n",
        "sns.set_style('whitegrid')\n",
        "fig, ax = plt.subplots(nrows=2, figsize=(16,8))\n",
        "# plt.subplots_adjust(wspace=0.3, hspace=0.4)\n",
        "sns.despine(left=True)\n",
        "\n",
        "for ax_n in [0,1]:\n",
        "    \n",
        "    x = []; ye = []; ym = []; yw = []; yms = []\n",
        "    if ax_n==0:\n",
        "        for d in range(0,sim0.params.nD):\n",
        "            yw.append(sim0.res[d].pax_exp.WOM_U.mean())\n",
        "            ym.append(sim0.res[d].pax_exp.MARKETING_U.mean())\n",
        "            ye.append(sim0.res[d].pax_exp.EXPERIENCE_U.mean())\n",
        "            yms.append(sim0.res[d].pax_exp.OUT.value_counts().get(False, 0)/params.nP)\n",
        "            \n",
        "    if ax_n==1:\n",
        "        for d in range(0,sim0.params.nD):\n",
        "            yw.append(sim0.res[d].veh_exp.WOM_U.mean())\n",
        "            ym.append(sim0.res[d].veh_exp.MARKETING_U.mean())\n",
        "            ye.append(sim0.res[d].veh_exp.EXPERIENCE_U.mean())\n",
        "            yms.append(sim0.res[d].veh_exp.OUT.value_counts().get(False, 0)/params.nV)\n",
        "    \n",
        "    lx = [i for i in range(1,len(ye)+1)]\n",
        "    sns.lineplot(x=lx, y=yms, label = 'Market share', color='C3', lw=4, ax=ax[ax_n])#, marker='o')\n",
        "    sns.lineplot(x=lx, y=ye, label = 'Experience utility', color='C0', lw=2, ax=ax[ax_n])#, marker='o')\n",
        "    sns.lineplot(x=lx, y=yw, label = 'Word of mouth utility', color='C2', lw=2, ax=ax[ax_n])#, marker='o')\n",
        "    sns.lineplot(x=lx, y=ym, label = 'Marketing utility', color='C1', lw=2, ax=ax[ax_n])#, marker='o')\n",
        "   \n",
        "    ax[ax_n].vlines([25, 50, 100, 200, 300], 0, 1.1, linestyles='dashed', colors='black')\n",
        "    ax[ax_n].grid(axis='x')\n",
        "    ax[ax_n].set(xlabel='Day', ylabel='Share', ylim=(0,1.1),  xlim=(-5,1005))\n",
        "    \n",
        "ax[0].set_title('Demand side',fontweight='bold', loc='center',fontsize=15);ax[1].set_title('Supply side',fontweight='bold', loc='center',fontsize=15)\n",
        "ax[0].legend(frameon=True,framealpha=1, loc=(0.555,0.05))#,  bbox_to_anchor=(0.75, 1.24), ncol=4)\n",
        "ax[1].get_legend().set_visible(False)\n",
        "for i in range(0,6):\n",
        "    value = ['I','II','III','IV','V','VI']\n",
        "    coords = [(12,1.05),(36,1.05),(74,1.05),(149,1.05),(249,1.05),(349,1.05)]\n",
        "    ax[0].annotate(value[i], xy =coords[i], fontweight='bold')\n",
        "\n",
        "# plt.yticks([0,1])\n",
        "\n",
        "plt.tight_layout()\n",
        "# plt.savefig('Fig1.png')"
      ]
    },
    {
      "cell_type": "code",
      "execution_count": null,
      "id": "90ead010",
      "metadata": {
        "pycharm": {
          "name": "#%%\n"
        },
        "id": "90ead010"
      },
      "outputs": [],
      "source": []
    },
    {
      "cell_type": "code",
      "execution_count": null,
      "id": "587874cc",
      "metadata": {
        "pycharm": {
          "name": "#%%\n"
        },
        "id": "587874cc"
      },
      "outputs": [],
      "source": []
    },
    {
      "cell_type": "code",
      "execution_count": null,
      "id": "45e3f550",
      "metadata": {
        "pycharm": {
          "name": "#%%\n"
        },
        "id": "45e3f550"
      },
      "outputs": [],
      "source": []
    },
    {
      "cell_type": "code",
      "execution_count": null,
      "id": "bb2cfcc3",
      "metadata": {
        "pycharm": {
          "is_executing": true,
          "name": "#%%\n"
        },
        "id": "bb2cfcc3"
      },
      "outputs": [],
      "source": [
        "sim_rln_test,agent_test = MaaSSim.simulators.simulate_RLn_with_agent(input_agent=agent,params=params, f_driver_out=S_driver_opt_out,f_trav_out=S_traveller_opt_out,kpi_veh=d2d_kpi_veh,kpi_pax=d2d_kpi_pax, logger_level=logging.WARNING)"
      ]
    },
    {
      "cell_type": "code",
      "execution_count": null,
      "id": "4f616d38",
      "metadata": {
        "pycharm": {
          "name": "#%%\n"
        },
        "id": "4f616d38"
      },
      "outputs": [],
      "source": [
        "sim_rln_test.RL.to_csv('../RL_EXP/csv/303030_5x/400_24x24x24_1585_0.001_rev_only_test_3.csv')"
      ]
    },
    {
      "cell_type": "code",
      "execution_count": null,
      "id": "b5fdd9cb",
      "metadata": {
        "pycharm": {
          "name": "#%%\n"
        },
        "id": "b5fdd9cb"
      },
      "outputs": [],
      "source": []
    },
    {
      "cell_type": "code",
      "execution_count": null,
      "id": "78ff8ce1",
      "metadata": {
        "pycharm": {
          "name": "#%%\n"
        },
        "id": "78ff8ce1"
      },
      "outputs": [],
      "source": []
    },
    {
      "cell_type": "code",
      "execution_count": null,
      "id": "907bcb93-b664-48c4-a9e3-ed6c4a646648",
      "metadata": {
        "pycharm": {
          "name": "#%%\n"
        },
        "tags": [],
        "id": "907bcb93-b664-48c4-a9e3-ed6c4a646648"
      },
      "outputs": [],
      "source": [
        "sim0 = sim_rln_test\n",
        "sns.set(rc={\"figure.dpi\":500, 'savefig.dpi':500})\n",
        "sns.set(palette='tab10',font_scale=1)#, rc={'axes.facecolor':'lightblue', 'figure.facecolor':'lightgreen'},)\n",
        "sns.set_style('whitegrid')\n",
        "fig, ax = plt.subplots(nrows=2, figsize=(16,8))\n",
        "# plt.subplots_adjust(wspace=0.3, hspace=0.4)\n",
        "sns.despine(left=True)\n",
        "\n",
        "for ax_n in [0,1]:\n",
        "    \n",
        "    x = []; ye = []; ym = []; yw = []; yms = []\n",
        "    if ax_n==0:\n",
        "        for d in range(0,sim0.params.nD):\n",
        "            yw.append(sim0.res[d].pax_exp.WOM_U.mean())\n",
        "            ym.append(sim0.res[d].pax_exp.MARKETING_U.mean())\n",
        "            ye.append(sim0.res[d].pax_exp.EXPERIENCE_U.mean())\n",
        "            yms.append(sim0.res[d].pax_exp.OUT.value_counts().get(False, 0)/params.nP)\n",
        "            \n",
        "    if ax_n==1:\n",
        "        for d in range(0,sim0.params.nD):\n",
        "            yw.append(sim0.res[d].veh_exp.WOM_U.mean())\n",
        "            ym.append(sim0.res[d].veh_exp.MARKETING_U.mean())\n",
        "            ye.append(sim0.res[d].veh_exp.EXPERIENCE_U.mean())\n",
        "            yms.append(sim0.res[d].veh_exp.OUT.value_counts().get(False, 0)/params.nV)\n",
        "    \n",
        "    lx = [i for i in range(1,len(ye)+1)]\n",
        "    sns.lineplot(x=lx, y=yms, label = 'Market share', color='C3', lw=4, ax=ax[ax_n])#, marker='o')\n",
        "    sns.lineplot(x=lx, y=ye, label = 'Experience utility', color='C0', lw=2, ax=ax[ax_n])#, marker='o')\n",
        "    sns.lineplot(x=lx, y=yw, label = 'Word of mouth utility', color='C2', lw=2, ax=ax[ax_n])#, marker='o')\n",
        "    sns.lineplot(x=lx, y=ym, label = 'Marketing utility', color='C1', lw=2, ax=ax[ax_n])#, marker='o')\n",
        "   \n",
        "    ax[ax_n].vlines([25, 50, 100, 200, 300], 0, 1.1, linestyles='dashed', colors='black')\n",
        "    ax[ax_n].grid(axis='x')\n",
        "    ax[ax_n].set(xlabel='Day', ylabel='Share', ylim=(0,1.1),  xlim=(-5,405))\n",
        "    \n",
        "ax[0].set_title('Demand side',fontweight='bold', loc='center',fontsize=15);ax[1].set_title('Supply side',fontweight='bold', loc='center',fontsize=15)\n",
        "ax[0].legend(frameon=True,framealpha=1, loc=(0.555,0.05))#,  bbox_to_anchor=(0.75, 1.24), ncol=4)\n",
        "ax[1].get_legend().set_visible(False)\n",
        "for i in range(0,6):\n",
        "    value = ['I','II','III','IV','V','VI']\n",
        "    coords = [(12,1.05),(36,1.05),(74,1.05),(149,1.05),(249,1.05),(349,1.05)]\n",
        "    ax[0].annotate(value[i], xy =coords[i], fontweight='bold')\n",
        "\n",
        "# plt.yticks([0,1])\n",
        "\n",
        "plt.tight_layout()\n",
        "# plt.savefig('Fig1.png')"
      ]
    },
    {
      "cell_type": "code",
      "execution_count": null,
      "id": "0d2f7138-26d2-45c6-bdfb-1eedad010e50",
      "metadata": {
        "pycharm": {
          "name": "#%%\n"
        },
        "id": "0d2f7138-26d2-45c6-bdfb-1eedad010e50"
      },
      "outputs": [],
      "source": [
        "sim = sim_rln"
      ]
    },
    {
      "cell_type": "code",
      "execution_count": null,
      "id": "8ca48193-8bf1-4e50-b7d7-dc7a56f0631b",
      "metadata": {
        "pycharm": {
          "name": "#%%\n"
        },
        "id": "8ca48193-8bf1-4e50-b7d7-dc7a56f0631b"
      },
      "outputs": [],
      "source": [
        "sim.res[100].veh_exp"
      ]
    },
    {
      "cell_type": "code",
      "execution_count": null,
      "id": "255f00cc-d8fb-4051-95b2-ec3650cd1dbf",
      "metadata": {
        "pycharm": {
          "name": "#%%\n"
        },
        "id": "255f00cc-d8fb-4051-95b2-ec3650cd1dbf"
      },
      "outputs": [],
      "source": [
        "df = pd.DataFrame()\n",
        "np = []\n",
        "nv = []\n",
        "rev = []\n",
        "for d in range(0,sim.params.nD):\n",
        "    np.append(sim.res[d].pax_exp.OUT.value_counts().get(False, 0)/params.nP)\n",
        "    nv.append(sim.res[d].veh_exp.OUT.value_counts().get(False, 0)/params.nV)\n",
        "    rev.append(sim.res[d].pax_exp.plat_revenue.sum())\n",
        "\n",
        "df['nP_share'] = np\n",
        "df['nV_share'] = nv\n",
        "df['Platform_rev'] = rev\n",
        "\n",
        "df.to_csv('csv/baseline_fast_rev_only.csv')"
      ]
    },
    {
      "cell_type": "code",
      "execution_count": null,
      "id": "4cdd7981-d73f-4097-9ab4-357ae8a49a98",
      "metadata": {
        "pycharm": {
          "name": "#%%\n"
        },
        "id": "4cdd7981-d73f-4097-9ab4-357ae8a49a98"
      },
      "outputs": [],
      "source": [
        "sim.res[100].pax_exp.plat_revenue"
      ]
    },
    {
      "cell_type": "code",
      "execution_count": null,
      "id": "9c59b95f-2d0c-4716-9cda-a4467a938856",
      "metadata": {
        "pycharm": {
          "is_executing": true,
          "name": "#%%\n"
        },
        "id": "9c59b95f-2d0c-4716-9cda-a4467a938856"
      },
      "outputs": [],
      "source": [
        "df = pd.read_csv('csv/baseline_fast_h.csv')"
      ]
    },
    {
      "cell_type": "code",
      "execution_count": null,
      "id": "f3737b53-df1c-43cb-8f03-d6b81a914f57",
      "metadata": {
        "pycharm": {
          "name": "#%%\n"
        },
        "id": "f3737b53-df1c-43cb-8f03-d6b81a914f57"
      },
      "outputs": [],
      "source": [
        "sns.set(rc={\"figure.dpi\":500, 'savefig.dpi':500})\n",
        "sns.set(palette='tab10',font_scale=1)#, rc={'axes.facecolor':'lightblue', 'figure.facecolor':'lightgreen'},)\n",
        "sns.set_style('whitegrid')\n",
        "fig, ax = plt.subplots(nrows=1, figsize=(16,4))\n",
        "sns.despine(left=True)\n",
        "\n",
        "sns.lineplot(x=lx,y=df.Platform_rev, lw=4)"
      ]
    },
    {
      "cell_type": "code",
      "execution_count": null,
      "id": "8ba668e1-7eba-428f-b42f-f53ca71c7978",
      "metadata": {
        "pycharm": {
          "name": "#%%\n"
        },
        "id": "8ba668e1-7eba-428f-b42f-f53ca71c7978"
      },
      "outputs": [],
      "source": [
        "sns.set(rc={\"figure.dpi\":500, 'savefig.dpi':500})\n",
        "sns.set(palette='tab10',font_scale=1)#, rc={'axes.facecolor':'lightblue', 'figure.facecolor':'lightgreen'},)\n",
        "sns.set_style('whitegrid')\n",
        "fig, ax = plt.subplots(nrows=1, figsize=(16,4))\n",
        "sns.despine(left=True)\n",
        "\n",
        "sns.lineplot(x=lx,y=df.Platform_rev.cumsum(), lw=4)"
      ]
    },
    {
      "cell_type": "code",
      "execution_count": null,
      "id": "27e0b44e-5866-4965-a1a2-ebc51f93cad9",
      "metadata": {
        "pycharm": {
          "name": "#%%\n"
        },
        "id": "27e0b44e-5866-4965-a1a2-ebc51f93cad9"
      },
      "outputs": [],
      "source": [
        "sim.platforms.fare[1]"
      ]
    },
    {
      "cell_type": "code",
      "execution_count": null,
      "id": "3f1de9db-d633-45bb-94ea-ac94cfd1c892",
      "metadata": {
        "pycharm": {
          "name": "#%%\n"
        },
        "id": "3f1de9db-d633-45bb-94ea-ac94cfd1c892"
      },
      "outputs": [],
      "source": [
        "sim"
      ]
    },
    {
      "cell_type": "code",
      "execution_count": null,
      "id": "e522a098-d1aa-49fd-b99e-d5b4f36e5f56",
      "metadata": {
        "pycharm": {
          "name": "#%%\n"
        },
        "id": "e522a098-d1aa-49fd-b99e-d5b4f36e5f56"
      },
      "outputs": [],
      "source": [
        "df = pd.read_csv('csv/baseline_fast_rev_0.5nP_0.5nV.csv')\n",
        "df"
      ]
    },
    {
      "cell_type": "code",
      "execution_count": null,
      "id": "5f568803-f5cc-4691-9604-011b940ac14a",
      "metadata": {
        "pycharm": {
          "name": "#%%\n"
        },
        "id": "5f568803-f5cc-4691-9604-011b940ac14a"
      },
      "outputs": [],
      "source": [
        "df.Platform_rev.mean()"
      ]
    },
    {
      "cell_type": "code",
      "execution_count": null,
      "id": "d059cd71-af31-40eb-ab31-d203836dc447",
      "metadata": {
        "pycharm": {
          "name": "#%%\n"
        },
        "id": "d059cd71-af31-40eb-ab31-d203836dc447"
      },
      "outputs": [],
      "source": []
    },
    {
      "cell_type": "code",
      "execution_count": null,
      "id": "904419ad-55b0-4e44-9057-17a82c78af51",
      "metadata": {
        "pycharm": {
          "name": "#%%\n"
        },
        "id": "904419ad-55b0-4e44-9057-17a82c78af51"
      },
      "outputs": [],
      "source": [
        "df.Platform_rev.mean()"
      ]
    },
    {
      "cell_type": "code",
      "execution_count": null,
      "id": "1635fd16-bb44-458d-bda0-c4097147dcf2",
      "metadata": {
        "pycharm": {
          "name": "#%%\n"
        },
        "id": "1635fd16-bb44-458d-bda0-c4097147dcf2"
      },
      "outputs": [],
      "source": [
        "df.Platform_rev.cumsum()"
      ]
    },
    {
      "cell_type": "code",
      "execution_count": null,
      "id": "24d74519-f678-4b90-84b3-46249608040c",
      "metadata": {
        "pycharm": {
          "name": "#%%\n"
        },
        "id": "24d74519-f678-4b90-84b3-46249608040c"
      },
      "outputs": [],
      "source": [
        "df.Platform_rev.mean()"
      ]
    },
    {
      "cell_type": "code",
      "execution_count": null,
      "id": "aa8b6a02-f028-4815-94f3-da5f6c7c0015",
      "metadata": {
        "pycharm": {
          "name": "#%%\n"
        },
        "id": "aa8b6a02-f028-4815-94f3-da5f6c7c0015"
      },
      "outputs": [],
      "source": [
        "df.Platform_rev.cumsum()"
      ]
    },
    {
      "cell_type": "code",
      "execution_count": null,
      "id": "56751554-7026-4685-bfbe-0644e5fa3268",
      "metadata": {
        "pycharm": {
          "name": "#%%\n"
        },
        "id": "56751554-7026-4685-bfbe-0644e5fa3268"
      },
      "outputs": [],
      "source": [
        "df.Platform_rev.mean()"
      ]
    },
    {
      "cell_type": "code",
      "execution_count": null,
      "id": "9351bb64-8e00-47dd-aada-abe3eba3eefc",
      "metadata": {
        "pycharm": {
          "name": "#%%\n"
        },
        "id": "9351bb64-8e00-47dd-aada-abe3eba3eefc"
      },
      "outputs": [],
      "source": [
        "df.Platform_rev.cumsum()"
      ]
    },
    {
      "cell_type": "code",
      "execution_count": null,
      "id": "9d005a68-0cd6-4725-a5cb-fafe51df91c1",
      "metadata": {
        "pycharm": {
          "name": "#%%\n"
        },
        "id": "9d005a68-0cd6-4725-a5cb-fafe51df91c1"
      },
      "outputs": [],
      "source": [
        "df.Platform_rev.mean()"
      ]
    },
    {
      "cell_type": "code",
      "execution_count": null,
      "id": "40da10ca-60bc-4edd-afa7-9aeb3cba0bf8",
      "metadata": {
        "pycharm": {
          "name": "#%%\n"
        },
        "id": "40da10ca-60bc-4edd-afa7-9aeb3cba0bf8"
      },
      "outputs": [],
      "source": [
        "df.Platform_rev.cumsum()"
      ]
    },
    {
      "cell_type": "code",
      "execution_count": null,
      "id": "7686c33a-3363-40be-9fbb-1aa375193f85",
      "metadata": {
        "pycharm": {
          "name": "#%%\n"
        },
        "id": "7686c33a-3363-40be-9fbb-1aa375193f85"
      },
      "outputs": [],
      "source": [
        "20/582"
      ]
    },
    {
      "cell_type": "code",
      "execution_count": null,
      "id": "085701b4-168c-4f1c-bb23-911fbe1941c6",
      "metadata": {
        "pycharm": {
          "name": "#%%\n"
        },
        "id": "085701b4-168c-4f1c-bb23-911fbe1941c6"
      },
      "outputs": [],
      "source": [
        "====================================================================================="
      ]
    },
    {
      "cell_type": "code",
      "execution_count": null,
      "id": "fd840827-3661-4a08-887d-98b3e5cd4a3b",
      "metadata": {
        "pycharm": {
          "name": "#%%\n"
        },
        "tags": [],
        "id": "fd840827-3661-4a08-887d-98b3e5cd4a3b"
      },
      "outputs": [],
      "source": [
        "# nV=100, nP=1000, params.d2d.m = 7, and params.d2d.learning_d = 5\n",
        "# marketing = 1-100, disc= 100-200, coms_0.5=300-400 \n",
        "\n",
        "sns.set(rc={\"figure.dpi\":500, 'savefig.dpi':500})\n",
        "sns.set(palette='tab10',font_scale=1)#, rc={'axes.facecolor':'lightblue', 'figure.facecolor':'lightgreen'},)\n",
        "sns.set_style('whitegrid')\n",
        "fig, ax = plt.subplots(nrows=2, figsize=(16,8))\n",
        "# plt.subplots_adjust(wspace=0.3, hspace=0.4)\n",
        "sns.despine(left=True)\n",
        "\n",
        "for ax_n in [0,1]:\n",
        "    \n",
        "    x = []; ye = []; ym = []; yw = []; yms = []\n",
        "    if ax_n==0:\n",
        "        for d in range(0,sim.params.nD):\n",
        "            yw.append(sim.res[d].pax_exp.WOM_U.mean())\n",
        "            ym.append(sim.res[d].pax_exp.MARKETING_U.mean())\n",
        "            ye.append(sim.res[d].pax_exp.EXPERIENCE_U.mean())\n",
        "            yms.append(sim.res[d].pax_exp.OUT.value_counts().get(False, 0)/params.nP)\n",
        "            \n",
        "    if ax_n==1:\n",
        "        for d in range(0,sim.params.nD):\n",
        "            yw.append(sim.res[d].veh_exp.WOM_U.mean())\n",
        "            ym.append(sim.res[d].veh_exp.MARKETING_U.mean())\n",
        "            ye.append(sim.res[d].veh_exp.EXPERIENCE_U.mean())\n",
        "            yms.append(sim.res[d].veh_exp.OUT.value_counts().get(False, 0)/params.nV)\n",
        "    \n",
        "    lx = [i for i in range(1,len(ye)+1)]\n",
        "    sns.lineplot(x=lx, y=yms, label = 'Market share', color='C3', lw=4, ax=ax[ax_n])#, marker='o')\n",
        "    sns.lineplot(x=lx, y=ye, label = 'Experience utility', color='C0', lw=2, ax=ax[ax_n])#, marker='o')\n",
        "    sns.lineplot(x=lx, y=yw, label = 'Word of mouth utility', color='C2', lw=2, ax=ax[ax_n])#, marker='o')\n",
        "    sns.lineplot(x=lx, y=ym, label = 'Marketing utility', color='C1', lw=2, ax=ax[ax_n])#, marker='o')\n",
        "   \n",
        "    ax[ax_n].vlines([25, 50, 100, 200, 300], 0, 1.1, linestyles='dashed', colors='black')\n",
        "    ax[ax_n].grid(axis='x')\n",
        "    ax[ax_n].set(xlabel='Day', ylabel='Share', ylim=(0,1.1),  xlim=(-5,405))\n",
        "    \n",
        "ax[0].set_title('Demand side',fontweight='bold', loc='center',fontsize=15);ax[1].set_title('Supply side',fontweight='bold', loc='center',fontsize=15)\n",
        "ax[0].legend(frameon=True,framealpha=1, loc=(0.555,0.05))#,  bbox_to_anchor=(0.75, 1.24), ncol=4)\n",
        "ax[1].get_legend().set_visible(False)\n",
        "for i in range(0,6):\n",
        "    value = ['I','II','III','IV','V','VI']\n",
        "    coords = [(12,1.05),(36,1.05),(74,1.05),(149,1.05),(249,1.05),(349,1.05)]\n",
        "    ax[0].annotate(value[i], xy =coords[i], fontweight='bold')\n",
        "\n",
        "# plt.yticks([0,1])\n",
        "\n",
        "plt.tight_layout()\n",
        "# plt.savefig('Fig1.png')"
      ]
    },
    {
      "cell_type": "code",
      "execution_count": null,
      "id": "4dec9efe-b620-48ca-99b8-ac6e526b8916",
      "metadata": {
        "pycharm": {
          "name": "#%%\n"
        },
        "tags": [],
        "id": "4dec9efe-b620-48ca-99b8-ac6e526b8916"
      },
      "outputs": [],
      "source": [
        "# nV=100, nP=1000, params.d2d.m = 7, and params.d2d.learning_d = 2\n",
        "# marketing = 1-100, disc= 100-200, coms_0.5=300-400 \n",
        "\n",
        "sns.set(rc={\"figure.dpi\":500, 'savefig.dpi':500})\n",
        "sns.set(palette='tab10',font_scale=1)#, rc={'axes.facecolor':'lightblue', 'figure.facecolor':'lightgreen'},)\n",
        "sns.set_style('whitegrid')\n",
        "fig, ax = plt.subplots(nrows=2, figsize=(16,8))\n",
        "# plt.subplots_adjust(wspace=0.3, hspace=0.4)\n",
        "sns.despine(left=True)\n",
        "\n",
        "for ax_n in [0,1]:\n",
        "    \n",
        "    x = []; ye = []; ym = []; yw = []; yms = []\n",
        "    if ax_n==0:\n",
        "        for d in range(0,sim.params.nD):\n",
        "            yw.append(sim.res[d].pax_exp.WOM_U.mean())\n",
        "            ym.append(sim.res[d].pax_exp.MARKETING_U.mean())\n",
        "            ye.append(sim.res[d].pax_exp.EXPERIENCE_U.mean())\n",
        "            yms.append(sim.res[d].pax_exp.OUT.value_counts().get(False, 0)/params.nP)\n",
        "            \n",
        "    if ax_n==1:\n",
        "        for d in range(0,sim.params.nD):\n",
        "            yw.append(sim.res[d].veh_exp.WOM_U.mean())\n",
        "            ym.append(sim.res[d].veh_exp.MARKETING_U.mean())\n",
        "            ye.append(sim.res[d].veh_exp.EXPERIENCE_U.mean())\n",
        "            yms.append(sim.res[d].veh_exp.OUT.value_counts().get(False, 0)/params.nV)\n",
        "    \n",
        "    lx = [i for i in range(1,len(ye)+1)]\n",
        "    sns.lineplot(x=lx, y=yms, label = 'Market share', color='C3', lw=4, ax=ax[ax_n])#, marker='o')\n",
        "    sns.lineplot(x=lx, y=ye, label = 'Experience utility', color='C0', lw=2, ax=ax[ax_n])#, marker='o')\n",
        "    sns.lineplot(x=lx, y=yw, label = 'Word of mouth utility', color='C2', lw=2, ax=ax[ax_n])#, marker='o')\n",
        "    sns.lineplot(x=lx, y=ym, label = 'Marketing utility', color='C1', lw=2, ax=ax[ax_n])#, marker='o')\n",
        "   \n",
        "    ax[ax_n].vlines([25, 50, 100, 200, 300], 0, 1.1, linestyles='dashed', colors='black')\n",
        "    ax[ax_n].grid(axis='x')\n",
        "    ax[ax_n].set(xlabel='Day', ylabel='Share', ylim=(0,1.1),  xlim=(-5,405))\n",
        "    \n",
        "ax[0].set_title('Demand side',fontweight='bold', loc='center',fontsize=15);ax[1].set_title('Supply side',fontweight='bold', loc='center',fontsize=15)\n",
        "ax[0].legend(frameon=True,framealpha=1, loc=(0.555,0.05))#,  bbox_to_anchor=(0.75, 1.24), ncol=4)\n",
        "ax[1].get_legend().set_visible(False)\n",
        "for i in range(0,6):\n",
        "    value = ['I','II','III','IV','V','VI']\n",
        "    coords = [(12,1.05),(36,1.05),(74,1.05),(149,1.05),(249,1.05),(349,1.05)]\n",
        "    ax[0].annotate(value[i], xy =coords[i], fontweight='bold')\n",
        "\n",
        "# plt.yticks([0,1])\n",
        "\n",
        "plt.tight_layout()\n",
        "# plt.savefig('Fig1.png')"
      ]
    },
    {
      "cell_type": "code",
      "execution_count": null,
      "id": "44cd91c4-7c03-4c4f-8525-0797ef13c2a5",
      "metadata": {
        "pycharm": {
          "name": "#%%\n"
        },
        "tags": [],
        "id": "44cd91c4-7c03-4c4f-8525-0797ef13c2a5"
      },
      "outputs": [],
      "source": [
        "# nV=200, nP=2000, params.d2d.m = 7, and params.d2d.learning_d = 2\n",
        "# marketing = 1-100, disc= 100-200, coms_0.5=300-400 \n",
        "\n",
        "sns.set(rc={\"figure.dpi\":500, 'savefig.dpi':500})\n",
        "sns.set(palette='tab10',font_scale=1)#, rc={'axes.facecolor':'lightblue', 'figure.facecolor':'lightgreen'},)\n",
        "sns.set_style('whitegrid')\n",
        "fig, ax = plt.subplots(nrows=2, figsize=(16,8))\n",
        "# plt.subplots_adjust(wspace=0.3, hspace=0.4)\n",
        "sns.despine(left=True)\n",
        "\n",
        "for ax_n in [0,1]:\n",
        "    \n",
        "    x = []; ye = []; ym = []; yw = []; yms = []\n",
        "    if ax_n==0:\n",
        "        for d in range(0,sim.params.nD):\n",
        "            yw.append(sim.res[d].pax_exp.WOM_U.mean())\n",
        "            ym.append(sim.res[d].pax_exp.MARKETING_U.mean())\n",
        "            ye.append(sim.res[d].pax_exp.EXPERIENCE_U.mean())\n",
        "            yms.append(sim.res[d].pax_exp.OUT.value_counts().get(False, 0)/params.nP)\n",
        "            \n",
        "    if ax_n==1:\n",
        "        for d in range(0,sim.params.nD):\n",
        "            yw.append(sim.res[d].veh_exp.WOM_U.mean())\n",
        "            ym.append(sim.res[d].veh_exp.MARKETING_U.mean())\n",
        "            ye.append(sim.res[d].veh_exp.EXPERIENCE_U.mean())\n",
        "            yms.append(sim.res[d].veh_exp.OUT.value_counts().get(False, 0)/params.nV)\n",
        "    \n",
        "    lx = [i for i in range(1,len(ye)+1)]\n",
        "    sns.lineplot(x=lx, y=yms, label = 'Market share', color='C3', lw=4, ax=ax[ax_n])#, marker='o')\n",
        "    sns.lineplot(x=lx, y=ye, label = 'Experience utility', color='C0', lw=2, ax=ax[ax_n])#, marker='o')\n",
        "    sns.lineplot(x=lx, y=yw, label = 'Word of mouth utility', color='C2', lw=2, ax=ax[ax_n])#, marker='o')\n",
        "    sns.lineplot(x=lx, y=ym, label = 'Marketing utility', color='C1', lw=2, ax=ax[ax_n])#, marker='o')\n",
        "   \n",
        "    ax[ax_n].vlines([25, 50, 100, 200, 300], 0, 1.1, linestyles='dashed', colors='black')\n",
        "    ax[ax_n].grid(axis='x')\n",
        "    ax[ax_n].set(xlabel='Day', ylabel='Share', ylim=(0,1.1),  xlim=(-5,405))\n",
        "    \n",
        "ax[0].set_title('Demand side',fontweight='bold', loc='center',fontsize=15);ax[1].set_title('Supply side',fontweight='bold', loc='center',fontsize=15)\n",
        "ax[0].legend(frameon=True,framealpha=1, loc=(0.555,0.05))#,  bbox_to_anchor=(0.75, 1.24), ncol=4)\n",
        "ax[1].get_legend().set_visible(False)\n",
        "for i in range(0,6):\n",
        "    value = ['I','II','III','IV','V','VI']\n",
        "    coords = [(12,1.05),(36,1.05),(74,1.05),(149,1.05),(249,1.05),(349,1.05)]\n",
        "    ax[0].annotate(value[i], xy =coords[i], fontweight='bold')\n",
        "\n",
        "# plt.yticks([0,1])\n",
        "\n",
        "plt.tight_layout()\n",
        "# plt.savefig('Fig1.png')"
      ]
    },
    {
      "cell_type": "code",
      "execution_count": null,
      "id": "d8b20acc-8399-4ebb-8b4c-902296d9ff8a",
      "metadata": {
        "pycharm": {
          "name": "#%%\n"
        },
        "id": "d8b20acc-8399-4ebb-8b4c-902296d9ff8a"
      },
      "outputs": [],
      "source": [
        "sns.set(rc={\"figure.dpi\":500, 'savefig.dpi':500})\n",
        "sns.set(palette='tab10',font_scale=1)#, rc={'axes.facecolor':'lightblue', 'figure.facecolor':'lightgreen'},)\n",
        "sns.set_style('whitegrid')\n",
        "\n",
        "fig, ax = plt.subplots(figsize=(16,4))\n",
        "sns.despine(left=True)\n",
        "\n",
        "x = []\n",
        "ypr = []\n",
        "\n",
        "for d in range(0,sim.params.nD):\n",
        "    df = sim.res[d].pax_exp\n",
        "    ypr.append(df[df.OUT==False].plat_profit.sum())\n",
        "x = [i for i in range(1,len(ypr)+1)]\n",
        "\n",
        "df = pd.Series(ypr).to_frame()\n",
        "df.columns = ['income']\n",
        "marketing_costs = 0.5\n",
        "df['marketing costs']=df.apply(lambda x: -marketing_costs*2200 if x.name >50 and x.name<=100 else 0, axis = 1).astype(int)\n",
        "df['profit']=df.income + df['marketing costs']\n",
        "\n",
        "sns.lineplot(x=x, y=df.income.cumsum(), lw=3, label = 'Cumulative revenue', color='C0')#, marker='o')\n",
        "sns.lineplot(x=x, y=df.profit.cumsum(), lw=3, label = 'Cumulative profit', color='C8')#, marker='o')\n",
        "sns.lineplot(x=x, y=df['marketing costs'].astype(int).cumsum(), lw=3, label = 'Cumulative cost', color='C1')#, marker='o')\n",
        "\n",
        "ax.grid(axis='x')\n",
        "ax.vlines([25, 50, 100, 200, 300], -100000, 325000, linestyles='dashed', colors='black')\n",
        "# sns.lineplot(x=x, y=ypr, label = 'plat_profit')#, marker='o')\n",
        "sns.despine(left=True)\n",
        "ax.set(xlim=(-5,410), ylim=(-100000,325000))\n",
        "ax.legend(framealpha=1, loc=(0.55,0.72))\n",
        "\n",
        "value = ['I','II','III','IV','V','VI']\n",
        "for i in range(0,6):\n",
        "    coords = [(12,312500),(36,312500),(74,312500),(149,312500),(249,312500),(349,312500)]\n",
        "    ax.annotate(value[i], xy =coords[i], fontweight='bold')\n",
        "\n",
        "plt.tight_layout()\n",
        "# plt.savefig('Fig5.png')"
      ]
    },
    {
      "cell_type": "code",
      "execution_count": null,
      "id": "7b88a33d-b500-4783-bdf6-2d8df12bf742",
      "metadata": {
        "pycharm": {
          "name": "#%%\n"
        },
        "id": "7b88a33d-b500-4783-bdf6-2d8df12bf742"
      },
      "outputs": [],
      "source": []
    },
    {
      "cell_type": "code",
      "execution_count": null,
      "id": "592a4869-f5b5-49f7-8e93-ba3a0867c852",
      "metadata": {
        "pycharm": {
          "name": "#%%\n"
        },
        "id": "592a4869-f5b5-49f7-8e93-ba3a0867c852"
      },
      "outputs": [],
      "source": []
    },
    {
      "cell_type": "code",
      "execution_count": null,
      "id": "73b51897-fbd2-4faa-818d-1cd96841c532",
      "metadata": {
        "pycharm": {
          "name": "#%%\n"
        },
        "id": "73b51897-fbd2-4faa-818d-1cd96841c532"
      },
      "outputs": [],
      "source": [
        "df = pd.read_csv('csv/baseline_fast.csv')\n",
        "df"
      ]
    },
    {
      "cell_type": "code",
      "execution_count": null,
      "id": "7cb529e1-ee2a-48f0-a752-ea0085f81faf",
      "metadata": {
        "pycharm": {
          "name": "#%%\n"
        },
        "id": "7cb529e1-ee2a-48f0-a752-ea0085f81faf"
      },
      "outputs": [],
      "source": [
        "df.Platform_rev.max()"
      ]
    },
    {
      "cell_type": "code",
      "execution_count": null,
      "id": "f3d0aa97-9dd9-4527-b143-ece5c820f9c4",
      "metadata": {
        "pycharm": {
          "name": "#%%\n"
        },
        "id": "f3d0aa97-9dd9-4527-b143-ece5c820f9c4"
      },
      "outputs": [],
      "source": []
    },
    {
      "cell_type": "code",
      "execution_count": null,
      "id": "4882c31b-b2c5-4df3-bba2-a50d02706bb7",
      "metadata": {
        "pycharm": {
          "name": "#%%\n"
        },
        "id": "4882c31b-b2c5-4df3-bba2-a50d02706bb7"
      },
      "outputs": [],
      "source": []
    },
    {
      "cell_type": "code",
      "execution_count": null,
      "id": "238cd8f4-e8f2-4e56-9118-09a5f1555ba9",
      "metadata": {
        "pycharm": {
          "name": "#%%\n"
        },
        "id": "238cd8f4-e8f2-4e56-9118-09a5f1555ba9"
      },
      "outputs": [],
      "source": [
        "2638.8502"
      ]
    }
  ],
  "metadata": {
    "kernelspec": {
      "display_name": "Python 3 (ipykernel)",
      "language": "python",
      "name": "python3"
    },
    "language_info": {
      "codemirror_mode": {
        "name": "ipython",
        "version": 3
      },
      "file_extension": ".py",
      "mimetype": "text/x-python",
      "name": "python",
      "nbconvert_exporter": "python",
      "pygments_lexer": "ipython3",
      "version": "3.7.9"
    },
    "colab": {
      "provenance": []
    }
  },
  "nbformat": 4,
  "nbformat_minor": 5
}